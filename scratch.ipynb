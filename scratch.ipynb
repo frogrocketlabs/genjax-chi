{
 "cells": [
  {
   "cell_type": "code",
   "execution_count": 22,
   "id": "2093e1c7-faee-455a-98ac-9e76cc276ab2",
   "metadata": {},
   "outputs": [],
   "source": [
    "import genjax\n",
    "from genjax import EditRequest, Pytree, Address, Argdiffs, Trace, Weight, Retdiff, Update, ChoiceMap\n",
    "from genjax.typing import PRNGKey, FloatArray\n",
    "\n",
    "from jax import vmap\n",
    "import jax.random as jrand\n",
    "import jax.numpy as jnp\n",
    "import jax.tree_util as jtu\n",
    "from jax.scipy.special import logsumexp\n",
    "\n",
    "import matplotlib.pyplot as plt"
   ]
  },
  {
   "cell_type": "code",
   "execution_count": null,
   "id": "cb89e0ab-e94d-4d20-927c-db295a73d7c6",
   "metadata": {},
   "outputs": [],
   "source": [
    "def run_mh(mcmc_edit_request, tr):\n",
    "    new_tr, w, *_ = tr.edit(mcmc_edit_request)\n",
    "    # do accept reject\n",
    "    # ...\n",
    "    return final_trace"
   ]
  },
  {
   "cell_type": "code",
   "execution_count": null,
   "id": "c837bdc7-bfd4-4100-8d80-1ba1c1a94c9a",
   "metadata": {},
   "outputs": [],
   "source": [
    "new_trace = old_trace.mh(mcmc_edit_request)"
   ]
  },
  {
   "cell_type": "markdown",
   "id": "40f1e8ee-6c6c-4385-847a-cafbd2bb19e7",
   "metadata": {},
   "source": [
    "## What are K and L here?"
   ]
  },
  {
   "cell_type": "code",
   "execution_count": 160,
   "id": "bdd1f597-1d64-42fb-ba06-aeebbffa7f26",
   "metadata": {},
   "outputs": [
    {
     "ename": "NameError",
     "evalue": "name 'continuous' is not defined",
     "output_type": "error",
     "traceback": [
      "\u001b[0;31m---------------------------------------------------------------------------\u001b[0m",
      "\u001b[0;31mNameError\u001b[0m                                 Traceback (most recent call last)",
      "Cell \u001b[0;32mIn[160], line 4\u001b[0m\n\u001b[1;32m      1\u001b[0m \u001b[38;5;66;03m# x: X, joint space is X x Cat(n) x X\u001b[39;00m\n\u001b[1;32m      2\u001b[0m \u001b[38;5;66;03m# K(x',i \u001b[39;00m\n\u001b[0;32m----> 4\u001b[0m \u001b[38;5;28;01mdef\u001b[39;00m \u001b[38;5;21mK\u001b[39m(x : \u001b[43mcontinuous\u001b[49m):\n\u001b[1;32m      5\u001b[0m     grid \u001b[38;5;241m=\u001b[39m grid_around(x)\n",
      "\u001b[0;31mNameError\u001b[0m: name 'continuous' is not defined"
     ]
    }
   ],
   "source": [
    "# x: X, joint space is X x Cat(n) x X\n",
    "# K(i, x' | x)\n",
    "# L(i, x | x') -- we'll only use L to evaluate the density of (i, x). \n",
    "\n",
    "def K(x : continuous):\n",
    "    grid = grid_around(x)\n",
    "\n",
    "def L(...):\n",
    "    pass"
   ]
  },
  {
   "cell_type": "code",
   "execution_count": null,
   "id": "53f839f8-70f5-4501-9f09-3576d9b6208a",
   "metadata": {},
   "outputs": [],
   "source": [
    "# x : X\n",
    "# pair of things we care about for proper weighting: P, Q\n",
    "# proper weighting criteron: E_Q[w(x) * f(x)] = \\int P * f\n",
    "# w some function\n",
    "#\n",
    "# (x, w) ~ χ(dx, dw), s.t. Eχ[w * f(x)] = \\int P * f"
   ]
  },
  {
   "cell_type": "markdown",
   "id": "ea02d0ce-a2f9-4924-87c9-2be40d5d4e45",
   "metadata": {},
   "source": [
    "## Code"
   ]
  },
  {
   "cell_type": "code",
   "execution_count": 180,
   "id": "804f974b-a33e-420b-8e4f-55839f48489f",
   "metadata": {},
   "outputs": [],
   "source": [
    "@Pytree.dataclass(match_args=True)\n",
    "class GridRejuvenation(EditRequest):\n",
    "    addr: Address\n",
    "    grid_radius: FloatArray\n",
    "    N: int = Pytree.static(default=100)\n",
    "\n",
    "    def grid_around(self, v):\n",
    "        grid_containing_center = jnp.hstack([jnp.linspace(v - self.grid_radius, v + self.grid_radius, N), v]).sort()\n",
    "        idx = jnp.floor(self.N / 2).astype(int)\n",
    "        return grid_containing_center, idx\n",
    "\n",
    "    def edit(self,\n",
    "             key: PRNGKey,\n",
    "             tr: Trace,\n",
    "             argdiffs: Argdiffs\n",
    "            ) -> tuple[Trace, Weight, Retdiff, EditRequest]:\n",
    "        choices = tr.get_choices()\n",
    "        v = choices[self.addr]\n",
    "        grid, old_latent_idx = self.grid_around(v)\n",
    "\n",
    "        def _updates(key, v):\n",
    "            chm = ChoiceMap.entry(v, self.addr)\n",
    "            request = Update(chm)\n",
    "            return tr.edit(key, request, argdiffs)\n",
    "\n",
    "        # Forward move.\n",
    "        key, sub_key = jrand.split(key)\n",
    "        sub_keys = jrand.split(sub_key, len(grid))\n",
    "        new_trs, ws, retdiffs, bwd_requests = vmap(_updates)(sub_keys, grid)\n",
    "        \n",
    "        ## TODO: confirm below...\n",
    "        ## Turns out we can use the weights for this... \n",
    "        ## if we used the scores, the parts that aren't changed would cancel, \n",
    "        ## but the weight is exactly the change in density for the parts that are changed.\n",
    "        \n",
    "        idx = genjax.categorical.sample(key, ws)\n",
    "        new_tr, w, retdiff, bwd_request = jtu.tree_map(lambda v: v[idx], \n",
    "                    (new_trs, ws, retdiffs, bwd_requests)\n",
    "        ) \n",
    "        # TODO: this could be right? ... check with Jay!\n",
    "        #\n",
    "        # the weight `w` here is the P' / P ratio in SMCP3... why?\n",
    "        # because that's exactly what Update computes\n",
    "        # when Q doesn't have to propose anything.\n",
    "        # P' / P = new_tr.get_score() - old_trace.get_score()\n",
    "        # E_[w] = P' / \n",
    "        # w = (P' / P) * (1 / Q)\n",
    "        # => E[w] = P' / P\n",
    "        # (x, w_) p.w. for P under some Q_, then x', w_ * w\n",
    "        # (x', w_ * w) p.w. for P' under K from the move.\n",
    "        # for that to be true, we need to have E[w] = P' / P\n",
    "        \n",
    "        # What is the density K(i | x)?\n",
    "        K_density = genjax.categorical.logpdf(idx, ws) # TODO: hope this is numerically fine TFP probability.\n",
    "\n",
    "        L_density = 1 / len(grid)\n",
    "\n",
    "        # TODO: smart L\n",
    "        #\n",
    "        # Now, we need to construct a backwards proposal:\n",
    "        # we'll use the same gridding function, centered at the new latent.\n",
    "        # discard = bwd_request.constraint\n",
    "        # discarded_value = discard[self.addr]\n",
    "        # backwards_grid, new_latent_idx = self.grid_around(discarded_value)\n",
    "        # _, bws, *_ = vmap(_updates)(sub_keys, backwards_grid)\n",
    "        # normalized_bws = bws - logsumexp(bws)\n",
    "        # Now, we need to find the index of the discarded latent.\n",
    "        # The discarded latent was at old floor(N / 2) in the old grid, and then\n",
    "        # we sampled a new grid point *.\n",
    "        #\n",
    "        #            old   *\n",
    "        # [0.0, 0.2, 0.4, 0.8, 1.0]   -> * at idx 3.\n",
    "        #                                We shift by (idx *) - (idx old).\n",
    "        #\n",
    "        #       old   *\n",
    "        # [0.2, 0.4, 0.8, 1.0, 1.2]   -> * at idx 3.\n",
    "        #                                To get old, we take (idx *) and subtract (\n",
    "\n",
    "        # Final SMCP3 weight computation.\n",
    "        final_weight = w + L_density - K_density\n",
    "        \n",
    "        return new_tr, final_weight, retdiff, bwd_request"
   ]
  },
  {
   "cell_type": "markdown",
   "id": "7df7d782-9e0b-4d66-a5c5-aab7584a1be8",
   "metadata": {},
   "source": [
    "# tester rolls"
   ]
  },
  {
   "cell_type": "code",
   "execution_count": 181,
   "id": "6dd7b309-dc7e-4fd5-8849-16a7edc06970",
   "metadata": {},
   "outputs": [
    {
     "data": {
      "text/plain": [
       "Array([-2, -1,  0,  1,  2], dtype=int32)"
      ]
     },
     "execution_count": 181,
     "metadata": {},
     "output_type": "execute_result"
    }
   ],
   "source": [
    "original_array = jnp.array([-2, -1, 0, 1, 2])\n",
    "original_array"
   ]
  },
  {
   "cell_type": "code",
   "execution_count": 182,
   "id": "44671c4a-5d36-407f-8028-bc5242dac9ae",
   "metadata": {},
   "outputs": [
    {
     "data": {
      "text/plain": [
       "Array(0, dtype=int32)"
      ]
     },
     "execution_count": 182,
     "metadata": {},
     "output_type": "execute_result"
    }
   ],
   "source": [
    "center = jnp.floor(len(original_array) / 2).astype(int)\n",
    "original_array[center]"
   ]
  },
  {
   "cell_type": "code",
   "execution_count": 183,
   "id": "a2538e86-387a-4027-a3ed-8cc9f267cec4",
   "metadata": {},
   "outputs": [
    {
     "data": {
      "text/plain": [
       "Array([ 2, -2, -1,  0,  1], dtype=int32)"
      ]
     },
     "execution_count": 183,
     "metadata": {},
     "output_type": "execute_result"
    }
   ],
   "source": [
    "select_idx = 1\n",
    "roll_shift = center - select_idx\n",
    "rolled = jnp.roll(jnp.array([-2, -1, 0, 1, 2]), roll_shift)\n",
    "rolled"
   ]
  },
  {
   "cell_type": "code",
   "execution_count": 184,
   "id": "1a6fb840-1357-49d1-93a9-b8bf24c7fb9f",
   "metadata": {},
   "outputs": [
    {
     "data": {
      "text/plain": [
       "Array([-2, -1,  0,  1,  2], dtype=int32)"
      ]
     },
     "execution_count": 184,
     "metadata": {},
     "output_type": "execute_result"
    }
   ],
   "source": [
    "jnp.roll(rolled, -roll_shift)"
   ]
  },
  {
   "cell_type": "markdown",
   "id": "1dcdc9f2-a273-46ea-97d3-878389d884b1",
   "metadata": {},
   "source": [
    "## tester grid rolls"
   ]
  },
  {
   "cell_type": "code",
   "execution_count": 185,
   "id": "3cc46db7-2c80-4e3b-9c25-4c7161923a69",
   "metadata": {},
   "outputs": [
    {
     "data": {
      "text/plain": [
       "Array(0.2999999, dtype=float32)"
      ]
     },
     "execution_count": 185,
     "metadata": {},
     "output_type": "execute_result"
    }
   ],
   "source": [
    "original = jnp.arange(0.3 - 0.1, 0.3 + 0.1, step=0.01)\n",
    "original[jnp.floor(len(original) / 2).astype(int)]"
   ]
  },
  {
   "cell_type": "code",
   "execution_count": 186,
   "id": "ede38ebd-7b74-4719-8fc0-8f9949321679",
   "metadata": {},
   "outputs": [],
   "source": [
    "def grid_around(v, radius, step_size):\n",
    "    grid_containing_center = jnp.arange(v - radius, v + radius, step_size)\n",
    "    center = jnp.floor(len(grid_containing_center) / 2).astype(int)\n",
    "    return grid_containing_center, center"
   ]
  },
  {
   "cell_type": "code",
   "execution_count": 187,
   "id": "740f2b79-9d41-49cc-a309-e35717e67211",
   "metadata": {},
   "outputs": [],
   "source": [
    "original, center = grid_around(0.3, 0.5, 0.01)"
   ]
  },
  {
   "cell_type": "code",
   "execution_count": 188,
   "id": "a7bb1827-6341-436b-b597-3f7d4c2cfcee",
   "metadata": {},
   "outputs": [
    {
     "data": {
      "text/plain": [
       "Array(0.30000025, dtype=float32)"
      ]
     },
     "execution_count": 188,
     "metadata": {},
     "output_type": "execute_result"
    }
   ],
   "source": [
    "original[center]"
   ]
  },
  {
   "cell_type": "code",
   "execution_count": 189,
   "id": "a6d86d14-a203-43b0-a6e9-87215a3860d4",
   "metadata": {},
   "outputs": [],
   "source": [
    "select_idx = 34\n",
    "roll_shift = center - select_idx"
   ]
  },
  {
   "cell_type": "code",
   "execution_count": 190,
   "id": "4fbd0de0-ac8a-4dc3-9580-fb35bb4c3af0",
   "metadata": {},
   "outputs": [
    {
     "data": {
      "text/plain": [
       "Array(0.44000018, dtype=float32)"
      ]
     },
     "execution_count": 190,
     "metadata": {},
     "output_type": "execute_result"
    }
   ],
   "source": [
    "new = 0.3 + original[select_idx]\n",
    "new"
   ]
  },
  {
   "cell_type": "code",
   "execution_count": 191,
   "id": "77c015bd-afd7-4d12-89fb-48e2b04a4a2e",
   "metadata": {},
   "outputs": [
    {
     "data": {
      "text/plain": [
       "Array(-0.05999982, dtype=float32)"
      ]
     },
     "execution_count": 191,
     "metadata": {},
     "output_type": "execute_result"
    }
   ],
   "source": [
    "backwards, center = grid_around(new, 0.5, 200)\n",
    "jnp.roll(backwards, -roll_shift)[center]"
   ]
  },
  {
   "cell_type": "markdown",
   "id": "cdc38182-64da-4505-a4d4-b825ead82987",
   "metadata": {},
   "source": [
    "## tester boy"
   ]
  },
  {
   "cell_type": "code",
   "execution_count": 192,
   "id": "ee074f33-ba5b-4581-b1eb-f8d9b02d4a83",
   "metadata": {},
   "outputs": [],
   "source": [
    "@genjax.gen\n",
    "def model():\n",
    "    v = genjax.normal(0.0, 1.0) @ \"v\"\n",
    "    y = genjax.normal(v, 1.0) @ \"y\"\n",
    "    return y"
   ]
  },
  {
   "cell_type": "code",
   "execution_count": 193,
   "id": "40dfe519-191e-463d-a261-b1de918d49c0",
   "metadata": {},
   "outputs": [],
   "source": [
    "key = jrand.key(1)\n",
    "tr, _ = model.importance(key, ChoiceMap.kw(y=3.0), ())"
   ]
  },
  {
   "cell_type": "code",
   "execution_count": 194,
   "id": "83dcda36-6f6e-44c4-b160-038df8b218d8",
   "metadata": {},
   "outputs": [
    {
     "data": {
      "text/plain": [
       "3.0"
      ]
     },
     "execution_count": 194,
     "metadata": {},
     "output_type": "execute_result"
    }
   ],
   "source": [
    "tr.get_choices()[\"y\"]"
   ]
  },
  {
   "cell_type": "code",
   "execution_count": 195,
   "id": "1fa5d31d-b0a2-405e-94d5-98cadf9a7d10",
   "metadata": {},
   "outputs": [
    {
     "data": {
      "text/plain": [
       "Array(0.7158846, dtype=float32)"
      ]
     },
     "execution_count": 195,
     "metadata": {},
     "output_type": "execute_result"
    }
   ],
   "source": [
    "tr.get_choices()[\"v\"]"
   ]
  },
  {
   "cell_type": "code",
   "execution_count": 196,
   "id": "78806765-53f3-4999-bc27-af9125b7e4e1",
   "metadata": {},
   "outputs": [],
   "source": [
    "# Gibbs says:\n",
    "# say you have P(v, x, y) -- we could observe y. \n",
    "# Note: P(v, x, y) \\propto P(v, x | y), \\propto P(v | x, y), \\propto P(y | x, v)\n",
    "#\n",
    "# Start with (v_0, x_0, y) ... where does this come from? (v_0, x_0) comes from some Q(\\cdot; y)\n",
    "# 1. Sample v_1 ~ P(v | x_0, y)\n",
    "# 2. Sample x_1 ~ P(x | v_1, y)\n",
    "#     ..."
   ]
  },
  {
   "cell_type": "code",
   "execution_count": 197,
   "id": "091ba355-5bcb-4075-84e0-5124bd88d972",
   "metadata": {},
   "outputs": [],
   "source": [
    "request = GridRejuvenation(\n",
    "    \"v\", # addr I want to rejuvenate at,\n",
    "    0.3, # auxiliary data related to the grid\n",
    ")"
   ]
  },
  {
   "cell_type": "code",
   "execution_count": 199,
   "id": "3df5af23-4e2a-4f6e-87b3-59cb718d27da",
   "metadata": {},
   "outputs": [],
   "source": [
    "# TODO: API\n",
    "# Rejuvenation(addr, RejuvenationObject)\n",
    "#  Example: Rejuvenation(addr, Grid)\n",
    "#  ..."
   ]
  },
  {
   "cell_type": "code",
   "execution_count": 200,
   "id": "cbcb2f14-a65b-4cb3-a9fb-8c0760688409",
   "metadata": {},
   "outputs": [
    {
     "data": {
      "text/plain": [
       "Static({\n",
       "  'v': Choice(v=<jax.Array(0.850386, dtype=float32)>),\n",
       "  'y': Choice(v=<jax.Array(3., dtype=float32, weak_type=True)>),\n",
       "})"
      ]
     },
     "execution_count": 200,
     "metadata": {},
     "output_type": "execute_result"
    }
   ],
   "source": [
    "new_tr, w, *_ = request.edit(key, tr, ())\n",
    "new_tr.get_choices()"
   ]
  },
  {
   "cell_type": "code",
   "execution_count": 201,
   "id": "ac8fce89-e05f-46a4-a324-aaef70b33595",
   "metadata": {},
   "outputs": [
    {
     "data": {
      "text/plain": [
       "Array(7.02363, dtype=float32)"
      ]
     },
     "execution_count": 201,
     "metadata": {},
     "output_type": "execute_result"
    }
   ],
   "source": [
    "w"
   ]
  },
  {
   "cell_type": "code",
   "execution_count": null,
   "id": "73b771d1-4628-42d1-a280-394e38c16a92",
   "metadata": {},
   "outputs": [],
   "source": [
    "# The desired workflow:\n",
    "#\n",
    "# tr, w = gen_fn.p_importance(...)\n",
    "# tr.visualize(DimensionPlot(axis=0, {\"x\" => Histogram(...), \"pose\" => 3DRender(...)}))\n",
    "# request = RejuvenationGibbs(\"x\", ...)\n",
    "# new_tr, _ = request.edit(tr, ...)\n",
    "# new_tr.visualize(DimensionPlot(axis=0, {\"x\" => Histogram(...), \"pose\" => 3DRender(...)}))\n",
    "\n",
    "# Trace bucket list (things todo to make trace really nice to use and a true zero-cost abstraction):\n",
    "# * Tracediff \"incremental trace monoid\"\n",
    "# * Correct batch semantics -> \n",
    "#       (a) POPL: we have a plan for how some of the GFI works on traces in batch.\n",
    "#          (i) We need to extend POPL treatment to edit ^ also tied to incremental trace monoid stuff.\n",
    "#       (b) Say we get a batch semantics that we're happy with -- I think we should know: where does resampling go?\n",
    "# * Trace visualization -- we probably want a interface to Huebert's stuff that looks like `trace.visualize({\"x\" => Histogram(...), (\"y\", \"z\") => SomeOtherPlot})`\n",
    "#   (a) We want to make traces more readable as plaintext.\n",
    "#   (b) As easy as it is to Python `print` a trace as plaintext, it should be easy to generate a \"tree-like\" GenStudio object to visually explore the trace.\n",
    "#\n",
    "# Limitations of current implementation with respect to the above bucket list:\n",
    "# (b) Memory: updating a trace with a big footprint can be costly:\n",
    "#     (i) Say we do GridRejuvenation on pose in Gen3D -- this makes a grid, and then renders a change\n",
    "#         we get back a batched trace (batched across the grid) containing copies of the ground truth image.\n",
    "#    # solution: implement Mathieu's design for out_axis option in vmap combinator      \n",
    "    # idea for solution: have a batch-size option in vmap combinator (maybe call map instead of vmap behindn the scene if option provided)"
   ]
  },
  {
   "cell_type": "code",
   "execution_count": null,
   "id": "cb649224-21fd-4c15-84f1-09dc70147c8d",
   "metadata": {},
   "outputs": [],
   "source": [
    "# George's proposal -- how do I couple exact inference logic into my models?\n",
    "# he was concerned about conjugate updates.\n",
    "#\n",
    "# request = ConjugateUpdateGibbs(\"x\", ...)\n",
    "# soln:\n",
    "#   conjugate updates are not something that we should _change the GFI_ for\n",
    "#   conjugate updates should be offered by a GenFn language which is \"Markov blanket aware\"\n",
    "#   GenFn knows about its P distribution.\n",
    "#   it uses its knowledge to expose ConjugateUpdate(\"x\", ...)\n",
    "#   this is offered as an EditRequest, and can then be used compositional with `edit`.\n",
    "#\n",
    "# This special language could offer analysis of its code, its GenFns could provide slices of themselves via\n",
    "# an interface.\n",
    "#\n",
    "# How does this thing interact with the GFI? We don't change the GFI, this language exposes the use of these capabilities via\n",
    "# EditRequest.\n",
    "#\n",
    "# Construct a generative function via blocks...\n",
    "#   \"Everything is a combinator\"\n",
    "#   gen_fn = PushforwardByKernel(Input(), Lambda(Input(), ...)\n",
    "#   gen_fn.get_markov_blanket(\"x\") -> George's thing...\n",
    "#\n",
    "# (very similar Colin's block demo language) \n",
    "# Pedagogy: teach GenLM to generate generative functions from this AST grammar\n",
    "# write a WCFG for GenLM, and be able to give to student's that know nothing about GenJAX\n",
    "# and they can use it to make generative functions.\n",
    "# \n",
    "# For these generative functions -- analysis lets us have good conjugate updates, we also have Gibbs and enumerative Gibbs\n",
    "# A (new student) asks for a generative function in this \"blocks language\" (in natural language to GenLM), \n",
    "# and we give them back a generative function, and some inference logic.\n",
    "#\n",
    "# Better starting place: can we teach GenLM to make \"blocks\" generative functions from natural language.\n",
    "\n",
    "# Pedagogy: getting GenLM to write programs in a GenJAX \"sub-language\" with good inference baked in. \n",
    "# ... what about high school students?\n",
    "# ... what about stupid VCs?\n",
    "# \n",
    "# GenLM / LLM reads the GenJAX documentation and cookbook and then we plug it in...\n",
    "#   * how do we imagine the in-context-on-genjax LLM to help?\n",
    "#     * fancy autocomplete -- this totally makes sense to me today, and it makes sense how it would work\n",
    "#     * help you iterate on inference -- this is more murky\n",
    "#     * I'd love if we had a gold standard set of inference \"APIs\": GridRejuvenation, Gibbs, ...\n",
    "#     * Ask the LLM: what should I try? And then it says GridRejuvenation..."
   ]
  }
 ],
 "metadata": {
  "kernelspec": {
   "display_name": "Python 3 (ipykernel)",
   "language": "python",
   "name": "python3"
  },
  "language_info": {
   "codemirror_mode": {
    "name": "ipython",
    "version": 3
   },
   "file_extension": ".py",
   "mimetype": "text/x-python",
   "name": "python",
   "nbconvert_exporter": "python",
   "pygments_lexer": "ipython3",
   "version": "3.12.7"
  }
 },
 "nbformat": 4,
 "nbformat_minor": 5
}
