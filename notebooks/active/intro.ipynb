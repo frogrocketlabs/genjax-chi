{
 "cells": [
  {
   "cell_type": "raw",
   "metadata": {},
   "source": [
    "---\n",
    "title: Generative functions\n",
    "subtitle: Morning coffee & first steps from the probabilistic base camp.\n",
    "---"
   ]
  },
  {
   "cell_type": "markdown",
   "metadata": {},
   "source": [
    "GenJAX is a swiss army knife for probabilistic machine learning: it's designed to support probabilistic modeling workflows, and to make the resulting code extremely fast and parallelizable via JAX.\n",
    "\n",
    "In this introduction, we'll focus on one such workflow: writing a latent variable model (we often say: a generative model) which describes a probability distribution over latent variables and data, and then asking questions about the conditional distribution over the latent variables given data.\n",
    "\n",
    "In the following, we'll often shorten GenJAX to Gen -- because [GenJAX implements Gen](https://www.gen.dev/).\n"
   ]
  },
  {
   "cell_type": "code",
   "execution_count": 1,
   "metadata": {},
   "outputs": [],
   "source": [
    "import genjax\n",
    "import jax.numpy as jnp\n",
    "import matplotlib.pyplot as plt\n",
    "import seaborn as sns\n",
    "import gen.studio.plot as Plot\n",
    "from genjax import gen, normal, pretty\n",
    "from jax import jit, vmap\n",
    "from jax import random as jrand\n",
    "\n",
    "sns.set_theme(style=\"white\")\n",
    "plt.rcParams[\"figure.facecolor\"] = \"none\"\n",
    "plt.rcParams[\"savefig.transparent\"] = True\n",
    "%config InlineBackend.figure_format = 'svg'\n",
    "\n",
    "pretty()  # pretty print the types"
   ]
  },
  {
   "cell_type": "markdown",
   "metadata": {},
   "source": [
    "## Generative functions "
   ]
  },
  {
   "cell_type": "code",
   "execution_count": 2,
   "metadata": {},
   "outputs": [
    {
     "data": {
      "text/html": [
       "<div id=\"output_dce56c2b72f44c1dac61bb2e5d586b86\"><script> /* penzai.treescope rendering of a Python object (compressed) */ (()=>{ let observer; let lastStep = new Promise((resolve, reject) => { observer = new IntersectionObserver((entries) => { for (const entry of entries) { if (entry.isIntersecting) { resolve(); observer.disconnect(); return; } } }, {rootMargin: \"1000px\"}); }); window.treescope_decompress_enqueue = (encoded, destId) => { const previous = lastStep; const destElt = document.getElementById(destId); lastStep = (async () => { await previous; let blob = new Blob([ Uint8Array.from(atob(encoded), (m) => m.codePointAt(0)) ]); let reader = blob.stream().pipeThrough( new DecompressionStream(\"deflate\") ).pipeThrough( new TextDecoderStream(\"utf-8\") ).getReader(); let parts = []; while (true) { let step = await reader.read(); if (step.done) { break; } parts.push(step.value); } let newElt = document.createElement(\"div\"); newElt.innerHTML = parts.join(\"\"); destElt.parentNode.replaceChild(newElt, destElt); for (let oldScript of newElt.querySelectorAll(\"script\")) { let newScript = document.createElement(\"script\"); newScript.type = oldScript.type; newScript.textContent = oldScript.textContent; oldScript.parentNode.replaceChild(newScript, oldScript); } })(); requestAnimationFrame(() => { observer.observe(destElt); }); } })(); </script><div id=\"compress_html_52ab4aa1a45e4186862495a6c85462b9\"><script>window.treescope_decompress_enqueue(\"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\", \"compress_html_52ab4aa1a45e4186862495a6c85462b9\");</script><span style=\"color: #aaaaaa; font-family: monospace\">(Loading...)</span></div></div>"
      ],
      "text/plain": [
       "<IPython.core.display.HTML object>"
      ]
     },
     "metadata": {},
     "output_type": "display_data"
    },
    {
     "data": {
      "text/html": [
       "<div id=\"output_dest_dce56c2b72f44c1dac61bb2e5d586b86\"><script> (()=>{ const output = document.getElementById(\"output_dce56c2b72f44c1dac61bb2e5d586b86\"); const dest = document.getElementById(\"output_dest_dce56c2b72f44c1dac61bb2e5d586b86\"); dest.parentNode.replaceChild(output, dest); })(); </script></div>"
      ],
      "text/plain": [
       "StaticGenerativeFunction(...)"
      ]
     },
     "execution_count": 2,
     "metadata": {},
     "output_type": "execute_result"
    }
   ],
   "source": [
    "@gen\n",
    "def model():\n",
    "    x = normal(0.0, 1.0) @ \"x\"\n",
    "    normal(x, 1.0) @ \"y\"\n",
    "\n",
    "\n",
    "model"
   ]
  },
  {
   "cell_type": "markdown",
   "metadata": {},
   "source": [
    "In Gen, probabilistic models are represented by a computational object called _a generative function_. Once we create one of these objects, we can use one of several interfaces to gain access to probabilistic effects.\n",
    "\n",
    "Here's one interface: `simulate` -- this samples from the probability distribution which the program represents, and stores the result, along with other data about the invocation of the function, in a data structure called a `Trace`."
   ]
  },
  {
   "cell_type": "code",
   "execution_count": 3,
   "metadata": {},
   "outputs": [
    {
     "data": {
      "text/html": [
       "<div id=\"output_66ff25cb6d4e4ae4a8440410ae7036c5\"><script> /* penzai.treescope rendering of a Python object (compressed) */ (()=>{ let observer; let lastStep = new Promise((resolve, reject) => { observer = new IntersectionObserver((entries) => { for (const entry of entries) { if (entry.isIntersecting) { resolve(); observer.disconnect(); return; } } }, {rootMargin: \"1000px\"}); }); window.treescope_decompress_enqueue = (encoded, destId) => { const previous = lastStep; const destElt = document.getElementById(destId); lastStep = (async () => { await previous; let blob = new Blob([ Uint8Array.from(atob(encoded), (m) => m.codePointAt(0)) ]); let reader = blob.stream().pipeThrough( new DecompressionStream(\"deflate\") ).pipeThrough( new TextDecoderStream(\"utf-8\") ).getReader(); let parts = []; while (true) { let step = await reader.read(); if (step.done) { break; } parts.push(step.value); } let newElt = document.createElement(\"div\"); newElt.innerHTML = parts.join(\"\"); destElt.parentNode.replaceChild(newElt, destElt); for (let oldScript of newElt.querySelectorAll(\"script\")) { let newScript = document.createElement(\"script\"); newScript.type = oldScript.type; newScript.textContent = oldScript.textContent; oldScript.parentNode.replaceChild(newScript, oldScript); } })(); requestAnimationFrame(() => { observer.observe(destElt); }); } })(); </script><div id=\"compress_html_17cddf459f214955bb3f8980e3583e44\"><script>window.treescope_decompress_enqueue(\"eNrtXFtv4zYW/iusBzu1B7Ei2bLlS2xg0Gm7D0Vfpth96A4ESqRsbWRSpagkbpH/voekfJGsOPY2l0mr+MEWechz4XcuPDZylcl1QueWFJRmIU+pLziX6A+U8iyWMWcTJGiCZXxDpyjiTHYjvIqT9QStOONZikMYv13Gknb1wwSlAkaSOJNdvXVXrlMYZZzBcIDD64XgOSPdkCdcTMzSKSqeggQIYL+YyOUERbEEMiYpk1O0wmIRs25CIzlBvXCpeDDaXdJ4sYQRxxpM0f3VpVHnKgtFnMo5iiPUvo0Z4bc7DdFsNkMgAo1gA9IBXQ8p0B/304Nhy08pIzFbfAyVZTIg+/XLo2T/xIwkakuWJ0kN9YJKv2L9GWpvjO5L3kGzOQh5+QH9xPk1HIJAckmRpmScUAt9uEQJlahYu7dUHw0wb5u5b2aI8DBfgUGtgJM1ev8efaNmrDDBWfYTHJqlDI5jlrVbZaFaHaRMteGhFqVYwE7fJ3SlT+geOMtcMD0JjzW6ipx95pwpBW+5uC40A5aZBMn+DUNqqjQs41ANplSA4ivMQmoxftvubFU7mEFds+gK9XtK5DoMVI/SSihbyCVAA9l1iDh+pkZvZQGaZHQn+jJnSvZHmWfLOJJKJb1CfbiH16kytDeUgv6W00x+ZPEKK4ofBF7RtrFrp1N/IlVR0jxbmrOZnmK4jRAzY4pzTHe62LWCUwarcvqJRlQISn6hqxRgT7NDAKWJGtwCH5aJ9Wea0FBy8TFJAOjF2v0gmDM/A6S2OlPtcG3lX7AT4pHeUCkK73t+I+iK39CS1+zt8ZAntDeyqv0jwX+nyjn0zibwlcVtt0xgU1uqFfC0r1ooKKhROOQ+LXyyVBwGYsNEPxXj9E5+Z5jtTe8Gp1oc4+s/q3AjKFgrpN+B+5E27HChCNQ5PXhWki8WiQkjvo7+EgTTUQ5GaCIvEL2B3QtTKNjpZ+uarpVHtkRrE3qAeM/mZt92a7unvwIBWxs57hHkA5MIrkh8g/TCWTWuIYkDEJjezVp2C3EGTEF6tkdXL39bLuNsI3kLUo5JpAGXkq9UbpowLttWxBOCA1itQvVkibP2PMEBTeblGd/w0Gsm4ZKG15CaOuiDUjzFRPlPV/J0gmzLGdDVYfZTY/eWzqM+qAAuTLQL6Lz6zoa/KNpRsHwVULFPMB45g+GOIAMV2WKPAPedgTPYElDiKwl2BEXqPszwN1i0u90g4eG1GYLjCUA6KoxCTnqHMp7E5BilsepjxPfIWgKuBUh27SuHlNRfglcKVBX6UEx+nYTL9sj9h7KwO0COPTY73uLMBxTxJIHlkltRLDLI2CrDnLrr2LUcta89Rk5/aHm1G+ujP8quc8BQCsw2ZVqVOXIyRHFGu1A18Rx8TFdvtxoxlTl1qqQIpL527iVgs4QP7KlXUQJqqE9QLHESh2pxCcoPFI+gcR3igZrEGTBdb4rEKiGaI+0xk0lAIRbvYe5dqP+mtfxMpdh1VKlYFJT2dMcrZtqDNICO8NTwOeRMsLjOKF5AiGCHq5/I87cyqKX1izb0JQl12J6gb//TGwTht68pXnnRg0IOX0BIHQaAcS4ydYApj0ECUcM3zp6OrXYFzair80T2EMafhutOPZW/D7lYceabeMKZCSGHrnXMlazeQHlT7VGhPy2+OfGqiEqr0t1PO/S9tQyXvr5x+mp4L0saKtsaVOmEjnw7QmFy55ZSFQFwVMQPVWXzZNl7G3GKUFNSJsRJ2IbbLNxZILWZvFCWA8quZxOlSK5GFAIplhKdYd9RW72UUX7LccKgHvfhWh/Fd7CJyQDx71SZbmTKjmyJVeq4xYKBZf0N9jdhOopw6PRrCFMoAw8ORB9wYaViqFsc0i7HTXQBhEV3ITCJVbnr9AeELi4Qh5y4oMgG6Ybh8sLkSFO+miFkzHwoygH2nszwpTPvbhEHRVYeSj9dq1LTx1KKrX3LGXZXxvV6A13GQen0LDXmptA6XmbeLinzQagEpxklj6fws2U6wsEkblNBKSJ6l8KV8kGap5CjjkWhqCHYXWrqTFG+cFjl2wo6skNVVVa6P9UTnsLswX0KkXdtNNAb6c+zVqnY3lS2tuWNBgosdh8N+lA4D/vDXt92hyNvgC4BMHZnullYRJsMYp6KHdNWsX9xLSuVtgW8UTnKV1aUDVeZrASu1nxB2X/xneVnIrTgMxWmSRblbNOFkTASWqA8bDMv3j7rwV8EiNDezOyz2d03JPg4rYpYwhjMGehdxSzNJVJ3cNBbgS3gd63aNQUuYemlXgTvxR4Hlth6S2tuWVadsCUwVyQ9yDpH5yuTh4FM29uPWCHG7Dmh5LwlKP24pf+hIG9wdRauMp6LkP5/uOqpm/jQdXsjD+73/a8aWCFwsozmFSB9l/AsF008Og83ZM18MElWRs6DZmt3CsKLo5qh8tEcFTFis5POqkCzQXGQ5BRg+D6R04ghlcST9ws5PcK2YtWLCumxtwexvutqosqFqjXvfL2yPN3ZPQqv14XWo+IJKm9wcqKAh7bftJRb85+hRHw9IxOIBFlG6y39Ekn8o5HgX3EWq+9jmtirzu1GWYOS2XOre9zYv25PqsYqfyqdlFvD1S7BS+jWfjbdTvJ+820QZKF3dz1vemfeqlGg9PjMIa45kdKJrM84kfPz85dzVh6LMScn/84L5pQsD6S63tfnlL9CFDv1dtR3e5bTt72+90Y7OCRWbhHkh0+VLP5pb6rp7bxsb+dMlDlvF2Xf3+FQfqLqG/p1A7DzgjJepQkVTZeniUx/wy5Pgf6vu8/zgiVawhcpiXx6g5Mcw7W7CQtNWPgbhgXjBk339y11f1/8/vjKfQnzw+LW3LbsFzmMs4RyqkKdj9ZXaN2rrFf5vjMms9b2B7v9AQ08D9uuMyZun3gjMnKDcc+LPKdHbExeJwvU/Z7YRDKV5D4KgdcoSjiW/V67gyBHoJrA9uK2zlTiPWLryIPioWcPgxEm7ng4GJPxyPUohots1Avw8M3b+q8cv5s+WNMHa/pgTR+s6YM1F97mwtv0wZo+WBMWmrDQ9MGaPljTBztF71IngPRoSPF4QILAcx08DOzQiUjk2mPbJb3oNX6w9DbbME0Hz++Pe0PPozSyse16dIjhXjj2BpgClmDOazp4T9fBs2nkutQbDocj1x337BEZgwNH3oCMPDsa2k0H71Wz4JfzEHP6rw2fFVTUoZgMRrZLR5ELyApINBqN7IEb2Q4m48FXDqqh+6ZAdUnim+2/eDv5H0PpWtas+R+BoBNL\", \"compress_html_17cddf459f214955bb3f8980e3583e44\");</script><span style=\"color: #aaaaaa; font-family: monospace\">(Loading...)</span></div></div>"
      ],
      "text/plain": [
       "<IPython.core.display.HTML object>"
      ]
     },
     "metadata": {},
     "output_type": "display_data"
    },
    {
     "data": {
      "text/html": [
       "<div id=\"compress_html_2abadd94afc7472bb8c14969f5a5b6bf\"><script>window.treescope_decompress_enqueue(\"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\", \"compress_html_2abadd94afc7472bb8c14969f5a5b6bf\");</script></div>"
      ],
      "text/plain": [
       "<IPython.core.display.HTML object>"
      ]
     },
     "metadata": {},
     "output_type": "display_data"
    },
    {
     "data": {
      "text/html": [
       "<div id=\"output_dest_66ff25cb6d4e4ae4a8440410ae7036c5\"><script> (()=>{ const output = document.getElementById(\"output_66ff25cb6d4e4ae4a8440410ae7036c5\"); const dest = document.getElementById(\"output_dest_66ff25cb6d4e4ae4a8440410ae7036c5\"); dest.parentNode.replaceChild(output, dest); })(); </script></div>"
      ],
      "text/plain": [
       "StaticTrace(...)"
      ]
     },
     "execution_count": 3,
     "metadata": {},
     "output_type": "execute_result"
    }
   ],
   "source": [
    "key = jrand.PRNGKey(0)\n",
    "tr = model.simulate(key, ())\n",
    "tr"
   ]
  },
  {
   "cell_type": "markdown",
   "metadata": {},
   "source": [
    "We can dig around in this object uses its interfaces:"
   ]
  },
  {
   "cell_type": "code",
   "execution_count": 4,
   "metadata": {},
   "outputs": [
    {
     "data": {
      "text/html": [
       "<div id=\"output_b63ad6ddc92d40078314fe7ce2955792\"><script> /* penzai.treescope rendering of a Python object (compressed) */ (()=>{ let observer; let lastStep = new Promise((resolve, reject) => { observer = new IntersectionObserver((entries) => { for (const entry of entries) { if (entry.isIntersecting) { resolve(); observer.disconnect(); return; } } }, {rootMargin: \"1000px\"}); }); window.treescope_decompress_enqueue = (encoded, destId) => { const previous = lastStep; const destElt = document.getElementById(destId); lastStep = (async () => { await previous; let blob = new Blob([ Uint8Array.from(atob(encoded), (m) => m.codePointAt(0)) ]); let reader = blob.stream().pipeThrough( new DecompressionStream(\"deflate\") ).pipeThrough( new TextDecoderStream(\"utf-8\") ).getReader(); let parts = []; while (true) { let step = await reader.read(); if (step.done) { break; } parts.push(step.value); } let newElt = document.createElement(\"div\"); newElt.innerHTML = parts.join(\"\"); destElt.parentNode.replaceChild(newElt, destElt); for (let oldScript of newElt.querySelectorAll(\"script\")) { let newScript = document.createElement(\"script\"); newScript.type = oldScript.type; newScript.textContent = oldScript.textContent; oldScript.parentNode.replaceChild(newScript, oldScript); } })(); requestAnimationFrame(() => { observer.observe(destElt); }); } })(); </script><div id=\"compress_html_de58fa183fb8417fba4d917415ab1d7e\"><script>window.treescope_decompress_enqueue(\"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\", \"compress_html_de58fa183fb8417fba4d917415ab1d7e\");</script><span style=\"color: #aaaaaa; font-family: monospace\">(Loading...)</span></div></div>"
      ],
      "text/plain": [
       "<IPython.core.display.HTML object>"
      ]
     },
     "metadata": {},
     "output_type": "display_data"
    },
    {
     "data": {
      "text/html": [
       "<div id=\"compress_html_b1f92af64d3740c4befc0d12654ac32e\"><script>window.treescope_decompress_enqueue(\"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\", \"compress_html_b1f92af64d3740c4befc0d12654ac32e\");</script></div>"
      ],
      "text/plain": [
       "<IPython.core.display.HTML object>"
      ]
     },
     "metadata": {},
     "output_type": "display_data"
    },
    {
     "data": {
      "text/html": [
       "<div id=\"output_dest_b63ad6ddc92d40078314fe7ce2955792\"><script> (()=>{ const output = document.getElementById(\"output_b63ad6ddc92d40078314fe7ce2955792\"); const dest = document.getElementById(\"output_dest_b63ad6ddc92d40078314fe7ce2955792\"); dest.parentNode.replaceChild(output, dest); })(); </script></div>"
      ],
      "text/plain": [
       "ChoiceMap(...)"
      ]
     },
     "execution_count": 4,
     "metadata": {},
     "output_type": "execute_result"
    }
   ],
   "source": [
    "chm = tr.get_sample()\n",
    "chm"
   ]
  },
  {
   "cell_type": "markdown",
   "metadata": {},
   "source": [
    "A `ChoiceMap` is a representation of _the sample_ from the probability distribution which the generative function represents. We can ask _what values were sampled_ at the addresses (the `\"x\"` and `\"y\"` syntax in our model):"
   ]
  },
  {
   "cell_type": "code",
   "execution_count": 5,
   "metadata": {},
   "outputs": [
    {
     "data": {
      "text/html": [
       "<div id=\"output_fafac33796cb426a8ddddc356957015f\"><script> /* penzai.treescope rendering of a Python object (compressed) */ (()=>{ let observer; let lastStep = new Promise((resolve, reject) => { observer = new IntersectionObserver((entries) => { for (const entry of entries) { if (entry.isIntersecting) { resolve(); observer.disconnect(); return; } } }, {rootMargin: \"1000px\"}); }); window.treescope_decompress_enqueue = (encoded, destId) => { const previous = lastStep; const destElt = document.getElementById(destId); lastStep = (async () => { await previous; let blob = new Blob([ Uint8Array.from(atob(encoded), (m) => m.codePointAt(0)) ]); let reader = blob.stream().pipeThrough( new DecompressionStream(\"deflate\") ).pipeThrough( new TextDecoderStream(\"utf-8\") ).getReader(); let parts = []; while (true) { let step = await reader.read(); if (step.done) { break; } parts.push(step.value); } let newElt = document.createElement(\"div\"); newElt.innerHTML = parts.join(\"\"); destElt.parentNode.replaceChild(newElt, destElt); for (let oldScript of newElt.querySelectorAll(\"script\")) { let newScript = document.createElement(\"script\"); newScript.type = oldScript.type; newScript.textContent = oldScript.textContent; oldScript.parentNode.replaceChild(newScript, oldScript); } })(); requestAnimationFrame(() => { observer.observe(destElt); }); } })(); </script><div id=\"compress_html_65d2f6351caf482d9fca8a73baec08ed\"><script>window.treescope_decompress_enqueue(\"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\", \"compress_html_65d2f6351caf482d9fca8a73baec08ed\");</script><span style=\"color: #aaaaaa; font-family: monospace\">(Loading...)</span></div></div>"
      ],
      "text/plain": [
       "<IPython.core.display.HTML object>"
      ]
     },
     "metadata": {},
     "output_type": "display_data"
    },
    {
     "data": {
      "text/html": [
       "<div id=\"compress_html_f0d003d688f04fca97f081a9825fdc46\"><script>window.treescope_decompress_enqueue(\"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\", \"compress_html_f0d003d688f04fca97f081a9825fdc46\");</script></div>"
      ],
      "text/plain": [
       "<IPython.core.display.HTML object>"
      ]
     },
     "metadata": {},
     "output_type": "display_data"
    },
    {
     "data": {
      "text/html": [
       "<div id=\"output_dest_fafac33796cb426a8ddddc356957015f\"><script> (()=>{ const output = document.getElementById(\"output_fafac33796cb426a8ddddc356957015f\"); const dest = document.getElementById(\"output_dest_fafac33796cb426a8ddddc356957015f\"); dest.parentNode.replaceChild(output, dest); })(); </script></div>"
      ],
      "text/plain": [
       "(<jax.Array(-1.2515389, dtype=float32)>,\n",
       " <jax.Array(-1.8381894, dtype=float32)>)"
      ]
     },
     "execution_count": 5,
     "metadata": {},
     "output_type": "execute_result"
    }
   ],
   "source": [
    "(chm[\"x\"], chm[\"y\"])"
   ]
  },
  {
   "cell_type": "markdown",
   "metadata": {},
   "source": [
    "Neat -- all of our interfaces are JAX compatible, so we could sample 1000 times just by using `jax.vmap`:"
   ]
  },
  {
   "cell_type": "code",
   "execution_count": 6,
   "metadata": {},
   "outputs": [
    {
     "data": {
      "text/html": [
       "<div id=\"output_0763e2b982d94c538df2e35444c45e5d\"><script> /* penzai.treescope rendering of a Python object (compressed) */ (()=>{ let observer; let lastStep = new Promise((resolve, reject) => { observer = new IntersectionObserver((entries) => { for (const entry of entries) { if (entry.isIntersecting) { resolve(); observer.disconnect(); return; } } }, {rootMargin: \"1000px\"}); }); window.treescope_decompress_enqueue = (encoded, destId) => { const previous = lastStep; const destElt = document.getElementById(destId); lastStep = (async () => { await previous; let blob = new Blob([ Uint8Array.from(atob(encoded), (m) => m.codePointAt(0)) ]); let reader = blob.stream().pipeThrough( new DecompressionStream(\"deflate\") ).pipeThrough( new TextDecoderStream(\"utf-8\") ).getReader(); let parts = []; while (true) { let step = await reader.read(); if (step.done) { break; } parts.push(step.value); } let newElt = document.createElement(\"div\"); newElt.innerHTML = parts.join(\"\"); destElt.parentNode.replaceChild(newElt, destElt); for (let oldScript of newElt.querySelectorAll(\"script\")) { let newScript = document.createElement(\"script\"); newScript.type = oldScript.type; newScript.textContent = oldScript.textContent; oldScript.parentNode.replaceChild(newScript, oldScript); } })(); requestAnimationFrame(() => { observer.observe(destElt); }); } })(); </script><div id=\"compress_html_0ec90a0be9134f52babc645403d063dc\"><script>window.treescope_decompress_enqueue(\"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\", \"compress_html_0ec90a0be9134f52babc645403d063dc\");</script><span style=\"color: #aaaaaa; font-family: monospace\">(Loading...)</span></div></div>"
      ],
      "text/plain": [
       "<IPython.core.display.HTML object>"
      ]
     },
     "metadata": {},
     "output_type": "display_data"
    },
    {
     "data": {
      "text/html": [
       "<div id=\"compress_html_b467f454cf98425e9462d2787c53e5d3\"><script>window.treescope_decompress_enqueue(\"eNrtfel627iy4P88BY/PIrtpi/sWJ7lDSbYsW7Llfcn15+YCStRCyiRFSs74/9z3mHmAeYV5lPskA3CRSIqSl066O33k7tgkWCgUCgWgUFUAPummj7nedAA+b+imOxoo04+YZVtgAzP1zxuG7TzowACOA/QHRQGAUXTWMCSaJUlV1TkSkBrQgEAyqiJufPnkjhQL/kb4vpQVx1Gmvvn0oNmWp5gWcLBvWNA1PbAD4TSACnKGymAXe8aKgMumZdgwiwFTdgxlaA4gbUPbssPcu5hmD2znI/Z3JfzZxYaK0zGtHdX2PHv4ESPLNAeGu9kSRw5YXZxpjcbeV286ggxxFKsDNu4hCT5wPFNTBjvKwOxYkApT1wcQk2EOPABp6EBsLvwONqktzIZFmd50kyxzW28u7GPX9kNGLaJ+Gz5rPFSBAxFatrf50bC1sbsF0aq2owNnx1F0c+x+xJjR5LehjJ5DohH6pE2E8Gc3Lu4jRo0mmGsPTH3+aUWpZRdCAsfNy8uq1gtJ8MwRzJMR5F1sZLumZ9qw2RQV0jD2YJqqaP2OY48tfScmOSyoiGB1AGEhFkXXTasTyZXWRWhNC7bQDvCB5blJYYGpe92PsPW8HUQc/LSLIcqMgR18xHzTNVUkOIvVetoxLR1MYMkkSa6upWpPXllLe7LjdhUdFU2G/6FqhRXajhNomBBXvbhCM7qkFWRpA1Pr64qnvKXFBraCOPowBK6rdEBKepIe/VwOUx4UVXWAnwLgRVoJyflERIPNJ1dzzJH35QP8CSDBdvC1lJRZusc+Y5ubW9jnL9i3DxgG/zfGloaYhenABY4Je/UTuIS1FzdRJ4EAGOYAb+xYWJgqI0xlw7GHm4pnqxBoG9schgiHkEQdtBHrZG+T3NrahbmfPywvZh9W22PoeUGQI66HqVMPuJDOd5WXIDEQboTFAgEWFxTi2gzRl9WxAcfyOEtcwSjPS1Q3rN+F5rCYN1EckTwAHlZFsjFURmf1Sg1K4m6+Nh3gVaHwmdbYHrsh8KavDMZgO5IqmBNlS2qIMKqKCx5C6d/GbMNwgRfRYRpYlBX79BkjkxxYCh5Wh9yNU6Oc85RnDAxckELy5TNGLUGSpqw8AFbH62I7GL2AmipnkSfIIhZrnjvDGBX5C7ZZjJra2i2io6V43TLkO+TZDNnWAhXzcv6JUTE9qZZ2chX6Oi/i/it5j4iiIAkRui0Mj9FjyzJhOEbFGdOtExXWWVUY9d7CqOLC1FWF0e8tjM4XFsv/V2cb62xj6n1xp51aUFXSZEdzTat7BiD2zbi8PpiGY/xVLPYDc9RSoGw7StAyregveo9R1JVRIpYz7K6nwPnrHOkjelzEJszhKeO5BCPJ/pvp7psWnAg2w0//839GIgSnps3JFkagDNgnjAI77DzfrIKTRLJy0jwDCHG5UBNDyH4Jkf0yg0E/IcDA7mwulorHuR8dDzZK/Dayg81JBLCN0VtbM9l+TknxrO9n+Ih9zowB6HvEz9yHHPuRxET8X1rZPHyEtoiyPOSs1pkPySgatnICNVQmm0m7xwRt7S6p6acZxIzKP+hP1O1ga6E+g33+kGt5MBltzkQgywPYDefiDWVnBpZUbdb0szIgq5KSiKgjZ9lC5BgXTR6QsXCshXmLusys66HesZsSnSRXTnRmyGCPocisCMyGV9TVRwCNskja4by7qrMSMc4EV9yzEiSFs8lvbq250CecnL8WiWoeEeKrDix7aFpQx3BmMmxamykRKKp2buiLWRCSkBrttl/AknQUlD3TbBmicm2XJbiwAWPmv6rZUujmU+zCLODZ50gvPvccqGFHc31Wd5tNIsnUlZlifnU66uY/vjnP2D++ddAv9Xnr18LpBunzjuJCtarzvhJTEGj5YcFVzBRClGmK5mH/dOAQXRYojobPHfRMCjR6VueD1DzbF4yixTnv48qUwgVPqVCkE5Bw0VLKMDRXUbgeH7QVDy6QLKgDwfaA/0+34bIwTJpNlLCRN5GYmqHCB/98SkBiJQum4fhWTkNz7ADCx4BfzftEQGboehG6HkQHYWeoemlU8eQDlz69+3QqLMSblBH9Z0DzNpF20YO0wz/mNkZtp3S+uUQ+L4hWRKhudkwvVJ7bjjlUHNRUX0PY0t+N8Ke0DR8pQxBUNnw0DMEgQfhIawpJa+GjztMCLYaPEssLqh4+ihrHs2ppO0YIGEHQ6PCLqqk6HT1Sggo0owRhQjbl6ToHMEXPUiYY6L8wtwI0AYgxZaoqxDSIuiEqcaokSnz4qHEqqXPRIytpEjujzBBUXo/I0VVdFSPyJaArgJtR9mFGnQYGg3O4ioIkCbvRh9yiBa5MDLOzsGbR4YhzYoEqzJ+McKHswUYOly3bWLyEMV04spn6fC0TIdyeDeiJQMTKWQidksJYQMIuDKks2f2B1t3kuH8iI8FWafdDgSDBomBHFEJqogf0/9buapwCmcO50LFivEgJnuGOXr7O5PQruY3N/7/fznygwlRq8cN3yXG/tbCOyzK9jKxlcBqAVdZmC85Svstrsdqf0V4WUCVQmdnGdI+V42jxuJXu6AscTw98b22+AnRoUqA5LuQH/LuVwvyuRoQsplIspu7T8+/SZpk1DLXQlKtzLSvrfiungs+X5rANG7Ad4EJmmmF01IKoqSBfCgwLcD2+jS203SJLi6bp79VcK2fm395yEYuptzfP+z4VlrW65Xbe1XTkv0XTzTla1AjLus/q/ri6q1IvdLp8E8UTl44WvvEcFg95u1l9J4H7gqxgOb3nvf30rc391gZ/d5O/u9FXdrCXPlKp/ke9Kefyj/dprXPee2fN+Qkj39yc5L9fc5Kr+E6+uznfjLagOdNNN1dbkgbeyrbtbI3/dt2jsMAFFJlv6CcrAgXSlFCaEqlM0z2/W15yq6yXFEmsNFLgYsGLrcOlBfPbb9Ios70q+fw1HGvv02pnDALpGUMy4NQK9LX2+f21z/xEuMRuUsSjmdlmO7TbbKcMN29vglcLZ7j2Vu2lcokWsW3F8dzKtIZAZwvzkC/pBRfin3C/mAKbjd7GmOIvkLHcixB8DMGivwwUoBchuRgyzMG+JweD/nK/LSf8yyN5ma8+0zZm0/LROh4y1FBgK6U7a6QF/xOjsL/l7JFz7WmW23PG4AUptEBH8UwfzFyIn+YezgRmqHSguj3WMy6IvM6Wstcgr+8sTxmNx+FQvFV2RwPT2yyVcqpelClxVn5aEKz4S5HSgEAfRggWlpnP9zWD+D49xiMuj5wwIuLBASOgeO6DbSBv9XgwyMzjBYa/DNpdDMfN/JwX93DXg9RsY66pg5iGmMqI5JRBcIGHEPA4DMuJuQNht7LAM86FQ/diZfI0LQ4rBca1iGU5srDXsWrJfL2q3NjY+JZSQ9BcsYX6QTgWLmgH8xkkbpz5LLLQWunnpRpCThlK+tPWaq1lcRZdUJWWTX6pcf1rrnpfi3W/+SKv8EOBQni/pLoFDZyuf+HAk1aL0sauCHitaXxPTaMwVuTVbHg9e5e4UpAaEbniZEtvWLqpAXczb8k2o3T04EI5CbPmApCSAf1rPCSEg3DiS4KZMDgSFOVOJAt++VpCegwKEYM1hrMOcJRBKS1sYRnl0djtJhlCQkuFtqdFlHmNPSF9FjQTV/NrnFWZmG7p/j478SXAn7EYyu2bo4dwHCrlXD0pcn/9x7cC8OeP2WRg6TDx1+LVeFzwp7eWG+UrwvpSHmynqCwUmYT8Vavpfk17RI2Xd5otOEQWyQszvqFGpc2h4vaBjtljb6v0LjIfBrbdH48WqE38N9i//oX9Lc5rdizbQQvEcLRc0TrL6VqsTiSq7lh1PaijhX13JoIRbQ+hr7p0n1suJpRmsy5bOS5QOLb6lh1YGfKWaA2pfOnCls1Lr+E96oJFrEfaXXG3LaMsxX32y8tdZ4bzPT1gUa7e1GxRkTnSX9tqL7bZ6h6ypL2ely1E0sV9+o8vpdyiwh6AMnAc29ksXUa0pMf+UjyPFEZ2xVEAUQE927SStUcmwFSGjXw+AtqCl/YBKn/K9NLyzMFVFOC9qQNk+1PQ5wacy5QQMOFeagZLwcE2mtVnU7e18RDqtOUO8PYGAD1Wpg09izcbSBvFlpve9ER1geOHgUBxTC1wXBBSkHza3IQIHRO4s6DopO3j9K/kfdlMZTxDRUJhJhdnsjiMu6U4fRSy/zldp/LjGDjTc6gba57tyIPBZikf9p1uxohNm2kXR7KsAgPU+XKFZcURgpQdMLR9sLlV1C0WGFTWTRfWwUJqTF4utrFvz7OwY1gL15MtuAZB9O07yhCk4smLcdvRQ7rFEqWoOEZcHZsDXY5j1vfNztgBSJcxzE5SzQI5iwDKOXHL0vawAnOWorRMv0zOggQ39MjyvUDRbibIx7DnYOgt/TWM2a8oLuDZOVAqcQG2FpmhMqBhWqZroDmxBae9PObch3QetJsBGST0MMQ9qdU8MQ07SYaGFOg8LQ05LYCcFkK6Azi/6AXguQ/pPFkL3TyLlosyyXBmDPZDfRz5KhopZTnDpWVAux/mIxrqpiH/56FZ6SaCM6sRbUlIzaohQDRm5DdIpFp9MeIih9i0XkQb7WBYijTJ6XXROgaNm3vRXDK23PFoZDseVJn0UEvYWgxtD+XoASlW2UKjPSU5KdtKM23GOXuAek8cNo8StLHjwNE4m+iCUbjgIdMrnpzZaRbXOxfBcmKomOaTtnLxaKiAaI6Ny5/7CWb0IFLx5H22CyCkP5P4nK9ntsae7SmDqj1wc/W2B9doE1VYT+p+/iGqDuTqwpIvx4CFehfG3LkQAOaZA6fMbLHNE0Xvwi9lqGlB/St8DNWxBGxOUcSyuRqTrtv8+ReIEg9ZDMtCuwKszJaLWc0jbLN8GYGbce7MDnKcg5J7AMxO11tg3fS1rJu+hXXT38C66WrWxZWbP7/AunnVU7xDGbeWiGI8hWjIBneORtSTUBNGhX57Xs6f3OD7CiblcqQ4tVj415BPFlQv7lP7hT7kqdYUuMpz026+ub6oOUDxQKwybpYi0NJMUwxfy+EmRRQnPhdNHKPRVookUjED3g05O4MP26MYPsXUapgX+VTBxMvQGmONPa7w62aJ1kMSCwaJODo73MdyFAdxZ2zKc/s+VC9RoCRqwqwClPKYJDPh2TxYPm2eXuXmKozlK8wS05zVTuM9AbDABfhhautAaiPAQiR5vBMgH0W+4IuO4mfC3SKy6haVOPuYDWKYZVQmKzKGHxcILm6ozxF/F/0eC80QB7+H4cmIISg8HwV655lT7OuPFcIwWL6VoFyxFWr+U0T3Nip1e87C7TlTtjGyTHFbu6+tToYmlIijzX7EfA/fi4bz2LeGNhQViI5pFTThW+Qs2qg0TG/qealSZJl7RYusaOEdVJ2whRGl0dsLBpsPBTtBoDLeyO+2TJmAwwEYrhlzI3Bmb8YMBf45rfGnB+JfVg/Uu3kK4yXBfD5JqSNIAqOxiczFX0zn8NPV8PEwNp/6MbTlegDg6OygDU7fUr6WWCuIYGepS8Ezj6kFAswfKs5fZ/y6XxS6xCj5OaMNxwMA9h+hrwf7iP3tb/PPS/AVRL2nLQS5ueUN0fAfFnx8GRnNyGDxY6RM6b5iaaBqjy0vLXvvVapijSiRLajf4KnGnSk4KHWu54RgiUKUhV0q1RmFLSu+8xEhTceXzylFDbmWF3y2udcsbxarka1mjndZ2ndepB12zQx1eVyIZxDL5hKmba3Ov8RJnXtVob7VX+5mfs4NtznZ+TxjR2HsQq60hbLS8wb2YTHCIzMOTJaL7XsWUeH6Z4XIoiEK/zxf0yyV16XSOlktrYidk6ysTlbJauZl8oKcTlZJ6VIZnRTK6GS5jCEmIQkt5tLWqsyF4vlqccmor5O8UE5WCeWHpSUsm6yzfwqG8PLAtMB1vCihdlcAup5j98ESx/8yzFVlhIDdx7HigBehD+1Q1SoNkTO49EOn2A8rJ7a4skXxKZHTfbatbAepZNsFo99LMLOvv6RlkLrH/uM/kJqK4hhW5EiNq8uyLJtSi+ZRauk8Sq3n0fU8umIe/fL95tEPr5s8qSWTJ7WePP+tJ88v32HyDH+njWHz01eAl7FTbFogSJ6zsU2pD2hCLzJybMVu74SEZZa2OaY3WslQeMrLlrG05W7BC5u3CM44EYUxtM0JGKCzEabLtkSE6+TU6UWh8SE0wCQTGToRhNot2I2fzjVdkivLEBQTjY66QfnjR5T6Jd2R5zb++ZlL9xDyQ3a4/ZKZolLW7VSugpNz0rbM1VpYssnOHQ+8lM37u1lWEmdvhGRu/4cd9FXmFCymLWsSD/HtvtF8k8n0nLWiIGlH3+OzqRbOXTCz9ps599E4/yVaLO3sLFZ8lXNpBhMSi708zMdGPVsfD8ZuFj48KWqWJ3xL58vXb/76zwTf7sLWWNvRc0d+pTMSMd0LIf3zM8sQArzA55N0FPQ97h9Rpi9zZ1F2uCwQ6/T4++NFBPa8NAvha6GITN8vItNXiciL+mpeRtIZVgrJYg3fJySZjP8+QpKcyZa3j25jhWbO7ZicudHyfpmXLxsa9rqAsN1iN+f80E3kFUidTDQP1EIGUEuvwmWrvtSZqJt+aSsbdGZaIdaUdy/vl4kKfjv+EHMmW+Q3TOo4Rx2eADrzaZZSR6+WdgtBZ/7MV8DC6ant2CPgeNPNkjlUOmDHAUjGTauDDn0ZIRUEVkIvbRUjQKcX74eHF4dGheT44iXFeY5iuSg+/sQxO5EdwrNHcCgyvguBL2PY2UmOTd15su0hwkAtq1ouIzohbSc8rNmFGlKYkx1NZsVGDZptrF81ZaBt+oqzmSsXae//+JZ2Vz+PJslOxjSmWVu+DlUEvgRXcoRuuPkBMQ2qKaWEaVH+V7dSGjzDp/AsZ8ScIlJLhT04w/T4HOImLGtW6398W5iAnsNDJ8scGKLxHtY3qfASfBf2KIVu8ip0C9EUg0FTUcEgHWQSe7fC9HZuu0Y8x6E4gCHsGCFMaNoLXfgD9Jrx44cpiQShA7vOUU9C3B+l7HppqOg050p4IjiCI8sUrEHqXOfCXEiGo+OaUoNZKWQNOmqOCt3Dm2SZR4P8YiNuIYmLPmS7xFayheb5x8cuhfXJ7QRfPe4WcSLdI5JjpQtZNkiL4/JOGK+eUv0v315xS0WIKJL8J5S3f3wzkfyF4lecLx5PUrV9iZK8Cj23lBYQh6yx1WiaSBYz4YciUhCsjE6JRzxLjQhYoaDHUj5bWS9Metnvsx4WRTmlPz7/8Jiu31mkMqOmY3sQPRo2dyRSB51SIe6CcTmWKAcN+4XFOJn549USVySpO9j7Jf/NEryo4K8U4QLhzPLkFdL5IavJQ1Ftvlsk5tlf7F0p0FeI0AK0Oh/9lwMlUrAKBo79iY+qhNp7OWRGdGdCuWOHUomEOCOVOVFO9/455vcOEQUYUpNxBPMtBPqYqsc22h2GkkLcz1vL1iihAahiT4C7fA3wm1YZ8wLK2kBx3abpemWosUBV1zJsxMr4qoiZ5vQWM1UMFp3MuDJcNV5HRdHN5zFROcHPeTRSpL+m2ujqlFLq5OlcWTGOzV//0/rHt3kfef76ay6QCF3SsUDaskLD2z1SvTLKHFtzsVJ04Ucp9zUJCVrkUgwQxaot/6xMsuymcgCuB0ZpH0sxKyJ2Rlle4lrpHivl+BTJzTv5FGWe8Sm8u6WU+7icTTHAMjYln5eyKQbIs2mWvLjCQvoqS2pddCKMG08Q8xliFX8jpIu805ABF36pwvEGXaYSXrEBfC+jsC/wAgKUYVU7wIuS5iaYnGwtB/yQ9ZgvD5+Oj8XIY8p075R9aokfIt/kcOzZQ4dNoIEIwOEykY3tIqbk+9V7MhcYhhRPGUAM33HIjTHOx58kpRwG9P36j28ZO9PzzjDagPfrwr57dEw5HHLRIQTCNkahg3PSnopsDU5G8TSeoX9W9mtIt0MU6YEzi3wmUbOzztP7dpA6tTgQvHIYmGcuHAhSnxMaSsLit2gUKFEFX8IBoEQXfIq7flEu2BFkz3NMFU7gm6WwVbfTzbmV34yHbgD7fmbBGOMyuUGff81CFs3rOWSrl/wJVDLW39no+q+dPJL485xVxd9LeLjaD/daG/bWopVjdtHU0u63qKK9inUJ4ogjx3AYQ/VMUku7eRpy0/z3owENVYs0oBO+ckBvM+YtLk5yiF5ty1vEFOtns2uovqOdO8G5TAGdAWSNd6mD4yet8GY6OK3kxkFkHkLhXaFHArUXnKUq6FIy0+pUByYk5iyzNznlmLLgouksYdc/viWY4oXMzgx1aJmBjPq10G+VWAhSK4Il8SozBTgx4qXyZB1RMUg5XEHkllczqgvg05bY4gUU4nZ6uziqRagFxzzMoXqBmZGjaZY/kb4vc9ZFKbnjxF4iN7cKyFIfmTE2QxPGFhZ+Qrb5zR2yzCHtjCrTYJg79uK31BDLykls3V0QljkTYmlB27u0bvrkwIKImXejJrNmlXzsS0bOjfEgqXyCe5Ukz1e/L8lxjHSWAQUdvcjPFDXZvV2G93F+F0kCFVZ5OyksfMtcMeLZo6JcMHmeCb5k8oR8/Tjf4zvLFX6Y5wtfMzmTezEXs0Zf5nmj91Tm54IbZ1Y5JVJyEBqGd7AMS9LD0Sp3xIIxLLrSM7TPzQpAjpcUfviasX4twZ8aOrMcTA+dTuwregnZzL+QxhabeFLoopQ5vufc3nk0MUFsSH0JA5vcefRNSr9bvobIbnpcgW12BtVAj9w+KfTRgTAwObfiQ16r8IoSx4126G/m9dt0eNQyhr3gaoT8CwtKHbOUnj1z02B0z2PZ1Rx7MKhkRt5vYdcqqha6hi2s9jamgq7im+g+yRI6GkaxvNJzvoy0Yh2W07A8+8oEwea3guwQ58DW+jDFAooDtY4UwuSIGnTXVGnfnMC2wSKUpcwpHDPf4WJDD+2xG55vgho7v9ZODmNBcXGwodIBcmgJHDHgZhubv9xmLpVIchbs2JwpplEjxhePhgYi2wKp0/Fy+twywGUH3c52bz34uSPgZsESs5q9ptCwMZaTF/msMvP1C4pnGOQXbuBcYmtfKMPLjWMvFxEGqL9cBGqOrOG8+FS9TNnLGbziiI+t3VcIQp7VqWUKHCQhBJ//hsZOoCcG9RnmSDSjZHyGoDjzQbJeyOWO04uyh0cczbsDHA3SdHzBSOxf/8qwLA2M54AjJSxFcVZVzHErdpGWMmd55mBiPTmnQ77OxZStVlL1nOwUqHGFZBZS8Kqi8WVFL6tshiPPS1rqdtZSB4mavqKpbmdNNYNOt9VBgV6foy3st6vbKvEr/cbGuv0tjbU4vLyhrW7f0FZzJ1ppacj6q6YvO1JV8rPXK6eYV00wLxISrthfmkPPktDod86kSf7F6XQxih8BvH9yfJjPilGhu/nTIh/8xdMtV1NRfBLBzBSSnXlKVfQB6B+R2SwnjS+c9ZqvzMLxDEU/r5ussOxtQMVbILI7QF7iyZKNIwvZ8meeF59o8CpZDboADIpkNRkflYEHy11c4upg4Cm3yC0T5d0qRylzqlDu+OjsGjAUKDh548j8nt2F1cQWOld+/j3CnbvTY+USJM2TRUAUh5sjN16zwFkDwTUh3YMXFiRZSxFc3aYzZhDt5jduLlL0BWNfqt3OZ4zNy1+m1E9LyEWnbywcv5ElN/OKZ3dcFW1NWlqPT9jOixXBX6rIl2UVMa03VWTn5YoUuFHSKBYi5uOFaqaYxYXp91iaFi9Oi7bfv8/au7jC/ZY3HoUjgBbmvU2bGpDVCNY621l+yQ2um7mmyEBnTEeRfStV2E3ewvw9SytaWM8Fo+CgzpHiuqYPPka3YDxnzPBFbt18sy0cxRkFUJ9YoBZfbfJ9DuJ8S1x/Eb6cF37WHVKnNBZE7EUmnhgoSSmAm1mx0qBR4m72bJvF88defwLZwhlkCyaj3JljBSYlRIKXD3FZfqrY4qEy4cn90QH5sSaCNupDSUJ+3I+pG22gdMUqQG5b4Ww/xTtC35buXKA0ZVRaBjXftLASbBgKdtTmJbIscGC4FDalPpsWOvpgJ7uMXzB3FsfHFwMjTd0YhDspS9HpuMthV++RKODY0uDvPCSq1cxMUKLLXOlVpslX7aMoqPPYQwWGjTSa5OLMP6zaEjPb25LpBCvlIw2yTDjSMEuiJj/kfGEXaOpYOOMZfdkbLBgGXinxy2qdoE1ranFSvu50OuByAawwYh9DkzbqAnDdO/OyUNsYU+bgbJVUNtmm/QyGvy7FvzLidAE6sfTscKtoni+pKWoVXCZmVwNW+lSSxaIz8k4VAWbXbvkJ4TkvD9EM8O8jElF9/zCpiA1Pf7hIJBN/ViqWRVLM2nLxiPN4g+S3+Cj1nGL1cTEp0vUKjh//WJSIoJ93PzxvIVXuEwFVZXPkffmEommxMGDj80YXTuoO5EL/IYoD3Mh+NuyBjm5DeLBsHSCThGE6rvdgWw+IcxA45MeXT6GbDUMawucNrQu0PqR1oxDJg2d3OgOUlQgzZcsLj0R4UFQVLr03vvxr4O32lEk5rBUWHpDNs8h8SG5vYf/9X/+LLJPY//u/6PfX//6v/xNecPrf//W/4d977Ak49kfqAYLCesMCYHExqenigi6wHsAEpuhAz1Ud7WiFra4/aKgVYUus/A4/olgxU/+8kayOFFEAOsXTgDRYVgSSKtCGSpK8xFOcoWtgxp8kw8NMUnJF5W4F2Phylky+0dGD5XJ5VktIxZdPHhiO0HycIPAcAFwNTuAPzth6cG07rEwkDlhSfLnoVPtvGxkte+Mj9vr6bWMbKA4I5alFBqbZkRdQJUVmMbhQwxS9N3a9rTJ2gLQiIkpH4QvROeWhSQ2hSp1OjjDK65/1z/rnN/58/jzrWuGFAahnxRcRoA+5w/nDfne6V/ld/sm/UzmnEQ9SJxvAan7bUEj4h4Jr3I35RlKY8vXbBoqhD8dBEuULZ5XwFUJhJMwD5xz0IYyhhx/gpLQBh2uEjROe7+HbNIMQpeQ24STJ2QOCQrKSRpofJYTKgpoaTNwJZ8CNoTJBxYbPsWEfvkeL+I3Zsc0zkNnpzbOU5JpjRMZXiY8i1Znw/lWKYaNXlgpfeQF+4dG/8FWEjwK6STZ6lUQITKIr76Jrakn0zkjwFxXdSkuhBAHdq8hFCTRMoEkGJkjR/a8s/EijEmgmgiBpFDUf/ooK4VF2CV3DR5JhAoVi6wUyTEUJAodIRiWJYQ4GPdLM7B0hk9gZOCqRR5XmwxtmGYiNRRgp6v7+OeoTyxwskXwkTRRfmLeR5JnNnRvILrcS7GsWJDxcI+yoUELmoje/AgumCWKSEgmbRNMvFnP/MiX/aWFQ683CRR+f75+35jolkagcX2aaSObPCiWv4+0W58moNEi7CnX2zxuxaeYjhvyaG6HOBfWFBx0YwHGgQqaTmsLSogZYg2OBqIk8rfA0SVEMSasqp8TaFfyN8H2JboCBytcQrcUeMjrhR8v2NssZBfZjV3E3v0TKZLlItQ3zfAy14PAm91/QIZdhGR+xvyvhzy72HJca7SJLAZCSSHE8AoAtizDM9M8oB0yINu5jX7AsyHejdcbf0OK1i0Vms53I0B060GmtG56ZyWrojpRn7CVafxhpEfqYtMikFFKVHDGAoHZCWiCdcUTiTugdiGMmuUE3PL1hFo8QZYnxhl4NFO2e8GCedef1eZNykyDTMOcMZZK6Eyf/jtyMKYWVCjm448BlxtiNK4gOg/hlRcVCSn8bES+KeJrEpH2R8bCodWPIhJ2rgZ//R3jwhIGspN+w+BnZWD9ipRYcxdAVRdj5dKii6z9OIsuljiVmgKo9mpZ2o2zhGIKGIjghDOK0AESByCxJ7mKuo33Exs5gE2kYH9F3IrANg95VQ51qWyeleqsjVyKFrHEqy3b4VDkL4O+DfagIrVThKkNZ7vTtI72xV6kGt7J8cVs9lFuNSlXe70waB82u51ZaJugw+7Ubutngb/3z0dhst7gL6vCmcXbV8q9bT157ur9fxa87/QuzUiO7Zu10fLin13vkgUoYfkMfPR7x3cdr0zwdt6x698C49ORLvnLssPJ+w+rv8drleGzhZ9yj5vYD39gfEI+Tzp4tdtTDoC5SBzJhyWdc03EOqTO880Se6aR8aFCdY6Ea1Ht0h7Sn4zNBGO5RfHBwI510OiNw0Z+yoKE+cZrqnNQ9Re6cNo6DmuJO3dNxo3FzvbcfyO3TUeNWvyQIvCNcCDeMRxpH7UfZ5yDOpnwsyK1AHnaezs7x8d052LuZ0AavPR2zZwdTblyRj54qvdH+iDEPTqt75N24zZ4LllFp7h3st4ayiYv+Ht21qK6Aq1fBTS84cPxa/bJq9Yy9vY6Hn2h3g4HASdXDoCJ2JbbVqp8z9Tu5M2xwvcqp5F3UwYG0V6k06kytw54Rt9pUleuwTa+OCPm0rsigVR3IB097J507r8NX2p2Tk0at0jdPObBfualW9jWTHHUde2RB2Rjd7dWoJ6p/blQNrzs9sg50Zd89MMjjYX3vmK/o8uPV1Ujx3PO7oa4rpkQbTxJ7afYe+dHQ4U/s2+q56dSH/mGdOb8+Z/b3aK1yalzgBwN7VGf33YBTOo+8aN6B8+PB6NqqHDSA3nLA+PqxXh1S1/tO//x8wtH89bUbyJCirTiMZbMUinXpuwwMGuxh6hj2ZCs96KP5PsQ+//zxowpg+SCcQcPeCRUUbCMHBedKNOMXAv8noFh9Y/e9gwDs7Grf9OKDbIa27XXhWP8RU6B+DldPsI/ru7PJHZDov13kgHdRQhgRA5xkKDGfAJodJDDM1zKM7SqqRYhXV5y+C5SOA4CVy1kOFPdBi0KQZvkVw8voHFr4s7rMXJ5skWnWx+MtGu12FMtCm3rC6z1TyagQKCbhFp/QSPwxQotRLgbQqUBwWrTH3tuqMqMANowJ9L9lKQmLxP5mDtFtdbBt8rhVdJq49YBS4oq/irupbCl+Js38DFXYUMVMbG1xzMLMHFfuQi0TdgWUP6oa2nXjTi0N24xKiHzkqa3BFzYSPLTjJ6IApbnAC4lCLEV0KIFiepil+GZH8WwHxSWMVFtx9HLgQB3/AjmA57jQ3Bnhym7i20jxewMCoT0C5hAFKSb3ey7mi68YzWd9DldnZDg0aIoH9bPN8Oj34nJTTN2YE5e1w2/C5v07tq+YAygMno0h4L+FfRLqVdZYGQym4Z22QNGRTOBp3oVkPO8WG8RD9d9BkSce/JgYYuOVR0aNgA2tqyLLKbtFChLsyLt/sDF9wbYfMmGnD6Zwguh+3tgoWJZB3Sv00kKFK/zb1boPob/5AWmIG6/hVfzxETYCMpU8jBxgmJONLyNgPSlmSvhRm40U2EYPRrytv5xd+h3b3lmCfYQqvZlfGi7a9Evz3lnCbCuMvvxcWtHjNuGA7W6VsNkw8Xljc6AMVV3BHDiafwx/b23MRWAGCKeJAkg0J+RHPwgZSh7iO3yeLUCXr5HzmjGW1Yw3VkAvgEZH6yiDBweMnM9vEpFyJm+RwDygw0ytDlzH/31CC7vfxWWDTAIRuiyHthelD9IwUEYu8t5gRXxc4eH5MZKS5djr5SaX7/1S9EqZWi4lpv5eGTH1QgmJbBwbXyhkg2ElkRfon7ldTf09rQpz/YFtGk4m72zV0Oy3Yib7UV7gQoPcxkox+HuhrCzMRGiAigHDcep3cxF/twZY9JOHH7Bo1JwNwPGYvGhh/ZN0JVSz93SmMN/36k6v7Wo5Pm2vefkqtmXUysg6l9Msw71uG1+23tYSkMyluucfFtWCxTaM10S3/JYhLzU9os7/ClGcDY2/PaBmJTXLvTk/eHAN67T5lSyjW2ijf+Vy6oUs329Hl9R/jiu+jQVA6Udz4wW6jOwdw8RbfVOUwvGiCoAAAMOyPC2yAKiCpuqkAhiGYua+qb9KkBaVkSkqlikKyRTk0Z8gTosVdJbXSEnRdMBSEimJnE4ZEk0roqFLgvKzx2m9WL8fHKdVlduBLHdqoiw3ZGL9/md7j37W/Pgzv6/jtP5KcVpUKk6LejlOi1qI06LWcVrrOK2fPk6LV+GTJDGAZERWUCRVVXhB4gyFFCjVoLVCXXjtn1n7Z9b+mR/mn3ntam3tovkru2gkiVu7aNYumrWLZu2iWbto1i6atYvmz+OiebU5/U/tpaHK6Dz36F/opZkn/Bm8NBpPK0BhVJ0FOmtorCTomqqpoqIZiqEx/G/20vwBThmGTkkR2irIsFCQqFiQdphYkpg/j2NG4iSVFgyOBJrOaiSQNJ4UVUmVWF43GMH42R0zL9bvhzpmuo262mZ6V02ydieJj4Q1Nes+73VPavjjuWsSHLFXbfNj+toRqkTXxO3pCdW+rVeNnnh4xt0Sj/tH7fZU8LtNvHX3dIRrR7eXvsCdWQ7hDLt1QjsGij81uO6FwIvCCcGLA+DzgzO5Rlw7d6Jk+P3T031rKosVWj+7xS2jMW07hiJe8JftkYsfi3rQZo76h084OXw6IkDFbbdJutau4efME4sf1lr7PoOPnxxuYkpHBOG2B35QlQ7I6rFDjQlBbzfags8d1iT5jgyIy5Nrpd2rWLUnnjgXRKLVfvL8CUVX9+TTZvVQNlSv22bO9swaC+5ACz/wAyOo9IEtcMzTwSUBqhfn7Und4HpEjxj3cfakVQ0Or8ygSQwP+xWZGlRu249mX3fwybg+xM+7tusTreCqRpyrE5EYVAXCN6v7VzXB9PdPCV8Puu2n21vbkaoVv4X38BHeFvckQRWOnf1W7Jhp+fs17un2ScbrgvPYFuwK2RMV69YkAmncabusbPekMVtXiPqe4vlB67D9xCvguk+Ydue6jV89ek+8xDdpQr60e77dvdq7lK8eA5bo8GzldJ+tm6pEi70bmVClK1jl7kAldOHsSe6JBN+mjh8nNda2+lXi8vr8oC1c7U0F6vy21icOm+MDv0dprkrYt482cXP3OG4/TUeuirdOHo/w+r44aXu306Ej4qI1xqvGiPFprzpSxYl3vkc87d1V2+T5keKIzqBfxxmWNtoUSzSbLNmxb6UntaH5krl/18T1wLjGWbmntH3NJWp+bawohHytXbclalhz8CMOJjdq13L7cUh1m5OGPdqTri2abg/U3uETgXs3Y+KaOHps4xfnuCNc6F2cCBh14hPB4LwpeBedW8KR2kf+yeim5hDdutyUDVkN2r195qwpTg8vafzgmrPa7OG+16Nu8ekQt6aXlL92zPylHDNw8iNpRmApgaYpkpeQFyX20xR+eml7PSnwEieIkkSx8A8lSTk/TiHStVtn7db5md06BqkbgGRpiTQolqcokZFIQIm0orICrfPcD3brULu/r+K99uKsvTh/Ai/Ou5d3a0/OX9eTwwmkILJrT87ak7P25Kw9OWtPztqT8wd7cv69HDfvN7n/qZ036CZeuKKXMAzbxjC6LLACS7LoZYcqcyLHi6KAxX4dZAURRUmSBH52TwXkBMVzMAnZK+ALVFJ4kmOwrOeHoX8PT49CigbQFIWjeZ4VWVKiFZYEhkQJjEHRqvbze3qoMhs6DAUmkjquzIZSBxkv0X8aV0+4G8qQGIbkWZWkFEnVoNAYhkYbCqf89Gclv1i/H+rqYbo3lz7DegO35p6d+vLVCS/4uHM+cKTaUceS1X2+7tPutaaKR3WaJ7gLyfU5tes1RYUSaeLEY/Z9krfGjug3hjhB9E6avmg2KIHAL9lHwiGNC3/ar+lNwjjwzwmjYg79J5PsqkSlMpwSh51jI2g+XZy6NUke8sRptev7HGF1BHFUOQDEZY0e++LlWV8V5Ql3TniH+KEfcJfDpnjhwvIu/ZO6zwXHnabk3lUOZPkk6AZ7rcuOJouBck48HV4eBnKD7DcJSj3kiVH7jvafmlVVJabnclO+rrOjYI9rXrSqeIO9kHvDI8vnu6d6E2+32SNinz6pBAd9CTTFA7tZJUhZPAvafNBwa0Pi9oi4PurKwcntnSxWzuxHRib9q8An2ANXxTXeqhNWY3ruB/ytrRLHmg3Lb1zv+8RFVWuKHfKxTti167ZPc1WmKV5V2XPiuntN+QyldwRJvVXqkaundeBBeq+qNE6c1YNhsCc87bXki67AE8TJPuOLQZ9pEkeOMiQGY+PRD45IVZBcmn8kaLcK24N3gYB3T+UDeXpbGfv4xcWNWLnuNIZEv9fAg8Me4zv4dHwoyNUeb/qMZDypkn1848v8Y0AFJ+SV4YhjmhsSfu1R8qnHqtokQHMECOWJI33mXBab0lEFBwTu3Lj+05MD3y/qNybhTu58n3iUSUekCOaI4I6mE5+5O2GbYvfoFicsZqz4gXf7KOAuidqzcnDnCz2gOoT1VB8Tt3ePxz5zYjw28aMb+5zALx4rkL6KIoj0MTgiCEFp+tTAM1WiLXee5BZ59+RP9YYiSDJ3PSZubg8Fn5aHfRX2KOGE6Lmq5Us1odskBL3BExdN2Q3q/Z7WlKj2LSBG+8eO/1QZmao0rfYI2XSqNUjv2VDAn26tKhEAeuRPJjW1KUkTKK9Xyvhq7er5a7l6uDJDMVBR4SSeYkgGeUFiT0/RlxccPRIlSrxIsRQpiBKb9/LAGZfm4bhPUizLsBCMW3t51l6en9zLw1AUq3CaQmqKxvI0qUJBZHQOig4Fu4zCr708ay/P2svzY708b1nard08f2U3Dw3Vi7WbZ+3mWbt51m6etZtn7eZZu3n+MDfPm+ztf2o/D6wKz/HIFbKN7bBlXmJIjoHr+B26TAk8xdJC7OQJq0aLkoRFzwwtwIX93N9DlSleoiWK+iM8PAxHC0CBpEPyWVrlFMrQDI4XNBUm0Dz/lzhx7efb3CNonGRIoihRNMUqBi1SCqPyQOUZmqYASf3sHp8X67fe3LPe3LPe3LPe3LP2+Kw396zdPmu3z8/h9mEFoOkcxQNOIlleJCXO4HlOFTgU9yVIwvrMtrUfaO0HWu/2WbuB/gg3EMOwazfQ2g20dgOt3UBrN9DaDbQ+t229/We9/WfVchYAQ2BVVaUYQLGaoEu0IEiUwtAKz6qcoq+v4/ndHUOqxEqqqAgkI0qsapASRUk8ySqGxvEUazA/u2Poxfqtr+NZX8ez5sf6Op61Y2h9Hc/atbN27fxerh0gaprB6hSN9sADQxJ1XuJ0QwCUImkKo69dO2vXztq1s76OZ+3W+b3dOixPr906a7fO2q2zduus3Tprt87arbO+juff6joeURI4hgEKxzEkK6JVJMOxKsmw8D+B4fS/xHU8NB06B9nIOciWuVCS2DL7p3HMkAqpK5RG6izP6owowncBOcxgCxiSxP30jpmX6vdDHTPKRb932rjtnpKVwbl9jRMdq+OT5+0jR7oSjEfiwBv7/rivcD3xqeeK+HXlWmvjGm73cPzQ6xBH1pHRpq3bg1ZFPQ9u5K5xcuQD2d13K6653ydcnD7xezf7YlM4eHRM4hpvWf70djgVeJoZaYR9JIHTNmlSTbx7bO8RzkXjyp8ywlMTH+BTmRj05HZbtyejHsvXAU3cEDcXbal5bgg40b4lpf32bd1nPfPSEY/O2UfCBeIkODqu+02KoQ5bhOSL16d7fe/yguAaR7eE3VSO24F9PnGIdkthCbHeOfM5/LrRr55K8ki+uyIhfqB0BEmRrxrECXXnBYeV2pWKc42+S5jnx0J70pN7PenmpKIQ51cngU+ST7VWZcRbA9mukOrpwX4QOALBBYfywWGLbo9vNbJHGFNiKFV6R32/23D7PfryyrwmLgfTmu/vuaCJq5XxHs7c0c321DEbgnisTup46JU5kvDLGtE+VC7xZi24PG3qx26P6N9OaeJ2Mmq2n24Ghz3J6qhjgnvkGZ/t040L4hgX9/DReOi0n5SrA0foB80xMfUaYtsdqTWyctgL+oRo25PT1uEx15RuT6YH8sAiJ0H19uS4xnfFxpSoOQ3i9OD49OSCOBo2x/i+ErBtnuV6Ta7bvjvFh1pN9j3ZGjmESINH3B30um3BEytudVq/uCaMi71WezIdnDalaa+l4dbRFe4/ydeCI7YdKyCuYEX9x/PrjioavSqPPz6yh6cHgduvEXa7qxA86EJ5IGVHELXJsSzplzbVnnpt4oI7Uc4I+erAOmhPBaddI84Ghx3CrpLXvtW1aTha4wObIOirPZ88dp56Es60RAmY/l1bnExua7hhdiz5WmQO/WkdP6pJ3ui0LhEGpAfcaTWtettw6wR3czJpd9ThuMm2x4e3OBgO/TY3JlsCftOiq0TP5Iz1jp2/2o4diWQlhqZ5kqMYhuSE1I6dgk8v7dhhKJ6jJJKWWEZkJQ4pM7kdOwVI126dtVvnp3br8BoPFWiGJFmDJXVaURkoMRppqAbNaCq7Pqht7cVZe3F++Aad1y7v1p6cv7InB+2aXHty1p6ctSdn7clZe3LWnpz1OW1/5H6cV5vc/9z7cegyx5GMgE5fQ4eOsKJEU9FJbDRPMgw6si05pk0gKUlgo303osAJokCn9+WIAiWS7B9yTJuiq4DkGZ0TDIXlSEVVACOpHM0CQ2Uonf7rXMTD85G88WX6z3cRDyVprGBIIsMxLEsJvKLzKmBEjucoUpco9md38rxYvx/q5Dl0byyfa5u6I3WquEKcmvyVzymW2JSmZwxOHFybfZ+fVNut6ujSHhKM5R/45M2p3hT7fVYh9L7u+XxXllRRujEJGRyc131+5E6a4s0doRDU6aPnS217IIiyWh8Tw+rhxGc74qOKt89a50SNeLqA79edprTfVq4JffCo+FR3fNaST0nLJITu+NFnAgqoBCe6j8Q5f1D1n0SmLlZImaaJOrnv+HT7tNMUzyqNRyJo8k8+i5+YrWrDuHiSu6Ox7jPyqSpI1MC+JoYd3vAJYbyvVRizThMXg5uOT+4fdZo4vc9MifMnjvHx9jXbFIc3NzRxUGEufAqcdh3ceLrmidu76pk/UQ/7gti9FsbE5VQ591nH7AsSCB6HhG8d3gRH+54pSEG7XpMPAd3zKaJnCThzwA2J272R709oQ1Xx82FQk50pbvscaOiO2FIgf45p3fVxl1AFwnOF+CKeg7vLvkMcNmieIG5P9nyBvNME6dBj4DtVh+8031OlJ/52SJxVuq4vsJOOg0/JBiBOulPFJ3Wu6xB35xB/tX7I+6IOFAFXLuB75/rxzucCZ+DgzccDkzjp2E9Bs0ryKt5QTx6Ji/6Q96nLM+CIk0uLJw4Fj/PF/hDys+7ZdYI4vnJ9/pZXmyK4nB7I1xRF+Lg9GTiiPYHwx719yaenFKTn2LBx4unqyvG5qxvTwfeVmzExaPfu/GDkq03CPB+OCbJz8uhLF122SQjsYZVoHJ1N/KB/2G2KVxeNMXF+c0z51M1Jtyk1CQ0nDOJk4k96F7C9LkkLJ3walk9NOvuajBN3U0KrP9V9/JZxmyIluFXC8yuCz3csQYVVl2/kR3sA25vSR01xT4XyfXoguT7T4vbcKtuC/MPPu1C+5QDKx9n57TXRuR3XfPL60VLFY2Z0TVTU4/HayfPXcvKwUEsRWJKmBJoURR65ImIfT9GX11zEQ0MlhqdYVqDyDp4ijGv/ztq/81P7d+BcqAmMCkVeYhlaEmlF0QxaVCRGkXhyfRHP2r+z9u/8ThfxvGZpt3bw/JUdPAIvkmsHz9rBs3bwrB08awfP2sGzdvD84RfxvMre/me/iEekSCE+ZA2Sz7OMxKKVPvwiSAJNhw6fyMlDlWmGEjh0Blv6Ah6BFBkJm13Qw1IS9YecuKaytEoyHGkAxmA5CUgkfKUkRWFUQVSB+DP6eTI7wnboshTKnSREcieWmUjuYCv+Wdw8NM8YokIxvAh4llQERYASI3Kqruk6S1HSz+7mebF+P9TN0xlTenAsH3paVTtnBPmcZe1gryqdinKH2OvJZ/XWVbAHGqAl37Tkmsy3SBAcT/v7omwcnzsy6MsgaPtPV2Lt8HDoyyfSaSNoWvyFVj26uazJp+ZADmoXVLVVCfjehcztn7aDeoXdF2tsY8LIA7baDxoVv6NVzIMAlk9ojaByOumIssYTgLCmgRvsNa8rbk1kqoTcqcrDYO+ueyfW9q7HPMEetkU/qPhyq0LeDVT5tuUJQd06q7T2LlTWkHv08W1QYYAsVin5rClL/dPjoDEyLjX59PGJkTutaSuoaWzXrVKjx7ZM2/JZcDghmpp8pgc1+cZ8pCH8jaxVHHlyIcvH3bugMbxSW9W9ZoWQA53eC6pu80Kr2XteT67r5iHkJ3/gVlvXrCCztUANmorUaFWq07O2TFUdyQ86E0HAze7+gfzYbKjBPlM7EmXVJ4YE4E+vgoOmhDt43zSt6IS1o/Gg0qq1BzhPnD5ydtCkuQutoolngmyYe3LQuvCPW1UwnVgyc9APgqbYxB2xfdW1ZHPMngfHmiW7tZu93pOsHByQvuhd9bRq79DHCf7mZD84fDw7cmu1J5WR7cp5NaiYR9di7fpY7cnTOqzP0d4F0RR7nc6TfARrHBw2LwUVP9fg+3HDCXz87KQlVkyFdeSrWoMODk9OTsUqrhJjQqq2af/pRD1y5UsjgO2vuBeBfHdxrNWmakeV6z2bD1q9g71W7aA3pon+7agSHHbsZqvK3AZt+aR2Wwtq3OW+WzmlTg3Z8i8Ef3Lm444k168suS1dgqDW6RxrlUuJ9GX8yuJ8+nZ62ar5emDJT5NbM6ie+I1W7ei458j6sTgNmsHZiVYBffJJ9kaHj8HxHlNzq+LVaU/WxpbjB/74yq1Yl7cHcqV/w8P3Sk2rPQKfJmw1uA5OnEFVqw5tWZXVRqMeyGs3z1/JzQNnQZKiaI6jeZYW6ZSbp+jLCwewiSxD8hQvchxPUwxycWTcPEUY126etZvnZ3bzUDQLeF5jOA2Kq2RQoigKgkCJOuwGAkmCtZtn7eZZu3l+6GFsb1nZrb08f2Uvjyjxay/P2suz9vKsvTxrL8/ay7P28vxh56+9ydr+53byMGWWF0J7xja2w5V5TmBZAd0qjM5BERiGZ0UmcfLQZYpjIUR6+w5MIxmO45AlI3yhBIqk+fwBbu928sSr4s3NLezzF+ybZlsuFLVQOBu6CxfUXzfmu3kUABhFZw1DolmSVFWdIwGpAQ0IJKMqYmjVSoB1UlNYWtQAa3AsEDWRpxUeKVoMSasqp2SAKYXjRRUAARbAsjwtsgCogqbqpAIYhmIywLwKnySJASQjsoIiqarCCxJnKKRAqQatZYA1WCxQGFVnASRcYyVB11RNFRXNUAyN4TPABqkbgGRpiTQolqcokZFIQIm0orICrfNcBlghRQNoisLRPGxElkQHrJPAkCiBMShazZLBUBSrcJoCmaLB+pEqJYmMztEklAyBUrJkMBwtQJpJTmIgMZBXlKEZHA/5ARNgaRngF+/uTQO/eDNSBvilo+PTwC+e5pfB/NLpJRk+v7SHLIP5pbjZNPCLXsuMiL5kqrnfjToPmsVgvwngiGAHKeMC7FEPKbcYhNrEdFsbo5EWfdwbAPRYmTb0zVkH/Ereb23tYhFmw1E6CARin2XUHKB4oBa/7scQm7M8qJzqwIbz2udZ/rIyGgFLr6KRajOcdDUEcQwnkE1kmUUlIn/Y5gB4mAkzkrvwz6f5sFAeAKvjdWEqjm9h3zAEF31Ml7K0TuY9LADlce2xo4Ga6adrlMsWGsw2MBzL5Y9ey3BROoBz9bXpdTdn6MrhQaYxlrCaMMP8qwOGtg8Qj54jnSONZMYw9HkLAc1Nh/HfhaYF1uMYjEEtlpWL2MDobs7Njv8fCkLM6w==\", \"compress_html_b467f454cf98425e9462d2787c53e5d3\");</script></div>"
      ],
      "text/plain": [
       "<IPython.core.display.HTML object>"
      ]
     },
     "metadata": {},
     "output_type": "display_data"
    },
    {
     "data": {
      "text/html": [
       "<div id=\"output_dest_0763e2b982d94c538df2e35444c45e5d\"><script> (()=>{ const output = document.getElementById(\"output_0763e2b982d94c538df2e35444c45e5d\"); const dest = document.getElementById(\"output_dest_0763e2b982d94c538df2e35444c45e5d\"); dest.parentNode.replaceChild(output, dest); })(); </script></div>"
      ],
      "text/plain": [
       "StaticTrace(...)"
      ]
     },
     "execution_count": 6,
     "metadata": {},
     "output_type": "execute_result"
    }
   ],
   "source": [
    "sub_keys = jrand.split(jrand.PRNGKey(0), 1000)\n",
    "tr = jit(vmap(model.simulate, in_axes=(0, None)))(sub_keys, ())\n",
    "tr"
   ]
  },
  {
   "cell_type": "markdown",
   "metadata": {},
   "source": [
    "Let's plot our samples to get a sense of the distribution we wrote down."
   ]
  },
  {
   "cell_type": "code",
   "execution_count": 7,
   "metadata": {},
   "outputs": [
    {
     "data": {
      "text/html": [
       "<div id=\"output_5f18834ff18c4659a82ad5ed3ad6f67c\"><script> /* penzai.treescope rendering of a Python object (compressed) */ (()=>{ let observer; let lastStep = new Promise((resolve, reject) => { observer = new IntersectionObserver((entries) => { for (const entry of entries) { if (entry.isIntersecting) { resolve(); observer.disconnect(); return; } } }, {rootMargin: \"1000px\"}); }); window.treescope_decompress_enqueue = (encoded, destId) => { const previous = lastStep; const destElt = document.getElementById(destId); lastStep = (async () => { await previous; let blob = new Blob([ Uint8Array.from(atob(encoded), (m) => m.codePointAt(0)) ]); let reader = blob.stream().pipeThrough( new DecompressionStream(\"deflate\") ).pipeThrough( new TextDecoderStream(\"utf-8\") ).getReader(); let parts = []; while (true) { let step = await reader.read(); if (step.done) { break; } parts.push(step.value); } let newElt = document.createElement(\"div\"); newElt.innerHTML = parts.join(\"\"); destElt.parentNode.replaceChild(newElt, destElt); for (let oldScript of newElt.querySelectorAll(\"script\")) { let newScript = document.createElement(\"script\"); newScript.type = oldScript.type; newScript.textContent = oldScript.textContent; oldScript.parentNode.replaceChild(newScript, oldScript); } })(); requestAnimationFrame(() => { observer.observe(destElt); }); } })(); </script><div id=\"compress_html_fc52b29056374fe8b2a042953b6e7611\"><script>window.treescope_decompress_enqueue(\"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\", \"compress_html_fc52b29056374fe8b2a042953b6e7611\");</script><span style=\"color: #aaaaaa; font-family: monospace\">(Loading...)</span></div></div>"
      ],
      "text/plain": [
       "<IPython.core.display.HTML object>"
      ]
     },
     "metadata": {},
     "output_type": "display_data"
    },
    {
     "data": {
      "application/vnd.jupyter.widget-view+json": {
       "model_id": "a87242897f1d43c198fea1e9ddd648b9",
       "version_major": 2,
       "version_minor": 1
      },
      "text/html": [
       "<div id=\"output_dest_5f18834ff18c4659a82ad5ed3ad6f67c\"><script> (()=>{ const output = document.getElementById(\"output_5f18834ff18c4659a82ad5ed3ad6f67c\"); const dest = document.getElementById(\"output_dest_5f18834ff18c4659a82ad5ed3ad6f67c\"); dest.parentNode.replaceChild(output, dest); })(); </script></div>"
      ],
      "text/plain": [
       "Widget(data={'pyobsplot-type': 'function', 'module': 'View', 'name': 'PlotSpec', 'args': ({'width': 500, 'heig…"
      ]
     },
     "execution_count": 7,
     "metadata": {},
     "output_type": "execute_result"
    }
   ],
   "source": [
    "chm = tr.get_sample()\n",
    "Plot.dot({\"x\": chm[\"x\"], \"y\": chm[\"y\"]})"
   ]
  },
  {
   "cell_type": "markdown",
   "metadata": {},
   "source": [
    "Traces also keep track of other data, like _the score_ of the execution (which is a value which estimates the joint probability of the random choices under the distribution):"
   ]
  },
  {
   "cell_type": "code",
   "execution_count": 8,
   "metadata": {},
   "outputs": [
    {
     "data": {
      "text/html": [
       "<div id=\"output_f1bb98e58d044e0cbe45ae912c17ab3c\"><script> /* penzai.treescope rendering of a Python object (compressed) */ (()=>{ let observer; let lastStep = new Promise((resolve, reject) => { observer = new IntersectionObserver((entries) => { for (const entry of entries) { if (entry.isIntersecting) { resolve(); observer.disconnect(); return; } } }, {rootMargin: \"1000px\"}); }); window.treescope_decompress_enqueue = (encoded, destId) => { const previous = lastStep; const destElt = document.getElementById(destId); lastStep = (async () => { await previous; let blob = new Blob([ Uint8Array.from(atob(encoded), (m) => m.codePointAt(0)) ]); let reader = blob.stream().pipeThrough( new DecompressionStream(\"deflate\") ).pipeThrough( new TextDecoderStream(\"utf-8\") ).getReader(); let parts = []; while (true) { let step = await reader.read(); if (step.done) { break; } parts.push(step.value); } let newElt = document.createElement(\"div\"); newElt.innerHTML = parts.join(\"\"); destElt.parentNode.replaceChild(newElt, destElt); for (let oldScript of newElt.querySelectorAll(\"script\")) { let newScript = document.createElement(\"script\"); newScript.type = oldScript.type; newScript.textContent = oldScript.textContent; oldScript.parentNode.replaceChild(newScript, oldScript); } })(); requestAnimationFrame(() => { observer.observe(destElt); }); } })(); </script><div id=\"compress_html_e314001eb14b438ea6da190212cdfcac\"><script>window.treescope_decompress_enqueue(\"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\", \"compress_html_e314001eb14b438ea6da190212cdfcac\");</script><span style=\"color: #aaaaaa; font-family: monospace\">(Loading...)</span></div></div>"
      ],
      "text/plain": [
       "<IPython.core.display.HTML object>"
      ]
     },
     "metadata": {},
     "output_type": "display_data"
    },
    {
     "data": {
      "text/html": [
       "<div id=\"compress_html_8ff0ba6b46c7454cbd7ead45df221716\"><script>window.treescope_decompress_enqueue(\"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\", \"compress_html_8ff0ba6b46c7454cbd7ead45df221716\");</script></div>"
      ],
      "text/plain": [
       "<IPython.core.display.HTML object>"
      ]
     },
     "metadata": {},
     "output_type": "display_data"
    },
    {
     "data": {
      "text/html": [
       "<div id=\"output_dest_f1bb98e58d044e0cbe45ae912c17ab3c\"><script> (()=>{ const output = document.getElementById(\"output_f1bb98e58d044e0cbe45ae912c17ab3c\"); const dest = document.getElementById(\"output_dest_f1bb98e58d044e0cbe45ae912c17ab3c\"); dest.parentNode.replaceChild(output, dest); })(); </script></div>"
      ],
      "text/plain": [
       "<jax.Array float64(1000,) ≈-2.9 ±0.97 [≥-8.3, ≤-1.8] nonzero:1_000\n",
       "  <Arrayviz rendering>\n",
       ">"
      ]
     },
     "execution_count": 8,
     "metadata": {},
     "output_type": "execute_result"
    }
   ],
   "source": [
    "tr.get_score()"
   ]
  },
  {
   "cell_type": "markdown",
   "metadata": {},
   "source": [
    "## Composition of generative functions\n",
    "\n",
    "Generative functions are probabilistic building blocks. You can combine them into larger probability distributions:"
   ]
  },
  {
   "cell_type": "code",
   "execution_count": 9,
   "metadata": {},
   "outputs": [],
   "source": [
    "# A regression distribution.\n",
    "@gen\n",
    "def regression(x, coefficients, sigma):\n",
    "    basis_value = jnp.array([1.0, x, x**2])\n",
    "    polynomial_value = jnp.sum(basis_value * coefficients)\n",
    "    y = genjax.normal(polynomial_value, sigma) @ \"v\"\n",
    "    return y\n",
    "\n",
    "\n",
    "# Regression, with an outlier random variable.\n",
    "@gen\n",
    "def regression_with_outlier(x, coefficients):\n",
    "    is_outlier = genjax.flip(0.1) @ \"is_outlier\"\n",
    "    sigma = jnp.where(is_outlier, 30.0, 0.3)\n",
    "    is_outlier = jnp.array(is_outlier, dtype=int)\n",
    "    return regression(x, coefficients, sigma) @ \"y\"\n",
    "\n",
    "\n",
    "# The full model, sample coefficients for a curve, and then use\n",
    "# them in independent draws from the regression submodel.\n",
    "@gen\n",
    "def full_model(xs):\n",
    "    coefficients = (\n",
    "        genjax.mv_normal(\n",
    "            jnp.zeros(3, dtype=float),\n",
    "            2.0 * jnp.identity(3),\n",
    "        )\n",
    "        @ \"alpha\"\n",
    "    )\n",
    "    ys = regression_with_outlier.vmap(in_axes=(0, None))(xs, coefficients) @ \"ys\"\n",
    "    return ys"
   ]
  },
  {
   "cell_type": "markdown",
   "metadata": {},
   "source": [
    "Now, let's examine a sample from this model:"
   ]
  },
  {
   "cell_type": "code",
   "execution_count": 10,
   "metadata": {},
   "outputs": [
    {
     "data": {
      "text/html": [
       "<div id=\"output_c79e47dd6c76490cbfc593bf5e01f0d2\"><script> /* penzai.treescope rendering of a Python object (compressed) */ (()=>{ let observer; let lastStep = new Promise((resolve, reject) => { observer = new IntersectionObserver((entries) => { for (const entry of entries) { if (entry.isIntersecting) { resolve(); observer.disconnect(); return; } } }, {rootMargin: \"1000px\"}); }); window.treescope_decompress_enqueue = (encoded, destId) => { const previous = lastStep; const destElt = document.getElementById(destId); lastStep = (async () => { await previous; let blob = new Blob([ Uint8Array.from(atob(encoded), (m) => m.codePointAt(0)) ]); let reader = blob.stream().pipeThrough( new DecompressionStream(\"deflate\") ).pipeThrough( new TextDecoderStream(\"utf-8\") ).getReader(); let parts = []; while (true) { let step = await reader.read(); if (step.done) { break; } parts.push(step.value); } let newElt = document.createElement(\"div\"); newElt.innerHTML = parts.join(\"\"); destElt.parentNode.replaceChild(newElt, destElt); for (let oldScript of newElt.querySelectorAll(\"script\")) { let newScript = document.createElement(\"script\"); newScript.type = oldScript.type; newScript.textContent = oldScript.textContent; oldScript.parentNode.replaceChild(newScript, oldScript); } })(); requestAnimationFrame(() => { observer.observe(destElt); }); } })(); </script><div id=\"compress_html_33922f231885453698e9ac31dece0f1a\"><script>window.treescope_decompress_enqueue(\"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\", \"compress_html_33922f231885453698e9ac31dece0f1a\");</script><span style=\"color: #aaaaaa; font-family: monospace\">(Loading...)</span></div></div>"
      ],
      "text/plain": [
       "<IPython.core.display.HTML object>"
      ]
     },
     "metadata": {},
     "output_type": "display_data"
    },
    {
     "data": {
      "text/html": [
       "<div id=\"compress_html_bd0e3cd9a4bf4cd7a1a124431e066ed8\"><script>window.treescope_decompress_enqueue(\"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\", \"compress_html_bd0e3cd9a4bf4cd7a1a124431e066ed8\");</script></div>"
      ],
      "text/plain": [
       "<IPython.core.display.HTML object>"
      ]
     },
     "metadata": {},
     "output_type": "display_data"
    },
    {
     "data": {
      "text/html": [
       "<div id=\"output_dest_c79e47dd6c76490cbfc593bf5e01f0d2\"><script> (()=>{ const output = document.getElementById(\"output_c79e47dd6c76490cbfc593bf5e01f0d2\"); const dest = document.getElementById(\"output_dest_c79e47dd6c76490cbfc593bf5e01f0d2\"); dest.parentNode.replaceChild(output, dest); })(); </script></div>"
      ],
      "text/plain": [
       "<jax.Array float64(20,) ≈-7.3e+01 ±7e+01 [≥-2.1e+02, ≤5.7e+01] nonzero:20\n",
       "  <Arrayviz rendering>\n",
       ">"
      ]
     },
     "execution_count": 10,
     "metadata": {},
     "output_type": "execute_result"
    }
   ],
   "source": [
    "data = jnp.arange(0, 10, 0.5)\n",
    "full_model.simulate(key, (data,)).get_sample()[\"ys\", ..., \"y\", \"v\"]"
   ]
  },
  {
   "cell_type": "markdown",
   "metadata": {},
   "source": [
    "We can plot a few such samples."
   ]
  },
  {
   "cell_type": "code",
   "execution_count": 11,
   "metadata": {},
   "outputs": [
    {
     "data": {
      "text/html": [
       "<div id=\"output_28aefd530a824352be5e8edc1e3ceb98\"><script> /* penzai.treescope rendering of a Python object (compressed) */ (()=>{ let observer; let lastStep = new Promise((resolve, reject) => { observer = new IntersectionObserver((entries) => { for (const entry of entries) { if (entry.isIntersecting) { resolve(); observer.disconnect(); return; } } }, {rootMargin: \"1000px\"}); }); window.treescope_decompress_enqueue = (encoded, destId) => { const previous = lastStep; const destElt = document.getElementById(destId); lastStep = (async () => { await previous; let blob = new Blob([ Uint8Array.from(atob(encoded), (m) => m.codePointAt(0)) ]); let reader = blob.stream().pipeThrough( new DecompressionStream(\"deflate\") ).pipeThrough( new TextDecoderStream(\"utf-8\") ).getReader(); let parts = []; while (true) { let step = await reader.read(); if (step.done) { break; } parts.push(step.value); } let newElt = document.createElement(\"div\"); newElt.innerHTML = parts.join(\"\"); destElt.parentNode.replaceChild(newElt, destElt); for (let oldScript of newElt.querySelectorAll(\"script\")) { let newScript = document.createElement(\"script\"); newScript.type = oldScript.type; newScript.textContent = oldScript.textContent; oldScript.parentNode.replaceChild(newScript, oldScript); } })(); requestAnimationFrame(() => { observer.observe(destElt); }); } })(); </script><div id=\"compress_html_a992dfb351c54fda8509802bb0b318c8\"><script>window.treescope_decompress_enqueue(\"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\", \"compress_html_a992dfb351c54fda8509802bb0b318c8\");</script><span style=\"color: #aaaaaa; font-family: monospace\">(Loading...)</span></div></div>"
      ],
      "text/plain": [
       "<IPython.core.display.HTML object>"
      ]
     },
     "metadata": {},
     "output_type": "display_data"
    },
    {
     "data": {
      "application/vnd.jupyter.widget-view+json": {
       "model_id": "1f3ae4f280034d4aa56190eee2e0788b",
       "version_major": 2,
       "version_minor": 1
      },
      "text/html": [
       "<div id=\"output_dest_28aefd530a824352be5e8edc1e3ceb98\"><script> (()=>{ const output = document.getElementById(\"output_28aefd530a824352be5e8edc1e3ceb98\"); const dest = document.getElementById(\"output_dest_28aefd530a824352be5e8edc1e3ceb98\"); dest.parentNode.replaceChild(output, dest); })(); </script></div>"
      ],
      "text/plain": [
       "Widget(data=['div.grid.black', {'style': {'display': 'grid', 'grid-template-columns': 'repeat(auto-fit, minmax…"
      ]
     },
     "execution_count": 11,
     "metadata": {},
     "output_type": "execute_result"
    }
   ],
   "source": [
    "key, *sub_keys = jrand.split(key, 10)\n",
    "traces = vmap(lambda k: full_model.simulate(k, (data,)))(jnp.array(sub_keys))\n",
    "Plot.small_multiples([\n",
    "    Plot.dot({\"x\": data, \"y\": ys}) for ys in traces.get_sample()[\"ys\", ..., \"y\", \"v\"]\n",
    "])"
   ]
  },
  {
   "cell_type": "markdown",
   "metadata": {},
   "source": [
    "These are samples from the distribution _over curves_ which our generative function represents.\n",
    "\n",
    "## Inference in generative functions\n",
    "\n",
    "So we've written a regression model, a distribution over curves. Our model includes an outlier component. If we observe some data for `\"y\"`, can we predict which points might be outliers?"
   ]
  },
  {
   "cell_type": "code",
   "execution_count": 12,
   "metadata": {},
   "outputs": [
    {
     "data": {
      "text/html": [
       "<div id=\"output_3d943fbb08074811a70205d05100445b\"><script> /* penzai.treescope rendering of a Python object (compressed) */ (()=>{ let observer; let lastStep = new Promise((resolve, reject) => { observer = new IntersectionObserver((entries) => { for (const entry of entries) { if (entry.isIntersecting) { resolve(); observer.disconnect(); return; } } }, {rootMargin: \"1000px\"}); }); window.treescope_decompress_enqueue = (encoded, destId) => { const previous = lastStep; const destElt = document.getElementById(destId); lastStep = (async () => { await previous; let blob = new Blob([ Uint8Array.from(atob(encoded), (m) => m.codePointAt(0)) ]); let reader = blob.stream().pipeThrough( new DecompressionStream(\"deflate\") ).pipeThrough( new TextDecoderStream(\"utf-8\") ).getReader(); let parts = []; while (true) { let step = await reader.read(); if (step.done) { break; } parts.push(step.value); } let newElt = document.createElement(\"div\"); newElt.innerHTML = parts.join(\"\"); destElt.parentNode.replaceChild(newElt, destElt); for (let oldScript of newElt.querySelectorAll(\"script\")) { let newScript = document.createElement(\"script\"); newScript.type = oldScript.type; newScript.textContent = oldScript.textContent; oldScript.parentNode.replaceChild(newScript, oldScript); } })(); requestAnimationFrame(() => { observer.observe(destElt); }); } })(); </script><div id=\"compress_html_1b6ede08fa7e49b19d2c6554f5b93059\"><script>window.treescope_decompress_enqueue(\"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\", \"compress_html_1b6ede08fa7e49b19d2c6554f5b93059\");</script><span style=\"color: #aaaaaa; font-family: monospace\">(Loading...)</span></div></div>"
      ],
      "text/plain": [
       "<IPython.core.display.HTML object>"
      ]
     },
     "metadata": {},
     "output_type": "display_data"
    },
    {
     "data": {
      "text/html": [
       "<div id=\"compress_html_5707fc21aaab4966a9ac7f71bc52def4\"><script>window.treescope_decompress_enqueue(\"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\", \"compress_html_5707fc21aaab4966a9ac7f71bc52def4\");</script></div>"
      ],
      "text/plain": [
       "<IPython.core.display.HTML object>"
      ]
     },
     "metadata": {},
     "output_type": "display_data"
    },
    {
     "data": {
      "text/html": [
       "<div id=\"output_dest_3d943fbb08074811a70205d05100445b\"><script> (()=>{ const output = document.getElementById(\"output_3d943fbb08074811a70205d05100445b\"); const dest = document.getElementById(\"output_dest_3d943fbb08074811a70205d05100445b\"); dest.parentNode.replaceChild(output, dest); })(); </script></div>"
      ],
      "text/plain": [
       "<Array([ 2.19,  3.39, 50.  ,  6.26, 11.39, 12.75, 16.5 , 25.5 , 36.5 ],      dtype=float64)\n",
       "  <Arrayviz rendering>\n",
       ">"
      ]
     },
     "execution_count": 12,
     "metadata": {},
     "output_type": "execute_result"
    }
   ],
   "source": [
    "x = jnp.array([0.3, 0.7, 1.1, 1.4, 2.3, 2.5, 3.0, 4.0, 5.0])\n",
    "y = 2.0 * x + 1.5 + x**2\n",
    "y = y.at[2].set(50.0)\n",
    "y"
   ]
  },
  {
   "cell_type": "markdown",
   "metadata": {},
   "source": [
    "We've explored how generative functions represent joint distributions over random variables, but what about distributions induced by inference problems?\n",
    "\n",
    "We can create an inference problem by pairing a generative function with arguments, and _a constraint_.\n",
    "\n",
    "First, let's learn how to create one type of constraint -- a _choice map_ sample, just like the choice maps we saw earlier."
   ]
  },
  {
   "cell_type": "code",
   "execution_count": 13,
   "metadata": {},
   "outputs": [
    {
     "data": {
      "text/html": [
       "<div id=\"output_22ba02a812af454f98d54250fb378767\"><script> /* penzai.treescope rendering of a Python object (compressed) */ (()=>{ let observer; let lastStep = new Promise((resolve, reject) => { observer = new IntersectionObserver((entries) => { for (const entry of entries) { if (entry.isIntersecting) { resolve(); observer.disconnect(); return; } } }, {rootMargin: \"1000px\"}); }); window.treescope_decompress_enqueue = (encoded, destId) => { const previous = lastStep; const destElt = document.getElementById(destId); lastStep = (async () => { await previous; let blob = new Blob([ Uint8Array.from(atob(encoded), (m) => m.codePointAt(0)) ]); let reader = blob.stream().pipeThrough( new DecompressionStream(\"deflate\") ).pipeThrough( new TextDecoderStream(\"utf-8\") ).getReader(); let parts = []; while (true) { let step = await reader.read(); if (step.done) { break; } parts.push(step.value); } let newElt = document.createElement(\"div\"); newElt.innerHTML = parts.join(\"\"); destElt.parentNode.replaceChild(newElt, destElt); for (let oldScript of newElt.querySelectorAll(\"script\")) { let newScript = document.createElement(\"script\"); newScript.type = oldScript.type; newScript.textContent = oldScript.textContent; oldScript.parentNode.replaceChild(newScript, oldScript); } })(); requestAnimationFrame(() => { observer.observe(destElt); }); } })(); </script><div id=\"compress_html_0351f7ffb56a43dfb47bd4e97c902308\"><script>window.treescope_decompress_enqueue(\"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\", \"compress_html_0351f7ffb56a43dfb47bd4e97c902308\");</script><span style=\"color: #aaaaaa; font-family: monospace\">(Loading...)</span></div></div>"
      ],
      "text/plain": [
       "<IPython.core.display.HTML object>"
      ]
     },
     "metadata": {},
     "output_type": "display_data"
    },
    {
     "data": {
      "text/html": [
       "<div id=\"compress_html_f9aaff55fe6d437ca169a0984439d754\"><script>window.treescope_decompress_enqueue(\"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\", \"compress_html_f9aaff55fe6d437ca169a0984439d754\");</script></div>"
      ],
      "text/plain": [
       "<IPython.core.display.HTML object>"
      ]
     },
     "metadata": {},
     "output_type": "display_data"
    },
    {
     "data": {
      "text/html": [
       "<div id=\"output_dest_22ba02a812af454f98d54250fb378767\"><script> (()=>{ const output = document.getElementById(\"output_22ba02a812af454f98d54250fb378767\"); const dest = document.getElementById(\"output_dest_22ba02a812af454f98d54250fb378767\"); dest.parentNode.replaceChild(output, dest); })(); </script></div>"
      ],
      "text/plain": [
       "<Array([ 2.19,  3.39, 50.  ,  6.26, 11.39, 12.75, 16.5 , 25.5 , 36.5 ],      dtype=float64)\n",
       "  <Arrayviz rendering>\n",
       ">"
      ]
     },
     "execution_count": 13,
     "metadata": {},
     "output_type": "execute_result"
    }
   ],
   "source": [
    "from genjax import ChoiceMapBuilder as C\n",
    "\n",
    "chm = vmap(lambda idx, v: C[\"ys\", idx, \"y\", \"v\"].set(v))(jnp.arange(len(y)), y)\n",
    "chm[\"ys\", ..., \"y\", \"v\"]"
   ]
  },
  {
   "cell_type": "markdown",
   "metadata": {},
   "source": [
    "The choice map holds the _value constraint_ for the distributions we used in our generative function. Choice maps are a lot like arrays, with a bit of extra metadata.\n",
    "\n",
    "Now, we can specify an inference target."
   ]
  },
  {
   "cell_type": "code",
   "execution_count": null,
   "metadata": {},
   "outputs": [],
   "source": []
  },
  {
   "cell_type": "code",
   "execution_count": 14,
   "metadata": {},
   "outputs": [
    {
     "data": {
      "text/html": [
       "<div id=\"output_aaafbf577578492da6961bf2e00e651c\"><script> /* penzai.treescope rendering of a Python object (compressed) */ (()=>{ let observer; let lastStep = new Promise((resolve, reject) => { observer = new IntersectionObserver((entries) => { for (const entry of entries) { if (entry.isIntersecting) { resolve(); observer.disconnect(); return; } } }, {rootMargin: \"1000px\"}); }); window.treescope_decompress_enqueue = (encoded, destId) => { const previous = lastStep; const destElt = document.getElementById(destId); lastStep = (async () => { await previous; let blob = new Blob([ Uint8Array.from(atob(encoded), (m) => m.codePointAt(0)) ]); let reader = blob.stream().pipeThrough( new DecompressionStream(\"deflate\") ).pipeThrough( new TextDecoderStream(\"utf-8\") ).getReader(); let parts = []; while (true) { let step = await reader.read(); if (step.done) { break; } parts.push(step.value); } let newElt = document.createElement(\"div\"); newElt.innerHTML = parts.join(\"\"); destElt.parentNode.replaceChild(newElt, destElt); for (let oldScript of newElt.querySelectorAll(\"script\")) { let newScript = document.createElement(\"script\"); newScript.type = oldScript.type; newScript.textContent = oldScript.textContent; oldScript.parentNode.replaceChild(newScript, oldScript); } })(); requestAnimationFrame(() => { observer.observe(destElt); }); } })(); </script><div id=\"compress_html_ede9b8ebc091441a9b0ecc4e2e2797f3\"><script>window.treescope_decompress_enqueue(\"eNrtHGmP27j1r3AdNGsHY0Wn5WNsIEibtsC2X7LYfmgLgaYoSx2Z1FL0HFnMf+8jKR+SNR5PMkkGu4oReEy++37yJJelvMvpwpKC0pLwgkaCc4l+QwUvM5lxNkWC5lhm13SGEs7kMMHrLL+bojVnvCwwgfObNJN0qD9MUSHgJM9KOdSkh/KugFPGGRwvMblaCb5h8ZDwnIupQZ2h6tMyBwCgl8UynaIkkwDGJGVyhtZYrDI2zGkip8glqeLB6DCl2SqFE8cKZuj+8q1R57IkIivkAmUJ6t9kLOY3ew3RfD5HIAJNgEA8AF2PIdBv97OjYysqKIsztnpHlGVKAPv3fx8F+xtmca5Isk2et0CvqIwa1p+j/tbokeQDNF+AkG/foJ84vwInCCRTijQk4zG10Ju3KKcSVbgHqNo1wLxv7n6Yo5iTzRoMai15fIdev0Y/qBuL5LgsfwKnWcrgOGNlv1cXqjdAylRbHgqpwAIo/SWna+2he+AsN4LpS/jYoqvYsI+cM6XgDRdXlWbAspQg2b/gSF3VjmVG1GFBBSi+xoxQi/Gb/mCn2tENGhqkS+S5SuS2GGi60sopW8kUQgPZbRFx2qdGb2UBmpd0L3q6YUr2R5mXaZZIpZLGUD/cw+tcGfpbSEF/3dBSvmPZGiuIDwKvad/YdTBo90hTlGJTpsY3s3MMtxVibkzxFNOdL3ar4JQB1ob+mSZUCBr/TNcFhD0tjwOoyNXhLvABTdx9pDklkot3eQ6BXuEeFsENi0qI1N5gphOur/ILKCGeaIJKUXg/yBtB1/ya1rLmgMZDmdDfyqroJ4J/oio5NGVT+Ori9numsCmSCgM+HapGBAU1qoQ8hIWfLFWHAdgw0Z+qc3or3xtmB9f7w5kWx+T6P1W5ERSsReh7SL+4DxQuFIDy04O+kny1yk0ZiXT1lyCYrnJwQnN5geg1UK9MocJOf7au6J3KyJ7obUsPAB/Y3NDt93Y0ozUI2NvKcY+gH5hGcBln10gjzpt1DUm8BIHp7bxn9xBnwBSkZwdw7fL3ZZqVW8l70HJMI11yKfla9aYp47JvJTyP8RKwVameprjsL3K8pPmifhMZHhpnSlJKrqA1DdAbpXiBY5U/Q8mLKbItJ6Dr4+6nzu4t3UcjwtcqAnQK6L76Cus/yiQNEGw4phC7YtACX4GXoDFbHRL0nMAJdgA0jpRAe4Cqkx83/Gss+sPhMufkyhyBt5ZcxFQY/ZziFpU8z+JTkMbIjwGDsimEuQDJriKVn5JGWlHUFPpYTH6Vk7Q/9v+kDO4HyLEnhuINLiMIKp7ngC65lWSihAauGs65VCe+5Si69gQ53sgKWwlrv5xkNzhiKAVm26mtyRw5JaK4pEMYovgGUk4Pczc6gBp3yqtxVVcjnesphCqY7cD9oXpVE6GO/CnKJM4zopBrkf3ALAkatyUAQMdZCUzvtjNjExAtkE6g6XRJoTQfxNwrov/MWvmZwXHoqMmxmi/t2Z5XxnRC6QA6wVOHzzHnGIurkuIVVAx2jP1MhWAng0JtR9rC1yTUVXyKfvyPGyzJj99TvDrSg0KOvoGQugwA440olQMLnoEEooVvVj4fW50KmtFQt43yoRh/Hq579VQ7P+ZiZWVk6glnpoQcp9apVLLcQGVTq6vQF4tvPN4UUWlVWwV1Qt9bKUkjvYBG6vigaRoo2wqacEJXvj2gMK10B6lmAnBVHBE16DxbM99VnKrU1JQhOCd9WG5hhYHWZvpCXQ6Ywr6aKFVzNaLE0GJprDvsK2qrlzLKrxucMxjPI9jyk+wWiJgOkH2iynRjM4XAtLAhMiru1AgVYSnFDrDeKraF27ZdN0gUKswAX2V22k4Mp8enm5QyGI3yHBclKP9oL3qyTCc4mA5kRgEFRG8LWJUehHkOOdpYVIoagP2w3maK+iBt1adwdIJCU1VW2wvaAc9h9iCdSuT94yHQe7sO1MXs1S8b8d5brCj7H761olIQyEyYkah67lAWFtAGvEX19jNkNZX9Gq39LCr1bYNVzW1wZ7x5mbFiA6sn4M572n9LfttrxalcDahvNRK8VzSO1N0FYG9hWTvRj8C28dGQ9KginbxvXB7Xht6iqCSYG0jtpHmvNs5vZ2fbCseBymLbQ4EHo/nIG7me7Y/GYYDeQibbg9kWsapnJVRVqDnOrCFJbXiu6g6q95Hec4UK/EyFeSqXbNj2sY+EE9KInI/68K87+A8VeL/NS11IPRRSJd8IQj8vrly1oI183x2HsPZ5LzqwCHCyjOaNQHqf83IjaBc3T4qb+I5FYJKyHjkPmq0/qAAvTmqG6q45KWLC5mf5qopmE8XLfEMhDF/ncpYwlGzyXPfF/PVKzk7wbpj2ogF66u3BgN8/AEONYbu3GLxcWZ7PgY/G2IPx9RXy7pHw3anVkp5flFvtFS2L573dkyVKQsdJkkkQJiN/EuAxtUNMEho7MaVBMjlVlFBzL/wSa6FqLj5drdqeiJmMU8X4nRD4DiU5x3Lk9ycXMGJbFmpJv0cSoDbCtprNdWGlCROPJu7S94iHAy8MqR+S8Zg67hh/M7N9e3NdnN0XTjbU2hNwyG30Cv2SldBls0/6CyiUZjGENmwfaL9NqHJ6Ri0afPtyor/mEjhj8jPHHSewvGDiT0I7tD3HffHjzn6YtkjKM+Cxxs0F7L2++AcuuvnnacG0M2iUsM+MJzuwJjA9O954FDrj8HcRT2Yte5+uP3SbWC2ioBmJ+VNMcfiFIjSEV7duOLsrzft3G8lIVzq70vn9S6cTji1/5Ewc3x79PoLp7/FtVzQ/Y0WEqtq6Ip6xVyW+O4qTIFkmJPDH4XIcjt1wgpcj+DsOveRrWfn51igYZb/yEpVQSkM3TrAXYt+H3XPiOcQjlNgjH17B94nE57fNmS30Ba9VXVvv2nq3EXUb0R9tI+oWoq5ydpWzq5xd5Xxi5bzuKmdXObvK6U4s37F92/Ymv5dnSb/gfEO7svn0cLr+3EdJvuvbyxiTsR9QfznysO8nTozjiRtMMPEmL/9R0rf4Rt4moyXBnuM4seuPSbAcYZ86zth1wlHsuKOX+zDpy63T8gs7L/47+j/GLzR1snSydLJ0srxwWYBqnF3v/seOs/+dv/7NW4Pzfy2OXqk=\", \"compress_html_ede9b8ebc091441a9b0ecc4e2e2797f3\");</script><span style=\"color: #aaaaaa; font-family: monospace\">(Loading...)</span></div></div>"
      ],
      "text/plain": [
       "<IPython.core.display.HTML object>"
      ]
     },
     "metadata": {},
     "output_type": "display_data"
    },
    {
     "data": {
      "text/html": [
       "<div id=\"compress_html_165bf69b6b224bcc9b8aa3c1d56623ac\"><script>window.treescope_decompress_enqueue(\"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\", \"compress_html_165bf69b6b224bcc9b8aa3c1d56623ac\");</script></div>"
      ],
      "text/plain": [
       "<IPython.core.display.HTML object>"
      ]
     },
     "metadata": {},
     "output_type": "display_data"
    },
    {
     "data": {
      "text/html": [
       "<div id=\"output_dest_aaafbf577578492da6961bf2e00e651c\"><script> (()=>{ const output = document.getElementById(\"output_aaafbf577578492da6961bf2e00e651c\"); const dest = document.getElementById(\"output_dest_aaafbf577578492da6961bf2e00e651c\"); dest.parentNode.replaceChild(output, dest); })(); </script></div>"
      ],
      "text/plain": [
       "Target(...)"
      ]
     },
     "execution_count": 14,
     "metadata": {},
     "output_type": "execute_result"
    }
   ],
   "source": [
    "from genjax import Target\n",
    "\n",
    "target = Target(full_model, (x,), chm)\n",
    "target"
   ]
  },
  {
   "cell_type": "markdown",
   "metadata": {},
   "source": [
    "A `Target` represents an unnormalized distribution -- in this case, the posterior of the distribution represented by our generative function with arguments `args = (x, )`.\n",
    "\n",
    "Now, we can approximate the solution to the inference problem using an inference algorithm. GenJAX exposes a standard library of approximate inference algorithms: let's use $K$-particle importance sampling for this one."
   ]
  },
  {
   "cell_type": "code",
   "execution_count": 15,
   "metadata": {},
   "outputs": [
    {
     "data": {
      "text/html": [
       "<div id=\"output_3e944d1853874eaabbba755994dc3f56\"><script> /* penzai.treescope rendering of a Python object (compressed) */ (()=>{ let observer; let lastStep = new Promise((resolve, reject) => { observer = new IntersectionObserver((entries) => { for (const entry of entries) { if (entry.isIntersecting) { resolve(); observer.disconnect(); return; } } }, {rootMargin: \"1000px\"}); }); window.treescope_decompress_enqueue = (encoded, destId) => { const previous = lastStep; const destElt = document.getElementById(destId); lastStep = (async () => { await previous; let blob = new Blob([ Uint8Array.from(atob(encoded), (m) => m.codePointAt(0)) ]); let reader = blob.stream().pipeThrough( new DecompressionStream(\"deflate\") ).pipeThrough( new TextDecoderStream(\"utf-8\") ).getReader(); let parts = []; while (true) { let step = await reader.read(); if (step.done) { break; } parts.push(step.value); } let newElt = document.createElement(\"div\"); newElt.innerHTML = parts.join(\"\"); destElt.parentNode.replaceChild(newElt, destElt); for (let oldScript of newElt.querySelectorAll(\"script\")) { let newScript = document.createElement(\"script\"); newScript.type = oldScript.type; newScript.textContent = oldScript.textContent; oldScript.parentNode.replaceChild(newScript, oldScript); } })(); requestAnimationFrame(() => { observer.observe(destElt); }); } })(); </script><div id=\"compress_html_fc2d79d990cf40aaac388c5217253f2b\"><script>window.treescope_decompress_enqueue(\"eNrtHNty4jj2VzR0bQ90Bcc2trEhUNXVs707tbPz0lOzD7tbLiHL4I2R3LJIQk/l3/dINhcbh5B0Okn1ODwA0jk695sgXORyndKpIQWlOeEZDQXnEv2BMp4nMuFshARNsUyu6BjFnMl+jJdJuh6hJWc8zzCB9etFImlfvxmhTMBKmuSyr4/uy3UGq4wzWJ5hcjkXfMWiPuEpF6MCdYzKd7MUAOC8JJKLEYoTCWBMUibHaInFPGH9lMZyhGyyUDQY7S9oMl/AimW4Y3R7cV6Ic5ETkWRyipIYda8TFvHrnYRoMpkgYIHGcEDUA1kPIdAft+ODZSPMKIsSNn9PlGZyAPv3f+8F+ztmUaqOZKs0bYCeUxnWtD9B3Y3SQ8l7aDIFJs/foV84vwQjCCQXFGlIxiNqoHfnKKUSlbh7qNo0QLxb7P0wQREnqyUo1JjxaI3evkU/qB2DpDjPfwGjGUrhOGF5t1NlqtNDSlUbGgopwwJO+mtKl9pCt0BZrgTTm/C2QVaxYp84Z0rAay4uS8mAZC6Bs3/BktqqLMuEqMWMChB8iRmhBuPX3d5WtIMd1C+QLtDAViw3+UDdlEZK2VwuwDWQ2eQRx21ayK00QNOc7lhfrJji/V7i+SKJpRJJY6gXt/A4lYfuBlLQzyuay/csWWIF8VHgJe0Weu31mi1SZyVb5YvCNuNTFLdhYlKo4iGqO53tRsYpA6wV/YnGVAga/UaXGbg9zQ8dKEvV4tbxAU2sP9GUEsnF+zQFRy9x95PgioU5eGqnN9YB11XxBSchHusDlaDwvBc3gi75Fa1Ezd4Zd0VCd8OrOj8W/AtVwaFPLhJfld1up0hs6kiFAe/2RSOCghhlQO7DwitD5WEALojod+U6vZEfCmJ727vFsWaniPVfVboRFLRF6AcIv6gLJ5wpAGWnO20l+XyeFmkk1NlfAmM6y8EKTeUZoldweqkK5Xb6vXFJ1yoiO6KzST0AvKfz4txuZ3tmuAQGOxs+bhHUg6IQXETJFdKIk3peQxLPgGF6M+mYHcQZEAXu2R5cM/9duUjyDecdKDlFIZ1xKflS1aYR47JrxDyN8AywVaoeLXDenaZ4RtNpdScsaGicEVlQcgmlqYfeKcEzHKn46UuejZBpWC5dHlY/tXZr6DoaEr5UHqBDQNfVN1j/KZXUQHBBcQG+K3oN8CU4KAWSQrR3ogl/cbyDYKvljIp9gMC3XG8HkIPS2Hyfp4HlWu4WgEahkmkHUDYDhz3DFRbdfn+WcnJZLIHBZ8AdFYWKrOwG5TxNomOQhZ3uAwZ9LSBSBHB2GaoQlzTUukJ1pg/Z5JcpWXR95y/KZo6LLDMoTrzGeQh+ydMU0CU34kTk0AOomnXqqYFjWOpcM0DWwDOGjQdr0x4l1zsgKAVmm8avThxZOaI4p33ow/gKolb3g9faB2t7yqpRmZpDnS4W4O0V/8BD9SibSh08I5RInCZEIVeC4452FCRuiiGAjpIciK43bWcdEE2RjsHRaEYhu+/53Bui/8aN9Ires2+p5rNsUc3xjlbCdExqBzpCU7vPIeUIi8uc4jkkHXaI/US5ZMuDQm1G2sBXONSFYIR+/I/tzsiPL8leFelOJr1nYFKnASC8ErkyYMYT4EA00E3ypyOrQ0ET6uvKk9/l409DdSee6ggOqRhJHhb5hLMihRyG1rFQMmxXRVOjqdBXs19YvM6ikqoyTeqAvjUWZBHqGTZUy3t1t4AyDbcOJ3Tm2wGKohpvIVVbAaaKQqJ6pSfrB7YZp0w1FWEITkkX5mOYgqC0FXWhygc0ct+MlbK4FqxEUGJppCvsG2qqh1LK5xVOGXT4YSZgAr+BQ4oKkHyhSnV+0chAt7AiMszWqgsLsZRiC1gtFbt+xLZd3Y9AD/BN2q9Nx3C8A7teUAbdVZriLKfR/bXowTwdoVBUoKIVUED0JoNp606Yp+CjiUQpaAGw6/ebVFHtxY1qI4+OnFAXlVVGi2bAU4jdeU7J8u6GCeRG+vWkU+kaNy2aaQx9VzmLOUD2wDI82xm6ru8Gg6GLzsFhzN54g1iGTQ7Bq4Jg3CnPLyeWSo9WujeqpqsaRlVxtc1aBHamc8r+h2+MMBcEcgV0bVRdpuRLYoC4gDgtn35eZlxIddPyj+5mZ//gXassISXROlMVr4K9wtkuEpatYLgGXJBUudeM33QacUpPBNRzjQTP5RkHsm/jozM1DKOJ2Yr71jg9SJhH92ubh6mrMy30UbIxeXpTZTVL/abpdVvrnGSdrGqYU6PaHcBc5w08e2A6nn9fVFsvGdXwmoriVjhesc21o4SVeox/0ot/28J/LMHbgH+QS+V8JQh9nF/Zarr3HMf2h5Z5f7l4UcciQMkoJK850oeU5ytBW795kN9EaxaCSvLGUnGotm6vBDw7KhmqmuYoizGbnGSr0psLL56lKwpu+DaV45iheJWmuqlK387l+AjtmmrPaqDHnu50+N0FLKpNap1p7/Xy8nQGvNfH7vSvbxB397jvVqyG8Pyq2GrOaEk06WyvJQkOLJ+4hAyGM8edmbPYjy3fo17k0WEcD48lJVS/VPgabaFyqDqerZquU4uIU8n4vRB4jeKUY+k53eAM5jPDQA3hd08AVOafRrVRgj3HH5A4cFwn8l3fH0Y0cH3bdb2hY7nPprbnV9fZyXXhaEGtfAIDsY3eoN+THKps8kV/AIoWSQSuDaMr2o2iKp2ekIt6z59O9MesAidMPrLdsVxj4AZOMDSH5sCyX327s2umDbLgCdBY4voA9kFv/BNnbf/zMGfaKjSM2SP9yXSNALpna+B7Q8sffhf+VIxlHxbLj+0kVvEoHEVi8hBV7H8aDQXhzY09HK/z4vnFWjLSps42db586rSGvuF4VmA5pvd9ONPP0U2bNB8xIkJWfcBtdWVAsE0viAbDwI3cyAl8GzuQmnDsB3ZsRs6MfistP90YBa3sNx6iXNefebEZx9ixHdNyAms2tCw8GPg48InjvIwnPr1uTiyhr3isast6W9bbiaidiP5sE1E7ELWZs82cbeZsM+cDM+dVmznbzNlmTjswHMt0THMQfC93Sb/jdEXbtPlwd7p67FWSi2PPdjxzGAXgSsFgFjl0YA4HZkBtQjzr9V8lPccn8gMSBBb1ydCKHYcEM0wi33UC25x5EHyu/Xovk75eOw1f2Hn1n9H/Ob7Q1PLS8tLy0vLyynnpPeNo9vmRrfTAM0zPH9qn/fvQa/0+uPqaWNs47zuM/ubcIy4cyl9j6Ex/5Yz+Gb7SfBlmWMiEpDR/hLqKn6boTC3TfMXp7DxKrrY/XHXyz93ofwAocP4P9PjXdg==\", \"compress_html_fc2d79d990cf40aaac388c5217253f2b\");</script><span style=\"color: #aaaaaa; font-family: monospace\">(Loading...)</span></div></div>"
      ],
      "text/plain": [
       "<IPython.core.display.HTML object>"
      ]
     },
     "metadata": {},
     "output_type": "display_data"
    },
    {
     "data": {
      "text/html": [
       "<div id=\"compress_html_ec93f55be29341d6b7d6c7d35ae3382f\"><script>window.treescope_decompress_enqueue(\"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\", \"compress_html_ec93f55be29341d6b7d6c7d35ae3382f\");</script></div>"
      ],
      "text/plain": [
       "<IPython.core.display.HTML object>"
      ]
     },
     "metadata": {},
     "output_type": "display_data"
    },
    {
     "data": {
      "text/html": [
       "<div id=\"output_dest_3e944d1853874eaabbba755994dc3f56\"><script> (()=>{ const output = document.getElementById(\"output_3e944d1853874eaabbba755994dc3f56\"); const dest = document.getElementById(\"output_dest_3e944d1853874eaabbba755994dc3f56\"); dest.parentNode.replaceChild(output, dest); })(); </script></div>"
      ],
      "text/plain": [
       "ImportanceK(...)"
      ]
     },
     "execution_count": 15,
     "metadata": {},
     "output_type": "execute_result"
    }
   ],
   "source": [
    "from genjax.inference.smc import ImportanceK\n",
    "\n",
    "alg = ImportanceK(target, k_particles=100)\n",
    "alg"
   ]
  },
  {
   "cell_type": "code",
   "execution_count": 16,
   "metadata": {},
   "outputs": [
    {
     "ename": "TypeError",
     "evalue": "true_fun and false_fun output must have identical types, got\n('ShapedArray(float32[])', 'DIFFERENT ShapedArray(float32[]) vs. ShapedArray(float64[], weak_type=True)', 'ShapedArray(int32[])').",
     "output_type": "error",
     "traceback": [
      "\u001b[0;31m---------------------------------------------------------------------------\u001b[0m",
      "\u001b[0;31mTypeError\u001b[0m                                 Traceback (most recent call last)",
      "Cell \u001b[0;32mIn[16], line 2\u001b[0m\n\u001b[1;32m      1\u001b[0m sub_keys \u001b[38;5;241m=\u001b[39m jrand\u001b[38;5;241m.\u001b[39msplit(key, \u001b[38;5;241m50\u001b[39m)\n\u001b[0;32m----> 2\u001b[0m posterior_samples \u001b[38;5;241m=\u001b[39m \u001b[43mjit\u001b[49m\u001b[43m(\u001b[49m\u001b[43mvmap\u001b[49m\u001b[43m(\u001b[49m\u001b[43malg\u001b[49m\u001b[38;5;241;43m.\u001b[39;49m\u001b[43msimulate\u001b[49m\u001b[43m,\u001b[49m\u001b[43m \u001b[49m\u001b[43min_axes\u001b[49m\u001b[38;5;241;43m=\u001b[39;49m\u001b[43m(\u001b[49m\u001b[38;5;241;43m0\u001b[39;49m\u001b[43m,\u001b[49m\u001b[43m \u001b[49m\u001b[38;5;28;43;01mNone\u001b[39;49;00m\u001b[43m)\u001b[49m\u001b[43m)\u001b[49m\u001b[43m)\u001b[49m\u001b[43m(\u001b[49m\n\u001b[1;32m      3\u001b[0m \u001b[43m    \u001b[49m\u001b[43msub_keys\u001b[49m\u001b[43m,\u001b[49m\u001b[43m \u001b[49m\u001b[43m(\u001b[49m\u001b[43mtarget\u001b[49m\u001b[43m,\u001b[49m\u001b[43m)\u001b[49m\n\u001b[1;32m      4\u001b[0m \u001b[43m)\u001b[49m\u001b[38;5;241m.\u001b[39mget_retval()\n",
      "    \u001b[0;31m[... skipping hidden 15 frame]\u001b[0m\n",
      "File \u001b[0;32m<@beartype(genjax._src.generative_functions.distributions.distribution.Distribution.simulate) at 0x14a96b6a0>:55\u001b[0m, in \u001b[0;36msimulate\u001b[0;34m(__beartype_object_4454939968, __beartype_get_violation, __beartype_conf, __beartype_object_5542523376, __beartype_func, *args, **kwargs)\u001b[0m\n",
      "File \u001b[0;32m~/IdeaProjects/genjax/src/genjax/_src/generative_functions/distributions/distribution.py:119\u001b[0m, in \u001b[0;36mDistribution.simulate\u001b[0;34m(self, key, args)\u001b[0m\n\u001b[1;32m    112\u001b[0m \u001b[38;5;129m@GenerativeFunction\u001b[39m\u001b[38;5;241m.\u001b[39mgfi_boundary\n\u001b[1;32m    113\u001b[0m \u001b[38;5;129m@typecheck\u001b[39m\n\u001b[1;32m    114\u001b[0m \u001b[38;5;28;01mdef\u001b[39;00m \u001b[38;5;21msimulate\u001b[39m(\n\u001b[0;32m   (...)\u001b[0m\n\u001b[1;32m    117\u001b[0m     args: Tuple,\n\u001b[1;32m    118\u001b[0m ) \u001b[38;5;241m-\u001b[39m\u001b[38;5;241m>\u001b[39m Trace:\n\u001b[0;32m--> 119\u001b[0m     (w, v) \u001b[38;5;241m=\u001b[39m \u001b[38;5;28;43mself\u001b[39;49m\u001b[38;5;241;43m.\u001b[39;49m\u001b[43mrandom_weighted\u001b[49m\u001b[43m(\u001b[49m\u001b[43mkey\u001b[49m\u001b[43m,\u001b[49m\u001b[43m \u001b[49m\u001b[38;5;241;43m*\u001b[39;49m\u001b[43margs\u001b[49m\u001b[43m)\u001b[49m\n\u001b[1;32m    120\u001b[0m     tr \u001b[38;5;241m=\u001b[39m DistributionTrace(\u001b[38;5;28mself\u001b[39m, args, v, w)\n\u001b[1;32m    121\u001b[0m     \u001b[38;5;28;01mreturn\u001b[39;00m tr\n",
      "File \u001b[0;32m<@beartype(genjax._src.inference.smc.SMCAlgorithm.random_weighted) at 0x15a9b1300>:57\u001b[0m, in \u001b[0;36mrandom_weighted\u001b[0;34m(__beartype_object_4454939968, __beartype_get_violation, __beartype_conf, __beartype_object_4502669584, __beartype_object_5358409152, __beartype_object_5542512640, __beartype_func, *args, **kwargs)\u001b[0m\n",
      "File \u001b[0;32m~/IdeaProjects/genjax/src/genjax/_src/inference/smc.py:180\u001b[0m, in \u001b[0;36mSMCAlgorithm.random_weighted\u001b[0;34m(self, key, target)\u001b[0m\n\u001b[1;32m    178\u001b[0m algorithm \u001b[38;5;241m=\u001b[39m ChangeTarget(\u001b[38;5;28mself\u001b[39m, target)\n\u001b[1;32m    179\u001b[0m key, sub_key \u001b[38;5;241m=\u001b[39m jrandom\u001b[38;5;241m.\u001b[39msplit(key)\n\u001b[0;32m--> 180\u001b[0m particle_collection \u001b[38;5;241m=\u001b[39m \u001b[43malgorithm\u001b[49m\u001b[38;5;241;43m.\u001b[39;49m\u001b[43mrun_smc\u001b[49m\u001b[43m(\u001b[49m\u001b[43mkey\u001b[49m\u001b[43m)\u001b[49m\n\u001b[1;32m    181\u001b[0m particle \u001b[38;5;241m=\u001b[39m particle_collection\u001b[38;5;241m.\u001b[39msample_particle(sub_key)\n\u001b[1;32m    182\u001b[0m log_density_estimate \u001b[38;5;241m=\u001b[39m (\n\u001b[1;32m    183\u001b[0m     particle\u001b[38;5;241m.\u001b[39mget_score()\n\u001b[1;32m    184\u001b[0m     \u001b[38;5;241m-\u001b[39m particle_collection\u001b[38;5;241m.\u001b[39mget_log_marginal_likelihood_estimate()\n\u001b[1;32m    185\u001b[0m )\n",
      "File \u001b[0;32m~/IdeaProjects/genjax/src/genjax/_src/inference/smc.py:426\u001b[0m, in \u001b[0;36mChangeTarget.run_smc\u001b[0;34m(self, key)\u001b[0m\n\u001b[1;32m    423\u001b[0m     \u001b[38;5;28;01mreturn\u001b[39;00m (new_trace, this_weight)\n\u001b[1;32m    425\u001b[0m sub_keys \u001b[38;5;241m=\u001b[39m jrandom\u001b[38;5;241m.\u001b[39msplit(key, \u001b[38;5;28mself\u001b[39m\u001b[38;5;241m.\u001b[39mget_num_particles())\n\u001b[0;32m--> 426\u001b[0m new_particles, new_weights \u001b[38;5;241m=\u001b[39m \u001b[43mvmap\u001b[49m\u001b[43m(\u001b[49m\u001b[43m_reweight\u001b[49m\u001b[43m)\u001b[49m\u001b[43m(\u001b[49m\n\u001b[1;32m    427\u001b[0m \u001b[43m    \u001b[49m\u001b[43msub_keys\u001b[49m\u001b[43m,\u001b[49m\n\u001b[1;32m    428\u001b[0m \u001b[43m    \u001b[49m\u001b[43mcollection\u001b[49m\u001b[38;5;241;43m.\u001b[39;49m\u001b[43mget_particles\u001b[49m\u001b[43m(\u001b[49m\u001b[43m)\u001b[49m\u001b[43m,\u001b[49m\n\u001b[1;32m    429\u001b[0m \u001b[43m    \u001b[49m\u001b[43mcollection\u001b[49m\u001b[38;5;241;43m.\u001b[39;49m\u001b[43mget_log_weights\u001b[49m\u001b[43m(\u001b[49m\u001b[43m)\u001b[49m\u001b[43m,\u001b[49m\n\u001b[1;32m    430\u001b[0m \u001b[43m\u001b[49m\u001b[43m)\u001b[49m\n\u001b[1;32m    431\u001b[0m \u001b[38;5;28;01mreturn\u001b[39;00m ParticleCollection(\n\u001b[1;32m    432\u001b[0m     new_particles,\n\u001b[1;32m    433\u001b[0m     new_weights,\n\u001b[1;32m    434\u001b[0m     jnp\u001b[38;5;241m.\u001b[39marray(\u001b[38;5;28;01mTrue\u001b[39;00m),\n\u001b[1;32m    435\u001b[0m )\n",
      "    \u001b[0;31m[... skipping hidden 3 frame]\u001b[0m\n",
      "File \u001b[0;32m~/IdeaProjects/genjax/src/genjax/_src/inference/smc.py:421\u001b[0m, in \u001b[0;36mChangeTarget.run_smc.<locals>._reweight\u001b[0;34m(key, particle, weight)\u001b[0m\n\u001b[1;32m    417\u001b[0m \u001b[38;5;28;01mdef\u001b[39;00m \u001b[38;5;21m_reweight\u001b[39m(key, particle, weight):\n\u001b[1;32m    418\u001b[0m     latents \u001b[38;5;241m=\u001b[39m \u001b[38;5;28mself\u001b[39m\u001b[38;5;241m.\u001b[39mprev\u001b[38;5;241m.\u001b[39mget_final_target()\u001b[38;5;241m.\u001b[39mfilter_to_unconstrained(\n\u001b[1;32m    419\u001b[0m         particle\u001b[38;5;241m.\u001b[39mget_sample()\n\u001b[1;32m    420\u001b[0m     )\n\u001b[0;32m--> 421\u001b[0m     new_trace, new_weight \u001b[38;5;241m=\u001b[39m \u001b[38;5;28;43mself\u001b[39;49m\u001b[38;5;241;43m.\u001b[39;49m\u001b[43mtarget\u001b[49m\u001b[38;5;241;43m.\u001b[39;49m\u001b[43mimportance\u001b[49m\u001b[43m(\u001b[49m\u001b[43mkey\u001b[49m\u001b[43m,\u001b[49m\u001b[43m \u001b[49m\u001b[43mlatents\u001b[49m\u001b[43m)\u001b[49m\n\u001b[1;32m    422\u001b[0m     this_weight \u001b[38;5;241m=\u001b[39m new_weight \u001b[38;5;241m-\u001b[39m particle\u001b[38;5;241m.\u001b[39mget_score() \u001b[38;5;241m+\u001b[39m weight\n\u001b[1;32m    423\u001b[0m     \u001b[38;5;28;01mreturn\u001b[39;00m (new_trace, this_weight)\n",
      "File \u001b[0;32m~/IdeaProjects/genjax/src/genjax/_src/inference/sp.py:77\u001b[0m, in \u001b[0;36mTarget.importance\u001b[0;34m(self, key, constraint)\u001b[0m\n\u001b[1;32m     75\u001b[0m \u001b[38;5;28;01mdef\u001b[39;00m \u001b[38;5;21mimportance\u001b[39m(\u001b[38;5;28mself\u001b[39m, key: PRNGKey, constraint: ChoiceMap):\n\u001b[1;32m     76\u001b[0m     merged \u001b[38;5;241m=\u001b[39m \u001b[38;5;28mself\u001b[39m\u001b[38;5;241m.\u001b[39mconstraint\u001b[38;5;241m.\u001b[39mmerge(constraint)\n\u001b[0;32m---> 77\u001b[0m     \u001b[38;5;28;01mreturn\u001b[39;00m \u001b[38;5;28;43mself\u001b[39;49m\u001b[38;5;241;43m.\u001b[39;49m\u001b[43mp\u001b[49m\u001b[38;5;241;43m.\u001b[39;49m\u001b[43mimportance\u001b[49m\u001b[43m(\u001b[49m\u001b[43mkey\u001b[49m\u001b[43m,\u001b[49m\u001b[43m \u001b[49m\u001b[43mmerged\u001b[49m\u001b[43m,\u001b[49m\u001b[43m \u001b[49m\u001b[38;5;28;43mself\u001b[39;49m\u001b[38;5;241;43m.\u001b[39;49m\u001b[43margs\u001b[49m\u001b[43m)\u001b[49m\n",
      "File \u001b[0;32m<@beartype(genjax._src.core.generative.core.GenerativeFunction.importance) at 0x14a88f560>:77\u001b[0m, in \u001b[0;36mimportance\u001b[0;34m(__beartype_object_4454939968, __beartype_get_violation, __beartype_conf, __beartype_object_5542498944, __beartype_object_5542523376, __beartype_object_5545352928, __beartype_object_5545593216, __beartype_func, *args, **kwargs)\u001b[0m\n",
      "File \u001b[0;32m~/IdeaProjects/genjax/src/genjax/_src/core/generative/core.py:595\u001b[0m, in \u001b[0;36mGenerativeFunction.importance\u001b[0;34m(self, key, constraint, args)\u001b[0m\n\u001b[1;32m    589\u001b[0m \u001b[38;5;250m\u001b[39m\u001b[38;5;124;03m\"\"\"\u001b[39;00m\n\u001b[1;32m    590\u001b[0m \u001b[38;5;124;03mGenerates a properly weighted sample from the target $T$ induced by the generative function for the provided constraint and arguments.\u001b[39;00m\n\u001b[1;32m    591\u001b[0m \n\u001b[1;32m    592\u001b[0m \u001b[38;5;124;03mFormally, creates an `UpdateProblem` which requests that the generative function respond with a move from the _empty_ trace (the only possible value for _empty_ target $\\\\delta_\\\\emptyset$) to the target induced by the generative function for constraint $C$ with arguments $a$.\u001b[39;00m\n\u001b[1;32m    593\u001b[0m \u001b[38;5;124;03m\"\"\"\u001b[39;00m\n\u001b[1;32m    594\u001b[0m importance_problem \u001b[38;5;241m=\u001b[39m ImportanceProblem(constraint)\n\u001b[0;32m--> 595\u001b[0m tr, w, _, _ \u001b[38;5;241m=\u001b[39m \u001b[38;5;28;43mself\u001b[39;49m\u001b[38;5;241;43m.\u001b[39;49m\u001b[43mupdate\u001b[49m\u001b[43m(\u001b[49m\n\u001b[1;32m    596\u001b[0m \u001b[43m    \u001b[49m\u001b[43mkey\u001b[49m\u001b[43m,\u001b[49m\u001b[43m \u001b[49m\u001b[43mEmptyTrace\u001b[49m\u001b[43m(\u001b[49m\u001b[38;5;28;43mself\u001b[39;49m\u001b[43m)\u001b[49m\u001b[43m,\u001b[49m\u001b[43m \u001b[49m\u001b[43mimportance_problem\u001b[49m\u001b[43m,\u001b[49m\u001b[43m \u001b[49m\u001b[43mDiff\u001b[49m\u001b[38;5;241;43m.\u001b[39;49m\u001b[43munknown_change\u001b[49m\u001b[43m(\u001b[49m\u001b[43margs\u001b[49m\u001b[43m)\u001b[49m\n\u001b[1;32m    597\u001b[0m \u001b[43m\u001b[49m\u001b[43m)\u001b[49m\n\u001b[1;32m    598\u001b[0m \u001b[38;5;28;01mreturn\u001b[39;00m tr, w\n",
      "File \u001b[0;32m<@beartype(genjax._src.generative_functions.static.StaticGenerativeFunction.update) at 0x15a947e20>:107\u001b[0m, in \u001b[0;36mupdate\u001b[0;34m(__beartype_object_4454939968, __beartype_get_violation, __beartype_conf, __beartype_object_5814687104, __beartype_object_5542487936, __beartype_object_5545354208, __beartype_object_5542523376, __beartype_object_5545352928, __beartype_object_5545354688, __beartype_object_5545593216, __beartype_func, *args, **kwargs)\u001b[0m\n",
      "    \u001b[0;31m[... skipping hidden 1 frame]\u001b[0m\n",
      "File \u001b[0;32m~/IdeaProjects/genjax/src/genjax/_src/generative_functions/static.py:559\u001b[0m, in \u001b[0;36mStaticGenerativeFunction.update\u001b[0;34m(self, key, trace, update_problem, argdiffs)\u001b[0m\n\u001b[1;32m    534\u001b[0m \u001b[38;5;129m@typecheck\u001b[39m\n\u001b[1;32m    535\u001b[0m \u001b[38;5;129m@GenerativeFunction\u001b[39m\u001b[38;5;241m.\u001b[39mgfi_boundary\n\u001b[1;32m    536\u001b[0m \u001b[38;5;28;01mdef\u001b[39;00m \u001b[38;5;21mupdate\u001b[39m(\n\u001b[0;32m   (...)\u001b[0m\n\u001b[1;32m    541\u001b[0m     argdiffs: Argdiffs,\n\u001b[1;32m    542\u001b[0m ) \u001b[38;5;241m-\u001b[39m\u001b[38;5;241m>\u001b[39m Tuple[Trace, Weight, Retdiff, UpdateProblem]:\n\u001b[1;32m    543\u001b[0m     syntax_sugar_handled \u001b[38;5;241m=\u001b[39m push_trace_overload_stack(\n\u001b[1;32m    544\u001b[0m         handler_trace_with_static, \u001b[38;5;28mself\u001b[39m\u001b[38;5;241m.\u001b[39msource\n\u001b[1;32m    545\u001b[0m     )\n\u001b[1;32m    546\u001b[0m     (\n\u001b[1;32m    547\u001b[0m         (\n\u001b[1;32m    548\u001b[0m             retval_diffs,\n\u001b[1;32m    549\u001b[0m             weight,\n\u001b[1;32m    550\u001b[0m             (\n\u001b[1;32m    551\u001b[0m                 arg_primals,\n\u001b[1;32m    552\u001b[0m                 retval_primals,\n\u001b[1;32m    553\u001b[0m                 address_visitor,\n\u001b[1;32m    554\u001b[0m                 address_traces,\n\u001b[1;32m    555\u001b[0m                 score,\n\u001b[1;32m    556\u001b[0m             ),\n\u001b[1;32m    557\u001b[0m             bwd_problems,\n\u001b[1;32m    558\u001b[0m         ),\n\u001b[0;32m--> 559\u001b[0m     ) \u001b[38;5;241m=\u001b[39m \u001b[43mupdate_transform\u001b[49m\u001b[43m(\u001b[49m\u001b[43msyntax_sugar_handled\u001b[49m\u001b[43m)\u001b[49m\u001b[43m(\u001b[49m\u001b[43mkey\u001b[49m\u001b[43m,\u001b[49m\u001b[43m \u001b[49m\u001b[43mtrace\u001b[49m\u001b[43m,\u001b[49m\u001b[43m \u001b[49m\u001b[43mupdate_problem\u001b[49m\u001b[43m,\u001b[49m\u001b[43m \u001b[49m\u001b[43margdiffs\u001b[49m\u001b[43m)\u001b[49m\n\u001b[1;32m    561\u001b[0m     \u001b[38;5;28;01mdef\u001b[39;00m \u001b[38;5;21mmake_bwd_problem\u001b[39m(visitor, subproblems):\n\u001b[1;32m    562\u001b[0m         addresses \u001b[38;5;241m=\u001b[39m visitor\u001b[38;5;241m.\u001b[39mget_visited()\n",
      "File \u001b[0;32m<@beartype(genjax._src.generative_functions.static.update_transform.wrapper) at 0x2d6314c20>:31\u001b[0m, in \u001b[0;36mwrapper\u001b[0;34m(__beartype_get_violation, __beartype_conf, __beartype_func, *args, **kwargs)\u001b[0m\n",
      "File \u001b[0;32m~/IdeaProjects/genjax/src/genjax/_src/generative_functions/static.py:376\u001b[0m, in \u001b[0;36mupdate_transform.<locals>.wrapper\u001b[0;34m(key, previous_trace, constraints, diffs)\u001b[0m\n\u001b[1;32m    374\u001b[0m diff_primals \u001b[38;5;241m=\u001b[39m Diff\u001b[38;5;241m.\u001b[39mtree_primal(diffs)\n\u001b[1;32m    375\u001b[0m diff_tangents \u001b[38;5;241m=\u001b[39m Diff\u001b[38;5;241m.\u001b[39mtree_tangent(diffs)\n\u001b[0;32m--> 376\u001b[0m retval_diffs \u001b[38;5;241m=\u001b[39m \u001b[43mincremental\u001b[49m\u001b[43m(\u001b[49m\u001b[43msource_fn\u001b[49m\u001b[43m)\u001b[49m\u001b[43m(\u001b[49m\n\u001b[1;32m    377\u001b[0m \u001b[43m    \u001b[49m\u001b[43mstateful_handler\u001b[49m\u001b[43m,\u001b[49m\u001b[43m \u001b[49m\u001b[43mdiff_primals\u001b[49m\u001b[43m,\u001b[49m\u001b[43m \u001b[49m\u001b[43mdiff_tangents\u001b[49m\n\u001b[1;32m    378\u001b[0m \u001b[43m\u001b[49m\u001b[43m)\u001b[49m\n\u001b[1;32m    379\u001b[0m retval_primals \u001b[38;5;241m=\u001b[39m Diff\u001b[38;5;241m.\u001b[39mtree_primal(retval_diffs)\n\u001b[1;32m    380\u001b[0m (\n\u001b[1;32m    381\u001b[0m     score,\n\u001b[1;32m    382\u001b[0m     weight,\n\u001b[0;32m   (...)\u001b[0m\n\u001b[1;32m    385\u001b[0m     bwd_problems,\n\u001b[1;32m    386\u001b[0m ) \u001b[38;5;241m=\u001b[39m stateful_handler\u001b[38;5;241m.\u001b[39myield_state()\n",
      "File \u001b[0;32m<@beartype(genjax._src.core.interpreters.incremental.incremental.wrapped) at 0x2d6315f80>:73\u001b[0m, in \u001b[0;36mwrapped\u001b[0;34m(__beartype_object_5539956288, __beartype_get_violation, __beartype_conf, __beartype_func, *args, **kwargs)\u001b[0m\n",
      "File \u001b[0;32m~/IdeaProjects/genjax/src/genjax/_src/core/interpreters/incremental.py:316\u001b[0m, in \u001b[0;36mincremental.<locals>.wrapped\u001b[0;34m(_stateful_handler, primals, tangents)\u001b[0m\n\u001b[1;32m    308\u001b[0m \u001b[38;5;129m@functools\u001b[39m\u001b[38;5;241m.\u001b[39mwraps(f)\n\u001b[1;32m    309\u001b[0m \u001b[38;5;129m@typecheck\u001b[39m\n\u001b[1;32m    310\u001b[0m \u001b[38;5;28;01mdef\u001b[39;00m \u001b[38;5;21mwrapped\u001b[39m(\n\u001b[0;32m   (...)\u001b[0m\n\u001b[1;32m    313\u001b[0m     tangents: Tuple,\n\u001b[1;32m    314\u001b[0m ):\n\u001b[1;32m    315\u001b[0m     interpreter \u001b[38;5;241m=\u001b[39m IncrementalInterpreter()\n\u001b[0;32m--> 316\u001b[0m     \u001b[38;5;28;01mreturn\u001b[39;00m \u001b[43minterpreter\u001b[49m\u001b[38;5;241;43m.\u001b[39;49m\u001b[43mrun_interpreter\u001b[49m\u001b[43m(\u001b[49m\n\u001b[1;32m    317\u001b[0m \u001b[43m        \u001b[49m\u001b[43m_stateful_handler\u001b[49m\u001b[43m,\u001b[49m\n\u001b[1;32m    318\u001b[0m \u001b[43m        \u001b[49m\u001b[43mf\u001b[49m\u001b[43m,\u001b[49m\n\u001b[1;32m    319\u001b[0m \u001b[43m        \u001b[49m\u001b[43mprimals\u001b[49m\u001b[43m,\u001b[49m\n\u001b[1;32m    320\u001b[0m \u001b[43m        \u001b[49m\u001b[43mtangents\u001b[49m\u001b[43m,\u001b[49m\n\u001b[1;32m    321\u001b[0m \u001b[43m    \u001b[49m\u001b[43m)\u001b[49m\n",
      "File \u001b[0;32m~/IdeaProjects/genjax/src/genjax/_src/core/interpreters/incremental.py:296\u001b[0m, in \u001b[0;36mIncrementalInterpreter.run_interpreter\u001b[0;34m(self, _stateful_handler, fn, primals, tangents, **kwargs)\u001b[0m\n\u001b[1;32m    292\u001b[0m flat_tangents \u001b[38;5;241m=\u001b[39m jtu\u001b[38;5;241m.\u001b[39mtree_leaves(\n\u001b[1;32m    293\u001b[0m     tangents, is_leaf\u001b[38;5;241m=\u001b[39m\u001b[38;5;28;01mlambda\u001b[39;00m v: \u001b[38;5;28misinstance\u001b[39m(v, ChangeTangent)\n\u001b[1;32m    294\u001b[0m )\n\u001b[1;32m    295\u001b[0m _jaxpr, consts \u001b[38;5;241m=\u001b[39m _closed_jaxpr\u001b[38;5;241m.\u001b[39mjaxpr, _closed_jaxpr\u001b[38;5;241m.\u001b[39mliterals\n\u001b[0;32m--> 296\u001b[0m flat_out \u001b[38;5;241m=\u001b[39m \u001b[38;5;28;43mself\u001b[39;49m\u001b[38;5;241;43m.\u001b[39;49m\u001b[43m_eval_jaxpr_forward\u001b[49m\u001b[43m(\u001b[49m\n\u001b[1;32m    297\u001b[0m \u001b[43m    \u001b[49m\u001b[43m_stateful_handler\u001b[49m\u001b[43m,\u001b[49m\n\u001b[1;32m    298\u001b[0m \u001b[43m    \u001b[49m\u001b[43m_jaxpr\u001b[49m\u001b[43m,\u001b[49m\n\u001b[1;32m    299\u001b[0m \u001b[43m    \u001b[49m\u001b[43mconsts\u001b[49m\u001b[43m,\u001b[49m\n\u001b[1;32m    300\u001b[0m \u001b[43m    \u001b[49m\u001b[43mflat_primals\u001b[49m\u001b[43m,\u001b[49m\n\u001b[1;32m    301\u001b[0m \u001b[43m    \u001b[49m\u001b[43mflat_tangents\u001b[49m\u001b[43m,\u001b[49m\n\u001b[1;32m    302\u001b[0m \u001b[43m\u001b[49m\u001b[43m)\u001b[49m\n\u001b[1;32m    303\u001b[0m \u001b[38;5;28;01mreturn\u001b[39;00m jtu\u001b[38;5;241m.\u001b[39mtree_unflatten(out_tree(), flat_out)\n",
      "File \u001b[0;32m~/IdeaProjects/genjax/src/genjax/_src/core/interpreters/incremental.py:278\u001b[0m, in \u001b[0;36mIncrementalInterpreter._eval_jaxpr_forward\u001b[0;34m(self, _stateful_handler, _jaxpr, consts, primals, tangents)\u001b[0m\n\u001b[1;32m    276\u001b[0m args \u001b[38;5;241m=\u001b[39m subfuns \u001b[38;5;241m+\u001b[39m induals\n\u001b[1;32m    277\u001b[0m \u001b[38;5;28;01mif\u001b[39;00m _stateful_handler \u001b[38;5;129;01mand\u001b[39;00m _stateful_handler\u001b[38;5;241m.\u001b[39mhandles(_eqn\u001b[38;5;241m.\u001b[39mprimitive):\n\u001b[0;32m--> 278\u001b[0m     outduals \u001b[38;5;241m=\u001b[39m \u001b[43m_stateful_handler\u001b[49m\u001b[38;5;241;43m.\u001b[39;49m\u001b[43mdispatch\u001b[49m\u001b[43m(\u001b[49m\u001b[43m_eqn\u001b[49m\u001b[38;5;241;43m.\u001b[39;49m\u001b[43mprimitive\u001b[49m\u001b[43m,\u001b[49m\u001b[43m \u001b[49m\u001b[38;5;241;43m*\u001b[39;49m\u001b[43margs\u001b[49m\u001b[43m,\u001b[49m\u001b[43m \u001b[49m\u001b[38;5;241;43m*\u001b[39;49m\u001b[38;5;241;43m*\u001b[39;49m\u001b[43m_params\u001b[49m\u001b[43m)\u001b[49m\n\u001b[1;32m    279\u001b[0m \u001b[38;5;28;01melse\u001b[39;00m:\n\u001b[1;32m    280\u001b[0m     outduals \u001b[38;5;241m=\u001b[39m default_propagation_rule(_eqn\u001b[38;5;241m.\u001b[39mprimitive, \u001b[38;5;241m*\u001b[39margs, \u001b[38;5;241m*\u001b[39m\u001b[38;5;241m*\u001b[39m_params)\n",
      "File \u001b[0;32m~/IdeaProjects/genjax/src/genjax/_src/generative_functions/static.py:224\u001b[0m, in \u001b[0;36mStaticHandler.dispatch\u001b[0;34m(self, primitive, *tracers, **_params)\u001b[0m\n\u001b[1;32m    222\u001b[0m addr \u001b[38;5;241m=\u001b[39m Pytree\u001b[38;5;241m.\u001b[39mtree_unwrap_const(addr)\n\u001b[1;32m    223\u001b[0m \u001b[38;5;28;01mif\u001b[39;00m primitive \u001b[38;5;241m==\u001b[39m trace_p:\n\u001b[0;32m--> 224\u001b[0m     v \u001b[38;5;241m=\u001b[39m \u001b[38;5;28;43mself\u001b[39;49m\u001b[38;5;241;43m.\u001b[39;49m\u001b[43mhandle_trace\u001b[49m\u001b[43m(\u001b[49m\u001b[43maddr\u001b[49m\u001b[43m,\u001b[49m\u001b[43m \u001b[49m\u001b[43mgen_fn\u001b[49m\u001b[43m,\u001b[49m\u001b[43m \u001b[49m\u001b[43margs\u001b[49m\u001b[43m)\u001b[49m\n\u001b[1;32m    225\u001b[0m     \u001b[38;5;28;01mreturn\u001b[39;00m \u001b[38;5;28mself\u001b[39m\u001b[38;5;241m.\u001b[39mhandle_retval(v)\n\u001b[1;32m    226\u001b[0m \u001b[38;5;28;01melse\u001b[39;00m:\n",
      "File \u001b[0;32m<@beartype(genjax._src.generative_functions.static.UpdateHandler.handle_trace) at 0x15a946ac0>:89\u001b[0m, in \u001b[0;36mhandle_trace\u001b[0;34m(__beartype_getrandbits, __beartype_get_violation, __beartype_conf, __beartype_object_5542534544, __beartype_func, *args, **kwargs)\u001b[0m\n",
      "File \u001b[0;32m~/IdeaProjects/genjax/src/genjax/_src/generative_functions/static.py:358\u001b[0m, in \u001b[0;36mUpdateHandler.handle_trace\u001b[0;34m(self, addr, gen_fn, args)\u001b[0m\n\u001b[1;32m    356\u001b[0m subproblem \u001b[38;5;241m=\u001b[39m \u001b[38;5;28mself\u001b[39m\u001b[38;5;241m.\u001b[39mget_subproblem(addr)\n\u001b[1;32m    357\u001b[0m \u001b[38;5;28mself\u001b[39m\u001b[38;5;241m.\u001b[39mkey, sub_key \u001b[38;5;241m=\u001b[39m jax\u001b[38;5;241m.\u001b[39mrandom\u001b[38;5;241m.\u001b[39msplit(\u001b[38;5;28mself\u001b[39m\u001b[38;5;241m.\u001b[39mkey)\n\u001b[0;32m--> 358\u001b[0m (tr, w, retval_diff, bwd_problem) \u001b[38;5;241m=\u001b[39m \u001b[43mgen_fn\u001b[49m\u001b[38;5;241;43m.\u001b[39;49m\u001b[43mupdate\u001b[49m\u001b[43m(\u001b[49m\n\u001b[1;32m    359\u001b[0m \u001b[43m    \u001b[49m\u001b[43msub_key\u001b[49m\u001b[43m,\u001b[49m\u001b[43m \u001b[49m\u001b[43msubtrace\u001b[49m\u001b[43m,\u001b[49m\u001b[43m \u001b[49m\u001b[43msubproblem\u001b[49m\u001b[43m,\u001b[49m\u001b[43m \u001b[49m\u001b[43margdiffs\u001b[49m\n\u001b[1;32m    360\u001b[0m \u001b[43m\u001b[49m\u001b[43m)\u001b[49m\n\u001b[1;32m    361\u001b[0m \u001b[38;5;28mself\u001b[39m\u001b[38;5;241m.\u001b[39mscore \u001b[38;5;241m+\u001b[39m\u001b[38;5;241m=\u001b[39m tr\u001b[38;5;241m.\u001b[39mget_score()\n\u001b[1;32m    362\u001b[0m \u001b[38;5;28mself\u001b[39m\u001b[38;5;241m.\u001b[39mweight \u001b[38;5;241m+\u001b[39m\u001b[38;5;241m=\u001b[39m w\n",
      "File \u001b[0;32m<@beartype(genjax._src.generative_functions.combinators.vmap_combinator.VmapCombinator.update) at 0x15a971a80>:103\u001b[0m, in \u001b[0;36mupdate\u001b[0;34m(__beartype_object_4454939968, __beartype_get_violation, __beartype_conf, __beartype_object_5542523376, __beartype_object_5542487936, __beartype_object_5545354208, __beartype_object_5545352928, __beartype_object_5545354688, __beartype_object_5545593216, __beartype_func, *args, **kwargs)\u001b[0m\n",
      "File \u001b[0;32m~/IdeaProjects/genjax/src/genjax/_src/generative_functions/combinators/vmap_combinator.py:273\u001b[0m, in \u001b[0;36mVmapCombinator.update\u001b[0;34m(self, key, trace, update_problem, argdiffs)\u001b[0m\n\u001b[1;32m    268\u001b[0m     \u001b[38;5;28;01mreturn\u001b[39;00m \u001b[38;5;28mself\u001b[39m\u001b[38;5;241m.\u001b[39mupdate_choice_map(key, trace, update_problem, argdiffs)\n\u001b[1;32m    270\u001b[0m \u001b[38;5;28;01mcase\u001b[39;00m ImportanceProblem(constraint) \u001b[38;5;28;01mif\u001b[39;00m \u001b[38;5;28misinstance\u001b[39m(\n\u001b[1;32m    271\u001b[0m     constraint, ChoiceMap\n\u001b[1;32m    272\u001b[0m ) \u001b[38;5;129;01mand\u001b[39;00m \u001b[38;5;28misinstance\u001b[39m(trace, EmptyTrace):\n\u001b[0;32m--> 273\u001b[0m     \u001b[38;5;28;01mreturn\u001b[39;00m \u001b[38;5;28;43mself\u001b[39;49m\u001b[38;5;241;43m.\u001b[39;49m\u001b[43mupdate_importance\u001b[49m\u001b[43m(\u001b[49m\u001b[43mkey\u001b[49m\u001b[43m,\u001b[49m\u001b[43m \u001b[49m\u001b[43mconstraint\u001b[49m\u001b[43m,\u001b[49m\u001b[43m \u001b[49m\u001b[43margdiffs\u001b[49m\u001b[43m)\u001b[49m\n\u001b[1;32m    275\u001b[0m \u001b[38;5;28;01mcase\u001b[39;00m\u001b[38;5;250m \u001b[39m\u001b[38;5;28;01m_\u001b[39;00m:\n\u001b[1;32m    276\u001b[0m     \u001b[38;5;28;01mraise\u001b[39;00m \u001b[38;5;167;01mException\u001b[39;00m(\u001b[38;5;124mf\u001b[39m\u001b[38;5;124m\"\u001b[39m\u001b[38;5;124mNot implemented problem: \u001b[39m\u001b[38;5;132;01m{\u001b[39;00mupdate_problem\u001b[38;5;132;01m}\u001b[39;00m\u001b[38;5;124m\"\u001b[39m)\n",
      "File \u001b[0;32m~/IdeaProjects/genjax/src/genjax/_src/generative_functions/combinators/vmap_combinator.py:191\u001b[0m, in \u001b[0;36mVmapCombinator.update_importance\u001b[0;34m(self, key, choice_map, args)\u001b[0m\n\u001b[1;32m    186\u001b[0m     tr, w, rd, bwd_problem \u001b[38;5;241m=\u001b[39m \u001b[38;5;28mself\u001b[39m\u001b[38;5;241m.\u001b[39mgen_fn\u001b[38;5;241m.\u001b[39mupdate(\n\u001b[1;32m    187\u001b[0m         key, EmptyTrace(\u001b[38;5;28mself\u001b[39m\u001b[38;5;241m.\u001b[39mgen_fn), ImportanceProblem(submap), args\n\u001b[1;32m    188\u001b[0m     )\n\u001b[1;32m    189\u001b[0m     \u001b[38;5;28;01mreturn\u001b[39;00m tr, w, rd, ChoiceMap\u001b[38;5;241m.\u001b[39midx(idx, bwd_problem)\n\u001b[0;32m--> 191\u001b[0m (tr, w, rd, bwd_problem) \u001b[38;5;241m=\u001b[39m \u001b[43mjax\u001b[49m\u001b[38;5;241;43m.\u001b[39;49m\u001b[43mvmap\u001b[49m\u001b[43m(\u001b[49m\n\u001b[1;32m    192\u001b[0m \u001b[43m    \u001b[49m\u001b[43m_importance\u001b[49m\u001b[43m,\u001b[49m\u001b[43m \u001b[49m\u001b[43min_axes\u001b[49m\u001b[38;5;241;43m=\u001b[39;49m\u001b[43m(\u001b[49m\u001b[38;5;241;43m0\u001b[39;49m\u001b[43m,\u001b[49m\u001b[43m \u001b[49m\u001b[38;5;241;43m0\u001b[39;49m\u001b[43m,\u001b[49m\u001b[43m \u001b[49m\u001b[38;5;28;43;01mNone\u001b[39;49;00m\u001b[43m,\u001b[49m\u001b[43m \u001b[49m\u001b[38;5;28;43mself\u001b[39;49m\u001b[38;5;241;43m.\u001b[39;49m\u001b[43min_axes\u001b[49m\u001b[43m)\u001b[49m\n\u001b[1;32m    193\u001b[0m \u001b[43m\u001b[49m\u001b[43m)\u001b[49m\u001b[43m(\u001b[49m\u001b[43msub_keys\u001b[49m\u001b[43m,\u001b[49m\u001b[43m \u001b[49m\u001b[43midx_array\u001b[49m\u001b[43m,\u001b[49m\u001b[43m \u001b[49m\u001b[43mchoice_map\u001b[49m\u001b[43m,\u001b[49m\u001b[43m \u001b[49m\u001b[43margs\u001b[49m\u001b[43m)\u001b[49m\n\u001b[1;32m    194\u001b[0m w \u001b[38;5;241m=\u001b[39m jnp\u001b[38;5;241m.\u001b[39msum(w)\n\u001b[1;32m    195\u001b[0m retval \u001b[38;5;241m=\u001b[39m tr\u001b[38;5;241m.\u001b[39mget_retval()\n",
      "    \u001b[0;31m[... skipping hidden 3 frame]\u001b[0m\n",
      "File \u001b[0;32m~/IdeaProjects/genjax/src/genjax/_src/generative_functions/combinators/vmap_combinator.py:186\u001b[0m, in \u001b[0;36mVmapCombinator.update_importance.<locals>._importance\u001b[0;34m(key, idx, choice_map, args)\u001b[0m\n\u001b[1;32m    184\u001b[0m \u001b[38;5;28;01mdef\u001b[39;00m \u001b[38;5;21m_importance\u001b[39m(key, idx, choice_map, args):\n\u001b[1;32m    185\u001b[0m     submap \u001b[38;5;241m=\u001b[39m choice_map(idx)\n\u001b[0;32m--> 186\u001b[0m     tr, w, rd, bwd_problem \u001b[38;5;241m=\u001b[39m \u001b[38;5;28;43mself\u001b[39;49m\u001b[38;5;241;43m.\u001b[39;49m\u001b[43mgen_fn\u001b[49m\u001b[38;5;241;43m.\u001b[39;49m\u001b[43mupdate\u001b[49m\u001b[43m(\u001b[49m\n\u001b[1;32m    187\u001b[0m \u001b[43m        \u001b[49m\u001b[43mkey\u001b[49m\u001b[43m,\u001b[49m\u001b[43m \u001b[49m\u001b[43mEmptyTrace\u001b[49m\u001b[43m(\u001b[49m\u001b[38;5;28;43mself\u001b[39;49m\u001b[38;5;241;43m.\u001b[39;49m\u001b[43mgen_fn\u001b[49m\u001b[43m)\u001b[49m\u001b[43m,\u001b[49m\u001b[43m \u001b[49m\u001b[43mImportanceProblem\u001b[49m\u001b[43m(\u001b[49m\u001b[43msubmap\u001b[49m\u001b[43m)\u001b[49m\u001b[43m,\u001b[49m\u001b[43m \u001b[49m\u001b[43margs\u001b[49m\n\u001b[1;32m    188\u001b[0m \u001b[43m    \u001b[49m\u001b[43m)\u001b[49m\n\u001b[1;32m    189\u001b[0m     \u001b[38;5;28;01mreturn\u001b[39;00m tr, w, rd, ChoiceMap\u001b[38;5;241m.\u001b[39midx(idx, bwd_problem)\n",
      "File \u001b[0;32m<@beartype(genjax._src.generative_functions.static.StaticGenerativeFunction.update) at 0x15a947e20>:107\u001b[0m, in \u001b[0;36mupdate\u001b[0;34m(__beartype_object_4454939968, __beartype_get_violation, __beartype_conf, __beartype_object_5814687104, __beartype_object_5542487936, __beartype_object_5545354208, __beartype_object_5542523376, __beartype_object_5545352928, __beartype_object_5545354688, __beartype_object_5545593216, __beartype_func, *args, **kwargs)\u001b[0m\n",
      "    \u001b[0;31m[... skipping hidden 1 frame]\u001b[0m\n",
      "File \u001b[0;32m~/IdeaProjects/genjax/src/genjax/_src/generative_functions/static.py:559\u001b[0m, in \u001b[0;36mStaticGenerativeFunction.update\u001b[0;34m(self, key, trace, update_problem, argdiffs)\u001b[0m\n\u001b[1;32m    534\u001b[0m \u001b[38;5;129m@typecheck\u001b[39m\n\u001b[1;32m    535\u001b[0m \u001b[38;5;129m@GenerativeFunction\u001b[39m\u001b[38;5;241m.\u001b[39mgfi_boundary\n\u001b[1;32m    536\u001b[0m \u001b[38;5;28;01mdef\u001b[39;00m \u001b[38;5;21mupdate\u001b[39m(\n\u001b[0;32m   (...)\u001b[0m\n\u001b[1;32m    541\u001b[0m     argdiffs: Argdiffs,\n\u001b[1;32m    542\u001b[0m ) \u001b[38;5;241m-\u001b[39m\u001b[38;5;241m>\u001b[39m Tuple[Trace, Weight, Retdiff, UpdateProblem]:\n\u001b[1;32m    543\u001b[0m     syntax_sugar_handled \u001b[38;5;241m=\u001b[39m push_trace_overload_stack(\n\u001b[1;32m    544\u001b[0m         handler_trace_with_static, \u001b[38;5;28mself\u001b[39m\u001b[38;5;241m.\u001b[39msource\n\u001b[1;32m    545\u001b[0m     )\n\u001b[1;32m    546\u001b[0m     (\n\u001b[1;32m    547\u001b[0m         (\n\u001b[1;32m    548\u001b[0m             retval_diffs,\n\u001b[1;32m    549\u001b[0m             weight,\n\u001b[1;32m    550\u001b[0m             (\n\u001b[1;32m    551\u001b[0m                 arg_primals,\n\u001b[1;32m    552\u001b[0m                 retval_primals,\n\u001b[1;32m    553\u001b[0m                 address_visitor,\n\u001b[1;32m    554\u001b[0m                 address_traces,\n\u001b[1;32m    555\u001b[0m                 score,\n\u001b[1;32m    556\u001b[0m             ),\n\u001b[1;32m    557\u001b[0m             bwd_problems,\n\u001b[1;32m    558\u001b[0m         ),\n\u001b[0;32m--> 559\u001b[0m     ) \u001b[38;5;241m=\u001b[39m \u001b[43mupdate_transform\u001b[49m\u001b[43m(\u001b[49m\u001b[43msyntax_sugar_handled\u001b[49m\u001b[43m)\u001b[49m\u001b[43m(\u001b[49m\u001b[43mkey\u001b[49m\u001b[43m,\u001b[49m\u001b[43m \u001b[49m\u001b[43mtrace\u001b[49m\u001b[43m,\u001b[49m\u001b[43m \u001b[49m\u001b[43mupdate_problem\u001b[49m\u001b[43m,\u001b[49m\u001b[43m \u001b[49m\u001b[43margdiffs\u001b[49m\u001b[43m)\u001b[49m\n\u001b[1;32m    561\u001b[0m     \u001b[38;5;28;01mdef\u001b[39;00m \u001b[38;5;21mmake_bwd_problem\u001b[39m(visitor, subproblems):\n\u001b[1;32m    562\u001b[0m         addresses \u001b[38;5;241m=\u001b[39m visitor\u001b[38;5;241m.\u001b[39mget_visited()\n",
      "File \u001b[0;32m<@beartype(genjax._src.generative_functions.static.update_transform.wrapper) at 0x2d6314ae0>:31\u001b[0m, in \u001b[0;36mwrapper\u001b[0;34m(__beartype_get_violation, __beartype_conf, __beartype_func, *args, **kwargs)\u001b[0m\n",
      "File \u001b[0;32m~/IdeaProjects/genjax/src/genjax/_src/generative_functions/static.py:376\u001b[0m, in \u001b[0;36mupdate_transform.<locals>.wrapper\u001b[0;34m(key, previous_trace, constraints, diffs)\u001b[0m\n\u001b[1;32m    374\u001b[0m diff_primals \u001b[38;5;241m=\u001b[39m Diff\u001b[38;5;241m.\u001b[39mtree_primal(diffs)\n\u001b[1;32m    375\u001b[0m diff_tangents \u001b[38;5;241m=\u001b[39m Diff\u001b[38;5;241m.\u001b[39mtree_tangent(diffs)\n\u001b[0;32m--> 376\u001b[0m retval_diffs \u001b[38;5;241m=\u001b[39m \u001b[43mincremental\u001b[49m\u001b[43m(\u001b[49m\u001b[43msource_fn\u001b[49m\u001b[43m)\u001b[49m\u001b[43m(\u001b[49m\n\u001b[1;32m    377\u001b[0m \u001b[43m    \u001b[49m\u001b[43mstateful_handler\u001b[49m\u001b[43m,\u001b[49m\u001b[43m \u001b[49m\u001b[43mdiff_primals\u001b[49m\u001b[43m,\u001b[49m\u001b[43m \u001b[49m\u001b[43mdiff_tangents\u001b[49m\n\u001b[1;32m    378\u001b[0m \u001b[43m\u001b[49m\u001b[43m)\u001b[49m\n\u001b[1;32m    379\u001b[0m retval_primals \u001b[38;5;241m=\u001b[39m Diff\u001b[38;5;241m.\u001b[39mtree_primal(retval_diffs)\n\u001b[1;32m    380\u001b[0m (\n\u001b[1;32m    381\u001b[0m     score,\n\u001b[1;32m    382\u001b[0m     weight,\n\u001b[0;32m   (...)\u001b[0m\n\u001b[1;32m    385\u001b[0m     bwd_problems,\n\u001b[1;32m    386\u001b[0m ) \u001b[38;5;241m=\u001b[39m stateful_handler\u001b[38;5;241m.\u001b[39myield_state()\n",
      "File \u001b[0;32m<@beartype(genjax._src.core.interpreters.incremental.incremental.wrapped) at 0x2d6317560>:73\u001b[0m, in \u001b[0;36mwrapped\u001b[0;34m(__beartype_object_5539956288, __beartype_get_violation, __beartype_conf, __beartype_func, *args, **kwargs)\u001b[0m\n",
      "File \u001b[0;32m~/IdeaProjects/genjax/src/genjax/_src/core/interpreters/incremental.py:316\u001b[0m, in \u001b[0;36mincremental.<locals>.wrapped\u001b[0;34m(_stateful_handler, primals, tangents)\u001b[0m\n\u001b[1;32m    308\u001b[0m \u001b[38;5;129m@functools\u001b[39m\u001b[38;5;241m.\u001b[39mwraps(f)\n\u001b[1;32m    309\u001b[0m \u001b[38;5;129m@typecheck\u001b[39m\n\u001b[1;32m    310\u001b[0m \u001b[38;5;28;01mdef\u001b[39;00m \u001b[38;5;21mwrapped\u001b[39m(\n\u001b[0;32m   (...)\u001b[0m\n\u001b[1;32m    313\u001b[0m     tangents: Tuple,\n\u001b[1;32m    314\u001b[0m ):\n\u001b[1;32m    315\u001b[0m     interpreter \u001b[38;5;241m=\u001b[39m IncrementalInterpreter()\n\u001b[0;32m--> 316\u001b[0m     \u001b[38;5;28;01mreturn\u001b[39;00m \u001b[43minterpreter\u001b[49m\u001b[38;5;241;43m.\u001b[39;49m\u001b[43mrun_interpreter\u001b[49m\u001b[43m(\u001b[49m\n\u001b[1;32m    317\u001b[0m \u001b[43m        \u001b[49m\u001b[43m_stateful_handler\u001b[49m\u001b[43m,\u001b[49m\n\u001b[1;32m    318\u001b[0m \u001b[43m        \u001b[49m\u001b[43mf\u001b[49m\u001b[43m,\u001b[49m\n\u001b[1;32m    319\u001b[0m \u001b[43m        \u001b[49m\u001b[43mprimals\u001b[49m\u001b[43m,\u001b[49m\n\u001b[1;32m    320\u001b[0m \u001b[43m        \u001b[49m\u001b[43mtangents\u001b[49m\u001b[43m,\u001b[49m\n\u001b[1;32m    321\u001b[0m \u001b[43m    \u001b[49m\u001b[43m)\u001b[49m\n",
      "File \u001b[0;32m~/IdeaProjects/genjax/src/genjax/_src/core/interpreters/incremental.py:296\u001b[0m, in \u001b[0;36mIncrementalInterpreter.run_interpreter\u001b[0;34m(self, _stateful_handler, fn, primals, tangents, **kwargs)\u001b[0m\n\u001b[1;32m    292\u001b[0m flat_tangents \u001b[38;5;241m=\u001b[39m jtu\u001b[38;5;241m.\u001b[39mtree_leaves(\n\u001b[1;32m    293\u001b[0m     tangents, is_leaf\u001b[38;5;241m=\u001b[39m\u001b[38;5;28;01mlambda\u001b[39;00m v: \u001b[38;5;28misinstance\u001b[39m(v, ChangeTangent)\n\u001b[1;32m    294\u001b[0m )\n\u001b[1;32m    295\u001b[0m _jaxpr, consts \u001b[38;5;241m=\u001b[39m _closed_jaxpr\u001b[38;5;241m.\u001b[39mjaxpr, _closed_jaxpr\u001b[38;5;241m.\u001b[39mliterals\n\u001b[0;32m--> 296\u001b[0m flat_out \u001b[38;5;241m=\u001b[39m \u001b[38;5;28;43mself\u001b[39;49m\u001b[38;5;241;43m.\u001b[39;49m\u001b[43m_eval_jaxpr_forward\u001b[49m\u001b[43m(\u001b[49m\n\u001b[1;32m    297\u001b[0m \u001b[43m    \u001b[49m\u001b[43m_stateful_handler\u001b[49m\u001b[43m,\u001b[49m\n\u001b[1;32m    298\u001b[0m \u001b[43m    \u001b[49m\u001b[43m_jaxpr\u001b[49m\u001b[43m,\u001b[49m\n\u001b[1;32m    299\u001b[0m \u001b[43m    \u001b[49m\u001b[43mconsts\u001b[49m\u001b[43m,\u001b[49m\n\u001b[1;32m    300\u001b[0m \u001b[43m    \u001b[49m\u001b[43mflat_primals\u001b[49m\u001b[43m,\u001b[49m\n\u001b[1;32m    301\u001b[0m \u001b[43m    \u001b[49m\u001b[43mflat_tangents\u001b[49m\u001b[43m,\u001b[49m\n\u001b[1;32m    302\u001b[0m \u001b[43m\u001b[49m\u001b[43m)\u001b[49m\n\u001b[1;32m    303\u001b[0m \u001b[38;5;28;01mreturn\u001b[39;00m jtu\u001b[38;5;241m.\u001b[39mtree_unflatten(out_tree(), flat_out)\n",
      "File \u001b[0;32m~/IdeaProjects/genjax/src/genjax/_src/core/interpreters/incremental.py:278\u001b[0m, in \u001b[0;36mIncrementalInterpreter._eval_jaxpr_forward\u001b[0;34m(self, _stateful_handler, _jaxpr, consts, primals, tangents)\u001b[0m\n\u001b[1;32m    276\u001b[0m args \u001b[38;5;241m=\u001b[39m subfuns \u001b[38;5;241m+\u001b[39m induals\n\u001b[1;32m    277\u001b[0m \u001b[38;5;28;01mif\u001b[39;00m _stateful_handler \u001b[38;5;129;01mand\u001b[39;00m _stateful_handler\u001b[38;5;241m.\u001b[39mhandles(_eqn\u001b[38;5;241m.\u001b[39mprimitive):\n\u001b[0;32m--> 278\u001b[0m     outduals \u001b[38;5;241m=\u001b[39m \u001b[43m_stateful_handler\u001b[49m\u001b[38;5;241;43m.\u001b[39;49m\u001b[43mdispatch\u001b[49m\u001b[43m(\u001b[49m\u001b[43m_eqn\u001b[49m\u001b[38;5;241;43m.\u001b[39;49m\u001b[43mprimitive\u001b[49m\u001b[43m,\u001b[49m\u001b[43m \u001b[49m\u001b[38;5;241;43m*\u001b[39;49m\u001b[43margs\u001b[49m\u001b[43m,\u001b[49m\u001b[43m \u001b[49m\u001b[38;5;241;43m*\u001b[39;49m\u001b[38;5;241;43m*\u001b[39;49m\u001b[43m_params\u001b[49m\u001b[43m)\u001b[49m\n\u001b[1;32m    279\u001b[0m \u001b[38;5;28;01melse\u001b[39;00m:\n\u001b[1;32m    280\u001b[0m     outduals \u001b[38;5;241m=\u001b[39m default_propagation_rule(_eqn\u001b[38;5;241m.\u001b[39mprimitive, \u001b[38;5;241m*\u001b[39margs, \u001b[38;5;241m*\u001b[39m\u001b[38;5;241m*\u001b[39m_params)\n",
      "File \u001b[0;32m~/IdeaProjects/genjax/src/genjax/_src/generative_functions/static.py:224\u001b[0m, in \u001b[0;36mStaticHandler.dispatch\u001b[0;34m(self, primitive, *tracers, **_params)\u001b[0m\n\u001b[1;32m    222\u001b[0m addr \u001b[38;5;241m=\u001b[39m Pytree\u001b[38;5;241m.\u001b[39mtree_unwrap_const(addr)\n\u001b[1;32m    223\u001b[0m \u001b[38;5;28;01mif\u001b[39;00m primitive \u001b[38;5;241m==\u001b[39m trace_p:\n\u001b[0;32m--> 224\u001b[0m     v \u001b[38;5;241m=\u001b[39m \u001b[38;5;28;43mself\u001b[39;49m\u001b[38;5;241;43m.\u001b[39;49m\u001b[43mhandle_trace\u001b[49m\u001b[43m(\u001b[49m\u001b[43maddr\u001b[49m\u001b[43m,\u001b[49m\u001b[43m \u001b[49m\u001b[43mgen_fn\u001b[49m\u001b[43m,\u001b[49m\u001b[43m \u001b[49m\u001b[43margs\u001b[49m\u001b[43m)\u001b[49m\n\u001b[1;32m    225\u001b[0m     \u001b[38;5;28;01mreturn\u001b[39;00m \u001b[38;5;28mself\u001b[39m\u001b[38;5;241m.\u001b[39mhandle_retval(v)\n\u001b[1;32m    226\u001b[0m \u001b[38;5;28;01melse\u001b[39;00m:\n",
      "File \u001b[0;32m<@beartype(genjax._src.generative_functions.static.UpdateHandler.handle_trace) at 0x15a946ac0>:89\u001b[0m, in \u001b[0;36mhandle_trace\u001b[0;34m(__beartype_getrandbits, __beartype_get_violation, __beartype_conf, __beartype_object_5542534544, __beartype_func, *args, **kwargs)\u001b[0m\n",
      "File \u001b[0;32m~/IdeaProjects/genjax/src/genjax/_src/generative_functions/static.py:358\u001b[0m, in \u001b[0;36mUpdateHandler.handle_trace\u001b[0;34m(self, addr, gen_fn, args)\u001b[0m\n\u001b[1;32m    356\u001b[0m subproblem \u001b[38;5;241m=\u001b[39m \u001b[38;5;28mself\u001b[39m\u001b[38;5;241m.\u001b[39mget_subproblem(addr)\n\u001b[1;32m    357\u001b[0m \u001b[38;5;28mself\u001b[39m\u001b[38;5;241m.\u001b[39mkey, sub_key \u001b[38;5;241m=\u001b[39m jax\u001b[38;5;241m.\u001b[39mrandom\u001b[38;5;241m.\u001b[39msplit(\u001b[38;5;28mself\u001b[39m\u001b[38;5;241m.\u001b[39mkey)\n\u001b[0;32m--> 358\u001b[0m (tr, w, retval_diff, bwd_problem) \u001b[38;5;241m=\u001b[39m \u001b[43mgen_fn\u001b[49m\u001b[38;5;241;43m.\u001b[39;49m\u001b[43mupdate\u001b[49m\u001b[43m(\u001b[49m\n\u001b[1;32m    359\u001b[0m \u001b[43m    \u001b[49m\u001b[43msub_key\u001b[49m\u001b[43m,\u001b[49m\u001b[43m \u001b[49m\u001b[43msubtrace\u001b[49m\u001b[43m,\u001b[49m\u001b[43m \u001b[49m\u001b[43msubproblem\u001b[49m\u001b[43m,\u001b[49m\u001b[43m \u001b[49m\u001b[43margdiffs\u001b[49m\n\u001b[1;32m    360\u001b[0m \u001b[43m\u001b[49m\u001b[43m)\u001b[49m\n\u001b[1;32m    361\u001b[0m \u001b[38;5;28mself\u001b[39m\u001b[38;5;241m.\u001b[39mscore \u001b[38;5;241m+\u001b[39m\u001b[38;5;241m=\u001b[39m tr\u001b[38;5;241m.\u001b[39mget_score()\n\u001b[1;32m    362\u001b[0m \u001b[38;5;28mself\u001b[39m\u001b[38;5;241m.\u001b[39mweight \u001b[38;5;241m+\u001b[39m\u001b[38;5;241m=\u001b[39m w\n",
      "    \u001b[0;31m[... skipping hidden 1 frame]\u001b[0m\n",
      "File \u001b[0;32m<@beartype(genjax._src.generative_functions.distributions.distribution.Distribution.update) at 0x14a990360>:103\u001b[0m, in \u001b[0;36mupdate\u001b[0;34m(__beartype_object_4454939968, __beartype_get_violation, __beartype_conf, __beartype_object_5542523376, __beartype_object_5542487936, __beartype_object_5545354208, __beartype_object_5545352928, __beartype_object_5545354688, __beartype_object_5545593216, __beartype_func, *args, **kwargs)\u001b[0m\n",
      "File \u001b[0;32m~/IdeaProjects/genjax/src/genjax/_src/generative_functions/distributions/distribution.py:443\u001b[0m, in \u001b[0;36mDistribution.update\u001b[0;34m(self, key, trace, update_problem, argdiffs)\u001b[0m\n\u001b[1;32m    438\u001b[0m     \u001b[38;5;28;01mreturn\u001b[39;00m \u001b[38;5;28mself\u001b[39m\u001b[38;5;241m.\u001b[39mupdate_selection_project(\n\u001b[1;32m    439\u001b[0m         key, trace, update_problem, argdiffs\n\u001b[1;32m    440\u001b[0m     )\n\u001b[1;32m    442\u001b[0m \u001b[38;5;28;01mcase\u001b[39;00m ImportanceProblem(constraint) \u001b[38;5;28;01mif\u001b[39;00m \u001b[38;5;28misinstance\u001b[39m(trace, EmptyTrace):\n\u001b[0;32m--> 443\u001b[0m     \u001b[38;5;28;01mreturn\u001b[39;00m \u001b[38;5;28;43mself\u001b[39;49m\u001b[38;5;241;43m.\u001b[39;49m\u001b[43mupdate_importance\u001b[49m\u001b[43m(\u001b[49m\n\u001b[1;32m    444\u001b[0m \u001b[43m        \u001b[49m\u001b[43mkey\u001b[49m\u001b[43m,\u001b[49m\u001b[43m \u001b[49m\u001b[43mconstraint\u001b[49m\u001b[43m,\u001b[49m\u001b[43m \u001b[49m\u001b[43mDiff\u001b[49m\u001b[38;5;241;43m.\u001b[39;49m\u001b[43mtree_primal\u001b[49m\u001b[43m(\u001b[49m\u001b[43margdiffs\u001b[49m\u001b[43m)\u001b[49m\n\u001b[1;32m    445\u001b[0m \u001b[43m    \u001b[49m\u001b[43m)\u001b[49m\n\u001b[1;32m    447\u001b[0m \u001b[38;5;28;01mcase\u001b[39;00m\u001b[38;5;250m \u001b[39m\u001b[38;5;28;01m_\u001b[39;00m:\n\u001b[1;32m    448\u001b[0m     \u001b[38;5;28;01mraise\u001b[39;00m \u001b[38;5;167;01mException\u001b[39;00m(\u001b[38;5;124mf\u001b[39m\u001b[38;5;124m\"\u001b[39m\u001b[38;5;124mNot implement fwd problem: \u001b[39m\u001b[38;5;132;01m{\u001b[39;00mupdate_problem\u001b[38;5;132;01m}\u001b[39;00m\u001b[38;5;124m.\u001b[39m\u001b[38;5;124m\"\u001b[39m)\n",
      "File \u001b[0;32m<@beartype(genjax._src.generative_functions.distributions.distribution.Distribution.update_importance) at 0x14a96bba0>:79\u001b[0m, in \u001b[0;36mupdate_importance\u001b[0;34m(__beartype_object_4454939968, __beartype_get_violation, __beartype_conf, __beartype_object_5542498944, __beartype_object_5542523376, __beartype_object_5545352928, __beartype_object_5545354688, __beartype_object_5542487936, __beartype_object_5545593216, __beartype_func, *args, **kwargs)\u001b[0m\n",
      "File \u001b[0;32m~/IdeaProjects/genjax/src/genjax/_src/generative_functions/distributions/distribution.py:195\u001b[0m, in \u001b[0;36mDistribution.update_importance\u001b[0;34m(self, key, constraint, args)\u001b[0m\n\u001b[1;32m    193\u001b[0m \u001b[38;5;28;01mmatch\u001b[39;00m constraint:\n\u001b[1;32m    194\u001b[0m     \u001b[38;5;28;01mcase\u001b[39;00m ChoiceMap():\n\u001b[0;32m--> 195\u001b[0m         tr, w, bwd_problem \u001b[38;5;241m=\u001b[39m \u001b[38;5;28;43mself\u001b[39;49m\u001b[38;5;241;43m.\u001b[39;49m\u001b[43mimportance_choice_map\u001b[49m\u001b[43m(\u001b[49m\u001b[43mkey\u001b[49m\u001b[43m,\u001b[49m\u001b[43m \u001b[49m\u001b[43mconstraint\u001b[49m\u001b[43m,\u001b[49m\u001b[43m \u001b[49m\u001b[43margs\u001b[49m\u001b[43m)\u001b[49m\n\u001b[1;32m    196\u001b[0m     \u001b[38;5;28;01mcase\u001b[39;00m MaskedConstraint(flag, inner_constraint):\n\u001b[1;32m    197\u001b[0m         \u001b[38;5;28;01mif\u001b[39;00m staged_check(flag):\n",
      "File \u001b[0;32m<@beartype(genjax._src.generative_functions.distributions.distribution.Distribution.importance_choice_map) at 0x14a96b920>:74\u001b[0m, in \u001b[0;36mimportance_choice_map\u001b[0;34m(__beartype_object_4454939968, __beartype_get_violation, __beartype_conf, __beartype_object_5542587648, __beartype_func, *args, **kwargs)\u001b[0m\n",
      "File \u001b[0;32m~/IdeaProjects/genjax/src/genjax/_src/generative_functions/distributions/distribution.py:147\u001b[0m, in \u001b[0;36mDistribution.importance_choice_map\u001b[0;34m(self, key, chm, args)\u001b[0m\n\u001b[1;32m    144\u001b[0m     w \u001b[38;5;241m=\u001b[39m \u001b[38;5;28mself\u001b[39m\u001b[38;5;241m.\u001b[39mestimate_logpdf(key, v, \u001b[38;5;241m*\u001b[39margs)\n\u001b[1;32m    145\u001b[0m     \u001b[38;5;28;01mreturn\u001b[39;00m (w, w, v)\n\u001b[0;32m--> 147\u001b[0m score, w, new_v \u001b[38;5;241m=\u001b[39m \u001b[43mcond\u001b[49m\u001b[43m(\u001b[49m\u001b[43mflag\u001b[49m\u001b[43m,\u001b[49m\u001b[43m \u001b[49m\u001b[43m_importance\u001b[49m\u001b[43m,\u001b[49m\u001b[43m \u001b[49m\u001b[43m_simulate\u001b[49m\u001b[43m,\u001b[49m\u001b[43m \u001b[49m\u001b[43mkey\u001b[49m\u001b[43m,\u001b[49m\u001b[43m \u001b[49m\u001b[43mvalue\u001b[49m\u001b[43m)\u001b[49m\n\u001b[1;32m    148\u001b[0m tr \u001b[38;5;241m=\u001b[39m DistributionTrace(\u001b[38;5;28mself\u001b[39m, args, new_v, score)\n\u001b[1;32m    149\u001b[0m bwd_problem \u001b[38;5;241m=\u001b[39m MaskedProblem(flag, ProjectProblem())\n",
      "    \u001b[0;31m[... skipping hidden 3 frame]\u001b[0m\n",
      "File \u001b[0;32m~/IdeaProjects/genjax/.venv/lib/python3.12/site-packages/jax/_src/lax/control_flow/common.py:215\u001b[0m, in \u001b[0;36m_check_tree_and_avals\u001b[0;34m(what, tree1, avals1, tree2, avals2)\u001b[0m\n\u001b[1;32m    212\u001b[0m \u001b[38;5;28;01mif\u001b[39;00m \u001b[38;5;129;01mnot\u001b[39;00m \u001b[38;5;28mall\u001b[39m(\u001b[38;5;28mmap\u001b[39m(core\u001b[38;5;241m.\u001b[39mtypematch, avals1, avals2)):\n\u001b[1;32m    213\u001b[0m   diff \u001b[38;5;241m=\u001b[39m tree_map(_show_diff, tree_unflatten(tree1, avals1),\n\u001b[1;32m    214\u001b[0m                   tree_unflatten(tree2, avals2))\n\u001b[0;32m--> 215\u001b[0m   \u001b[38;5;28;01mraise\u001b[39;00m \u001b[38;5;167;01mTypeError\u001b[39;00m(\u001b[38;5;124mf\u001b[39m\u001b[38;5;124m\"\u001b[39m\u001b[38;5;132;01m{\u001b[39;00mwhat\u001b[38;5;132;01m}\u001b[39;00m\u001b[38;5;124m must have identical types, got\u001b[39m\u001b[38;5;130;01m\\n\u001b[39;00m\u001b[38;5;132;01m{\u001b[39;00mdiff\u001b[38;5;132;01m}\u001b[39;00m\u001b[38;5;124m.\u001b[39m\u001b[38;5;124m\"\u001b[39m)\n",
      "\u001b[0;31mTypeError\u001b[0m: true_fun and false_fun output must have identical types, got\n('ShapedArray(float32[])', 'DIFFERENT ShapedArray(float32[]) vs. ShapedArray(float64[], weak_type=True)', 'ShapedArray(int32[])')."
     ]
    }
   ],
   "source": [
    "sub_keys = jrand.split(key, 50)\n",
    "posterior_samples = jit(vmap(alg(target)))(sub_keys)"
   ]
  },
  {
   "cell_type": "markdown",
   "metadata": {},
   "source": [
    "With samples from our approximate posterior in hand, we can check queries like \"estimate the probability that a point is an outlier\":"
   ]
  },
  {
   "cell_type": "code",
   "execution_count": 17,
   "metadata": {},
   "outputs": [
    {
     "ename": "NameError",
     "evalue": "name 'posterior_samples' is not defined",
     "output_type": "error",
     "traceback": [
      "\u001b[0;31m---------------------------------------------------------------------------\u001b[0m",
      "\u001b[0;31mNameError\u001b[0m                                 Traceback (most recent call last)",
      "Cell \u001b[0;32mIn[17], line 1\u001b[0m\n\u001b[0;32m----> 1\u001b[0m \u001b[43mposterior_samples\u001b[49m[\u001b[38;5;124m\"\u001b[39m\u001b[38;5;124mys\u001b[39m\u001b[38;5;124m\"\u001b[39m, \u001b[38;5;241m.\u001b[39m\u001b[38;5;241m.\u001b[39m\u001b[38;5;241m.\u001b[39m, \u001b[38;5;124m\"\u001b[39m\u001b[38;5;124mis_outlier\u001b[39m\u001b[38;5;124m\"\u001b[39m]\n",
      "\u001b[0;31mNameError\u001b[0m: name 'posterior_samples' is not defined"
     ]
    }
   ],
   "source": [
    "posterior_samples[\"ys\", ..., \"is_outlier\"]"
   ]
  },
  {
   "cell_type": "markdown",
   "metadata": {},
   "source": [
    "Here, we see that our approximate posterior assigns high probability to the query \"the 3rd data point is an outlier\". Remember, we set this point to be far away from the other points."
   ]
  },
  {
   "cell_type": "code",
   "execution_count": 18,
   "metadata": {},
   "outputs": [
    {
     "ename": "NameError",
     "evalue": "name 'posterior_samples' is not defined",
     "output_type": "error",
     "traceback": [
      "\u001b[0;31m---------------------------------------------------------------------------\u001b[0m",
      "\u001b[0;31mNameError\u001b[0m                                 Traceback (most recent call last)",
      "Cell \u001b[0;32mIn[18], line 1\u001b[0m\n\u001b[0;32m----> 1\u001b[0m \u001b[43mposterior_samples\u001b[49m[\u001b[38;5;124m\"\u001b[39m\u001b[38;5;124mys\u001b[39m\u001b[38;5;124m\"\u001b[39m, \u001b[38;5;241m.\u001b[39m\u001b[38;5;241m.\u001b[39m\u001b[38;5;241m.\u001b[39m, \u001b[38;5;124m\"\u001b[39m\u001b[38;5;124mis_outlier\u001b[39m\u001b[38;5;124m\"\u001b[39m]\u001b[38;5;241m.\u001b[39mmean(axis\u001b[38;5;241m=\u001b[39m\u001b[38;5;241m0\u001b[39m)\n",
      "\u001b[0;31mNameError\u001b[0m: name 'posterior_samples' is not defined"
     ]
    }
   ],
   "source": [
    "posterior_samples[\"ys\", ..., \"is_outlier\"].mean(axis=0)"
   ]
  },
  {
   "cell_type": "markdown",
   "metadata": {},
   "source": [
    "We can also plot the sampled curves against the data."
   ]
  },
  {
   "cell_type": "code",
   "execution_count": 19,
   "metadata": {},
   "outputs": [
    {
     "ename": "NameError",
     "evalue": "name 'viz' is not defined",
     "output_type": "error",
     "traceback": [
      "\u001b[0;31m---------------------------------------------------------------------------\u001b[0m",
      "\u001b[0;31mNameError\u001b[0m                                 Traceback (most recent call last)",
      "Cell \u001b[0;32mIn[19], line 16\u001b[0m\n\u001b[1;32m     12\u001b[0m     ax\u001b[38;5;241m.\u001b[39mscatter(jnp\u001b[38;5;241m.\u001b[39mrepeat(x, \u001b[38;5;28mlen\u001b[39m(v)), v, \u001b[38;5;241m*\u001b[39m\u001b[38;5;241m*\u001b[39mkwargs)\n\u001b[1;32m     15\u001b[0m fig_data, ax_data \u001b[38;5;241m=\u001b[39m plt\u001b[38;5;241m.\u001b[39msubplots(figsize\u001b[38;5;241m=\u001b[39m(\u001b[38;5;241m6\u001b[39m, \u001b[38;5;241m6\u001b[39m))\n\u001b[0;32m---> 16\u001b[0m \u001b[43mviz\u001b[49m(ax_data, x, y, color\u001b[38;5;241m=\u001b[39m\u001b[38;5;124m\"\u001b[39m\u001b[38;5;124mblue\u001b[39m\u001b[38;5;124m\"\u001b[39m)\n\u001b[1;32m     17\u001b[0m coefficients \u001b[38;5;241m=\u001b[39m posterior_samples[\u001b[38;5;124m\"\u001b[39m\u001b[38;5;124malpha\u001b[39m\u001b[38;5;124m\"\u001b[39m]\n\u001b[1;32m     18\u001b[0m evaluation_points \u001b[38;5;241m=\u001b[39m jnp\u001b[38;5;241m.\u001b[39marange(\u001b[38;5;241m0\u001b[39m, \u001b[38;5;241m5\u001b[39m, \u001b[38;5;241m0.01\u001b[39m)\n",
      "\u001b[0;31mNameError\u001b[0m: name 'viz' is not defined"
     ]
    },
    {
     "data": {
      "image/svg+xml": [
       "<?xml version=\"1.0\" encoding=\"utf-8\" standalone=\"no\"?>\n",
       "<!DOCTYPE svg PUBLIC \"-//W3C//DTD SVG 1.1//EN\"\n",
       "  \"http://www.w3.org/Graphics/SVG/1.1/DTD/svg11.dtd\">\n",
       "<svg xmlns:xlink=\"http://www.w3.org/1999/xlink\" width=\"381.635pt\" height=\"370.536641pt\" viewBox=\"0 0 381.635 370.536641\" xmlns=\"http://www.w3.org/2000/svg\" version=\"1.1\">\n",
       " <metadata>\n",
       "  <rdf:RDF xmlns:dc=\"http://purl.org/dc/elements/1.1/\" xmlns:cc=\"http://creativecommons.org/ns#\" xmlns:rdf=\"http://www.w3.org/1999/02/22-rdf-syntax-ns#\">\n",
       "   <cc:Work>\n",
       "    <dc:type rdf:resource=\"http://purl.org/dc/dcmitype/StillImage\"/>\n",
       "    <dc:date>2024-05-23T12:41:14.396767</dc:date>\n",
       "    <dc:format>image/svg+xml</dc:format>\n",
       "    <dc:creator>\n",
       "     <cc:Agent>\n",
       "      <dc:title>Matplotlib v3.8.4, https://matplotlib.org/</dc:title>\n",
       "     </cc:Agent>\n",
       "    </dc:creator>\n",
       "   </cc:Work>\n",
       "  </rdf:RDF>\n",
       " </metadata>\n",
       " <defs>\n",
       "  <style type=\"text/css\">*{stroke-linejoin: round; stroke-linecap: butt}</style>\n",
       " </defs>\n",
       " <g id=\"figure_1\">\n",
       "  <g id=\"patch_1\">\n",
       "   <path d=\"M 0 370.536641 \n",
       "L 381.635 370.536641 \n",
       "L 381.635 0 \n",
       "L 0 0 \n",
       "L 0 370.536641 \n",
       "z\n",
       "\" style=\"fill: none\"/>\n",
       "  </g>\n",
       "  <g id=\"axes_1\">\n",
       "   <g id=\"patch_2\">\n",
       "    <path d=\"M 31.99 343.776797 \n",
       "L 366.79 343.776797 \n",
       "L 366.79 11.136797 \n",
       "L 31.99 11.136797 \n",
       "z\n",
       "\" style=\"fill: #ffffff\"/>\n",
       "   </g>\n",
       "   <g id=\"matplotlib.axis_1\">\n",
       "    <g id=\"xtick_1\">\n",
       "     <g id=\"text_1\">\n",
       "      <!-- 0.0 -->\n",
       "      <g style=\"fill: #262626\" transform=\"translate(24.345 361.150391) scale(0.11 -0.11)\">\n",
       "       <defs>\n",
       "        <path id=\"ArialMT-30\" d=\"M 266 2259 \n",
       "Q 266 3072 433 3567 \n",
       "Q 600 4063 929 4331 \n",
       "Q 1259 4600 1759 4600 \n",
       "Q 2128 4600 2406 4451 \n",
       "Q 2684 4303 2865 4023 \n",
       "Q 3047 3744 3150 3342 \n",
       "Q 3253 2941 3253 2259 \n",
       "Q 3253 1453 3087 958 \n",
       "Q 2922 463 2592 192 \n",
       "Q 2263 -78 1759 -78 \n",
       "Q 1097 -78 719 397 \n",
       "Q 266 969 266 2259 \n",
       "z\n",
       "M 844 2259 \n",
       "Q 844 1131 1108 757 \n",
       "Q 1372 384 1759 384 \n",
       "Q 2147 384 2411 759 \n",
       "Q 2675 1134 2675 2259 \n",
       "Q 2675 3391 2411 3762 \n",
       "Q 2147 4134 1753 4134 \n",
       "Q 1366 4134 1134 3806 \n",
       "Q 844 3388 844 2259 \n",
       "z\n",
       "\" transform=\"scale(0.015625)\"/>\n",
       "        <path id=\"ArialMT-2e\" d=\"M 581 0 \n",
       "L 581 641 \n",
       "L 1222 641 \n",
       "L 1222 0 \n",
       "L 581 0 \n",
       "z\n",
       "\" transform=\"scale(0.015625)\"/>\n",
       "       </defs>\n",
       "       <use xlink:href=\"#ArialMT-30\"/>\n",
       "       <use xlink:href=\"#ArialMT-2e\" x=\"55.615234\"/>\n",
       "       <use xlink:href=\"#ArialMT-30\" x=\"83.398438\"/>\n",
       "      </g>\n",
       "     </g>\n",
       "    </g>\n",
       "    <g id=\"xtick_2\">\n",
       "     <g id=\"text_2\">\n",
       "      <!-- 0.2 -->\n",
       "      <g style=\"fill: #262626\" transform=\"translate(91.305 361.150391) scale(0.11 -0.11)\">\n",
       "       <defs>\n",
       "        <path id=\"ArialMT-32\" d=\"M 3222 541 \n",
       "L 3222 0 \n",
       "L 194 0 \n",
       "Q 188 203 259 391 \n",
       "Q 375 700 629 1000 \n",
       "Q 884 1300 1366 1694 \n",
       "Q 2113 2306 2375 2664 \n",
       "Q 2638 3022 2638 3341 \n",
       "Q 2638 3675 2398 3904 \n",
       "Q 2159 4134 1775 4134 \n",
       "Q 1369 4134 1125 3890 \n",
       "Q 881 3647 878 3216 \n",
       "L 300 3275 \n",
       "Q 359 3922 746 4261 \n",
       "Q 1134 4600 1788 4600 \n",
       "Q 2447 4600 2831 4234 \n",
       "Q 3216 3869 3216 3328 \n",
       "Q 3216 3053 3103 2787 \n",
       "Q 2991 2522 2730 2228 \n",
       "Q 2469 1934 1863 1422 \n",
       "Q 1356 997 1212 845 \n",
       "Q 1069 694 975 541 \n",
       "L 3222 541 \n",
       "z\n",
       "\" transform=\"scale(0.015625)\"/>\n",
       "       </defs>\n",
       "       <use xlink:href=\"#ArialMT-30\"/>\n",
       "       <use xlink:href=\"#ArialMT-2e\" x=\"55.615234\"/>\n",
       "       <use xlink:href=\"#ArialMT-32\" x=\"83.398438\"/>\n",
       "      </g>\n",
       "     </g>\n",
       "    </g>\n",
       "    <g id=\"xtick_3\">\n",
       "     <g id=\"text_3\">\n",
       "      <!-- 0.4 -->\n",
       "      <g style=\"fill: #262626\" transform=\"translate(158.265 361.150391) scale(0.11 -0.11)\">\n",
       "       <defs>\n",
       "        <path id=\"ArialMT-34\" d=\"M 2069 0 \n",
       "L 2069 1097 \n",
       "L 81 1097 \n",
       "L 81 1613 \n",
       "L 2172 4581 \n",
       "L 2631 4581 \n",
       "L 2631 1613 \n",
       "L 3250 1613 \n",
       "L 3250 1097 \n",
       "L 2631 1097 \n",
       "L 2631 0 \n",
       "L 2069 0 \n",
       "z\n",
       "M 2069 1613 \n",
       "L 2069 3678 \n",
       "L 634 1613 \n",
       "L 2069 1613 \n",
       "z\n",
       "\" transform=\"scale(0.015625)\"/>\n",
       "       </defs>\n",
       "       <use xlink:href=\"#ArialMT-30\"/>\n",
       "       <use xlink:href=\"#ArialMT-2e\" x=\"55.615234\"/>\n",
       "       <use xlink:href=\"#ArialMT-34\" x=\"83.398438\"/>\n",
       "      </g>\n",
       "     </g>\n",
       "    </g>\n",
       "    <g id=\"xtick_4\">\n",
       "     <g id=\"text_4\">\n",
       "      <!-- 0.6 -->\n",
       "      <g style=\"fill: #262626\" transform=\"translate(225.225 361.150391) scale(0.11 -0.11)\">\n",
       "       <defs>\n",
       "        <path id=\"ArialMT-36\" d=\"M 3184 3459 \n",
       "L 2625 3416 \n",
       "Q 2550 3747 2413 3897 \n",
       "Q 2184 4138 1850 4138 \n",
       "Q 1581 4138 1378 3988 \n",
       "Q 1113 3794 959 3422 \n",
       "Q 806 3050 800 2363 \n",
       "Q 1003 2672 1297 2822 \n",
       "Q 1591 2972 1913 2972 \n",
       "Q 2475 2972 2870 2558 \n",
       "Q 3266 2144 3266 1488 \n",
       "Q 3266 1056 3080 686 \n",
       "Q 2894 316 2569 119 \n",
       "Q 2244 -78 1831 -78 \n",
       "Q 1128 -78 684 439 \n",
       "Q 241 956 241 2144 \n",
       "Q 241 3472 731 4075 \n",
       "Q 1159 4600 1884 4600 \n",
       "Q 2425 4600 2770 4297 \n",
       "Q 3116 3994 3184 3459 \n",
       "z\n",
       "M 888 1484 \n",
       "Q 888 1194 1011 928 \n",
       "Q 1134 663 1356 523 \n",
       "Q 1578 384 1822 384 \n",
       "Q 2178 384 2434 671 \n",
       "Q 2691 959 2691 1453 \n",
       "Q 2691 1928 2437 2201 \n",
       "Q 2184 2475 1800 2475 \n",
       "Q 1419 2475 1153 2201 \n",
       "Q 888 1928 888 1484 \n",
       "z\n",
       "\" transform=\"scale(0.015625)\"/>\n",
       "       </defs>\n",
       "       <use xlink:href=\"#ArialMT-30\"/>\n",
       "       <use xlink:href=\"#ArialMT-2e\" x=\"55.615234\"/>\n",
       "       <use xlink:href=\"#ArialMT-36\" x=\"83.398438\"/>\n",
       "      </g>\n",
       "     </g>\n",
       "    </g>\n",
       "    <g id=\"xtick_5\">\n",
       "     <g id=\"text_5\">\n",
       "      <!-- 0.8 -->\n",
       "      <g style=\"fill: #262626\" transform=\"translate(292.185 361.150391) scale(0.11 -0.11)\">\n",
       "       <defs>\n",
       "        <path id=\"ArialMT-38\" d=\"M 1131 2484 \n",
       "Q 781 2613 612 2850 \n",
       "Q 444 3088 444 3419 \n",
       "Q 444 3919 803 4259 \n",
       "Q 1163 4600 1759 4600 \n",
       "Q 2359 4600 2725 4251 \n",
       "Q 3091 3903 3091 3403 \n",
       "Q 3091 3084 2923 2848 \n",
       "Q 2756 2613 2416 2484 \n",
       "Q 2838 2347 3058 2040 \n",
       "Q 3278 1734 3278 1309 \n",
       "Q 3278 722 2862 322 \n",
       "Q 2447 -78 1769 -78 \n",
       "Q 1091 -78 675 323 \n",
       "Q 259 725 259 1325 \n",
       "Q 259 1772 486 2073 \n",
       "Q 713 2375 1131 2484 \n",
       "z\n",
       "M 1019 3438 \n",
       "Q 1019 3113 1228 2906 \n",
       "Q 1438 2700 1772 2700 \n",
       "Q 2097 2700 2305 2904 \n",
       "Q 2513 3109 2513 3406 \n",
       "Q 2513 3716 2298 3927 \n",
       "Q 2084 4138 1766 4138 \n",
       "Q 1444 4138 1231 3931 \n",
       "Q 1019 3725 1019 3438 \n",
       "z\n",
       "M 838 1322 \n",
       "Q 838 1081 952 856 \n",
       "Q 1066 631 1291 507 \n",
       "Q 1516 384 1775 384 \n",
       "Q 2178 384 2440 643 \n",
       "Q 2703 903 2703 1303 \n",
       "Q 2703 1709 2433 1975 \n",
       "Q 2163 2241 1756 2241 \n",
       "Q 1359 2241 1098 1978 \n",
       "Q 838 1716 838 1322 \n",
       "z\n",
       "\" transform=\"scale(0.015625)\"/>\n",
       "       </defs>\n",
       "       <use xlink:href=\"#ArialMT-30\"/>\n",
       "       <use xlink:href=\"#ArialMT-2e\" x=\"55.615234\"/>\n",
       "       <use xlink:href=\"#ArialMT-38\" x=\"83.398438\"/>\n",
       "      </g>\n",
       "     </g>\n",
       "    </g>\n",
       "    <g id=\"xtick_6\">\n",
       "     <g id=\"text_6\">\n",
       "      <!-- 1.0 -->\n",
       "      <g style=\"fill: #262626\" transform=\"translate(359.145 361.150391) scale(0.11 -0.11)\">\n",
       "       <defs>\n",
       "        <path id=\"ArialMT-31\" d=\"M 2384 0 \n",
       "L 1822 0 \n",
       "L 1822 3584 \n",
       "Q 1619 3391 1289 3197 \n",
       "Q 959 3003 697 2906 \n",
       "L 697 3450 \n",
       "Q 1169 3672 1522 3987 \n",
       "Q 1875 4303 2022 4600 \n",
       "L 2384 4600 \n",
       "L 2384 0 \n",
       "z\n",
       "\" transform=\"scale(0.015625)\"/>\n",
       "       </defs>\n",
       "       <use xlink:href=\"#ArialMT-31\"/>\n",
       "       <use xlink:href=\"#ArialMT-2e\" x=\"55.615234\"/>\n",
       "       <use xlink:href=\"#ArialMT-30\" x=\"83.398438\"/>\n",
       "      </g>\n",
       "     </g>\n",
       "    </g>\n",
       "   </g>\n",
       "   <g id=\"matplotlib.axis_2\">\n",
       "    <g id=\"ytick_1\">\n",
       "     <g id=\"text_7\">\n",
       "      <!-- 0.0 -->\n",
       "      <g style=\"fill: #262626\" transform=\"translate(7.2 347.713594) scale(0.11 -0.11)\">\n",
       "       <use xlink:href=\"#ArialMT-30\"/>\n",
       "       <use xlink:href=\"#ArialMT-2e\" x=\"55.615234\"/>\n",
       "       <use xlink:href=\"#ArialMT-30\" x=\"83.398438\"/>\n",
       "      </g>\n",
       "     </g>\n",
       "    </g>\n",
       "    <g id=\"ytick_2\">\n",
       "     <g id=\"text_8\">\n",
       "      <!-- 0.2 -->\n",
       "      <g style=\"fill: #262626\" transform=\"translate(7.2 281.185594) scale(0.11 -0.11)\">\n",
       "       <use xlink:href=\"#ArialMT-30\"/>\n",
       "       <use xlink:href=\"#ArialMT-2e\" x=\"55.615234\"/>\n",
       "       <use xlink:href=\"#ArialMT-32\" x=\"83.398438\"/>\n",
       "      </g>\n",
       "     </g>\n",
       "    </g>\n",
       "    <g id=\"ytick_3\">\n",
       "     <g id=\"text_9\">\n",
       "      <!-- 0.4 -->\n",
       "      <g style=\"fill: #262626\" transform=\"translate(7.2 214.657594) scale(0.11 -0.11)\">\n",
       "       <use xlink:href=\"#ArialMT-30\"/>\n",
       "       <use xlink:href=\"#ArialMT-2e\" x=\"55.615234\"/>\n",
       "       <use xlink:href=\"#ArialMT-34\" x=\"83.398438\"/>\n",
       "      </g>\n",
       "     </g>\n",
       "    </g>\n",
       "    <g id=\"ytick_4\">\n",
       "     <g id=\"text_10\">\n",
       "      <!-- 0.6 -->\n",
       "      <g style=\"fill: #262626\" transform=\"translate(7.2 148.129594) scale(0.11 -0.11)\">\n",
       "       <use xlink:href=\"#ArialMT-30\"/>\n",
       "       <use xlink:href=\"#ArialMT-2e\" x=\"55.615234\"/>\n",
       "       <use xlink:href=\"#ArialMT-36\" x=\"83.398438\"/>\n",
       "      </g>\n",
       "     </g>\n",
       "    </g>\n",
       "    <g id=\"ytick_5\">\n",
       "     <g id=\"text_11\">\n",
       "      <!-- 0.8 -->\n",
       "      <g style=\"fill: #262626\" transform=\"translate(7.2 81.601594) scale(0.11 -0.11)\">\n",
       "       <use xlink:href=\"#ArialMT-30\"/>\n",
       "       <use xlink:href=\"#ArialMT-2e\" x=\"55.615234\"/>\n",
       "       <use xlink:href=\"#ArialMT-38\" x=\"83.398438\"/>\n",
       "      </g>\n",
       "     </g>\n",
       "    </g>\n",
       "    <g id=\"ytick_6\">\n",
       "     <g id=\"text_12\">\n",
       "      <!-- 1.0 -->\n",
       "      <g style=\"fill: #262626\" transform=\"translate(7.2 15.073594) scale(0.11 -0.11)\">\n",
       "       <use xlink:href=\"#ArialMT-31\"/>\n",
       "       <use xlink:href=\"#ArialMT-2e\" x=\"55.615234\"/>\n",
       "       <use xlink:href=\"#ArialMT-30\" x=\"83.398438\"/>\n",
       "      </g>\n",
       "     </g>\n",
       "    </g>\n",
       "   </g>\n",
       "   <g id=\"patch_3\">\n",
       "    <path d=\"M 31.99 343.776797 \n",
       "L 31.99 11.136797 \n",
       "\" style=\"fill: none; stroke: #262626; stroke-width: 1.25; stroke-linejoin: miter; stroke-linecap: square\"/>\n",
       "   </g>\n",
       "   <g id=\"patch_4\">\n",
       "    <path d=\"M 366.79 343.776797 \n",
       "L 366.79 11.136797 \n",
       "\" style=\"fill: none; stroke: #262626; stroke-width: 1.25; stroke-linejoin: miter; stroke-linecap: square\"/>\n",
       "   </g>\n",
       "   <g id=\"patch_5\">\n",
       "    <path d=\"M 31.99 343.776797 \n",
       "L 366.79 343.776797 \n",
       "\" style=\"fill: none; stroke: #262626; stroke-width: 1.25; stroke-linejoin: miter; stroke-linecap: square\"/>\n",
       "   </g>\n",
       "   <g id=\"patch_6\">\n",
       "    <path d=\"M 31.99 11.136797 \n",
       "L 366.79 11.136797 \n",
       "\" style=\"fill: none; stroke: #262626; stroke-width: 1.25; stroke-linejoin: miter; stroke-linecap: square\"/>\n",
       "   </g>\n",
       "  </g>\n",
       " </g>\n",
       "</svg>\n"
      ],
      "text/plain": [
       "<Figure size 600x600 with 1 Axes>"
      ]
     },
     "metadata": {
      "needs_background": "light"
     },
     "output_type": "display_data"
    }
   ],
   "source": [
    "def polynomial_at_x(x, coefficients):\n",
    "    basis_values = jnp.array([1.0, x, x**2])\n",
    "    polynomial_value = jnp.sum(coefficients * basis_values)\n",
    "    return polynomial_value\n",
    "\n",
    "jitted = jit(vmap(polynomial_at_x, in_axes=(None, 0)))\n",
    "\n",
    "coefficients = posterior_samples[\"alpha\"]\n",
    "evaluation_points = jnp.arange(0, 5, 0.01)\n",
    "\n",
    "points = [(x, y) for x in evaluation_points for y in jitted(x, coefficients).tolist()]\n",
    "Plot.dot(points, fill=\"gold\", opacity=0.25, r=0.5) + Plot.dot({\"x\": x, \"y\": y}) + Plot.frame()"
   ]
  },
  {
   "cell_type": "markdown",
   "metadata": {},
   "source": [
    "## Summary\n",
    "\n",
    "We’ve covered a lot of ground in this notebook. Please reflect, re-read, and post issues!\n",
    "\n",
    "* We discussed generative functions - the main computational object of Gen, and how these objects represent probability distributions.\n",
    "* We showed how to create generative functions.\n",
    "* We showed how to use interfaces on generative functions to compute with common operations on distributions.\n",
    "* We created a generative function to model a data-generating process based on sampling and evaluating random polynomials on input data - representing regression task.\n",
    "* We showed how to create _inference problems_ from generative functions.\n",
    "* We created an inference problem from our regression model.\n",
    "* We showed how to create approximate inference solutions to inference problems, and sample from them.\n",
    "* We investigated the approximate posterior samples, and visually inspected that they match the inferences that we might draw - both for the polynomials we expected to produce the data, as well as what data points might be outliers.\n",
    "\n",
    "This is just the beginning! There’s a lot more to learn, but this is plenty to chew (for now).\n"
   ]
  }
 ],
 "metadata": {
  "kernelspec": {
   "display_name": "Python 3 (ipykernel)",
   "language": "python",
   "name": "python3"
  },
  "language_info": {
   "codemirror_mode": {
    "name": "ipython",
    "version": 3
   },
   "file_extension": ".py",
   "mimetype": "text/x-python",
   "name": "python",
   "nbconvert_exporter": "python",
   "pygments_lexer": "ipython3",
   "version": "3.12.3"
  }
 },
 "nbformat": 4,
 "nbformat_minor": 4
}
