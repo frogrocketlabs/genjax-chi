{
 "cells": [
  {
   "cell_type": "code",
   "execution_count": null,
   "metadata": {},
   "outputs": [],
   "source": [
    "import genstudio.plot as Plot\n",
    "import jax\n",
    "\n",
    "from genjax import pretty\n",
    "\n",
    "Plot.configure(display_as=\"html\")\n",
    "pretty()\n",
    "key = jax.random.key(0)"
   ]
  },
  {
   "cell_type": "markdown",
   "metadata": {},
   "source": [
    "The key object of interest in GenJAX is a generative function. \n",
    "\n",
    "A generative function is a declarative description of a model of a world of interest which is fundamentally uncertain. \n",
    "It's a Python object that we will manipulate in a variety of ways. \n",
    "Crucially, even though they are called functions, when reading the code one must not understand them as functions from input arguments to what is returned!!! "
   ]
  }
 ],
 "metadata": {
  "kernelspec": {
   "display_name": ".venv",
   "language": "python",
   "name": "python3"
  },
  "language_info": {
   "codemirror_mode": {
    "name": "ipython",
    "version": 3
   },
   "file_extension": ".py",
   "mimetype": "text/x-python",
   "name": "python",
   "nbconvert_exporter": "python",
   "pygments_lexer": "ipython3",
   "version": "3.11.6"
  }
 },
 "nbformat": 4,
 "nbformat_minor": 2
}
