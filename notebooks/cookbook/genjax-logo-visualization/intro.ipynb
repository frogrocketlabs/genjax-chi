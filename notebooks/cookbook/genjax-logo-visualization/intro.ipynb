{
 "cells": [
  {
   "cell_type": "markdown",
   "metadata": {},
   "source": [
    "GenJAX is a library built on top of JAX and Python. It is designed to be a flexible library for Bayesian modelling and inference. It inherits the benefits of JAX to be jittable, GPU-accelerated, compatible with automatic differentiation and other convenient functions such as automatic vectorization.\n",
    "Throughout, we will use GenStudio for visualizing what we are doing."
   ]
  },
  {
   "cell_type": "markdown",
   "metadata": {},
   "source": [
    "The main goal of Bayesian inference is to be able to sample from complex distributions, which are often implicitly defined. In this tutorial we will look at a very simple visual example and see a variety of ways to solve this problem using GenJAX. Some of these techniques will be overkill for this simple problem but will scale much better to higher dimensional situations. "
   ]
  },
  {
   "cell_type": "markdown",
   "metadata": {},
   "source": [
    "Let's import some libraries that will be useful throughout."
   ]
  },
  {
   "cell_type": "code",
   "execution_count": null,
   "metadata": {},
   "outputs": [],
   "source": [
    "import genstudio.plot as Plot\n",
    "import jax\n",
    "import jax.numpy as jnp\n",
    "import matplotlib.image as mpimg\n",
    "import numpy as np\n",
    "\n",
    "from genjax import ChoiceMapBuilder as C\n",
    "from genjax import Pytree, gen, pretty\n",
    "from genjax._src.generative_functions.distributions.distribution import Distribution\n",
    "from genjax.typing import FloatArray, PRNGKey\n",
    "\n",
    "Plot.configure(display_as=\"html\")\n",
    "pretty()\n",
    "key = jax.random.key(0)"
   ]
  },
  {
   "cell_type": "markdown",
   "metadata": {},
   "source": [
    "Here's a simple image representing a black and white version of the GenJAX logo, with some GenStudio visualization setup."
   ]
  },
  {
   "cell_type": "code",
   "execution_count": null,
   "metadata": {},
   "outputs": [],
   "source": [
    "# Read the image\n",
    "im = mpimg.imread(\"../../../docs/assets/img/logo.png\")\n",
    "\n",
    "# Convert to mask\n",
    "im = np.amax(im[:, :, :2], 2) < 0.9\n",
    "# Invert the image\n",
    "im = np.logical_not(im)\n",
    "\n",
    "# Convert back to float\n",
    "im = im.astype(float)\n",
    "height, width = im.shape\n",
    "\n",
    "# Save the processed image back to a file\n",
    "mpimg.imsave(\"../../../docs/assets/img/logo_bw.png\", im, cmap=\"gray\")\n",
    "\n",
    "base_plot = Plot.new(\n",
    "    Plot.aspectRatio(1),\n",
    "    Plot.hideAxis(),\n",
    "    Plot.domain([0, width], [0, height]),\n",
    "    {\"y\": {\"reverse\": True}},\n",
    ")\n",
    "\n",
    "logo_plot = Plot.img(\n",
    "    [\"../../../docs/assets/img/logo_bw.png\"],\n",
    "    x=0,\n",
    "    y=height,\n",
    "    width=width,\n",
    "    height=-height,\n",
    "    src=Plot.identity,\n",
    ")\n",
    "\n",
    "\n",
    "def dots_plot(x, y, fill=\"black\", r=2, label=None, opacity=0.5, **kwargs):\n",
    "    opts = {\"fill\": fill, \"r\": r, \"opacity\": opacity} | kwargs\n",
    "    plot = base_plot + Plot.dot({\"x\": x, \"y\": y}, opts)\n",
    "    if label is not None:\n",
    "        plot += Plot.subtitle(label)\n",
    "    return plot\n",
    "\n",
    "\n",
    "base_plot + logo_plot"
   ]
  },
  {
   "cell_type": "markdown",
   "metadata": {},
   "source": [
    "### Interpreting the logo as a distribution\n",
    "We can interpret this logo as a distribution defined on the image rectangle as follows. \n",
    "A distribution on is defined by its density function at every point, i.e. we need a non-negative value per point of the image.\n",
    "Imagine every point on the black region has a density of 1 and the white region a density of 0. \n",
    "\n",
    "### Link to energy function\n",
    "This defines what's sometimes called an energy function, which is a common concept in physics and mathematics. In the context of distributions, an energy function can be thought of as a way to assign a \"cost\" or \"energy\" to each point in the space. The density of the distribution is then inversely proportional to the energy at each point. In this case, the energy function is binary, with 0 energy in the white regions and infinite energy in the black regions, effectively defining a distribution with density 1 in the black regions and 0 in the white regions.\n",
    "\n",
    "### Renormalizing to a distribution\n",
    "The density function is currently unnormalized, as there is no inherent reason for the total density to sum to 1, a fundamental property of distributions.\n",
    "The total mass is currently $$M = \\sum_{x\\in \\textbf{LOGO}} 1= \\int_{x\\in \\textbf{LOGO}}1.dx$$\n",
    "We can renormalize the density by assigning density 0 to every point in the white region and $\\frac{1}{M}$ to every point in the black region.\n",
    "\n"
   ]
  },
  {
   "cell_type": "markdown",
   "metadata": {},
   "source": [
    "This way, we have defined a target distribution. Our goal will be to generate samples from that distribution. We can start packaging this target as distribution using GenJAX.\n",
    "We will define a custom distribution for that. Do not worry about the implementation details for now, we will come back to it in due time."
   ]
  },
  {
   "cell_type": "code",
   "execution_count": null,
   "metadata": {},
   "outputs": [],
   "source": [
    "@Pytree.dataclass\n",
    "class Logo(Distribution):\n",
    "    # TODO: should use ExactDensity instead of Distribution here. But there is a bug.\n",
    "    image: FloatArray = Pytree.static()\n",
    "    threshold: FloatArray = Pytree.static(default=1e2)\n",
    "    likelihood_multiplier: FloatArray = Pytree.static(default=20.0)\n",
    "\n",
    "    def log_likelihood(self, x, y):\n",
    "        floor_x, floor_y = jnp.floor(x), jnp.floor(y)\n",
    "        floor_x, floor_y = (\n",
    "            jnp.astype(floor_x, jnp.int32),\n",
    "            jnp.astype(floor_y, jnp.int32),\n",
    "        )\n",
    "        out_of_bounds = (\n",
    "            (floor_x < 0) | (floor_x >= width) | (floor_y < 0) | (floor_y >= height)\n",
    "        )\n",
    "        value = jax.lax.cond(\n",
    "            out_of_bounds,\n",
    "            lambda *_: -self.threshold,\n",
    "            lambda arg: self.likelihood_multiplier * (1.0 - self.image[arg[1], arg[0]])\n",
    "            - jnp.log(height * width),\n",
    "            operand=(floor_x, floor_y),\n",
    "        )\n",
    "        return value\n",
    "\n",
    "    # The logo defines a density but we can't easily sample from it.\n",
    "    # Fortunately, we won't need to, but we need to implement something to\n",
    "    # satisfy the interface.\n",
    "    # In the future, we should have a generalization of `Distribution` that\n",
    "    # only need to support estimating logpdf.\n",
    "    def random_weighted(self, key: PRNGKey):\n",
    "        key, subkey = jax.random.split(key)\n",
    "        x = jax.random.uniform(key, minval=0, maxval=width)\n",
    "        y = jax.random.uniform(subkey, minval=0, maxval=height)\n",
    "        logpdf = self.log_likelihood(x, y)\n",
    "        return -logpdf, (x, y)\n",
    "\n",
    "    def estimate_logpdf(self, key: PRNGKey, z):\n",
    "        x, y = z\n",
    "        return self.log_likelihood(x, y)\n",
    "\n",
    "\n",
    "im_jax = jnp.array(im.astype(float))\n",
    "logo = Logo(image=im_jax)"
   ]
  },
  {
   "cell_type": "markdown",
   "metadata": {},
   "source": [
    "The key object of interest in GenJAX is a generative function. \n",
    "Make sure you have done the tutorial on generative functions before moving forward.\n",
    "\n",
    "In our case, we want to obtain samples from the Logo distribution.\n",
    "The description is simply that there is a random variable that represents a sample from this distribution."
   ]
  },
  {
   "cell_type": "code",
   "execution_count": null,
   "metadata": {},
   "outputs": [],
   "source": [
    "@gen\n",
    "def model():\n",
    "    z = logo() @ \"z\"\n",
    "    return None"
   ]
  },
  {
   "cell_type": "markdown",
   "metadata": {},
   "source": [
    "A first thing we can do is to evaluate the likelihood of a point under the model."
   ]
  },
  {
   "cell_type": "code",
   "execution_count": null,
   "metadata": {},
   "outputs": [],
   "source": [
    "chm = C[\"z\"].set((40.0, 100.0))\n",
    "model.update(chm, ())\n",
    "\n",
    "# model.simulate(key, ())"
   ]
  },
  {
   "cell_type": "markdown",
   "metadata": {},
   "source": [
    "Even though we do not have observations, this is still an inference problem: our goal is to produce samples from a distribution from which we cannot directly sample."
   ]
  },
  {
   "cell_type": "markdown",
   "metadata": {},
   "source": [
    "The first way we recommend attacking such a  problem is by producing samples from an exact surrogate model. \n",
    "That is we simplify the problem in a controlled way and sample from that surrogate model."
   ]
  },
  {
   "cell_type": "code",
   "execution_count": null,
   "metadata": {},
   "outputs": [],
   "source": [
    "import numpy as np\n",
    "\n",
    "\n",
    "def simplify_image_to_rectangles(image):\n",
    "    \"\"\"\n",
    "    Simplify a black and white image into a union of black rectangles.\n",
    "\n",
    "    Parameters:\n",
    "    - image: A 2D numpy array representing the black and white image.\n",
    "    - num_rectangles: The number of rectangles to simplify the image into.\n",
    "\n",
    "    Returns:\n",
    "    - A list of rectangles, each represented as a tuple of (x, y, width, height).\n",
    "    \"\"\"\n",
    "    # Find connected components in the image\n",
    "    from skimage.measure import label, regionprops\n",
    "\n",
    "    labeled_image = label(image, connectivity=2)\n",
    "    regions = regionprops(labeled_image)\n",
    "    simplified_region = regions[0]\n",
    "    print(len(regions))\n",
    "\n",
    "    return simplified_region\n",
    "    # # Sort regions by area in descending order\n",
    "    # for region in regions:\n",
    "    #     from skimage.io import imshow, show\n",
    "    #     imshow(region.image)\n",
    "    #     show()\n",
    "    # print(len(regions))\n",
    "\n",
    "    # # Select the top num_rectangles regions\n",
    "    # selected_regions = regions[:num_rectangles]\n",
    "\n",
    "    # # Convert regions to rectangles\n",
    "    # rectangles = []\n",
    "    # for region in selected_regions:\n",
    "    #     min_row, min_col, max_row, max_col = region.bbox\n",
    "    #     width = max_col - min_col\n",
    "    #     height = max_row - min_row\n",
    "    #     rectangles.append((min_col, min_row, width, height))\n",
    "\n",
    "    # return rectangles\n",
    "\n",
    "\n",
    "# Example usage\n",
    "# Assuming 'im' is a 2D numpy array representing the black and white image\n",
    "# simplified_rectangles = simplify_image_to_rectangles(im, 10)\n",
    "region = simplify_image_to_rectangles(im)\n",
    "# imshow(region.image)"
   ]
  },
  {
   "cell_type": "markdown",
   "metadata": {},
   "source": [
    "TODO: stratified sampling, custom proposal, adev?, etc."
   ]
  }
 ],
 "metadata": {
  "kernelspec": {
   "display_name": ".venv",
   "language": "python",
   "name": "python3"
  },
  "language_info": {
   "codemirror_mode": {
    "name": "ipython",
    "version": 3
   },
   "file_extension": ".py",
   "mimetype": "text/x-python",
   "name": "python",
   "nbconvert_exporter": "python",
   "pygments_lexer": "ipython3",
   "version": "3.11.6"
  }
 },
 "nbformat": 4,
 "nbformat_minor": 2
}
