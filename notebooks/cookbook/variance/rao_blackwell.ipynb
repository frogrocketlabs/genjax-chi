{
 "cells": [
  {
   "cell_type": "raw",
   "metadata": {
    "vscode": {
     "languageId": "raw"
    }
   },
   "source": [
    "---\n",
    "title: Rao-Blackwellisation\n",
    "subtitle: From high variance low compute to high compute low variance\n",
    "---"
   ]
  },
  {
   "cell_type": "markdown",
   "metadata": {},
   "source": [
    "Inference in GenJAX is based on approximate inference by propagating properly weighted sampled. The main class of algorithms we support is the large class of Del-Moral SMC algorithms based on using particles. \n",
    "\n",
    "If the compute is sufficiently low, one can always add more particles to get a better approximation to the posterior, but this may not be the optimal way to get better estimates.  "
   ]
  },
  {
   "cell_type": "markdown",
   "metadata": {},
   "source": [
    "Let's look at a simple example where a simple inference problem may somewhat fail to work at low compute budget due to too many noise terms."
   ]
  },
  {
   "cell_type": "code",
   "execution_count": null,
   "metadata": {},
   "outputs": [],
   "source": [
    "import jax\n",
    "from genjax import gen, normal\n",
    "\n",
    "key = jax.random.PRNGKey(0)"
   ]
  },
  {
   "cell_type": "code",
   "execution_count": null,
   "metadata": {},
   "outputs": [],
   "source": [
    "@gen\n",
    "def model():\n",
    "    x = normal(0.0, 1.0) @ \"x\"\n",
    "    _ = normal(x, 4.0) @ \"obs1\"\n",
    "    _ = normal(x, 4.0) @ \"obs2\"\n",
    "    _ = normal(x, 4.0) @ \"obs3\"\n",
    "\n",
    "\n",
    "tr = model.simulate(key, ())"
   ]
  }
 ],
 "metadata": {
  "kernelspec": {
   "display_name": ".venv",
   "language": "python",
   "name": "python3"
  },
  "language_info": {
   "codemirror_mode": {
    "name": "ipython",
    "version": 3
   },
   "file_extension": ".py",
   "mimetype": "text/x-python",
   "name": "python",
   "nbconvert_exporter": "python",
   "pygments_lexer": "ipython3",
   "version": "3.11.6"
  }
 },
 "nbformat": 4,
 "nbformat_minor": 2
}
