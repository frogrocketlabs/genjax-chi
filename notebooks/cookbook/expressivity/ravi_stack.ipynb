{
 "cells": [
  {
   "cell_type": "raw",
   "metadata": {
    "vscode": {
     "languageId": "raw"
    }
   },
   "source": [
    "---\n",
    "title: Nested approximate marginalisation & RAVI stacks \n",
    "subtitle: How to be recursively wrong everywhere all the time yet correct at the end\n",
    "---"
   ]
  },
  {
   "cell_type": "code",
   "execution_count": null,
   "metadata": {},
   "outputs": [],
   "source": [
    "import genjax\n",
    "from genjax import ChoiceMapBuilder as C\n",
    "from genjax import gen, pretty\n",
    "\n",
    "pretty()"
   ]
  },
  {
   "cell_type": "markdown",
   "metadata": {},
   "source": [
    "Say you have a model on interest for which you want to do inference."
   ]
  },
  {
   "cell_type": "code",
   "execution_count": null,
   "metadata": {},
   "outputs": [],
   "source": [
    "@gen\n",
    "def model(x):\n",
    "    w = genjax.normal(0.0, 1.0) @ \"w\"\n",
    "    y = x + w\n",
    "    return y\n",
    "\n",
    "\n",
    "chm = C.n()"
   ]
  },
  {
   "cell_type": "markdown",
   "metadata": {},
   "source": [
    "Now, let's create a data-driven proposal that targets the model. \n",
    "The proposal can make random choices, e.g. representing heuristics it may have for targeting the model."
   ]
  },
  {
   "cell_type": "code",
   "execution_count": null,
   "metadata": {},
   "outputs": [],
   "source": [
    "@gen\n",
    "def proposal(x):\n",
    "    w = genjax.normal(0.0, 1.0) @ \"w\"\n",
    "    # idx = genjax.categorical([0.1, 0.9]) @ \"idx\"\n",
    "    # 90% of the time, we're pretty confident it's gonna be somewhere precise\n",
    "    # but 10% of the time, we don't really know what's going on and we'll sample from a broader range\n",
    "    y = x + w\n",
    "    return y"
   ]
  },
  {
   "cell_type": "markdown",
   "metadata": {},
   "source": [
    "So now this may seem great, but we cannot yet use this proposal as an importance sampler for the model. The issue is that the traces produced by the proposal don't match the ones the model accepts: the model doesn't know what to do with \"idx\"."
   ]
  },
  {
   "cell_type": "markdown",
   "metadata": {},
   "source": []
  }
 ],
 "metadata": {
  "kernelspec": {
   "display_name": ".venv",
   "language": "python",
   "name": "python3"
  },
  "language_info": {
   "codemirror_mode": {
    "name": "ipython",
    "version": 3
   },
   "file_extension": ".py",
   "mimetype": "text/x-python",
   "name": "python",
   "nbconvert_exporter": "python",
   "pygments_lexer": "ipython3",
   "version": "3.11.6"
  }
 },
 "nbformat": 4,
 "nbformat_minor": 2
}
