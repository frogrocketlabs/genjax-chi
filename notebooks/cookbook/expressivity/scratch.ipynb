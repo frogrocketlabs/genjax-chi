{
 "cells": [
  {
   "cell_type": "code",
   "execution_count": null,
   "metadata": {},
   "outputs": [],
   "source": [
    "import genjax\n",
    "import jax.numpy as jnp\n",
    "import jax.random as jr\n",
    "from genjax import ChoiceMapBuilder as C\n",
    "from genjax import pretty\n",
    "\n",
    "pretty()\n",
    "\n",
    "foo = genjax.gen(lambda loc: genjax.normal(loc, 1.0) @ \"x\")"
   ]
  },
  {
   "cell_type": "code",
   "execution_count": null,
   "metadata": {},
   "outputs": [],
   "source": [
    "foo.simulate(jr.PRNGKey(0), (0.0,))"
   ]
  },
  {
   "cell_type": "code",
   "execution_count": null,
   "metadata": {},
   "outputs": [],
   "source": [
    "tr = foo.vmap(in_axes=(0,)).simulate(jr.PRNGKey(0), (jnp.zeros(3),))\n",
    "tr"
   ]
  },
  {
   "cell_type": "code",
   "execution_count": null,
   "metadata": {},
   "outputs": [],
   "source": [
    "@genjax.gen\n",
    "def regular():\n",
    "    x = genjax.normal(0.0, 1.0) @ \"x\"\n",
    "    return x\n",
    "\n",
    "\n",
    "@genjax.gen\n",
    "def outlier():\n",
    "    x = genjax.normal(0.0, 10.0) @ \"x\"\n",
    "    return x\n",
    "\n",
    "\n",
    "model = genjax.switch(regular, outlier)\n",
    "tr = model.simulate(jr.PRNGKey(0), (0, (), ()))\n",
    "\n",
    "update = genjax.GenericProblem(\n",
    "    (\n",
    "        genjax.Diff((0), genjax.UnknownChange),\n",
    "        genjax.Diff((), genjax.NoChange),\n",
    "        genjax.Diff((), genjax.NoChange),\n",
    "    ),\n",
    "    C.n(),\n",
    ")\n",
    "\n",
    "model.update(jr.PRNGKey(1), tr, update)\n",
    "\n",
    "# @genjax.gen\n",
    "# def q(ix):\n",
    "#     branches = [regular, outlier]\n",
    "#     args = [(1,), (1,)]\n",
    "#     v = genjax.switch(*branches)(ix, *args) @ \"switch\"\n",
    "#     return v\n",
    "# tr = q.simulate(jr.PRNGKey(0), (1,))\n",
    "\n",
    "# tr.update(jr.PRNGKey(1), genjax.EmptyChoiceMap(), (genjax.diff(1, genjax.UnknownChange),))"
   ]
  },
  {
   "cell_type": "code",
   "execution_count": null,
   "metadata": {},
   "outputs": [],
   "source": [
    "import genjax\n",
    "import jax.numpy as jnp\n",
    "from genjax import ChoiceMapBuilder as C\n",
    "from genjax import gen\n",
    "from jax import jit, random\n",
    "\n",
    "key = random.PRNGKey(0)\n",
    "N = 4\n",
    "F = 4\n",
    "chm = C[\n",
    "    jnp.arange(4), jnp.repeat(jnp.arange(N)[jnp.newaxis], F, axis=0), \"new_pixel\"\n",
    "].set(3.0)\n",
    "\n",
    "image = jnp.zeros([4, 4], dtype=jnp.float32)\n",
    "sample_image = genjax.vmap(in_axes=(0,))(\n",
    "    genjax.vmap(in_axes=(0,))(\n",
    "        gen(lambda pixel: genjax.normal(pixel, 1.0) @ \"new_pixel\")\n",
    "    )\n",
    ")\n",
    "\n",
    "tr, w = jit(sample_image.importance)(key, chm, (image,))"
   ]
  }
 ],
 "metadata": {
  "kernelspec": {
   "display_name": ".venv",
   "language": "python",
   "name": "python3"
  },
  "language_info": {
   "codemirror_mode": {
    "name": "ipython",
    "version": 3
   },
   "file_extension": ".py",
   "mimetype": "text/x-python",
   "name": "python",
   "nbconvert_exporter": "python",
   "pygments_lexer": "ipython3",
   "version": "3.11.6"
  }
 },
 "nbformat": 4,
 "nbformat_minor": 2
}
