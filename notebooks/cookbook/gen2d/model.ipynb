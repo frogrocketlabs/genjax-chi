{
 "cells": [
  {
   "cell_type": "markdown",
   "metadata": {},
   "source": [
    "# Gen2D"
   ]
  },
  {
   "cell_type": "markdown",
   "metadata": {},
   "source": [
    "This notebook shows a simple model for clustering a 2D image into different components."
   ]
  },
  {
   "cell_type": "code",
   "execution_count": null,
   "metadata": {},
   "outputs": [],
   "source": [
    "import jax\n",
    "import jax.numpy as jnp\n",
    "import model\n",
    "from scipy import misc\n",
    "\n",
    "from genjax import ChoiceMapBuilder as C\n",
    "from genjax import pretty\n",
    "\n",
    "pretty()"
   ]
  },
  {
   "cell_type": "markdown",
   "metadata": {},
   "source": [
    "## Model"
   ]
  },
  {
   "cell_type": "markdown",
   "metadata": {},
   "source": [
    "### Testing to sample from model"
   ]
  },
  {
   "cell_type": "code",
   "execution_count": null,
   "metadata": {},
   "outputs": [],
   "source": [
    "image = misc.face()\n",
    "# plt.imshow(image)\n",
    "# plt.show()\n",
    "\n",
    "H, W, _ = image.shape\n",
    "\n",
    "image.shape\n",
    "hypers = model.Hyperparams(\n",
    "    a_x=1.0,\n",
    "    b_x=1.0,\n",
    "    a_y=1.0,\n",
    "    b_y=1.0,\n",
    "    mu_x=0.0,\n",
    "    mu_y=0.0,\n",
    "    a_rgb=jnp.array([1.0, 1.0, 1.0]),\n",
    "    b_rgb=jnp.array([1.0, 1.0, 1.0]),\n",
    "    alpha=1.0,\n",
    "    sigma_xy=jnp.array([1.0, 1.0]),\n",
    "    sigma_rgb=jnp.array([1.0, 1.0, 1.0]),\n",
    "    n_blobs=100,\n",
    "    H=H,\n",
    "    W=W,\n",
    ")\n",
    "\n",
    "key = jax.random.PRNGKey(0)\n",
    "key, subkey = jax.random.split(key)\n",
    "tr = model.model.simulate(subkey, (hypers,))"
   ]
  },
  {
   "cell_type": "markdown",
   "metadata": {},
   "source": [
    "### Image processing"
   ]
  },
  {
   "cell_type": "code",
   "execution_count": null,
   "metadata": {},
   "outputs": [],
   "source": [
    "flattened_image = jnp.concatenate(\n",
    "    (jnp.indices((H, W)).reshape(H * W, 2), image.reshape(H * W, 3)), axis=1\n",
    ")\n",
    "\n",
    "xy, rgb = flattened_image[:, :2], flattened_image[:, 2:]"
   ]
  },
  {
   "cell_type": "markdown",
   "metadata": {},
   "source": [
    "### Initial trace for inference"
   ]
  },
  {
   "cell_type": "code",
   "execution_count": null,
   "metadata": {},
   "outputs": [],
   "source": [
    "key, subkey = jax.random.split(key)\n",
    "obs = C[\"likelihood_model\", \"xy\"].set() ^ C[\"likelihood_model\", \"rgb\"].set()\n",
    "\n",
    "tr = model.model.importance(subkey, obs, hypers)"
   ]
  },
  {
   "cell_type": "markdown",
   "metadata": {},
   "source": [
    "## Inference"
   ]
  }
 ],
 "metadata": {
  "kernelspec": {
   "display_name": ".venv",
   "language": "python",
   "name": "python3"
  },
  "language_info": {
   "codemirror_mode": {
    "name": "ipython",
    "version": 3
   },
   "file_extension": ".py",
   "mimetype": "text/x-python",
   "name": "python",
   "nbconvert_exporter": "python",
   "pygments_lexer": "ipython3",
   "version": "3.11.6"
  }
 },
 "nbformat": 4,
 "nbformat_minor": 2
}
