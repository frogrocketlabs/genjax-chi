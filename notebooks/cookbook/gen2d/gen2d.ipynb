{
 "cells": [
  {
   "cell_type": "markdown",
   "metadata": {},
   "source": [
    "# Gen2D"
   ]
  },
  {
   "cell_type": "markdown",
   "metadata": {},
   "source": [
    "This notebook shows a simple model for clustering a 2D image into different components."
   ]
  },
  {
   "cell_type": "code",
   "execution_count": null,
   "metadata": {},
   "outputs": [],
   "source": [
    "import animation\n",
    "import gibbs_updates\n",
    "import jax\n",
    "import jax.numpy as jnp\n",
    "import model_simple_continuous\n",
    "from scipy import datasets\n",
    "\n",
    "from genjax import ChoiceMapBuilder as C\n",
    "from genjax import pretty\n",
    "\n",
    "pretty()"
   ]
  },
  {
   "cell_type": "markdown",
   "metadata": {},
   "source": [
    "## Model"
   ]
  },
  {
   "cell_type": "markdown",
   "metadata": {},
   "source": [
    "### Testing to sample from model"
   ]
  },
  {
   "cell_type": "code",
   "execution_count": null,
   "metadata": {},
   "outputs": [],
   "source": [
    "image = datasets.face()\n",
    "H, W, _ = image.shape\n",
    "\n",
    "hypers = model_simple_continuous.Hyperparams(\n",
    "    a_xy=jnp.array([100.0, 100.0]),\n",
    "    b_xy=jnp.array([10000.0, 10000.0]),\n",
    "    mu_xy=jnp.array([H / 2, W / 2]),\n",
    "    a_rgb=jnp.array([25.0, 25.0, 25.0]),\n",
    "    b_rgb=jnp.array([450.0, 450.0, 450.0]),\n",
    "    alpha=1.0,\n",
    "    sigma_xy=jnp.array([50.0, 50.0]),\n",
    "    sigma_rgb=jnp.array([10.0, 10.0, 10.0]),\n",
    "    n_blobs=200,\n",
    "    H=H,\n",
    "    W=W,\n",
    ")\n",
    "\n",
    "key = jax.random.PRNGKey(0)\n",
    "key, subkey = jax.random.split(key)\n",
    "# tr = jax.jit(model_simple_continuous.model.simulate)(subkey, (hypers,))"
   ]
  },
  {
   "cell_type": "code",
   "execution_count": null,
   "metadata": {},
   "outputs": [],
   "source": [
    "# TODO: attempt to modify hypers in place. this works following what McCoy recommended. It creates a copy but it's convenient.\n",
    "\n",
    "hypers = model_simple_continuous.Hyperparams(\n",
    "    a_xy=jnp.array([300.0, 300.0]),\n",
    "    b_xy=hypers.b_xy,\n",
    "    mu_xy=hypers.mu_xy,\n",
    "    a_rgb=hypers.a_rgb,\n",
    "    b_rgb=hypers.b_rgb,\n",
    "    alpha=hypers.alpha,\n",
    "    sigma_xy=hypers.sigma_xy,\n",
    "    sigma_rgb=hypers.sigma_rgb,\n",
    "    n_blobs=hypers.n_blobs,\n",
    "    H=hypers.H,\n",
    "    W=hypers.W,\n",
    ")\n",
    "\n",
    "# replace(hypers, a_xy=jnp.array([301.0, 301.0]))"
   ]
  },
  {
   "cell_type": "markdown",
   "metadata": {},
   "source": [
    "## Inference"
   ]
  },
  {
   "cell_type": "markdown",
   "metadata": {},
   "source": [
    "We will do inference via exact block-Gibbs, using the fact that the model is defined using conjugate pairs."
   ]
  },
  {
   "cell_type": "markdown",
   "metadata": {},
   "source": [
    "### Gibbs updates"
   ]
  },
  {
   "cell_type": "markdown",
   "metadata": {},
   "source": [
    "NEXT STEPS: \n",
    "- finish debugging/improving Genstudio visualization\n",
    "- add one by one the Gibbs updates and test them individually\n",
    "  - update xy mean\n",
    "  - update rgb mean\n",
    "  - update cluster assignment\n",
    "  - update cluster weight\n",
    "  - update sigma_xy\n",
    "  - update sigma_rgb"
   ]
  },
  {
   "cell_type": "markdown",
   "metadata": {},
   "source": [
    "### Main inference loop"
   ]
  },
  {
   "cell_type": "code",
   "execution_count": null,
   "metadata": {},
   "outputs": [],
   "source": [
    "N_ITER = 100\n",
    "RECORD = True\n",
    "DEBUG = False\n",
    "TRIVIAL = True\n",
    "\n",
    "\n",
    "def id(key, trace):\n",
    "    return trace\n",
    "\n",
    "\n",
    "def infer(image, hypers):\n",
    "    key = jax.random.key(32421)\n",
    "\n",
    "    # Image pre-processing\n",
    "    H = hypers.H\n",
    "    W = hypers.W\n",
    "    flattened_image = jnp.concatenate(\n",
    "        (jnp.indices((H, W)).reshape(H * W, 2), image.reshape(H * W, 3)), axis=1\n",
    "    )\n",
    "    xy, rgb = flattened_image[:, :2], flattened_image[:, 2:]\n",
    "\n",
    "    # Setup for better initial trace\n",
    "    n_blobs = hypers.n_blobs\n",
    "    obs = C[\"likelihood_model\", \"xy\"].set(xy) ^ C[\"likelihood_model\", \"rgb\"].set(rgb)\n",
    "    initial_weights = C[\"blob_model\", \"mixture_weight\"].set(jnp.ones(n_blobs) / n_blobs)\n",
    "    constraints = obs | initial_weights\n",
    "\n",
    "    # Sample an initial trace\n",
    "    key, subkey = jax.random.split(key)\n",
    "    args = (hypers,)\n",
    "    tr, _ = jax.jit(model_simple_continuous.model.importance)(subkey, constraints, args)\n",
    "\n",
    "    # Record info for plotting and debugging purposes\n",
    "    if RECORD:\n",
    "        all_posterior_xy_means = [tr.get_choices()[\"blob_model\", \"xy_mean\"]]\n",
    "        all_posterior_xy_variances = [tr.get_choices()[\"blob_model\", \"sigma_xy\"]]\n",
    "        all_posterior_rgb_means = [tr.get_choices()[\"blob_model\", \"rgb_mean\"]]\n",
    "        all_posterior_rgb_variances = [tr.get_choices()[\"blob_model\", \"sigma_rgb\"]]\n",
    "        all_cluster_assignment = [tr.get_choices()[\"likelihood_model\", \"blob_idx\"]]\n",
    "        all_posterior_weights = [tr.get_choices()[\"blob_model\", \"mixture_weight\"]]\n",
    "\n",
    "        if DEBUG:\n",
    "            jax.debug.print(\"Initial means: {v}\", v=all_posterior_xy_means[0])\n",
    "            jax.debug.print(\"Initial weights: {v}\", v=all_posterior_weights[0])\n",
    "\n",
    "        # Main inference loop\n",
    "        for _ in range(N_ITER):\n",
    "            # Gibbs update on `(\"blob_model\", \"xy_mean\", i)` for each i, in parallel\n",
    "            key, subkey = jax.random.split(key)\n",
    "            if TRIVIAL:\n",
    "                tr = id(key, tr)\n",
    "            else:\n",
    "                tr = jax.jit(gibbs_updates.update_xy_mean)(subkey, tr)\n",
    "            all_posterior_xy_means.append(tr.get_choices()[\"blob_model\", \"xy_mean\"])\n",
    "\n",
    "            # Gibbs update on `(\"blob_model\", \"sigma_xy\", i)` for each i, in parallel\n",
    "            key, subkey = jax.random.split(key)\n",
    "            if TRIVIAL:\n",
    "                tr = id(key, tr)\n",
    "            else:\n",
    "                tr = jax.jit(gibbs_updates.update_xy_sigma)(subkey, tr)\n",
    "            all_posterior_xy_variances.append(\n",
    "                tr.get_choices()[\"blob_model\", \"sigma_xy\"]\n",
    "            )\n",
    "\n",
    "            # Gibbs update on `(\"blob_model\", \"rgb_mean\", i)` for each i, in parallel\n",
    "            key, subkey = jax.random.split(key)\n",
    "            if TRIVIAL:\n",
    "                tr = id(key, tr)\n",
    "            else:\n",
    "                tr = jax.jit(gibbs_updates.update_rgb_mean)(subkey, tr)\n",
    "            all_posterior_rgb_means.append(tr.get_choices()[\"blob_model\", \"rgb_mean\"])\n",
    "\n",
    "            # Gibbs update on `(\"blob_model\", \"sigma_rgb\", i)` for each i, in parallel\n",
    "            key, subkey = jax.random.split(key)\n",
    "            if TRIVIAL:\n",
    "                tr = id(key, tr)\n",
    "            else:\n",
    "                tr = jax.jit(gibbs_updates.update_rgb_sigma)(subkey, tr)\n",
    "            all_posterior_rgb_variances.append(\n",
    "                tr.get_choices()[\"blob_model\", \"sigma_rgb\"]\n",
    "            )\n",
    "\n",
    "            # Gibbs update on `(\"likelihood_model\", \"blob_idx\", i)` for each `i`, in parallel\n",
    "            key, subkey = jax.random.split(key)\n",
    "            if TRIVIAL:\n",
    "                tr = id(key, tr)\n",
    "            else:\n",
    "                tr = jax.jit(gibbs_updates.update_cluster_assignment)(subkey, tr)\n",
    "            all_cluster_assignment.append(\n",
    "                tr.get_choices()[\"likelihood_model\", \"blob_idx\"]\n",
    "            )\n",
    "\n",
    "            # Gibbs update on `(\"blob_model\", \"mixture_weight\", i)` for each `i`, in parallel\n",
    "            key, subkey = jax.random.split(key)\n",
    "            if TRIVIAL:\n",
    "                tr = id(key, tr)\n",
    "            else:\n",
    "                tr = jax.jit(gibbs_updates.update_mixture_weight)(subkey, tr)\n",
    "            all_posterior_weights.append(\n",
    "                tr.get_choices()[\"blob_model\", \"mixture_weight\"]\n",
    "            )\n",
    "\n",
    "        return (\n",
    "            all_posterior_xy_means,\n",
    "            all_posterior_xy_variances,\n",
    "            all_posterior_rgb_means,\n",
    "            all_posterior_rgb_variances,\n",
    "            all_posterior_weights,\n",
    "            all_cluster_assignment,\n",
    "            tr,\n",
    "        )\n",
    "\n",
    "\n",
    "image = datasets.face()\n",
    "hypers = model_simple_continuous.Hyperparams(\n",
    "    a_xy=jnp.array([100.0, 100.0]),\n",
    "    b_xy=jnp.array([10000.0, 10000.0]),\n",
    "    mu_xy=jnp.array([H / 2, W / 2]),\n",
    "    a_rgb=jnp.array([25.0, 25.0, 25.0]),\n",
    "    b_rgb=jnp.array([450.0, 450.0, 450.0]),\n",
    "    alpha=1.0,\n",
    "    sigma_xy=jnp.array([1.0, 1.0]),\n",
    "    sigma_rgb=jnp.array([1.0, 1.0, 1.0]),\n",
    "    n_blobs=10,\n",
    "    H=H,\n",
    "    W=W,\n",
    ")\n",
    "\n",
    "(\n",
    "    all_posterior_xy_means,\n",
    "    all_posterior_xy_variances,\n",
    "    all_posterior_rgb_means,\n",
    "    all_posterior_rgb_variances,\n",
    "    all_posterior_weights,\n",
    "    all_cluster_assignment,\n",
    "    tr,\n",
    ") = jax.jit(infer)(image, hypers)"
   ]
  },
  {
   "cell_type": "markdown",
   "metadata": {},
   "source": [
    "### Visualization"
   ]
  },
  {
   "cell_type": "code",
   "execution_count": null,
   "metadata": {},
   "outputs": [],
   "source": [
    "# TODO:\n",
    "# - need to fix colour of points to match that of their cluster,\n",
    "# - the counting of points per cluster is busted.\n",
    "# - hovering busted\n",
    "# - number of clusters shown busted\n",
    "\n",
    "# Example usage with the original data:\n",
    "visualization = animation.create_cluster_visualization(\n",
    "    all_posterior_xy_means,\n",
    "    all_posterior_xy_variances,\n",
    "    all_posterior_weights,\n",
    "    all_posterior_rgb_means,\n",
    "    num_frames=15,  # Show more frames\n",
    "    pixel_sampling=10,  # Sample every 10th pixel\n",
    "    confidence_factor=3.0,  # Scale factor for ellipses\n",
    "    min_weight=0.01,  # Minimum weight threshold\n",
    ")\n",
    "\n",
    "# Display the visualization\n",
    "visualization"
   ]
  }
 ],
 "metadata": {
  "kernelspec": {
   "display_name": ".venv",
   "language": "python",
   "name": "python3"
  },
  "language_info": {
   "codemirror_mode": {
    "name": "ipython",
    "version": 3
   },
   "file_extension": ".py",
   "mimetype": "text/x-python",
   "name": "python",
   "nbconvert_exporter": "python",
   "pygments_lexer": "ipython3",
   "version": "3.11.6"
  }
 },
 "nbformat": 4,
 "nbformat_minor": 2
}
