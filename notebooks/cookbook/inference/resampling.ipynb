{
 "cells": [
  {
   "cell_type": "raw",
   "metadata": {},
   "source": [
    "---\n",
    "title: Resampling strategies\n",
    "subtitle: My particles have low weight at the end and most of them aren't very good. What do I do?\n",
    "---"
   ]
  },
  {
   "cell_type": "code",
   "execution_count": null,
   "metadata": {},
   "outputs": [],
   "source": [
    "import jax\n",
    "import jax.numpy as jnp\n",
    "from genjax import ChoiceMapBuilder as C\n",
    "from genjax import gen, normal\n",
    "\n",
    "key = jax.random.PRNGKey(0)"
   ]
  },
  {
   "cell_type": "markdown",
   "metadata": {},
   "source": [
    "Let's first create a simple GenJAX model, some observations, use the default importance sampling for inference and see what we get."
   ]
  },
  {
   "cell_type": "code",
   "execution_count": null,
   "metadata": {},
   "outputs": [],
   "source": [
    "length = 100\n",
    "\n",
    "\n",
    "@gen\n",
    "def model(x, _):\n",
    "    x = normal(x, 1.0) @ \"x\"\n",
    "    _ = normal(x, 1.0) @ \"y\"\n",
    "    return x, None\n",
    "\n",
    "\n",
    "scanned = model.scan(n=length)\n",
    "scanned.simulate(key, (0.0, None))"
   ]
  },
  {
   "cell_type": "code",
   "execution_count": null,
   "metadata": {},
   "outputs": [],
   "source": [
    "obs = jax.vmap(lambda idx: C[idx, \"y\"].set(idx.astype(float)))(jnp.arange(length))\n",
    "\n",
    "scanned.importance(key, obs, (0.0, None))"
   ]
  },
  {
   "cell_type": "markdown",
   "metadata": {},
   "source": [
    "Instead of doing it in one go, we will separate the problem in two: we first sample the first half, see how good the particles are."
   ]
  },
  {
   "cell_type": "code",
   "execution_count": null,
   "metadata": {},
   "outputs": [],
   "source": [
    "num_particles = 1000\n",
    "\n",
    "half_scanned = model.scan(n=length // 2).repeat(n=num_particles)\n",
    "half_obs = jax.vmap(lambda idx: C[idx, \"y\"].set(idx.astype(float)))(\n",
    "    jnp.arange(length // 2)\n",
    ")\n",
    "trs, w = half_scanned.importance(key, half_obs, (0.0, None))\n",
    "trs.get_choices()"
   ]
  },
  {
   "cell_type": "markdown",
   "metadata": {},
   "source": [
    "We can now resample the particles and continue the simulation:"
   ]
  },
  {
   "cell_type": "code",
   "execution_count": null,
   "metadata": {},
   "outputs": [],
   "source": []
  }
 ],
 "metadata": {
  "kernelspec": {
   "display_name": ".venv",
   "language": "python",
   "name": "python3"
  },
  "language_info": {
   "codemirror_mode": {
    "name": "ipython",
    "version": 3
   },
   "file_extension": ".py",
   "mimetype": "text/x-python",
   "name": "python",
   "nbconvert_exporter": "python",
   "pygments_lexer": "ipython3",
   "version": "3.11.6"
  }
 },
 "nbformat": 4,
 "nbformat_minor": 2
}
