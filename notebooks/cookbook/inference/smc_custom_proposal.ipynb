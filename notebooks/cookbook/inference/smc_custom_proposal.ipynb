{
 "cells": [
  {
   "cell_type": "raw",
   "metadata": {
    "vscode": {
     "languageId": "raw"
    }
   },
   "source": [
    "---\n",
    "title: Visualizing SMC\n",
    "subtitle: Designing and visualizing custom proposals\n",
    "---"
   ]
  },
  {
   "cell_type": "code",
   "execution_count": null,
   "metadata": {},
   "outputs": [],
   "source": [
    "import jax\n",
    "import jax.numpy as jnp\n",
    "import matplotlib\n",
    "import matplotlib.animation as animation\n",
    "import matplotlib.image as mpimg\n",
    "import matplotlib.pyplot as plt\n",
    "import numpy as np\n",
    "\n",
    "import genjax\n",
    "from genjax import ChoiceMapBuilder as C\n",
    "from genjax import Pytree, gen, pretty\n",
    "from genjax._src.generative_functions.distributions.distribution import Distribution\n",
    "from genjax.typing import FloatArray, PRNGKey\n",
    "\n",
    "pretty()\n",
    "key = jax.random.PRNGKey(0)\n",
    "\n",
    "plt.rcParams[\"axes.spines.right\"] = False\n",
    "plt.rcParams[\"axes.spines.top\"] = False\n",
    "matplotlib.rcParams[\"animation.embed_limit\"] = 25"
   ]
  },
  {
   "cell_type": "markdown",
   "metadata": {},
   "source": [
    "Here's a simple image representing a black and white version of the GenJAX logo."
   ]
  },
  {
   "cell_type": "code",
   "execution_count": null,
   "metadata": {},
   "outputs": [],
   "source": [
    "# Load the image\n",
    "im = mpimg.imread(\"../../../docs/assets/img/logo.png\")\n",
    "\n",
    "# Convert to mask\n",
    "im = np.amax(im[:, :, :2], 2) < 0.9\n",
    "# invert the image\n",
    "im = np.logical_not(im)\n",
    "\n",
    "# Convert back to float\n",
    "im = im.astype(float)\n",
    "height, width = im.shape\n",
    "# plot the image\n",
    "plt.imshow(im, cmap=\"gray\")\n",
    "plt.show()"
   ]
  },
  {
   "cell_type": "markdown",
   "metadata": {},
   "source": [
    "We can see this as a uniform distribution on the black part of the image. \n",
    "Let's write a GenJAX model that captures this idea."
   ]
  },
  {
   "cell_type": "code",
   "execution_count": null,
   "metadata": {},
   "outputs": [],
   "source": [
    "# Define the model that generated the image\n",
    "@Pytree.dataclass\n",
    "class Logo(Distribution):\n",
    "    image: FloatArray = Pytree.static()\n",
    "    threshold: float = Pytree.static(default=1e2)\n",
    "\n",
    "    def log_likelihood(self, x, y, height, width, temperature):\n",
    "        floor_x, floor_y = jnp.floor(x), jnp.floor(y)\n",
    "        floor_x, floor_y = (\n",
    "            jnp.astype(floor_x, jnp.int32),\n",
    "            jnp.astype(floor_y, jnp.int32),\n",
    "        )\n",
    "        out_of_bounds = (\n",
    "            (floor_x < 0) | (floor_x >= width) | (floor_y < 0) | (floor_y >= height)\n",
    "        )\n",
    "        value = 1.0 / (height * width) - temperature * jax.lax.cond(\n",
    "            out_of_bounds,\n",
    "            lambda *_: -self.threshold,\n",
    "            lambda arg: self.threshold * (self.image[arg[1], arg[0]] == 0),\n",
    "            operand=(floor_x, floor_y),\n",
    "        )\n",
    "        return value\n",
    "\n",
    "    def random_weighted(self, key: PRNGKey, height, width, temperature):\n",
    "        key, subkey = jax.random.split(key)\n",
    "        x = jax.random.uniform(key, minval=0, maxval=width)\n",
    "        y = jax.random.uniform(subkey, minval=0, maxval=height)\n",
    "        logpdf = self.log_likelihood(x, y, height, width, temperature)\n",
    "        return -logpdf, (x, y)\n",
    "\n",
    "    def estimate_logpdf(self, key: PRNGKey, z, height, width, temperature):\n",
    "        x, y = z\n",
    "        return self.log_likelihood(x, y, height, width, temperature)\n",
    "\n",
    "\n",
    "im_jax = jnp.array(im)\n",
    "logo = Logo(image=im_jax)"
   ]
  },
  {
   "cell_type": "code",
   "execution_count": null,
   "metadata": {},
   "outputs": [],
   "source": [
    "@gen\n",
    "def model(height, width, temperature):\n",
    "    z = logo(height, width, temperature) @ \"z\"\n",
    "    return z\n",
    "\n",
    "\n",
    "# Testing\n",
    "key, subkey = jax.random.split(key)\n",
    "model.simulate(subkey, (height, width, 0.0))"
   ]
  },
  {
   "cell_type": "markdown",
   "metadata": {},
   "source": [
    "Now for inference, we will use SMC with a variety of custom proposals. Each intermediate target will be an annealed version of the posterior. We will start from a \"high temperature\" which we can think of as a more diffuse distribution for which it'll be easier for particles to find a region of decent likelihood, and progressively cool down the process by using smaller temperature parameters in the intermediate targets."
   ]
  },
  {
   "cell_type": "markdown",
   "metadata": {},
   "source": [
    "Let's define the initial proposal:"
   ]
  },
  {
   "cell_type": "code",
   "execution_count": null,
   "metadata": {},
   "outputs": [],
   "source": [
    "@genjax.gen\n",
    "def sub_proposal():\n",
    "    x = genjax.uniform(0.0, float(width)) @ \"x\"\n",
    "    y = genjax.uniform(0.0, float(height)) @ \"y\"\n",
    "    return x, y\n",
    "\n",
    "\n",
    "@genjax.gen\n",
    "def init_proposal():\n",
    "    z = sub_proposal() @ \"z\"\n",
    "    return z\n",
    "\n",
    "\n",
    "# Testing\n",
    "key, subkey = jax.random.split(key)\n",
    "jitted_init_proposal = jax.jit(lambda x: init_proposal.simulate(x, ()))\n",
    "jitted_init_proposal(subkey).get_sample()[\"z\", \"x\"]"
   ]
  },
  {
   "cell_type": "markdown",
   "metadata": {},
   "source": [
    "From just this basic proposal, we can test SIR."
   ]
  },
  {
   "cell_type": "code",
   "execution_count": null,
   "metadata": {},
   "outputs": [],
   "source": [
    "key, subkey = jax.random.split(key)\n",
    "keys = jax.random.split(subkey, 10000)\n",
    "trs = jax.vmap(jitted_init_proposal)(keys)\n",
    "\n",
    "sampled_z = jax.vmap(lambda x: (x.get_choices()[\"z\", \"x\"], x.get_choices()[\"z\", \"y\"]))(\n",
    "    trs\n",
    ")\n",
    "proposal_scores = jax.vmap(lambda x: x.get_score())(trs)\n",
    "\n",
    "jitted_model = model.importance\n",
    "key, subkey = jax.random.split(key)\n",
    "jitted_model(subkey, C.n(), (height, width, 0.0))"
   ]
  },
  {
   "cell_type": "code",
   "execution_count": null,
   "metadata": {},
   "outputs": [],
   "source": [
    "# Initial high temperature: the model is uniform\n",
    "# key is not actually used in jitted_model\n",
    "key, subkey = jax.random.split(key)\n",
    "trs, ht_model_scores = jax.jit(\n",
    "    jax.vmap(lambda x: jitted_model(subkey, C[\"z\"].set(x), (height, width, 0.0)))\n",
    ")(sampled_z)\n",
    "ht_importance_scores = ht_model_scores / proposal_scores\n",
    "key, subkey = jax.random.split(key)\n",
    "ht_resampled_indices = jax.random.categorical(\n",
    "    subkey, ht_importance_scores, shape=(10000,)\n",
    ")\n",
    "sampled_x, sampled_y = sampled_z\n",
    "ht_resampled_x = sampled_x[ht_resampled_indices]\n",
    "ht_resampled_y = sampled_y[ht_resampled_indices]"
   ]
  },
  {
   "cell_type": "code",
   "execution_count": null,
   "metadata": {},
   "outputs": [],
   "source": [
    "# Final low temperature: the model is close to uniform on the logo\n",
    "# key is not actually used in jitted_model\n",
    "key, subkey = jax.random.split(key)\n",
    "trs, lt_model_scores = jax.jit(\n",
    "    jax.vmap(lambda x: jitted_model(subkey, C[\"z\"].set(x), (height, width, 1.0)))\n",
    ")(sampled_z)\n",
    "lt_importance_scores = lt_model_scores / proposal_scores\n",
    "key, subkey = jax.random.split(key)\n",
    "lt_resampled_indices = jax.random.categorical(\n",
    "    subkey, lt_importance_scores, shape=(10000,)\n",
    ")\n",
    "sampled_x, sampled_y = sampled_z\n",
    "lt_resampled_x = sampled_x[lt_resampled_indices]\n",
    "lt_resampled_y = sampled_y[lt_resampled_indices]"
   ]
  },
  {
   "cell_type": "markdown",
   "metadata": {},
   "source": [
    "Plotting the results"
   ]
  },
  {
   "cell_type": "code",
   "execution_count": null,
   "metadata": {},
   "outputs": [],
   "source": [
    "# Create a figure with a 2x2 grid of subplots\n",
    "fig, ((ax1, ax2), (ax3, ax4)) = plt.subplots(2, 2, figsize=(20, 7))\n",
    "\n",
    "\n",
    "# Plot 1: Original image\n",
    "ax1.imshow(im, cmap=\"gray\")\n",
    "ax1.set_title(\"Original image\")\n",
    "ax1.axis(\"off\")\n",
    "\n",
    "# Plot 2: Image with originally sampled points\n",
    "ax2.imshow(im, cmap=\"gray\")\n",
    "ax2.scatter(sampled_x, sampled_y, c=\"green\", s=1, alpha=0.5)\n",
    "ax2.set_title(\"Image with originally sampled points\")\n",
    "ax2.axis(\"off\")\n",
    "\n",
    "\n",
    "# Plot 3: Image with resampled Points: high temperature\n",
    "ax3.imshow(im, cmap=\"gray\")\n",
    "ax3.scatter(ht_resampled_x, ht_resampled_y, c=\"red\", s=1, alpha=0.5)\n",
    "ax3.set_title(\"Image with Resampled Points: high temperature\")\n",
    "ax3.axis(\"off\")\n",
    "\n",
    "\n",
    "# Plot 4: Image with resampled Points: low temperature\n",
    "ax4.imshow(im, cmap=\"gray\")\n",
    "ax4.scatter(lt_resampled_x, lt_resampled_y, c=\"blue\", s=1, alpha=0.5)\n",
    "ax4.set_title(\"Image with Resampled Points:  low temperature\")\n",
    "ax4.axis(\"off\")\n",
    "\n",
    "# Adjust layout and display the plot\n",
    "plt.tight_layout()\n",
    "plt.show()"
   ]
  },
  {
   "cell_type": "markdown",
   "metadata": {},
   "source": [
    "Let's try a few intermediate stages between the high and low temperatures."
   ]
  },
  {
   "cell_type": "code",
   "execution_count": null,
   "metadata": {},
   "outputs": [],
   "source": [
    "key, subkey = jax.random.split(key)\n",
    "keys = jax.random.split(subkey, 10000)\n",
    "trs = jax.vmap(jitted_init_proposal)(keys)\n",
    "sampled_z = jax.vmap(lambda x: (x.get_choices()[\"z\", \"x\"], x.get_choices()[\"z\", \"y\"]))(\n",
    "    trs\n",
    ")\n",
    "proposal_scores = jax.vmap(lambda x: x.get_score())(trs)\n",
    "\n",
    "all_sampled_x = []\n",
    "all_sampled_y = []\n",
    "number_steps = 10\n",
    "\n",
    "for tmp in jnp.arange(0.0, 1.0 + 1.0 / number_steps, 1.0 / number_steps):\n",
    "    key, subkey = jax.random.split(key)\n",
    "    trs, model_scores = jax.jit(\n",
    "        jax.vmap(lambda x: jitted_model(subkey, C[\"z\"].set(x), (height, width, tmp)))\n",
    "    )(sampled_z)\n",
    "    importance_scores = model_scores / proposal_scores\n",
    "    key, subkey = jax.random.split(key)\n",
    "    resampled_indices = jax.random.categorical(subkey, importance_scores, shape=(1000,))\n",
    "    sampled_x, sampled_y = sampled_z\n",
    "    resampled_x = sampled_x[resampled_indices]\n",
    "    resampled_y = sampled_y[resampled_indices]\n",
    "    all_sampled_x.append(resampled_x)\n",
    "    all_sampled_y.append(resampled_y)"
   ]
  },
  {
   "cell_type": "markdown",
   "metadata": {},
   "source": [
    "Which we can visualize:"
   ]
  },
  {
   "cell_type": "code",
   "execution_count": null,
   "metadata": {},
   "outputs": [],
   "source": [
    "fig, ax = plt.subplots(figsize=(8, 2))\n",
    "images = []\n",
    "\n",
    "rev_im = np.where(im == 0, 1, 0)\n",
    "ax.imshow(rev_im, cmap=\"gray\", extent=[0, width, height, 0])\n",
    "\n",
    "for i in range(0, number_steps + 1):\n",
    "    scatter = ax.scatter(all_sampled_x[i], all_sampled_y[i], c=\"green\", s=1, alpha=0.5)\n",
    "    title = ax.text(\n",
    "        0.5,\n",
    "        1.05,\n",
    "        f\"Temperature: {i / number_steps:.1f}\",\n",
    "        ha=\"center\",\n",
    "        va=\"center\",\n",
    "        transform=ax.transAxes,\n",
    "        fontsize=12,\n",
    "    )\n",
    "    images.append([scatter, title])\n",
    "\n",
    "ani = animation.ArtistAnimation(fig, images, interval=200, blit=True, repeat_delay=1000)\n",
    "\n",
    "# Save the animation as a GIF\n",
    "ani.save(\"initial_IS_animation.gif\", writer=\"pillow\")\n",
    "\n",
    "# Display the animation in the notebook\n",
    "from IPython.display import HTML\n",
    "\n",
    "HTML(ani.to_jshtml())"
   ]
  },
  {
   "cell_type": "markdown",
   "metadata": {},
   "source": [
    "Let's now evolve the particles over time using SMC."
   ]
  },
  {
   "cell_type": "code",
   "execution_count": null,
   "metadata": {},
   "outputs": [],
   "source": [
    "number_steps = 20\n",
    "num_particles = 2500\n",
    "\n",
    "\n",
    "# v1: random wiggling proposal\n",
    "@genjax.gen\n",
    "def proposal1(x, y):\n",
    "    x = genjax.normal(x, 1.0 * min(height, width) / 10) @ \"x\"\n",
    "    y = genjax.normal(y, 1.0 * min(height, width) / 10) @ \"y\"\n",
    "    return x, y\n",
    "\n",
    "\n",
    "# v2: rotating proposal distribution\n",
    "@genjax.gen\n",
    "def proposal2(x, y):\n",
    "    theta = 0.15\n",
    "    center_x, center_y = width / 2, height / 2\n",
    "    aspect_ratio = height / width\n",
    "    x_scaled = (x - center_x) * aspect_ratio\n",
    "    y_scaled = y - center_y\n",
    "    x_rotated = x_scaled * jnp.cos(theta) - y_scaled * jnp.sin(theta)\n",
    "    y_rotated = x_scaled * jnp.sin(theta) + y_scaled * jnp.cos(theta) + center_y\n",
    "    x_rotated = x_rotated / aspect_ratio + center_x\n",
    "\n",
    "    x = genjax.normal(x_rotated, 1.0 * min(height, width) / 10) @ \"x\"\n",
    "    y = genjax.normal(y_rotated, 1.0 * min(height, width) / 10) @ \"y\"\n",
    "    return x, y\n",
    "\n",
    "\n",
    "# v3: spiraling inwards proposal distribution\n",
    "@genjax.gen\n",
    "def proposal3(x, y):\n",
    "    inward_coeff = 0.9\n",
    "    theta = 0.15\n",
    "    center_x, center_y = width / 2, height / 2\n",
    "    aspect_ratio = height / width\n",
    "    x_scaled = (x - center_x) * aspect_ratio\n",
    "    y_scaled = y - center_y\n",
    "    x_rotated = (x_scaled * jnp.cos(theta) - y_scaled * jnp.sin(theta)) * inward_coeff\n",
    "    y_rotated = x_scaled * jnp.sin(theta) + y_scaled * jnp.cos(theta) + center_y\n",
    "    x_rotated = (x_rotated / aspect_ratio + center_x) * inward_coeff\n",
    "\n",
    "    x = genjax.normal(x_rotated, 1.0 * min(height, width) / 10) @ \"x\"\n",
    "    y = genjax.normal(y_rotated, 1.0 * min(height, width) / 10) @ \"y\"\n",
    "    return x, y\n",
    "\n",
    "\n",
    "all_sampled_x = []\n",
    "all_sampled_y = []\n",
    "\n",
    "# samples and scores from proposal\n",
    "key, subkey = jax.random.split(key)\n",
    "keys = jax.random.split(subkey, num_particles)\n",
    "trs = jax.vmap(jitted_init_proposal)(keys)\n",
    "sampled_z = jax.vmap(lambda x: (x.get_choices()[\"z\", \"x\"], x.get_choices()[\"z\", \"y\"]))(\n",
    "    trs\n",
    ")\n",
    "proposal_scores = jax.vmap(lambda x: x.get_score())(trs)\n",
    "\n",
    "# scores from model at high temperature\n",
    "key, subkey = jax.random.split(key)\n",
    "trs, model_scores = jax.vmap(\n",
    "    lambda x: jitted_model(subkey, C[\"z\"].set(x), (height, width, 0.0))\n",
    ")(sampled_z)\n",
    "\n",
    "# importance scores and resampling\n",
    "importance_scores = model_scores / proposal_scores\n",
    "key, subkey = jax.random.split(key)\n",
    "resampled_indices = jax.random.categorical(\n",
    "    subkey, importance_scores, shape=(num_particles,)\n",
    ")\n",
    "sampled_x, sampled_y = sampled_z\n",
    "resampled_x = sampled_x[resampled_indices]\n",
    "resampled_y = sampled_y[resampled_indices]\n",
    "\n",
    "resampled_z = (resampled_x, resampled_y)\n",
    "# store results for later visualization\n",
    "all_sampled_x.append(resampled_x)\n",
    "all_sampled_y.append(resampled_y)\n",
    "\n",
    "# jitting the step_proposal\n",
    "jitted = jax.jit(jax.vmap(proposal1.simulate, in_axes=(0, 0)))\n",
    "\n",
    "for tmp in jnp.arange(0.0, 1.0 + 1.0 / number_steps, 1.0 / number_steps):\n",
    "    # samples and scores from proposal kernels using the chm from previous step\n",
    "    key, subkey = jax.random.split(key)\n",
    "    keys = jax.random.split(subkey, num_particles)\n",
    "    trs = jitted(keys, (resampled_z))\n",
    "    sampled_z = jax.jit(\n",
    "        jax.vmap(lambda x: (x.get_choices()[\"x\"], x.get_choices()[\"y\"]))\n",
    "    )(trs)\n",
    "    proposal_scores = jax.jit(jax.vmap(lambda x: x.get_score()))(trs)\n",
    "\n",
    "    # scores from model at intermediate temperature\n",
    "    key, subkey = jax.random.split(key)\n",
    "    trs, model_scores = jax.jit(\n",
    "        jax.vmap(lambda x: jitted_model(subkey, C[\"z\"].set(x), (height, width, tmp**2)))\n",
    "    )(sampled_z)\n",
    "\n",
    "    # importance scores and resampling\n",
    "    importance_scores = model_scores / proposal_scores\n",
    "    key, subkey = jax.random.split(key)\n",
    "    resampled_indices = jax.random.categorical(\n",
    "        subkey, importance_scores, shape=(num_particles,)\n",
    "    )\n",
    "    sampled_x, sampled_y = sampled_z\n",
    "    resampled_x = sampled_x[resampled_indices]\n",
    "    resampled_y = sampled_y[resampled_indices]\n",
    "    resampled_z = (resampled_x, resampled_y)\n",
    "    chm = jax.vmap(lambda p: C[\"z\", \"x\"].set(p))(resampled_x) ^ jax.vmap(\n",
    "        lambda p: C[\"z\", \"y\"].set(p)\n",
    "    )(resampled_y)\n",
    "\n",
    "    # store results for later visualization\n",
    "    all_sampled_x.append(resampled_x)\n",
    "    all_sampled_y.append(resampled_y)"
   ]
  },
  {
   "cell_type": "markdown",
   "metadata": {},
   "source": [
    "Visualizing what we got!"
   ]
  },
  {
   "cell_type": "code",
   "execution_count": null,
   "metadata": {},
   "outputs": [],
   "source": [
    "fig, ax = plt.subplots(figsize=(8, 2))\n",
    "images = []\n",
    "\n",
    "plt.style.use(\"dark_background\")\n",
    "animation.embed_limit = 25\n",
    "\n",
    "# Initialize scatter plot\n",
    "scatter = ax.scatter([], [], c=\"red\", s=1000 * 1 / num_particles, alpha=0.5)\n",
    "\n",
    "ax.set_xlim(0, width)\n",
    "ax.set_ylim(0, height)\n",
    "\n",
    "\n",
    "def update(frame):\n",
    "    color = plt.cm.coolwarm(1 - frame / number_steps)\n",
    "    scatter.set_offsets(\n",
    "        np.c_[all_sampled_x[frame], height - all_sampled_y[frame]]\n",
    "    )  # Corrected to flip the y-axis\n",
    "    scatter.set_facecolor(color)\n",
    "    ax.set_title(f\"Temperature: {frame / number_steps:.1f}\")\n",
    "    return (scatter,)\n",
    "\n",
    "\n",
    "ani = animation.FuncAnimation(\n",
    "    fig, update, frames=number_steps + 1, interval=100, blit=True, repeat_delay=10000\n",
    ")\n",
    "\n",
    "# Save the animation as a GIF\n",
    "ani.save(\"SMC_animation.gif\", writer=\"pillow\")\n",
    "\n",
    "# Display the animation in the notebook\n",
    "from IPython.display import HTML\n",
    "\n",
    "HTML(ani.to_jshtml())"
   ]
  },
  {
   "cell_type": "markdown",
   "metadata": {},
   "source": [
    "Adding rejuvenation"
   ]
  },
  {
   "cell_type": "code",
   "execution_count": null,
   "metadata": {},
   "outputs": [],
   "source": [
    "# not sure how to do a non-hacky thing for now\n",
    "key, unused_key = jax.random.split(key)\n",
    "proposal_scorer = lambda x, y: proposal1.importance(\n",
    "    unused_key, C[\"x\"].set(x[0]) ^ C[\"y\"].set(x[1]), y\n",
    ")\n",
    "final_model_scorer = lambda x: jitted_model(\n",
    "    unused_key, C[\"z\"].set(x), (height, width, 1.0)\n",
    ")\n",
    "\n",
    "\n",
    "@gen\n",
    "def boltzman_rejuv(x, y):\n",
    "    mb_x, mb_y = proposal1(x, y) @ \"mb\"\n",
    "    # old_score = final_model_scorer((x,y))/proposal_scorer((x,y))\n",
    "    # This feels wrong: what should old_score be?\n",
    "    old_score = 1.0\n",
    "    _, p_score = final_model_scorer((mb_x, mb_y))\n",
    "    _, q_score = proposal_scorer((mb_x, mb_y), (x, y))\n",
    "    new_score = p_score / q_score\n",
    "    i = genjax.categorical(jnp.array([old_score, new_score])) @ \"i\"\n",
    "    return jax.lax.cond(i == 0, lambda: (x, y), lambda: (mb_x, mb_y))\n",
    "\n",
    "\n",
    "# Test the rejuvenation process\n",
    "key, subkey = jax.random.split(key)\n",
    "x, y = (0.5, 0.5)\n",
    "tr = boltzman_rejuv.simulate(subkey, (x, y))\n",
    "x, y = tr.get_retval()\n",
    "print(x, y)"
   ]
  },
  {
   "cell_type": "markdown",
   "metadata": {},
   "source": [
    "Now we can add a circular mask for the initial proposal:"
   ]
  },
  {
   "cell_type": "code",
   "execution_count": null,
   "metadata": {},
   "outputs": [],
   "source": [
    "# We need a mask on the image, independent of the inference\n",
    "# for inference, what we want is a proposal clipped to the mask, which doesn't use masking\n",
    "# a proper way would be to use meta-inference, but we can just have exponentially decaying probabilities outside the disk, and hope for the best"
   ]
  },
  {
   "cell_type": "code",
   "execution_count": null,
   "metadata": {},
   "outputs": [],
   "source": [
    "# Desired interactions:\n",
    "# - mask disk centred around mouse cursor. truncated to borders of the image\n",
    "# - mouse scroll: change radius of mask between 10 and 100 pixel\n",
    "# - left click: higher temperature (max exp^0)\n",
    "# - right click: lower temperature (min exp^{-1})\n",
    "# - SMC running while all of this is happening.\n",
    "# - may want yet another way to change the number of particles: with 1000 it's hard to see the logo but with 10k it's obvious.\n",
    "# - the rejuv dynamics could be guided by the mouse cursor moving. so that we can have particle move and bump more against the letters which a human can infer.\n",
    "# - we could infer the dynamics of the cursor between linear, quadratic, etc. by deterministic regression and propose dynamics according to the chosen one.\n"
   ]
  },
  {
   "cell_type": "code",
   "execution_count": null,
   "metadata": {},
   "outputs": [],
   "source": []
  },
  {
   "cell_type": "code",
   "execution_count": null,
   "metadata": {},
   "outputs": [],
   "source": [
    "# TODO: because of the \"z\" vs \"x\", \"y\" distinction in the trace, we'd need some kind of trace translator to tell the algorithm to use the [“z”, (“x”, “y”)] sample as a \"z\" for the model.\n",
    "target = genjax.Target(model, (height, width, 0.0), C.n())"
   ]
  },
  {
   "cell_type": "code",
   "execution_count": null,
   "metadata": {},
   "outputs": [],
   "source": [
    "# Method 2: Define the model that generated the image\n",
    "# It will be a more noisy version of the uniform distribution we just described.\n",
    "@genjax.gen\n",
    "def pixel_model(temperature):\n",
    "    x = genjax.uniform(0.0, 1.0) @ \"x\"\n",
    "    obs = genjax.normal(x, 0.01 * exp(-temperature)) @ \"obs\"\n",
    "    return obs\n",
    "\n",
    "\n",
    "model = pixel_model.vmap(in_axes=(0,)).vmap(in_axes=(0,))\n",
    "\n",
    "chm = C[jnp.arange(height), jnp.indices((height, width))[1], \"obs\"].set(im)"
   ]
  },
  {
   "cell_type": "code",
   "execution_count": null,
   "metadata": {},
   "outputs": [],
   "source": [
    "# Define the prior model\n",
    "@genjax.gen\n",
    "def prior_model(height, width):\n",
    "    # Particles are uniformly randomly initialized within the image frame\n",
    "    x = genjax.uniform(0.0, height) @ \"x\"\n",
    "    y = genjax.uniform(0.0, width) @ \"y\"\n",
    "\n",
    "    obs_x = genjax.normal(x, 1.0) @ \"obs_x\"\n",
    "    obs_y = genjax.normal(y, 1.0) @ \"obs_y\"\n",
    "    return x, y\n",
    "\n",
    "\n",
    "jax_im = jnp.array(im.astype(float))\n",
    "n_samples = 5000\n",
    "batched_prior_model = prior_model.repeat(n=n_samples)\n",
    "\n",
    "key, subkey = jax.random.split(key)\n",
    "tr = batched_prior_model.simulate(subkey, (float(height), float(width)))\n",
    "xs_init, ys_init = tr.get_choices()[..., \"x\"], tr.get_choices()[..., \"y\"]\n",
    "zs_init = np.stack([xs_init, ys_init], axis=1)"
   ]
  }
 ],
 "metadata": {
  "kernelspec": {
   "display_name": ".venv",
   "language": "python",
   "name": "python3"
  },
  "language_info": {
   "codemirror_mode": {
    "name": "ipython",
    "version": 3
   },
   "file_extension": ".py",
   "mimetype": "text/x-python",
   "name": "python",
   "nbconvert_exporter": "python",
   "pygments_lexer": "ipython3",
   "version": "3.11.6"
  }
 },
 "nbformat": 4,
 "nbformat_minor": 2
}
