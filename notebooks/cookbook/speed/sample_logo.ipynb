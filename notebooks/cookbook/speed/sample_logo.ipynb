{
 "cells": [
  {
   "cell_type": "code",
   "execution_count": 111,
   "metadata": {},
   "outputs": [],
   "source": [
    "import genjax\n",
    "import jax\n",
    "import jax.numpy as jnp\n",
    "import matplotlib\n",
    "import matplotlib.animation as animation\n",
    "import matplotlib.image as mpimg\n",
    "import matplotlib.pyplot as plt\n",
    "import numpy as np\n",
    "\n",
    "key = jax.random.PRNGKey(0)\n",
    "\n",
    "plt.rcParams[\"axes.spines.right\"] = False\n",
    "plt.rcParams[\"axes.spines.top\"] = False\n",
    "matplotlib.rcParams[\"animation.embed_limit\"] = 25"
   ]
  },
  {
   "cell_type": "code",
   "execution_count": 128,
   "metadata": {},
   "outputs": [
    {
     "data": {
      "image/png": "[encoded data removed]",
      "text/plain": [
       "<Figure size 640x480 with 1 Axes>"
      ]
     },
     "metadata": {},
     "output_type": "display_data"
    }
   ],
   "source": [
    "# Load the image\n",
    "im = mpimg.imread(\"../../../docs/assets/img/logo.png\")\n",
    "\n",
    "# Convert to mask\n",
    "im = np.amax(im[:, :, :2], 2) < 0.9\n",
    "# invert the image\n",
    "im = np.logical_not(im)\n",
    "\n",
    "# Convert back to float\n",
    "im = im.astype(float)\n",
    "height, width = im.shape\n",
    "# plot the image\n",
    "plt.imshow(im, cmap=\"gray\")\n",
    "plt.show()"
   ]
  },
  {
   "cell_type": "code",
   "execution_count": 122,
   "metadata": {},
   "outputs": [],
   "source": [
    "# Define the prior model\n",
    "@genjax.gen\n",
    "def prior_model():\n",
    "    x = genjax.uniform(0.0, float(height)) @ \"x\"\n",
    "    y = genjax.uniform(0.0, float(width)) @ \"y\"\n",
    "    obs_x = genjax.normal(x, 1.0) @ \"obs_x\"\n",
    "    obs_y = genjax.normal(y, 1.0) @ \"obs_y\"\n",
    "    return x, y\n",
    "\n",
    "\n",
    "jax_im = jnp.array(im.astype(float))\n",
    "n_samples = 5000\n",
    "batched_prior_model = prior_model.repeat(n=n_samples)\n",
    "\n",
    "key, subkey = jax.random.split(key)\n",
    "tr = batched_prior_model.simulate(subkey, ())\n",
    "xs_init, ys_init = tr.get_choices()[..., \"x\"], tr.get_choices()[..., \"y\"]\n",
    "zs_init = np.stack([xs_init, ys_init], axis=1)"
   ]
  },
  {
   "cell_type": "code",
   "execution_count": 116,
   "metadata": {},
   "outputs": [],
   "source": [
    "# by changing this, we should be able to change the visual effect for convergence of the particles to the true distribution\n",
    "@genjax.gen\n",
    "def proposal1(z):\n",
    "    x, y = z\n",
    "    x = genjax.normal(x, 0.5) @ \"x\"\n",
    "    y = genjax.normal(y, 0.5) @ \"y\"\n",
    "    return x, y\n",
    "\n",
    "# v2: rotating proposal distribution\n",
    "@genjax.gen\n",
    "def proposal2(z):\n",
    "    x, y = z\n",
    "    theta = 0.3\n",
    "    x, y = x*cos(theta) - y*sin(theta), x*sin(theta) + y*cos(theta)\n",
    "    x = genjax.normal(x, 0.5) @ \"x\"\n",
    "    y = genjax.normal(y, 0.5) @ \"y\"\n",
    "    return x, y\n",
    "\n",
    "# v3: spiraling inwards proposal distribution\n",
    "@genjax.gen\n",
    "def proposal3(z):\n",
    "    x, y = z\n",
    "    theta = 0.3\n",
    "    inward_coeff = (x+y) / 2\n",
    "    x, y = (x*cos(theta) - y*sin(theta), x*sin(theta) + y*cos(theta))*inward_coeff\n",
    "    x = genjax.normal(x, 0.5) @ \"x\"\n",
    "    y = genjax.normal(y, 0.5) @ \"y\"\n",
    "    return x, y"
   ]
  },
  {
   "cell_type": "code",
   "execution_count": 124,
   "metadata": {},
   "outputs": [
    {
     "ename": "TypeError",
     "evalue": "make_observations() missing 1 required positional argument: 'ys'",
     "output_type": "error",
     "traceback": [
      "\u001b[0;31m---------------------------------------------------------------------------\u001b[0m",
      "\u001b[0;31mTypeError\u001b[0m                                 Traceback (most recent call last)",
      "Cell \u001b[0;32mIn[124], line 6\u001b[0m\n\u001b[1;32m      3\u001b[0m     obs \u001b[38;5;241m=\u001b[39m jax\u001b[38;5;241m.\u001b[39mvmap(\u001b[38;5;28;01mlambda\u001b[39;00m idx: C[\u001b[38;5;124m\"\u001b[39m\u001b[38;5;124mdata\u001b[39m\u001b[38;5;124m\"\u001b[39m, idx, \u001b[38;5;124m\"\u001b[39m\u001b[38;5;124my\u001b[39m\u001b[38;5;124m\"\u001b[39m]\u001b[38;5;241m.\u001b[39mset(ys[idx]))(ys)\n\u001b[1;32m      4\u001b[0m     \u001b[38;5;28;01mreturn\u001b[39;00m obs\n\u001b[0;32m----> 6\u001b[0m chm \u001b[38;5;241m=\u001b[39m \u001b[43mmake_observations\u001b[49m\u001b[43m(\u001b[49m\u001b[43mim\u001b[49m\u001b[43m)\u001b[49m\n\u001b[1;32m      8\u001b[0m \u001b[38;5;66;03m# Getting samples using proposal1 and naive importance sampling\u001b[39;00m\n\u001b[1;32m      9\u001b[0m \u001b[38;5;66;03m# target_posterior = genjax.Target(batched_prior_model, \u001b[39;00m\n",
      "\u001b[0;31mTypeError\u001b[0m: make_observations() missing 1 required positional argument: 'ys'"
     ]
    }
   ],
   "source": [
    "# Creating observation\n",
    "# TODO: what do I actually want here?\n",
    "def make_observations(xs, ys):\n",
    "    obs = jax.vmap(lambda idx: C[\"data\", idx, \"y\"].set(ys[idx]))(ys)\n",
    "    return obs\n",
    "\n",
    "chm = make_observations(im)\n",
    "\n",
    "# Getting samples using proposal1 and naive importance sampling\n",
    "# target_posterior = genjax.Target(batched_prior_model, "
   ]
  },
  {
   "cell_type": "code",
   "execution_count": null,
   "metadata": {},
   "outputs": [],
   "source": [
    "plt.style.use(\"dark_background\")\n",
    "animation.embed_limit = 25\n",
    "fig, ax = plt.subplots()\n",
    "fig.tight_layout()\n",
    "\n",
    "ax.set_axis_off()\n",
    "ax.set_xlim(0, width)\n",
    "ax.set_ylim(0, height)\n",
    "\n",
    "scat = ax.scatter(ys_init, height - xs_init, s=1000 * 1 / n_samples)"
   ]
  },
  {
   "cell_type": "code",
   "execution_count": null,
   "metadata": {},
   "outputs": [],
   "source": [
    "n_frames = 2\n",
    "samples = jnp.array([zs_init, zs_init + 1])\n",
    "weights = np.ones(n_samples) / n_samples\n",
    "\n",
    "\n",
    "# create an animation for the particles\n",
    "def animate(i):\n",
    "    scat.set_offsets(np.c_[samples[i, :, 1], height - samples[i, :, 0]])\n",
    "    scat.set_sizes(1000 * weights[i])\n",
    "    return (scat,)\n",
    "\n",
    "\n",
    "# create an animation for the particles\n",
    "ani = animation.FuncAnimation(\n",
    "    fig, animate, repeat=True, frames=n_frames, blit=True, interval=100\n",
    ")"
   ]
  }
 ],
 "metadata": {
  "kernelspec": {
   "display_name": ".venv",
   "language": "python",
   "name": "python3"
  },
  "language_info": {
   "codemirror_mode": {
    "name": "ipython",
    "version": 3
   },
   "file_extension": ".py",
   "mimetype": "text/x-python",
   "name": "python",
   "nbconvert_exporter": "python",
   "pygments_lexer": "ipython3",
   "version": "3.11.6"
  }
 },
 "nbformat": 4,
 "nbformat_minor": 2
}
