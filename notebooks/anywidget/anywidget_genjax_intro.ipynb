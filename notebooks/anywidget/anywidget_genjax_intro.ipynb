{
 "cells": [
  {
   "cell_type": "code",
   "execution_count": null,
   "id": "eb6b5c0f",
   "metadata": {
    "lines_to_next_cell": 1
   },
   "outputs": [],
   "source": [
    "import genjax\n",
    "import jax\n",
    "import jax.numpy as jnp\n",
    "import jax.tree_util as jtu\n",
    "import matplotlib.pyplot as plt\n",
    "import numpy as np\n",
    "import seaborn as sns\n",
    "from genjax import static_gen_fn\n",
    "import gen.studio.plot as plot\n",
    "\n",
    "key = jax.random.PRNGKey(314159)"
   ]
  },
  {
   "cell_type": "code",
   "execution_count": null,
   "id": "ef200291",
   "metadata": {},
   "outputs": [],
   "source": [
    "# Two branches for a branching submodel.\n",
    "@static_gen_fn\n",
    "def model_y(x, coefficients):\n",
    "    basis_value = jnp.array([1.0, x, x**2])\n",
    "    polynomial_value = jnp.sum(basis_value * coefficients)\n",
    "    y = genjax.normal(polynomial_value, 0.3) @ \"value\"\n",
    "    return y\n",
    "\n",
    "\n",
    "@static_gen_fn\n",
    "def outlier_model(x, coefficients):\n",
    "    basis_value = jnp.array([1.0, x, x**2])\n",
    "    polynomial_value = jnp.sum(basis_value * coefficients)\n",
    "    y = genjax.normal(polynomial_value, 30.0) @ \"value\"\n",
    "    return y\n",
    "\n",
    "\n",
    "# The branching submodel.\n",
    "switch = genjax.switch_combinator(model_y, outlier_model)\n",
    "\n",
    "# A mapped kernel function which calls the branching submodel.\n",
    "\n",
    "\n",
    "@genjax.map_combinator(in_axes=(0, None))\n",
    "@static_gen_fn\n",
    "def kernel(x, coefficients):\n",
    "    is_outlier = genjax.flip(0.1) @ \"outlier\"\n",
    "    is_outlier = jnp.array(is_outlier, dtype=int)\n",
    "    y = switch(is_outlier, x, coefficients) @ \"y\"\n",
    "    return y\n",
    "\n",
    "\n",
    "@static_gen_fn\n",
    "def model(xs):\n",
    "    coefficients = (\n",
    "        genjax.mv_normal(np.zeros(3, dtype=float), 2.0 * np.identity(3)) @ \"alpha\"\n",
    "    )\n",
    "    ys = kernel(xs, coefficients) @ \"ys\"\n",
    "    return ys"
   ]
  },
  {
   "cell_type": "code",
   "execution_count": null,
   "id": "fe2cca4e",
   "metadata": {},
   "outputs": [],
   "source": [
    "import gen.studio.plot as plot\n",
    "\n",
    "data = jnp.arange(0, 10, 0.5)\n",
    "key, sub_key = jax.random.split(key)\n",
    "\n",
    "traces = jax.vmap(lambda k: model.simulate(k, (data,)))(jax.random.split(key, 10))\n",
    "\n",
    "plot.small_multiples(\n",
    "    [\n",
    "        plot.scatter(data, ys)\n",
    "        for ys in plot.get_address(traces, [\"ys\", \"$ALL\", \"y\", \"value\"])\n",
    "    ]\n",
    ")"
   ]
  },
  {
   "cell_type": "code",
   "execution_count": null,
   "id": "4861d867",
   "metadata": {},
   "outputs": [],
   "source": []
  }
 ],
 "metadata": {
  "jupytext": {
   "cell_metadata_filter": "-all",
   "main_language": "python",
   "notebook_metadata_filter": "-all"
  },
  "kernelspec": {
   "display_name": ".venv",
   "language": "python",
   "name": "python3"
  },
  "language_info": {
   "name": "python",
   "version": "3.12.3"
  }
 },
 "nbformat": 4,
 "nbformat_minor": 5
}
