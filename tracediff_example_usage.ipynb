{
 "cells": [
  {
   "cell_type": "code",
   "execution_count": 11,
   "id": "c46eeccd-c043-4cfb-9480-6708bcaae31a",
   "metadata": {},
   "outputs": [
    {
     "data": {
      "text/plain": [
       "(Array(-7.697064, dtype=float32), Array(-7.697064, dtype=float32))"
      ]
     },
     "execution_count": 11,
     "metadata": {},
     "output_type": "execute_result"
    }
   ],
   "source": [
    "import genjax\n",
    "from genjax import Update, ChoiceMap\n",
    "import jax.random as jrand\n",
    "from jax import jit\n",
    "\n",
    "@genjax.gen\n",
    "def model():\n",
    "    x = genjax.normal(0.0, 1.0) @ \"x\"\n",
    "    y = genjax.normal(x, 1.0) @ \"y\"\n",
    "    z = genjax.normal(y, 1.0) @ \"z\"\n",
    "\n",
    "key = jrand.key(1)\n",
    "tr = jit(model.simulate)(key, ())\n",
    "\n",
    "tracediff, *_ = tr.editf(key, Update(ChoiceMap.kw(x=3.0)), ())\n",
    "new_tr_ = tracediff.merge(tr)\n",
    "new_tr, *_ = tr.edit(key, Update(ChoiceMap.kw(x=3.0)), ())\n",
    "new_tr.get_score(), new_tr_.get_score()"
   ]
  },
  {
   "cell_type": "code",
   "execution_count": 12,
   "id": "b3a52126-28de-475e-842f-49714713ba42",
   "metadata": {},
   "outputs": [
    {
     "data": {
      "text/plain": [
       "StaticTracediff(\n",
       "  new_args=(),\n",
       "  new_retval=None,\n",
       "  addresses=AddressVisitor(visited=[('x',), ('y',), ('z',)]),\n",
       "  subdiffs=[\n",
       "    ValueChanged(\n",
       "      new_value=3.0,\n",
       "      new_score=<jax.Array(-5.4189386, dtype=float32)>,\n",
       "    ),\n",
       "    ScoreChanged(\n",
       "      new_score=<jax.Array(-1.0070328, dtype=float32)>,\n",
       "    ),\n",
       "    NotChanged(),\n",
       "  ],\n",
       ")"
      ]
     },
     "execution_count": 12,
     "metadata": {},
     "output_type": "execute_result"
    }
   ],
   "source": [
    "tracediff"
   ]
  },
  {
   "cell_type": "code",
   "execution_count": null,
   "id": "12a3a04c-f332-459f-a0f5-4b609f1954ab",
   "metadata": {},
   "outputs": [],
   "source": []
  }
 ],
 "metadata": {
  "kernelspec": {
   "display_name": "Python 3 (ipykernel)",
   "language": "python",
   "name": "python3"
  },
  "language_info": {
   "codemirror_mode": {
    "name": "ipython",
    "version": 3
   },
   "file_extension": ".py",
   "mimetype": "text/x-python",
   "name": "python",
   "nbconvert_exporter": "python",
   "pygments_lexer": "ipython3",
   "version": "3.12.7"
  }
 },
 "nbformat": 4,
 "nbformat_minor": 5
}
