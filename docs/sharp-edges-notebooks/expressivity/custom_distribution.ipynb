{
 "cells": [
  {
   "cell_type": "markdown",
   "metadata": {},
   "source": [
    "I want to create a new distribution (e.g. a variant of truncated normal) that can be used in Genjax. How do I do that?"
   ]
  },
  {
   "cell_type": "code",
   "execution_count": 7,
   "metadata": {},
   "outputs": [
    {
     "ename": "TypeError",
     "evalue": "unsupported operand type(s) for @: 'UniformDiscrete' and 'str'",
     "output_type": "error",
     "traceback": [
      "\u001b[0;31m---------------------------------------------------------------------------\u001b[0m",
      "\u001b[0;31mTypeError\u001b[0m                                 Traceback (most recent call last)",
      "Cell \u001b[0;32mIn[7], line 21\u001b[0m\n\u001b[1;32m     18\u001b[0m     \u001b[38;5;28;01mreturn\u001b[39;00m x\n\u001b[1;32m     20\u001b[0m key \u001b[38;5;241m=\u001b[39m jax\u001b[38;5;241m.\u001b[39mrandom\u001b[38;5;241m.\u001b[39mPRNGKey(\u001b[38;5;241m0\u001b[39m)\n\u001b[0;32m---> 21\u001b[0m \u001b[43mmodel\u001b[49m\u001b[38;5;241;43m.\u001b[39;49m\u001b[43msimulate\u001b[49m\u001b[43m(\u001b[49m\u001b[43mkey\u001b[49m\u001b[43m,\u001b[49m\u001b[43m \u001b[49m\u001b[43m(\u001b[49m\u001b[43m)\u001b[49m\u001b[43m)\u001b[49m\n",
      "    \u001b[0;31m[... skipping hidden 1 frame]\u001b[0m\n",
      "File \u001b[0;32m<@beartype(genjax._src.generative_functions.static.StaticGenerativeFunction.simulate) at 0x28f1c91c0>:55\u001b[0m, in \u001b[0;36msimulate\u001b[0;34m(__beartype_object_6113673984, __beartype_get_violation, __beartype_conf, __beartype_object_4919119424, __beartype_func, *args, **kwargs)\u001b[0m\n",
      "File \u001b[0;32m~/repos/genjax-docs/genjax/src/genjax/_src/generative_functions/static.py:524\u001b[0m, in \u001b[0;36mStaticGenerativeFunction.simulate\u001b[0;34m(self, key, args)\u001b[0m\n\u001b[1;32m    514\u001b[0m \u001b[38;5;129m@GenerativeFunction\u001b[39m\u001b[38;5;241m.\u001b[39mgfi_boundary\n\u001b[1;32m    515\u001b[0m \u001b[38;5;129m@typecheck\u001b[39m\n\u001b[1;32m    516\u001b[0m \u001b[38;5;28;01mdef\u001b[39;00m \u001b[38;5;21msimulate\u001b[39m(\n\u001b[0;32m   (...)\u001b[0m\n\u001b[1;32m    519\u001b[0m     args: Tuple,\n\u001b[1;32m    520\u001b[0m ) \u001b[38;5;241m-\u001b[39m\u001b[38;5;241m>\u001b[39m StaticTrace:\n\u001b[1;32m    521\u001b[0m     syntax_sugar_handled \u001b[38;5;241m=\u001b[39m push_trace_overload_stack(\n\u001b[1;32m    522\u001b[0m         handler_trace_with_static, \u001b[38;5;28mself\u001b[39m\u001b[38;5;241m.\u001b[39msource\n\u001b[1;32m    523\u001b[0m     )\n\u001b[0;32m--> 524\u001b[0m     (args, retval, address_visitor, address_traces, score) \u001b[38;5;241m=\u001b[39m \u001b[43msimulate_transform\u001b[49m\u001b[43m(\u001b[49m\n\u001b[1;32m    525\u001b[0m \u001b[43m        \u001b[49m\u001b[43msyntax_sugar_handled\u001b[49m\n\u001b[1;32m    526\u001b[0m \u001b[43m    \u001b[49m\u001b[43m)\u001b[49m\u001b[43m(\u001b[49m\u001b[43mkey\u001b[49m\u001b[43m,\u001b[49m\u001b[43m \u001b[49m\u001b[43margs\u001b[49m\u001b[43m)\u001b[49m\n\u001b[1;32m    527\u001b[0m     \u001b[38;5;28;01mreturn\u001b[39;00m StaticTrace(\n\u001b[1;32m    528\u001b[0m         \u001b[38;5;28mself\u001b[39m,\n\u001b[1;32m    529\u001b[0m         args,\n\u001b[0;32m   (...)\u001b[0m\n\u001b[1;32m    533\u001b[0m         score,\n\u001b[1;32m    534\u001b[0m     )\n",
      "File \u001b[0;32m~/repos/genjax-docs/genjax/src/genjax/_src/generative_functions/static.py:274\u001b[0m, in \u001b[0;36msimulate_transform.<locals>.wrapper\u001b[0;34m(key, args)\u001b[0m\n\u001b[1;32m    271\u001b[0m \u001b[38;5;129m@functools\u001b[39m\u001b[38;5;241m.\u001b[39mwraps(source_fn)\n\u001b[1;32m    272\u001b[0m \u001b[38;5;28;01mdef\u001b[39;00m \u001b[38;5;21mwrapper\u001b[39m(key, args):\n\u001b[1;32m    273\u001b[0m     stateful_handler \u001b[38;5;241m=\u001b[39m SimulateHandler(key)\n\u001b[0;32m--> 274\u001b[0m     retval \u001b[38;5;241m=\u001b[39m \u001b[43mforward\u001b[49m\u001b[43m(\u001b[49m\u001b[43msource_fn\u001b[49m\u001b[43m)\u001b[49m\u001b[43m(\u001b[49m\u001b[43mstateful_handler\u001b[49m\u001b[43m,\u001b[49m\u001b[43m \u001b[49m\u001b[38;5;241;43m*\u001b[39;49m\u001b[43margs\u001b[49m\u001b[43m)\u001b[49m\n\u001b[1;32m    275\u001b[0m     (\n\u001b[1;32m    276\u001b[0m         address_visitor,\n\u001b[1;32m    277\u001b[0m         address_traces,\n\u001b[1;32m    278\u001b[0m         score,\n\u001b[1;32m    279\u001b[0m     ) \u001b[38;5;241m=\u001b[39m stateful_handler\u001b[38;5;241m.\u001b[39myield_state()\n\u001b[1;32m    280\u001b[0m     \u001b[38;5;28;01mreturn\u001b[39;00m (\n\u001b[1;32m    281\u001b[0m         args,\n\u001b[1;32m    282\u001b[0m         retval,\n\u001b[0;32m   (...)\u001b[0m\n\u001b[1;32m    285\u001b[0m         score,\n\u001b[1;32m    286\u001b[0m     )\n",
      "File \u001b[0;32m<@beartype(genjax._src.core.interpreters.forward.forward.wrapped) at 0x29fd934c0>:32\u001b[0m, in \u001b[0;36mwrapped\u001b[0;34m(__beartype_object_6108976128, __beartype_get_violation, __beartype_conf, __beartype_func, *args, **kwargs)\u001b[0m\n",
      "File \u001b[0;32m~/repos/genjax-docs/genjax/src/genjax/_src/core/interpreters/forward.py:257\u001b[0m, in \u001b[0;36mforward.<locals>.wrapped\u001b[0;34m(stateful_handler, *args)\u001b[0m\n\u001b[1;32m    253\u001b[0m \u001b[38;5;129m@functools\u001b[39m\u001b[38;5;241m.\u001b[39mwraps(f)\n\u001b[1;32m    254\u001b[0m \u001b[38;5;129m@typecheck\u001b[39m\n\u001b[1;32m    255\u001b[0m \u001b[38;5;28;01mdef\u001b[39;00m \u001b[38;5;21mwrapped\u001b[39m(stateful_handler: StatefulHandler, \u001b[38;5;241m*\u001b[39margs):\n\u001b[1;32m    256\u001b[0m     interpreter \u001b[38;5;241m=\u001b[39m ForwardInterpreter()\n\u001b[0;32m--> 257\u001b[0m     \u001b[38;5;28;01mreturn\u001b[39;00m \u001b[43minterpreter\u001b[49m\u001b[38;5;241;43m.\u001b[39;49m\u001b[43mrun_interpreter\u001b[49m\u001b[43m(\u001b[49m\n\u001b[1;32m    258\u001b[0m \u001b[43m        \u001b[49m\u001b[43mstateful_handler\u001b[49m\u001b[43m,\u001b[49m\n\u001b[1;32m    259\u001b[0m \u001b[43m        \u001b[49m\u001b[43mf\u001b[49m\u001b[43m,\u001b[49m\n\u001b[1;32m    260\u001b[0m \u001b[43m        \u001b[49m\u001b[38;5;241;43m*\u001b[39;49m\u001b[43margs\u001b[49m\u001b[43m,\u001b[49m\n\u001b[1;32m    261\u001b[0m \u001b[43m    \u001b[49m\u001b[43m)\u001b[49m\n",
      "File \u001b[0;32m~/repos/genjax-docs/genjax/src/genjax/_src/core/interpreters/forward.py:240\u001b[0m, in \u001b[0;36mForwardInterpreter.run_interpreter\u001b[0;34m(self, stateful_handler, fn, *args, **kwargs)\u001b[0m\n\u001b[1;32m    237\u001b[0m \u001b[38;5;28;01mdef\u001b[39;00m \u001b[38;5;21m_inner\u001b[39m(\u001b[38;5;241m*\u001b[39margs):\n\u001b[1;32m    238\u001b[0m     \u001b[38;5;28;01mreturn\u001b[39;00m fn(\u001b[38;5;241m*\u001b[39margs, \u001b[38;5;241m*\u001b[39m\u001b[38;5;241m*\u001b[39mkwargs)\n\u001b[0;32m--> 240\u001b[0m _closed_jaxpr, (flat_args, _, out_tree) \u001b[38;5;241m=\u001b[39m \u001b[43mstage\u001b[49m\u001b[43m(\u001b[49m\u001b[43m_inner\u001b[49m\u001b[43m)\u001b[49m\u001b[43m(\u001b[49m\u001b[38;5;241;43m*\u001b[39;49m\u001b[43margs\u001b[49m\u001b[43m)\u001b[49m\n\u001b[1;32m    241\u001b[0m _jaxpr, consts \u001b[38;5;241m=\u001b[39m _closed_jaxpr\u001b[38;5;241m.\u001b[39mjaxpr, _closed_jaxpr\u001b[38;5;241m.\u001b[39mliterals\n\u001b[1;32m    242\u001b[0m flat_out \u001b[38;5;241m=\u001b[39m \u001b[38;5;28mself\u001b[39m\u001b[38;5;241m.\u001b[39m_eval_jaxpr_forward(\n\u001b[1;32m    243\u001b[0m     stateful_handler,\n\u001b[1;32m    244\u001b[0m     _jaxpr,\n\u001b[1;32m    245\u001b[0m     consts,\n\u001b[1;32m    246\u001b[0m     flat_args,\n\u001b[1;32m    247\u001b[0m )\n",
      "File \u001b[0;32m~/repos/genjax-docs/genjax/src/genjax/_src/core/interpreters/staging.py:125\u001b[0m, in \u001b[0;36mstage.<locals>.wrapped\u001b[0;34m(*args, **kwargs)\u001b[0m\n\u001b[1;32m    123\u001b[0m flat_fun, out_tree \u001b[38;5;241m=\u001b[39m api_util\u001b[38;5;241m.\u001b[39mflatten_fun_nokwargs(fun, in_tree)\n\u001b[1;32m    124\u001b[0m flat_avals \u001b[38;5;241m=\u001b[39m safe_map(get_shaped_aval, flat_args)\n\u001b[0;32m--> 125\u001b[0m typed_jaxpr \u001b[38;5;241m=\u001b[39m \u001b[43mcached_stage_dynamic\u001b[49m\u001b[43m(\u001b[49m\u001b[43mflat_fun\u001b[49m\u001b[43m,\u001b[49m\u001b[43m \u001b[49m\u001b[38;5;28;43mtuple\u001b[39;49m\u001b[43m(\u001b[49m\u001b[43mflat_avals\u001b[49m\u001b[43m)\u001b[49m\u001b[43m)\u001b[49m\n\u001b[1;32m    126\u001b[0m \u001b[38;5;28;01mreturn\u001b[39;00m typed_jaxpr, (flat_args, in_tree, out_tree)\n",
      "    \u001b[0;31m[... skipping hidden 1 frame]\u001b[0m\n",
      "File \u001b[0;32m~/repos/genjax-docs/genjax/src/genjax/_src/core/interpreters/staging.py:112\u001b[0m, in \u001b[0;36mcached_stage_dynamic\u001b[0;34m(flat_fun, in_avals)\u001b[0m\n\u001b[1;32m    110\u001b[0m \u001b[38;5;129m@lu\u001b[39m\u001b[38;5;241m.\u001b[39mcache\n\u001b[1;32m    111\u001b[0m \u001b[38;5;28;01mdef\u001b[39;00m \u001b[38;5;21mcached_stage_dynamic\u001b[39m(flat_fun, in_avals):\n\u001b[0;32m--> 112\u001b[0m     jaxpr, _, consts \u001b[38;5;241m=\u001b[39m \u001b[43mpe\u001b[49m\u001b[38;5;241;43m.\u001b[39;49m\u001b[43mtrace_to_jaxpr_dynamic\u001b[49m\u001b[43m(\u001b[49m\u001b[43mflat_fun\u001b[49m\u001b[43m,\u001b[49m\u001b[43m \u001b[49m\u001b[43min_avals\u001b[49m\u001b[43m)\u001b[49m\n\u001b[1;32m    113\u001b[0m     typed_jaxpr \u001b[38;5;241m=\u001b[39m jc\u001b[38;5;241m.\u001b[39mClosedJaxpr(jaxpr, consts)\n\u001b[1;32m    114\u001b[0m     \u001b[38;5;28;01mreturn\u001b[39;00m typed_jaxpr\n",
      "    \u001b[0;31m[... skipping hidden 5 frame]\u001b[0m\n",
      "File \u001b[0;32m~/repos/genjax-docs/genjax/src/genjax/_src/core/interpreters/forward.py:238\u001b[0m, in \u001b[0;36mForwardInterpreter.run_interpreter.<locals>._inner\u001b[0;34m(*args)\u001b[0m\n\u001b[1;32m    237\u001b[0m \u001b[38;5;28;01mdef\u001b[39;00m \u001b[38;5;21m_inner\u001b[39m(\u001b[38;5;241m*\u001b[39margs):\n\u001b[0;32m--> 238\u001b[0m     \u001b[38;5;28;01mreturn\u001b[39;00m \u001b[43mfn\u001b[49m\u001b[43m(\u001b[49m\u001b[38;5;241;43m*\u001b[39;49m\u001b[43margs\u001b[49m\u001b[43m,\u001b[49m\u001b[43m \u001b[49m\u001b[38;5;241;43m*\u001b[39;49m\u001b[38;5;241;43m*\u001b[39;49m\u001b[43mkwargs\u001b[49m\u001b[43m)\u001b[49m\n",
      "File \u001b[0;32m~/repos/genjax-docs/genjax/src/genjax/_src/core/generative/core.py:993\u001b[0m, in \u001b[0;36mpush_trace_overload_stack.<locals>.wrapped\u001b[0;34m(*args)\u001b[0m\n\u001b[1;32m    991\u001b[0m \u001b[38;5;28;01mdef\u001b[39;00m \u001b[38;5;21mwrapped\u001b[39m(\u001b[38;5;241m*\u001b[39margs):\n\u001b[1;32m    992\u001b[0m     GLOBAL_TRACE_OP_HANDLER_STACK\u001b[38;5;241m.\u001b[39mappend(handler)\n\u001b[0;32m--> 993\u001b[0m     ret \u001b[38;5;241m=\u001b[39m \u001b[43mfn\u001b[49m\u001b[43m(\u001b[49m\u001b[38;5;241;43m*\u001b[39;49m\u001b[43margs\u001b[49m\u001b[43m)\u001b[49m\n\u001b[1;32m    994\u001b[0m     GLOBAL_TRACE_OP_HANDLER_STACK\u001b[38;5;241m.\u001b[39mpop()\n\u001b[1;32m    995\u001b[0m     \u001b[38;5;28;01mreturn\u001b[39;00m ret\n",
      "File \u001b[0;32m~/repos/genjax-docs/genjax/src/genjax/_src/core/pytree.py:474\u001b[0m, in \u001b[0;36mClosure.__call__\u001b[0;34m(self, *args, **kwargs)\u001b[0m\n\u001b[1;32m    473\u001b[0m \u001b[38;5;28;01mdef\u001b[39;00m \u001b[38;5;21m__call__\u001b[39m(\u001b[38;5;28mself\u001b[39m, \u001b[38;5;241m*\u001b[39margs, \u001b[38;5;241m*\u001b[39m\u001b[38;5;241m*\u001b[39mkwargs):\n\u001b[0;32m--> 474\u001b[0m     \u001b[38;5;28;01mreturn\u001b[39;00m \u001b[38;5;28;43mself\u001b[39;49m\u001b[38;5;241;43m.\u001b[39;49m\u001b[43mfn\u001b[49m\u001b[43m(\u001b[49m\u001b[38;5;241;43m*\u001b[39;49m\u001b[38;5;28;43mself\u001b[39;49m\u001b[38;5;241;43m.\u001b[39;49m\u001b[43mdyn_args\u001b[49m\u001b[43m,\u001b[49m\u001b[43m \u001b[49m\u001b[38;5;241;43m*\u001b[39;49m\u001b[43margs\u001b[49m\u001b[43m,\u001b[49m\u001b[43m \u001b[49m\u001b[38;5;241;43m*\u001b[39;49m\u001b[38;5;241;43m*\u001b[39;49m\u001b[43mkwargs\u001b[49m\u001b[43m)\u001b[49m\n",
      "Cell \u001b[0;32mIn[7], line 17\u001b[0m, in \u001b[0;36mmodel\u001b[0;34m()\u001b[0m\n\u001b[1;32m     15\u001b[0m \u001b[38;5;129m@gen\u001b[39m\n\u001b[1;32m     16\u001b[0m \u001b[38;5;28;01mdef\u001b[39;00m \u001b[38;5;21mmodel\u001b[39m():\n\u001b[0;32m---> 17\u001b[0m     x \u001b[38;5;241m=\u001b[39m \u001b[43muniform_discrete\u001b[49m\u001b[43m \u001b[49m\u001b[38;5;241;43m@\u001b[39;49m\u001b[43m \u001b[49m\u001b[38;5;124;43m\"\u001b[39;49m\u001b[38;5;124;43mx\u001b[39;49m\u001b[38;5;124;43m\"\u001b[39;49m\n\u001b[1;32m     18\u001b[0m     \u001b[38;5;28;01mreturn\u001b[39;00m x\n",
      "\u001b[0;31mTypeError\u001b[0m: unsupported operand type(s) for @: 'UniformDiscrete' and 'str'"
     ]
    }
   ],
   "source": [
    "from jax import numpy as jnp\n",
    "import jax\n",
    "from genjax import ExactDensity\n",
    "from genjax import Pytree, gen\n",
    "\n",
    "@Pytree.dataclass\n",
    "class UniformDiscrete(ExactDensity):\n",
    "    def sample(self, key, vals):\n",
    "        return jax.random.choice(key, vals)\n",
    "\n",
    "    def logpdf(self, sampled_val, vals, **kwargs):\n",
    "        return jnp.log(1.0 / (vals.shape[0]))\n",
    "uniform_discrete = UniformDiscrete()\n",
    "\n",
    "@gen\n",
    "def model():\n",
    "    x = uniform_discrete @ \"x\"\n",
    "    return x\n",
    "\n",
    "key = jax.random.PRNGKey(0)\n",
    "model.simulate(key, ())"
   ]
  }
 ],
 "metadata": {
  "kernelspec": {
   "display_name": ".venv",
   "language": "python",
   "name": "python3"
  },
  "language_info": {
   "codemirror_mode": {
    "name": "ipython",
    "version": 3
   },
   "file_extension": ".py",
   "mimetype": "text/x-python",
   "name": "python",
   "nbconvert_exporter": "python",
   "pygments_lexer": "ipython3",
   "version": "3.11.6"
  }
 },
 "nbformat": 4,
 "nbformat_minor": 2
}
