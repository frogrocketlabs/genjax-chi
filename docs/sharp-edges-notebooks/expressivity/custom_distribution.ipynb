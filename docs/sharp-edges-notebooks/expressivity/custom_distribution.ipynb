{
 "cells": [
  {
   "cell_type": "markdown",
   "metadata": {},
   "source": [
    "I want to create a new distribution (e.g. a variant of truncated normal) that can be used in Genjax. How do I do that?"
   ]
  },
  {
   "cell_type": "code",
   "execution_count": null,
   "metadata": {},
   "outputs": [],
   "source": [
    "from jax import numpy as jnp\n",
    "import jax\n",
    "from genjax import ExactDensity\n",
    "from genjax import Pytree, gen\n",
    "\n",
    "\n",
    "@Pytree.dataclass\n",
    "class UniformDiscrete(ExactDensity):\n",
    "    def sample(self, key, vals):\n",
    "        return jax.random.choice(key, vals)\n",
    "\n",
    "    def logpdf(self, sampled_val, vals, **kwargs):\n",
    "        return jnp.log(1.0 / (vals.shape[0]))\n",
    "\n",
    "\n",
    "uniform_discrete = UniformDiscrete()\n",
    "\n",
    "\n",
    "@gen\n",
    "def model():\n",
    "    x = uniform_discrete @ \"x\"\n",
    "    return x\n",
    "\n",
    "\n",
    "key = jax.random.PRNGKey(0)\n",
    "model.simulate(key, ())"
   ]
  }
 ],
 "metadata": {
  "kernelspec": {
   "display_name": ".venv",
   "language": "python",
   "name": "python3"
  },
  "language_info": {
   "codemirror_mode": {
    "name": "ipython",
    "version": 3
   },
   "file_extension": ".py",
   "mimetype": "text/x-python",
   "name": "python",
   "nbconvert_exporter": "python",
   "pygments_lexer": "ipython3",
   "version": "3.11.6"
  }
 },
 "nbformat": 4,
 "nbformat_minor": 2
}
