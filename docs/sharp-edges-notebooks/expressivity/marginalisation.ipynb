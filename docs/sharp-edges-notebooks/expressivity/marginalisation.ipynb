{
 "cells": [
  {
   "cell_type": "markdown",
   "metadata": {},
   "source": [
    "What is marginalization? How and when to do it?"
   ]
  },
  {
   "cell_type": "code",
   "execution_count": null,
   "metadata": {},
   "outputs": [],
   "source": [
    "# TODO: for now basic explanation and example using GenSP, but will need to be revised to be more extensive\n",
    "\n",
    "# outline:\n",
    "# 1. inference is on full traces, how to reduce the trace and still do correct inference.\n",
    "# 2. show example\n",
    "# 3. explain the different new components\n",
    "# 3.1 random_weighted\n",
    "# 3.2 marginal\n",
    "# 3.3 target\n",
    "# 3.4 estimate_logpdf\n",
    "# 3.5 estimate_normalizing_constant\n",
    "# 3.6 estimate_reciprocal_normalizing_constant\n",
    "# 3.7 Alg\n",
    "# 4. explain how this recovers the base case\n",
    "\n",
    "# TODO: may need to be cut into smaller pieces.\n",
    "\n",
    "\n",
    "import jax\n",
    "import jax.numpy as jnp\n",
    "from genjax import beta, flip, gen, Target, ChoiceMap\n",
    "from genjax.inference.smc import ImportanceK\n",
    "from jax import jit\n",
    "\n",
    "\n",
    "# Create a generative model.\n",
    "@gen\n",
    "def beta_bernoulli(α, β):\n",
    "    p = beta(α, β) @ \"p\"\n",
    "    v = flip(p) @ \"v\"\n",
    "    return v\n",
    "\n",
    "\n",
    "@jit\n",
    "def run_inference(obs: bool):\n",
    "    # Create an inference query - a posterior target - by specifying\n",
    "    # the model, arguments to the model, and constraints.\n",
    "    posterior_target = Target(\n",
    "        beta_bernoulli,  # the model\n",
    "        (2.0, 2.0),  # arguments to the model\n",
    "        ChoiceMap.d({\"v\": obs}),  # constraints\n",
    "    )\n",
    "\n",
    "    # Use a library algorithm, or design your own - more on that in the docs!\n",
    "    alg = ImportanceK(posterior_target, k_particles=50)\n",
    "\n",
    "    # Everything is JAX compatible by default.\n",
    "    # JIT, vmap, to your heart's content.\n",
    "    key = jax.random.PRNGKey(314159)\n",
    "    sub_keys = jax.random.split(key, 50)\n",
    "    _, p_chm = jit(jax.vmap(alg.random_weighted, in_axes=(0, None)))(\n",
    "        sub_keys, posterior_target\n",
    "    )\n",
    "\n",
    "    # An estimate of `p` over 50 independent trials of SIR (with K = 50 particles).\n",
    "    return jnp.mean(p_chm[\"p\"])\n",
    "\n",
    "\n",
    "(run_inference(True), run_inference(False))"
   ]
  }
 ],
 "metadata": {
  "kernelspec": {
   "display_name": ".venv",
   "language": "python",
   "name": "python3"
  },
  "language_info": {
   "codemirror_mode": {
    "name": "ipython",
    "version": 3
   },
   "file_extension": ".py",
   "mimetype": "text/x-python",
   "name": "python",
   "nbconvert_exporter": "python",
   "pygments_lexer": "ipython3",
   "version": "3.11.6"
  }
 },
 "nbformat": 4,
 "nbformat_minor": 2
}
