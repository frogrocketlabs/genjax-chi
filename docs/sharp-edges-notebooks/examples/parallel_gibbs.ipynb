{
 "cells": [
  {
   "cell_type": "markdown",
   "metadata": {},
   "source": [
    "Here's a simple example to showcase to power of GPU parallelism in GenJAX ."
   ]
  },
  {
   "cell_type": "code",
   "execution_count": 2,
   "metadata": {},
   "outputs": [],
   "source": [
    "# TODO: Vikash's example of discrete HMM with inference via checker Gibbs updates \n",
    "\n",
    "import genjax\n",
    "from genjax import mixture_combinator, gen, normal, flip, inverse_gamma\n",
    "from tensorflow_probability.substrates import jax as tfp\n",
    "tfd = tfp.distributions\n",
    "from jax import random\n",
    "import jax.numpy as jnp\n",
    "\n",
    "### Utility functions\n",
    "class LabeledCategorical(genjax.StaticGenerativeFunction, genjax.ExactDensity):\n",
    "    def sample(self, key, probs, labels, **kwargs):\n",
    "        cat = tfd.Categorical(probs=probs)\n",
    "        cat_index = cat.sample(seed=key)\n",
    "        return labels[cat_index]\n",
    "\n",
    "    def logpdf(self, v, probs, labels, **kwargs):\n",
    "        w = jnp.log(jnp.sum(probs * (labels==v)))\n",
    "        return w\n",
    "    \n",
    "# labcat = LabeledCategorical()\n",
    "\n",
    "def unicat(x):\n",
    "    return jnp.ones(len(x)) / len(x)\n",
    "def normalize(x):\n",
    "    return x / jnp.sum(x)\n",
    "\n",
    "def discretized_gaussian(domain, mean, std):\n",
    "    domain = domain.astype(jnp.float32)\n",
    "    mean = mean.astype(jnp.float32)\n",
    "    std = std.astype(jnp.float32)\n",
    "    return normalize(\n",
    "        tfd.Normal(loc=mean, scale=std).cdf(domain + .5) - \n",
    "        tfd.Normal(loc=mean, scale=std).cdf(domain - .5)\n",
    "    )\n",
    "\n",
    "# First, let's define the model\n",
    "# @gen\n",
    "# def init_model():\n",
    "#     x = labcat(unicat(positions), positions) @ \"x\"\n",
    "#     y = labcat(unicat(positions), positions) @ \"y\"\n",
    "#     return (x, y)"
   ]
  },
  {
   "cell_type": "code",
   "execution_count": null,
   "metadata": {},
   "outputs": [],
   "source": []
  }
 ],
 "metadata": {
  "kernelspec": {
   "display_name": ".venv",
   "language": "python",
   "name": "python3"
  },
  "language_info": {
   "codemirror_mode": {
    "name": "ipython",
    "version": 3
   },
   "file_extension": ".py",
   "mimetype": "text/x-python",
   "name": "python",
   "nbconvert_exporter": "python",
   "pygments_lexer": "ipython3",
   "version": "3.11.6"
  }
 },
 "nbformat": 4,
 "nbformat_minor": 2
}
