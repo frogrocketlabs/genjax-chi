{
 "cells": [
  {
   "cell_type": "markdown",
   "metadata": {},
   "source": [
    "What's a trace, a choicemap, and how do I select from it? "
   ]
  },
  {
   "cell_type": "markdown",
   "metadata": {},
   "source": [
    "Accessing the right elements in the trace can become non-trivial when one creates hierarchical generative functions. \n",
    "Here's a minimal example and solution for selection."
   ]
  },
  {
   "cell_type": "code",
   "execution_count": 35,
   "metadata": {},
   "outputs": [
    {
     "name": "stdout",
     "output_type": "stream",
     "text": [
      "0\n",
      "\n",
      "[[ 1.1605581   0.95527214 -1.7698178 ]\n",
      " [-0.37148237  1.1890742  -0.6553323 ]]\n",
      "\n",
      "[ 0.36448452  0.25174013 -0.7845038  -0.85613173 -1.9163786  -0.56642795\n",
      " -0.96378577  0.6517954  -0.17539416  0.32161352]\n",
      "-2.0501354\n",
      "\n",
      "[0.30189174 0.31286433 0.3139801  0.32622513 0.31059152 0.3164824\n",
      " 0.30230102 0.30271375 0.30742478 0.26852012]\n",
      "\n",
      "2\n"
     ]
    }
   ],
   "source": [
    "\n",
    "# TODO: more basic examples, choicemap creation, and high level explanations\n",
    "from genjax import cond_combinator, bernoulli, gen, vmap_combinator, normal, scan_combinator, repeat_combinator, mixture_combinator\n",
    "import jax.numpy as jnp\n",
    "import jax.random as random\n",
    "from jax import jit\n",
    "\n",
    "key = random.PRNGKey(0)\n",
    "\n",
    "### Trace selection in hierarchical models\n",
    "\n",
    "# For `cond_combinator`\n",
    "@gen\n",
    "def model(p):\n",
    "    branch_1 = gen(lambda p: bernoulli(p) @ \"v1\")\n",
    "    branch_2 = gen(lambda p: bernoulli(-p) @ \"v2\")\n",
    "    v = cond_combinator(branch_1, branch_2)(jnp.int32(p > 0), (p,), (p,)) @ \"s\"\n",
    "    return v\n",
    "\n",
    "trace = jit(model.simulate)(key, (0.5,))\n",
    "print(trace.get_sample()[(\"s\", \"v2\")])\n",
    "print()\n",
    "\n",
    "# For `vmap_combinator`\n",
    "sample_image = vmap_combinator(in_axes=(0,))(vmap_combinator(in_axes=(0,))(gen(lambda pixel: normal(pixel,1.0) @ \"new_pixel\")))\n",
    "\n",
    "image = jnp.zeros([2,3], dtype=jnp.float32)\n",
    "trace = sample_image.simulate(key,(image,))\n",
    "print(trace.get_sample()[...,...,\"new_pixel\"])\n",
    "print()\n",
    "\n",
    "# For `scan_combinator`\n",
    "@scan_combinator(max_length=10)\n",
    "@gen\n",
    "def hmm(x, c):\n",
    "    z = normal(x, 1.0) @ \"z\"\n",
    "    y = normal(z, 1.0) @ \"y\"\n",
    "    return y, None\n",
    "trace = hmm.simulate(key, (0.0, None))\n",
    "print(trace.get_sample()[..., \"z\"])\n",
    "print(trace.get_sample()[3,\"y\"])\n",
    "print()\n",
    "\n",
    "# For `repeat_combinator`\n",
    "@repeat_combinator(num_repeats=10)\n",
    "@gen\n",
    "def model(y):\n",
    "    x = normal(y, 0.01) @ \"x\"\n",
    "    y = normal(x, 0.01) @ \"y\"\n",
    "    return y\n",
    "trace = model.simulate(key, (0.3,))\n",
    "print(trace.get_sample()[...,\"x\"])\n",
    "print()\n",
    "\n",
    "# For `mixture_combinator`\n",
    "@gen\n",
    "def mixture_model(p):\n",
    "    z = normal(p, 1.0) @ \"z\"\n",
    "    # the switch combinators take as input the logits of the mixture components\n",
    "    logits = (0.3, 0.5, 0.2)\n",
    "    # and args for each component of the mixture\n",
    "    arg_1 = (p,)\n",
    "    arg_2 = (p,)\n",
    "    arg_3 = (p,)\n",
    "    a = mixture_combinator(\n",
    "        gen(lambda p: normal(p, 1.0) @ \"x1\"), \n",
    "        gen(lambda p: normal(p, 2.0) @ \"x2\"), \n",
    "        gen(lambda p: normal(p, 3.0) @ \"x3\"))(logits, arg_1, arg_2, arg_3) @ \"a\"\n",
    "    return a+z\n",
    "\n",
    "trace = mixture_model.simulate(key, (0.4,))\n",
    "# The combinator uses a fixed address \"mixture_component\" for the components of the mixture model. \n",
    "print(trace.get_sample()[\"a\",\"mixture_component\"])"
   ]
  }
 ],
 "metadata": {
  "kernelspec": {
   "display_name": ".venv",
   "language": "python",
   "name": "python3"
  },
  "language_info": {
   "codemirror_mode": {
    "name": "ipython",
    "version": 3
   },
   "file_extension": ".py",
   "mimetype": "text/x-python",
   "name": "python",
   "nbconvert_exporter": "python",
   "pygments_lexer": "ipython3",
   "version": "3.11.6"
  }
 },
 "nbformat": 4,
 "nbformat_minor": 2
}
