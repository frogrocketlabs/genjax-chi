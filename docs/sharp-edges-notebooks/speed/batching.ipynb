{
 "cells": [
  {
   "cell_type": "markdown",
   "metadata": {},
   "source": [
    "How do I batch things to make them go faster?\n",
    "The tradeoff, especially on GPU with Jax, is that it will take more memory and one has to be careful to OOM issues."
   ]
  },
  {
   "cell_type": "code",
   "execution_count": null,
   "metadata": {},
   "outputs": [],
   "source": [
    "# We have seen ways of doing this in other pages.\n",
    "# We can use a repeat_combinator to run a generative function multiple times using the same argument.\n",
    "# We can also use a vmap_combinator which will vectorize the function and run it on multiple arguments.\n",
    "# We can use different vmap_combinator on different axes to batch different parts differently.\n",
    "# All of these are in the iterating_computation.ipynb file."
   ]
  }
 ],
 "metadata": {
  "language_info": {
   "name": "python"
  }
 },
 "nbformat": 4,
 "nbformat_minor": 2
}
