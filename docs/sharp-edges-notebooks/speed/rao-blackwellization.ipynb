{
 "cells": [
  {
   "cell_type": "markdown",
   "metadata": {},
   "source": [
    "It feels like my inference is worsened becasue of the size of the trace which contains all the noise terms to make inference work. Can't we do better?"
   ]
  },
  {
   "cell_type": "markdown",
   "metadata": {},
   "source": [
    "Rao-Blackwellization is then a useful technique which generally tradeoffs compute time for better inference. Or sometimes we can usefully slightly chang the model and get better inference at no real extra cost."
   ]
  }
 ],
 "metadata": {
  "language_info": {
   "name": "python"
  }
 },
 "nbformat": 4,
 "nbformat_minor": 2
}
