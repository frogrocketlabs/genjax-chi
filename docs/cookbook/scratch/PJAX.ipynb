{
 "cells": [
  {
   "cell_type": "code",
   "execution_count": 8,
   "id": "f94b601f-c575-405f-8185-4ccb0769f71d",
   "metadata": {},
   "outputs": [
    {
     "name": "stdout",
     "output_type": "stream",
     "text": [
      "{ \u001b[34m\u001b[22m\u001b[1mlambda \u001b[39m\u001b[22m\u001b[22m; a\u001b[35m:f32[]\u001b[39m b\u001b[35m:f32[]\u001b[39m. \u001b[34m\u001b[22m\u001b[1mlet\n",
      "    \u001b[39m\u001b[22m\u001b[22mc\u001b[35m:f32[]\u001b[39m = sample[\n",
      "      abs_eval=<function initial_style_bind.<locals>.bind.<locals>.wrapped.<locals>._abs_eval at 0x14d6d5da0>\n",
      "      impl=<function initial_style_bind.<locals>.bind.<locals>.wrapped.<locals>._impl at 0x14d6d5d00>\n",
      "      in_tree=PyTreeDef((*, *))\n",
      "      jax_impl=<function <lambda> at 0x14d6d5120>\n",
      "      num_consts=0\n",
      "      out_tree=<function transformation_with_aux2.<locals>.<lambda> at 0x14d6d71a0>\n",
      "    ] a b\n",
      "  \u001b[34m\u001b[22m\u001b[1min \u001b[39m\u001b[22m\u001b[22m(c,) }\n"
     ]
    },
    {
     "data": {
      "text/plain": [
       "Array(0.14898422, dtype=float32)"
      ]
     },
     "execution_count": 8,
     "metadata": {},
     "output_type": "execute_result"
    }
   ],
   "source": [
    "import genjax\n",
    "from tensorflow_probability.substrates import jax as tfp\n",
    "tfd = tfp.distributions\n",
    "from genjax import pjax, sample_binder\n",
    "from jax import make_jaxpr\n",
    "from jax import jit\n",
    "import jax.numpy as jnp\n",
    "import jax.random as jrand\n",
    "\n",
    "beta = sample_binder(\n",
    "    lambda key, conc0, conc1: tfd.Beta(conc0, conc1).sample(seed=key)\n",
    ")\n",
    "print(make_jaxpr(beta)(2.0, 2.0))\n",
    "jit(lambda key, *args: pjax(beta, key)(*args))(jrand.key(10), 3.0, 2.0)"
   ]
  }
 ],
 "metadata": {
  "kernelspec": {
   "display_name": "Python 3 (ipykernel)",
   "language": "python",
   "name": "python3"
  },
  "language_info": {
   "codemirror_mode": {
    "name": "ipython",
    "version": 3
   },
   "file_extension": ".py",
   "mimetype": "text/x-python",
   "name": "python",
   "nbconvert_exporter": "python",
   "pygments_lexer": "ipython3",
   "version": "3.13.2"
  }
 },
 "nbformat": 4,
 "nbformat_minor": 5
}
