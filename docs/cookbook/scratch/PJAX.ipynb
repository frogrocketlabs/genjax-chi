{
 "cells": [
  {
   "cell_type": "code",
   "execution_count": null,
   "id": "0",
   "metadata": {},
   "outputs": [],
   "source": [
    "import jax.random as jrand\n",
    "\n",
    "import genjax\n",
    "from genjax import gen, pjax_to_jax\n",
    "\n",
    "\n",
    "@gen\n",
    "def model(mu, idx):\n",
    "    return genjax.normal.switch(genjax.normal)(idx, (mu, 0.5), (mu, 1.0)) @ \"x\""
   ]
  },
  {
   "cell_type": "code",
   "execution_count": null,
   "id": "1",
   "metadata": {},
   "outputs": [],
   "source": [
    "pjax_to_jax(jrand.key(3), model.simulate)((0.3, 1))"
   ]
  },
  {
   "cell_type": "code",
   "execution_count": null,
   "id": "2",
   "metadata": {},
   "outputs": [],
   "source": [
    "@gen\n",
    "def model(mu):\n",
    "    return genjax.normal(mu, 0.5) @ \"x\""
   ]
  },
  {
   "cell_type": "code",
   "execution_count": null,
   "id": "3",
   "metadata": {},
   "outputs": [],
   "source": [
    "pjax_to_jax(jrand.key(3), model.simulate)((0.5,))"
   ]
  }
 ],
 "metadata": {
  "kernelspec": {
   "display_name": "Python 3 (ipykernel)",
   "language": "python",
   "name": "python3"
  },
  "language_info": {
   "codemirror_mode": {
    "name": "ipython",
    "version": 3
   },
   "file_extension": ".py",
   "mimetype": "text/x-python",
   "name": "python",
   "nbconvert_exporter": "python",
   "pygments_lexer": "ipython3",
   "version": "3.13.2"
  }
 },
 "nbformat": 4,
 "nbformat_minor": 5
}
