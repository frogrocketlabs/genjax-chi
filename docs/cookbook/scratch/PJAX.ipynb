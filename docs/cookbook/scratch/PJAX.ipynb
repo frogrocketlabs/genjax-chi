{
 "cells": [
  {
   "cell_type": "code",
   "execution_count": null,
   "id": "0",
   "metadata": {},
   "outputs": [],
   "source": [
    "from tensorflow_probability.substrates import jax as tfp\n",
    "\n",
    "tfd = tfp.distributions\n",
    "import jax.random as jrand\n",
    "from jax import jit, make_jaxpr\n",
    "\n",
    "from genjax import pjax, sample_binder\n",
    "\n",
    "beta = sample_binder(lambda key, conc0, conc1: tfd.Beta(conc0, conc1).sample(seed=key))\n",
    "print(make_jaxpr(beta)(2.0, 2.0))\n",
    "jit(lambda key, *args: pjax(beta, key)(*args))(jrand.key(10), 3.0, 2.0)"
   ]
  }
 ],
 "metadata": {
  "kernelspec": {
   "display_name": "Python 3 (ipykernel)",
   "language": "python",
   "name": "python3"
  },
  "language_info": {
   "codemirror_mode": {
    "name": "ipython",
    "version": 3
   },
   "file_extension": ".py",
   "mimetype": "text/x-python",
   "name": "python",
   "nbconvert_exporter": "python",
   "pygments_lexer": "ipython3",
   "version": "3.13.2"
  }
 },
 "nbformat": 4,
 "nbformat_minor": 5
}
