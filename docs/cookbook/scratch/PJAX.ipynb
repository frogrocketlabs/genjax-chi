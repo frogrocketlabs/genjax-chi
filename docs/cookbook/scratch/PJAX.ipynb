{
 "cells": [
  {
   "cell_type": "code",
   "execution_count": null,
   "id": "0",
   "metadata": {},
   "outputs": [],
   "source": [
    "import jax\n",
    "import jax.numpy as jnp\n",
    "from jax import make_jaxpr\n",
    "\n",
    "import genjax\n",
    "from genjax import normal, pjax, pretty\n",
    "\n",
    "pretty()"
   ]
  },
  {
   "cell_type": "code",
   "execution_count": null,
   "id": "1",
   "metadata": {},
   "outputs": [],
   "source": [
    "def prog():\n",
    "    x = normal.sample(0.0, 1.0)\n",
    "    return x"
   ]
  },
  {
   "cell_type": "code",
   "execution_count": null,
   "id": "2",
   "metadata": {},
   "outputs": [],
   "source": [
    "make_jaxpr(pjax.vmap(prog, axis_size=10))()"
   ]
  },
  {
   "cell_type": "code",
   "execution_count": null,
   "id": "3",
   "metadata": {},
   "outputs": [],
   "source": [
    "def prog(b):\n",
    "    x = normal.sample(0.0, 1.0)\n",
    "    v = jax.lax.cond(\n",
    "        b, lambda v: normal.sample(v, 1.0), lambda v: normal.sample(v, 2.0), x\n",
    "    )\n",
    "    return v"
   ]
  },
  {
   "cell_type": "code",
   "execution_count": null,
   "id": "4",
   "metadata": {},
   "outputs": [],
   "source": [
    "make_jaxpr(pjax.vmap(prog, in_axes=(None,), axis_size=5))(False)"
   ]
  },
  {
   "cell_type": "code",
   "execution_count": null,
   "id": "5",
   "metadata": {},
   "outputs": [],
   "source": [
    "import jax.random as jrand\n",
    "\n",
    "from genjax import ChoiceMapBuilder as C\n",
    "\n",
    "\n",
    "@genjax.vmap(in_axes=(0,))\n",
    "@genjax.gen\n",
    "def kernel(x):\n",
    "    z = genjax.normal(x, 1.0) @ \"z\"\n",
    "    y = genjax.normal(z, 2.0) @ \"y\"\n",
    "    return z\n",
    "\n",
    "\n",
    "map_over = jnp.arange(0, 3, dtype=float)\n",
    "chm = pjax.vmap(lambda v: C[\"z\"].set(v))(jnp.array([3.0, 2.0, 3.0]))\n",
    "\n",
    "good_jitted = jax.jit(pjax.seed(kernel.importance))\n",
    "good_jitted(jrand.key(2), chm, (map_over,))"
   ]
  },
  {
   "cell_type": "code",
   "execution_count": null,
   "id": "6",
   "metadata": {},
   "outputs": [],
   "source": [
    "make_jaxpr(kernel.importance)(chm, (map_over,))"
   ]
  },
  {
   "cell_type": "code",
   "execution_count": null,
   "id": "7",
   "metadata": {},
   "outputs": [],
   "source": [
    "bad_chm = pjax.vmap(lambda idx, v: C[idx, \"z\"].set(v))(\n",
    "    jnp.arange(3), jnp.array([3.0, 2.0, 3.0])\n",
    ")\n",
    "bad_jitted = jax.jit(pjax.seed(kernel.bad_importance))\n",
    "bad_jitted(jrand.key(2), bad_chm, (map_over,))"
   ]
  },
  {
   "cell_type": "code",
   "execution_count": null,
   "id": "8",
   "metadata": {},
   "outputs": [],
   "source": [
    "key = jrand.key(1)"
   ]
  },
  {
   "cell_type": "code",
   "execution_count": null,
   "id": "9",
   "metadata": {},
   "outputs": [],
   "source": [
    "%%timeit \n",
    "bad_jitted.lower(key, bad_chm, (map_over,))"
   ]
  },
  {
   "cell_type": "code",
   "execution_count": null,
   "id": "10",
   "metadata": {},
   "outputs": [],
   "source": [
    "%%timeit\n",
    "good_jitted.lower(key, chm, (map_over,))"
   ]
  },
  {
   "cell_type": "code",
   "execution_count": null,
   "id": "11",
   "metadata": {},
   "outputs": [],
   "source": []
  }
 ],
 "metadata": {
  "kernelspec": {
   "display_name": "Python 3 (ipykernel)",
   "language": "python",
   "name": "python3"
  },
  "language_info": {
   "codemirror_mode": {
    "name": "ipython",
    "version": 3
   },
   "file_extension": ".py",
   "mimetype": "text/x-python",
   "name": "python",
   "nbconvert_exporter": "python",
   "pygments_lexer": "ipython3",
   "version": "3.13.2"
  }
 },
 "nbformat": 4,
 "nbformat_minor": 5
}
