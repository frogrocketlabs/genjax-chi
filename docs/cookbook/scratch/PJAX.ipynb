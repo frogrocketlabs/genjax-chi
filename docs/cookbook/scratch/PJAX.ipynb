{
 "cells": [
  {
   "cell_type": "code",
   "execution_count": null,
   "id": "0",
   "metadata": {},
   "outputs": [],
   "source": [
    "import jax.numpy as jnp\n",
    "import jax.random as jrand\n",
    "\n",
    "import genjax\n",
    "from genjax import gen, pjax_to_jax\n",
    "\n",
    "\n",
    "@gen\n",
    "def model(carry, xs):\n",
    "    x = genjax.normal(carry, 1.0) @ \"x\"\n",
    "    return x, xs\n",
    "\n",
    "\n",
    "pjax_to_jax(jrand.key(1), model.scan(n=10).simulate)((0.1, jnp.ones(10)))"
   ]
  },
  {
   "cell_type": "code",
   "execution_count": null,
   "id": "1",
   "metadata": {},
   "outputs": [],
   "source": []
  }
 ],
 "metadata": {
  "kernelspec": {
   "display_name": "Python 3 (ipykernel)",
   "language": "python",
   "name": "python3"
  },
  "language_info": {
   "codemirror_mode": {
    "name": "ipython",
    "version": 3
   },
   "file_extension": ".py",
   "mimetype": "text/x-python",
   "name": "python",
   "nbconvert_exporter": "python",
   "pygments_lexer": "ipython3",
   "version": "3.13.2"
  }
 },
 "nbformat": 4,
 "nbformat_minor": 5
}
