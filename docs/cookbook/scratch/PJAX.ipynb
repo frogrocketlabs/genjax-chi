{
 "cells": [
  {
   "cell_type": "code",
   "execution_count": null,
   "id": "0",
   "metadata": {},
   "outputs": [],
   "source": [
    "import jax.random as jrand\n",
    "\n",
    "import genjax\n",
    "from genjax import gen, pjax_to_jax\n",
    "\n",
    "\n",
    "@gen\n",
    "def model(idx, mu):\n",
    "    return genjax.normal.switch(genjax.normal)(idx, (mu, 2.0), (mu, 1.0)) @ \"x\"\n",
    "\n",
    "\n",
    "pjax_to_jax(jrand.key(5), model.simulate)((0, 0.3))"
   ]
  }
 ],
 "metadata": {
  "kernelspec": {
   "display_name": "Python 3 (ipykernel)",
   "language": "python",
   "name": "python3"
  },
  "language_info": {
   "codemirror_mode": {
    "name": "ipython",
    "version": 3
   },
   "file_extension": ".py",
   "mimetype": "text/x-python",
   "name": "python",
   "nbconvert_exporter": "python",
   "pygments_lexer": "ipython3",
   "version": "3.13.2"
  }
 },
 "nbformat": 4,
 "nbformat_minor": 5
}
