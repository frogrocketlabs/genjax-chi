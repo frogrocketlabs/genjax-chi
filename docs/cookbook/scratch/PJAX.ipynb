{
 "cells": [
  {
   "cell_type": "code",
   "execution_count": 1,
   "id": "0",
   "metadata": {},
   "outputs": [],
   "source": [
    "import jax\n",
    "import jax.numpy as jnp\n",
    "from jax import make_jaxpr\n",
    "\n",
    "from genjax import gen, normal, pjax"
   ]
  },
  {
   "cell_type": "code",
   "execution_count": 2,
   "id": "1",
   "metadata": {},
   "outputs": [
    {
     "data": {
      "text/plain": [
       "genjax._src.generative_functions.fn.Fn"
      ]
     },
     "execution_count": 2,
     "metadata": {},
     "output_type": "execute_result"
    }
   ],
   "source": [
    "@gen\n",
    "def model(v):\n",
    "    x = normal(v, 1.0) @ \"x\"\n",
    "\n",
    "type(model)"
   ]
  },
  {
   "cell_type": "code",
   "execution_count": 3,
   "id": "2",
   "metadata": {},
   "outputs": [
    {
     "data": {
      "text/plain": [
       "FnTrace(\n",
       "  gen_fn=Fn(\n",
       "    source_program=Closure(dyn_args=(), fn=<function model at 0x121626480>),\n",
       "  ),\n",
       "  args=(\n",
       "    <jax.Array([1., 1., 1., 1., 1., 1., 1., 1., 1., 1.], dtype=float32)>,\n",
       "  ),\n",
       "  retval=None,\n",
       "  subtraces={\n",
       "    'x': DistributionTrace(\n",
       "      distribution=genjax.normal(),\n",
       "      args=(\n",
       "        <jax.Array([1., 1., 1., 1., 1., 1., 1., 1., 1., 1.], dtype=float32)>,\n",
       "        <jax.Array([1., 1., 1., 1., 1., 1., 1., 1., 1., 1.], dtype=float32, weak_type=True)>,\n",
       "      ),\n",
       "      value=<jax.Array float32(10,) ≈-0.45 ±3e-08 [≥-0.45, ≤-0.45] nonzero:10>,\n",
       "    ),\n",
       "  },\n",
       ")"
      ]
     },
     "execution_count": 3,
     "metadata": {},
     "output_type": "execute_result"
    }
   ],
   "source": [
    "jax.vmap(model.simulate, in_axes=(0,))((jnp.ones(10),))"
   ]
  },
  {
   "cell_type": "code",
   "execution_count": 4,
   "id": "3",
   "metadata": {},
   "outputs": [
    {
     "data": {
      "text/plain": [
       "{ \u001b[34m\u001b[22m\u001b[1mlambda \u001b[39m\u001b[22m\u001b[22m; a\u001b[35m:f32[10]\u001b[39m. \u001b[34m\u001b[22m\u001b[1mlet\n",
       "    \u001b[39m\u001b[22m\u001b[22mb\u001b[35m:f32[10]\u001b[39m = \u001b[1m\u001b[36mpjax.sample\u001b[0m[dist=Normal] a 1.0\n",
       "    c\u001b[35m:f32[10]\u001b[39m = broadcast_in_dim[\n",
       "      broadcast_dimensions=()\n",
       "      shape=(10,)\n",
       "      sharding=None\n",
       "    ] 1.0\n",
       "  \u001b[34m\u001b[22m\u001b[1min \u001b[39m\u001b[22m\u001b[22m(a, a, c, b) }"
      ]
     },
     "execution_count": 4,
     "metadata": {},
     "output_type": "execute_result"
    }
   ],
   "source": [
    "make_jaxpr(jax.vmap(model.simulate, in_axes=(0,)))((jnp.ones(10),))"
   ]
  },
  {
   "cell_type": "code",
   "execution_count": 5,
   "id": "4",
   "metadata": {},
   "outputs": [
    {
     "data": {
      "text/plain": [
       "{ \u001b[34m\u001b[22m\u001b[1mlambda \u001b[39m\u001b[22m\u001b[22m; a\u001b[35m:f32[10]\u001b[39m. \u001b[34m\u001b[22m\u001b[1mlet\n",
       "    \u001b[39m\u001b[22m\u001b[22mb\u001b[35m:f32[10]\u001b[39m = broadcast_in_dim[\n",
       "      broadcast_dimensions=()\n",
       "      shape=(10,)\n",
       "      sharding=None\n",
       "    ] 1.0\n",
       "    c\u001b[35m:f32[10]\u001b[39m = \u001b[1m\u001b[36mpjax.sample\u001b[0m[dist=Normal] a b\n",
       "  \u001b[34m\u001b[22m\u001b[1min \u001b[39m\u001b[22m\u001b[22m(a, a, 1.0, c) }"
      ]
     },
     "execution_count": 5,
     "metadata": {},
     "output_type": "execute_result"
    }
   ],
   "source": [
    "make_jaxpr(pjax.vmap(model.simulate, in_axes=(0,)))((jnp.ones(10),))"
   ]
  }
 ],
 "metadata": {
  "kernelspec": {
   "display_name": "Python 3 (ipykernel)",
   "language": "python",
   "name": "python3"
  },
  "language_info": {
   "codemirror_mode": {
    "name": "ipython",
    "version": 3
   },
   "file_extension": ".py",
   "mimetype": "text/x-python",
   "name": "python",
   "nbconvert_exporter": "python",
   "pygments_lexer": "ipython3",
   "version": "3.13.2"
  }
 },
 "nbformat": 4,
 "nbformat_minor": 5
}
