{
 "cells": [
  {
   "cell_type": "code",
   "execution_count": null,
   "id": "0",
   "metadata": {},
   "outputs": [],
   "source": [
    "from functools import partial\n",
    "\n",
    "import genstudio.plot as Plot\n",
    "import jax\n",
    "import jax.numpy as jnp\n",
    "import jax.random as jrand\n",
    "\n",
    "from genjax import pjax, pretty\n",
    "\n",
    "pretty()"
   ]
  },
  {
   "cell_type": "code",
   "execution_count": null,
   "id": "1",
   "metadata": {},
   "outputs": [],
   "source": [
    "import jax\n",
    "import jax.numpy as jnp\n",
    "\n",
    "from genjax import ChoiceMap as Chm\n",
    "from genjax import Selection as Sel\n",
    "from genjax import beta, flip, gen\n",
    "from genjax.edits import HMC\n",
    "\n",
    "\n",
    "# Create a generative model.\n",
    "@gen\n",
    "def beta_bernoulli(α, β):\n",
    "    p = beta(α, β) @ \"p\"\n",
    "    v = flip(p) @ \"v\"\n",
    "    return v\n",
    "\n",
    "\n",
    "def exact_posterior_mean(obs, α, β):\n",
    "    return (α + obs) / (α + β + 1)\n",
    "\n",
    "\n",
    "# Implements HMC-within-SIR:\n",
    "# create a trace, edit it with HMC, resample.\n",
    "def inference_via_editing_traces(obs, α, β, k=50):\n",
    "    (tr, lws) = beta_bernoulli.importance_k(k)(\n",
    "        Chm.d({\"v\": obs}),  # constraint: \"v\" -> obs\n",
    "        (α, β),  # (α, β)\n",
    "    )\n",
    "    (tr, lws_), _ = tr.repeat(n=20).edit_k(\n",
    "        # run a single step of HMC for \"p\" with eps=1e-3.\n",
    "        HMC(Sel.at[\"p\"], jnp.array(1e-4))\n",
    "    )\n",
    "    (tr, _) = tr.resample_k(lws + lws_)\n",
    "    return tr, jnp.mean(tr[\"p\"])\n",
    "\n",
    "\n",
    "α, β = 2.0, 2.0\n",
    "obs = True\n",
    "(\n",
    "    exact_posterior_mean(obs, α, β),\n",
    "    jax.jit(pjax.seed(inference_via_editing_traces))(jrand.key(4), obs, α, β)[1],\n",
    ")"
   ]
  },
  {
   "cell_type": "code",
   "execution_count": null,
   "id": "2",
   "metadata": {},
   "outputs": [],
   "source": [
    "tr, _ = jax.jit(pjax.seed(partial(inference_via_editing_traces, k=500)))(\n",
    "    jrand.key(4), obs, α, β\n",
    ")\n",
    "tr.visualize(\n",
    "    \"p\",\n",
    "    lambda v: Plot.ruleX([jnp.mean(v)], fill=\"red\")\n",
    "    + Plot.histogram(v)\n",
    "    + {\"width\": 400, \"height\": 400, \"inset\": 0},\n",
    ")"
   ]
  },
  {
   "cell_type": "code",
   "execution_count": null,
   "id": "3",
   "metadata": {},
   "outputs": [],
   "source": [
    "jitted = jax.jit(pjax.seed(partial(inference_via_editing_traces, k=500)))\n",
    "jitted(jrand.key(4), obs, α, β)"
   ]
  },
  {
   "cell_type": "code",
   "execution_count": null,
   "id": "4",
   "metadata": {},
   "outputs": [],
   "source": [
    "%%timeit\n",
    "jitted(jrand.key(4), obs, α, β)"
   ]
  },
  {
   "cell_type": "code",
   "execution_count": null,
   "id": "5",
   "metadata": {},
   "outputs": [],
   "source": []
  }
 ],
 "metadata": {
  "kernelspec": {
   "display_name": "Python 3 (ipykernel)",
   "language": "python",
   "name": "python3"
  },
  "language_info": {
   "codemirror_mode": {
    "name": "ipython",
    "version": 3
   },
   "file_extension": ".py",
   "mimetype": "text/x-python",
   "name": "python",
   "nbconvert_exporter": "python",
   "pygments_lexer": "ipython3",
   "version": "3.13.2"
  }
 },
 "nbformat": 4,
 "nbformat_minor": 5
}
