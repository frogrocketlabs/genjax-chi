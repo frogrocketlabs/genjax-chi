{
 "cells": [
  {
   "cell_type": "code",
   "execution_count": null,
   "id": "0",
   "metadata": {},
   "outputs": [],
   "source": [
    "import jax\n",
    "import jax.numpy as jnp\n",
    "import jax.random as jrand\n",
    "\n",
    "import genjax\n",
    "from genjax import pjax, pretty\n",
    "\n",
    "pretty()"
   ]
  },
  {
   "cell_type": "code",
   "execution_count": null,
   "id": "1",
   "metadata": {},
   "outputs": [],
   "source": [
    "import jax.random as jrand\n",
    "\n",
    "from genjax import ChoiceMapBuilder as C\n",
    "\n",
    "\n",
    "@genjax.vmap()\n",
    "@genjax.gen\n",
    "def kernel(x):\n",
    "    z = genjax.normal(x, 1.0) @ \"z\"\n",
    "    y = genjax.normal(z, 2.0) @ \"y\"\n",
    "    return z\n",
    "\n",
    "\n",
    "map_over = jnp.arange(0, 3, dtype=float)\n",
    "chm = pjax.vmap(lambda v: C[\"z\"].set(v))(jnp.array([3.0, 2.0, 3.0]))\n",
    "\n",
    "good_jitted = jax.jit(pjax.seed(kernel.importance))\n",
    "tr, w = good_jitted(jrand.key(2), chm, (map_over,))\n",
    "tr.get_choices()"
   ]
  },
  {
   "cell_type": "code",
   "execution_count": null,
   "id": "2",
   "metadata": {},
   "outputs": [],
   "source": []
  }
 ],
 "metadata": {
  "kernelspec": {
   "display_name": "Python 3 (ipykernel)",
   "language": "python",
   "name": "python3"
  },
  "language_info": {
   "codemirror_mode": {
    "name": "ipython",
    "version": 3
   },
   "file_extension": ".py",
   "mimetype": "text/x-python",
   "name": "python",
   "nbconvert_exporter": "python",
   "pygments_lexer": "ipython3",
   "version": "3.13.2"
  }
 },
 "nbformat": 4,
 "nbformat_minor": 5
}
