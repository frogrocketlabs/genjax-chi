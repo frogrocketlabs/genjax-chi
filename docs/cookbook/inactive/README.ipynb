{
 "cells": [
  {
   "cell_type": "code",
   "execution_count": null,
   "id": "0",
   "metadata": {},
   "outputs": [],
   "source": [
    "import jax.random as jrand\n",
    "\n",
    "import genjax\n",
    "from genjax import default_seed, seed\n",
    "\n",
    "p = 0.5\n",
    "\n",
    "\n",
    "@genjax.gen\n",
    "def f():\n",
    "    flip = genjax.flip(p) @ \"flip\"\n",
    "    return (\n",
    "        genjax.normal(0.0, 1.0).or_else(genjax.normal(2.0, 1.0))(flip, (), ()) @ \"value\"\n",
    "    )\n",
    "\n",
    "\n",
    "args = ()\n",
    "tr = seed(f.simulate)(jrand.key(1), args)\n",
    "score, ret = default_seed(f.assess)(tr.get_choices(), args)\n",
    "choices = tr.get_choices()\n",
    "choices"
   ]
  },
  {
   "cell_type": "code",
   "execution_count": null,
   "id": "1",
   "metadata": {},
   "outputs": [],
   "source": [
    "f.assess(choices, args)"
   ]
  },
  {
   "cell_type": "code",
   "execution_count": null,
   "id": "2",
   "metadata": {},
   "outputs": [],
   "source": []
  }
 ],
 "metadata": {
  "kernelspec": {
   "display_name": "Python 3 (ipykernel)",
   "language": "python",
   "name": "python3"
  },
  "language_info": {
   "codemirror_mode": {
    "name": "ipython",
    "version": 3
   },
   "file_extension": ".py",
   "mimetype": "text/x-python",
   "name": "python",
   "nbconvert_exporter": "python",
   "pygments_lexer": "ipython3",
   "version": "3.13.2"
  }
 },
 "nbformat": 4,
 "nbformat_minor": 5
}
