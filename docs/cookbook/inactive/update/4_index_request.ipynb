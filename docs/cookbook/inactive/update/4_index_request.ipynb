{
 "cells": [
  {
   "cell_type": "raw",
   "metadata": {
    "vscode": {
     "languageId": "raw"
    }
   },
   "source": [
    "---\n",
    "title: Speed Gains Part 2\n",
    "subtitle: Optimizing update for vmap\n",
    "---"
   ]
  },
  {
   "cell_type": "markdown",
   "metadata": {},
   "source": [
    "- introduce current limitation of update \n",
    "- how to manually overwrite\n",
    "- test on a variant of model from cookbook 3"
   ]
  }
 ],
 "metadata": {
  "language_info": {
   "name": "python"
  }
 },
 "nbformat": 4,
 "nbformat_minor": 2
}
