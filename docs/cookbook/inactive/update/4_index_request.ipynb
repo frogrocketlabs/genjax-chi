{
 "cells": [
  {
   "cell_type": "markdown",
   "metadata": {
    "vscode": {
     "languageId": "raw"
    }
   },
   "source": [
    "### Speed Gains Part 2: Optimizing updates for vmap"
   ]
  },
  {
   "cell_type": "markdown",
   "metadata": {},
   "source": [
    "- introduce current limitation of update \n",
    "- how to manually overwrite\n",
    "- test on a variant of model from cookbook 3"
   ]
  },
  {
   "cell_type": "code",
   "execution_count": null,
   "metadata": {},
   "outputs": [],
   "source": [
    "import jax\n",
    "import jax.numpy as jnp\n",
    "\n",
    "from genjax import gen, normal, pretty\n",
    "from genjax._src.core.pytree import Const\n",
    "\n",
    "pretty()\n",
    "key = jax.random.PRNGKey(0)"
   ]
  },
  {
   "cell_type": "markdown",
   "metadata": {},
   "source": [
    "As we discussed in the previous cookbook entries, a main point of `update` is to be used for incremental computation: `update` performs algebraic simplifications of the logpdf-ratios computed in the weight that it returns. This is tracked through the `Diff` system.\n",
    "A limitation of the current system is that if an address \"x\" has a tensor value, "
   ]
  },
  {
   "cell_type": "code",
   "execution_count": null,
   "metadata": {},
   "outputs": [],
   "source": [
    "@gen\n",
    "def model(size_model: Const[int]):\n",
    "    size_model = size_model.unwrap()\n",
    "    x = normal(0.0, 1.0) @ \"x\"\n",
    "    a = normal.vmap()(jnp.zeros(size_model), jnp.ones(size_model)) @ \"a\"\n",
    "    b = normal.vmap()(jnp.zeros(size_model), jnp.ones(size_model)) @ \"b\"\n",
    "    c = normal.vmap()(jnp.zeros(size_model), jnp.ones(size_model)) @ \"c\"\n",
    "    obs = normal(jnp.sum(a) + jnp.sum(b) + jnp.sum(c) + x, 5.0) @ \"obs\"\n",
    "    return obs"
   ]
  },
  {
   "cell_type": "code",
   "execution_count": null,
   "metadata": {},
   "outputs": [],
   "source": [
    "# for idx in range(10):\n",
    "#     old_z = tr.get_choices()[\"kernel\", idx, \"z\"]\n",
    "#     old_target_density = genjax.normal.logpdf(old_z, 0.0, 1.0)\n",
    "#     request = StaticRequest({\n",
    "#         \"kernel\": IndexRequest(jnp.array(idx), Regenerate(S.at[\"z\"])),\n",
    "#     })\n",
    "#     new_tr, fwd_w, _, _ = request.edit(key, tr, ())\n",
    "#     new_z = new_tr.get_choices()[\"kernel\", idx, \"z\"]\n",
    "#     new_target_density = genjax.normal.logpdf(new_z, 0.0, 1.0)\n",
    "#     assert fwd_w == new_target_density - old_target_density"
   ]
  }
 ],
 "metadata": {
  "kernelspec": {
   "display_name": ".venv",
   "language": "python",
   "name": "python3"
  },
  "language_info": {
   "codemirror_mode": {
    "name": "ipython",
    "version": 3
   },
   "file_extension": ".py",
   "mimetype": "text/x-python",
   "name": "python",
   "nbconvert_exporter": "python",
   "pygments_lexer": "ipython3",
   "version": "3.11.6"
  }
 },
 "nbformat": 4,
 "nbformat_minor": 2
}
