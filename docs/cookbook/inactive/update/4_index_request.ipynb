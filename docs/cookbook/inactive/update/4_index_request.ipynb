{
 "cells": [
  {
   "cell_type": "markdown",
   "metadata": {
    "vscode": {
     "languageId": "raw"
    }
   },
   "source": [
    "### Speed Gains Part 2: Optimizing updates for vmap"
   ]
  },
  {
   "cell_type": "markdown",
   "metadata": {},
   "source": [
    "- introduce current limitation of update \n",
    "- how to manually overwrite\n",
    "- test on a variant of model from cookbook 3"
   ]
  },
  {
   "cell_type": "code",
   "execution_count": null,
   "metadata": {},
   "outputs": [],
   "source": [
    "import jax\n",
    "import jax.numpy as jnp\n",
    "\n",
    "import genjax\n",
    "from genjax import ChoiceMapBuilder as C\n",
    "from genjax import (\n",
    "    StaticRequest,\n",
    "    Update,\n",
    "    gen,\n",
    "    normal,\n",
    "    pretty,\n",
    ")\n",
    "from genjax._src.core.pytree import Const\n",
    "\n",
    "pretty()\n",
    "key = jax.random.PRNGKey(0)"
   ]
  },
  {
   "cell_type": "markdown",
   "metadata": {},
   "source": [
    "As we discussed in the previous cookbook entries, a main point of `update` is to be used for incremental computation: `update` performs algebraic simplifications of the logpdf-ratios computed in the weight that it returns. This is tracked through the `Diff` system.\n",
    "\n",
    "A limitation of the current automation is that if an address \"x\" has a tensor value, and any index of \"x\" changes, the system will consider that \"x\" has changed without capturing a finer description of what exactly changed.\n",
    "\n",
    "However, we can manually specify how something has changed in a more specific way."
   ]
  },
  {
   "cell_type": "code",
   "execution_count": null,
   "metadata": {},
   "outputs": [],
   "source": [
    "@gen\n",
    "def model(size_model: Const[int]):\n",
    "    size_model = size_model.unwrap()\n",
    "    x = normal(0.0, 1.0) @ \"x\"\n",
    "    a = normal.vmap()(jnp.zeros(size_model), jnp.ones(size_model)) @ \"a\"\n",
    "    b = normal.vmap()(jnp.zeros(size_model), jnp.ones(size_model)) @ \"b\"\n",
    "    c = normal.vmap()(jnp.zeros(size_model), jnp.ones(size_model)) @ \"c\"\n",
    "    obs = normal(jnp.sum(a) + jnp.sum(b) + jnp.sum(c) + x, 5.0) @ \"obs\"\n",
    "    return obs"
   ]
  },
  {
   "cell_type": "markdown",
   "metadata": {},
   "source": [
    "Let's create a trace from our model."
   ]
  },
  {
   "cell_type": "code",
   "execution_count": null,
   "metadata": {},
   "outputs": [],
   "source": [
    "obs = C[\"obs\"].set(\n",
    "    1.0,\n",
    ")\n",
    "size_model = 10000\n",
    "args = (Const(size_model),)\n",
    "key, subkey = jax.random.split(key)\n",
    "tr, _ = model.importance(subkey, obs, args)\n",
    "\n",
    "tr.subtraces[3].inner"
   ]
  },
  {
   "cell_type": "markdown",
   "metadata": {},
   "source": [
    "Let's first see an equivalent way to perform do what `update` does. \n",
    "Just like `update` generalizes `importance`, there is yet another more general interface, `edit`, which generalizes `update`.\n",
    "\n",
    "We will go into the details of `edit` in a follow up cookbook.\n",
    "For now, let's see the equivalent of `update` using `edit`. For this, we introduce a `Request` to change the trace.\n",
    "`edit` will then answer the `Request` and change the trace following the logic of the request. \n",
    "To mimick `update`, we will perform an `Update` request."
   ]
  },
  {
   "cell_type": "code",
   "execution_count": null,
   "metadata": {},
   "outputs": [],
   "source": [
    "change_in_value_for_a = jnp.ones(size_model)\n",
    "\n",
    "# usual update\n",
    "constraints = C[\"a\"].set(change_in_value_for_a)\n",
    "argdiffs = genjax.Diff.no_change(args)\n",
    "key, subkey = jax.random.split(key)\n",
    "new_tr1, _, _, _ = tr.update(subkey, constraints, argdiffs)\n",
    "\n",
    "# update using `Request`\n",
    "val = C.v(change_in_value_for_a)\n",
    "request = StaticRequest({\"a\": Update(val)})\n",
    "key, subkey = jax.random.split(key)\n",
    "new_tr2, _, _, _ = request.edit(subkey, tr, args)\n",
    "\n",
    "# comparing the values of both choicemaps after the update\n",
    "jax.tree_util.tree_all(\n",
    "    jax.tree.map(jnp.allclose, new_tr1.get_choices(), new_tr2.get_choices())\n",
    ")"
   ]
  },
  {
   "cell_type": "markdown",
   "metadata": {},
   "source": [
    "Now let's see how we can efficiently change the value of \"a\" at a specific index. \n",
    "For that, we create a more specific `Request` called an `IndexRequest`. This request expects another request for what to do at the given index."
   ]
  },
  {
   "cell_type": "code",
   "execution_count": null,
   "metadata": {},
   "outputs": [],
   "source": [
    "# request = StaticRequest({\n",
    "#         \"a\": IndexRequest(jnp.array(3), Update(C.v(1.)))})\n",
    "\n",
    "# key, subkey = jax.random.split(key)\n",
    "# new_tr, _, _, _ = request.edit(subkey, tr, args)\n",
    "\n",
    "\n",
    "# jnp.sum(new_tr.get_choices()[\"a\"] == 1.0)"
   ]
  },
  {
   "cell_type": "markdown",
   "metadata": {},
   "source": [
    "Finally, let's compare both options."
   ]
  }
 ],
 "metadata": {
  "kernelspec": {
   "display_name": ".venv",
   "language": "python",
   "name": "python3"
  },
  "language_info": {
   "codemirror_mode": {
    "name": "ipython",
    "version": 3
   },
   "file_extension": ".py",
   "mimetype": "text/x-python",
   "name": "python",
   "nbconvert_exporter": "python",
   "pygments_lexer": "ipython3",
   "version": "3.11.6"
  }
 },
 "nbformat": 4,
 "nbformat_minor": 2
}
