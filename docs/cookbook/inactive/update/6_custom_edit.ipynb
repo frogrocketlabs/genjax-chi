{
 "cells": [
  {
   "cell_type": "markdown",
   "metadata": {
    "vscode": {
     "languageId": "raw"
    }
   },
   "source": [
    "### Examples of edit moves and write your own"
   ]
  },
  {
   "cell_type": "markdown",
   "metadata": {},
   "source": [
    "- how to write your own. \n",
    "  - update: we may not be there yet for `PrimitiveEditRequests` as they require each combinator can respond to the request in a specific way, and there's no default implemented.\n",
    "  - for other ones like rejuvenate, hmc it's fine\n",
    "- several examples present: rejuvenate, hmc, regenerate, update\n",
    "- obvious missing ones: \n",
    "  - Gibbs (exact discrete, generalizations possible)\n",
    "  - GridRejuvenate\n",
    "  - MH-accept (wrapper around the uniform to accpt/reject move)\n",
    "  - Boltzman (generalzation of MH to n options)\n",
    "  - SMCStep(need forward kernel and backward, automate SMCP3 move and Jacobian correction)\n",
    "  - resampleTo(n=1 or n=shape, strategy)"
   ]
  }
 ],
 "metadata": {
  "language_info": {
   "name": "python"
  }
 },
 "nbformat": 4,
 "nbformat_minor": 2
}
