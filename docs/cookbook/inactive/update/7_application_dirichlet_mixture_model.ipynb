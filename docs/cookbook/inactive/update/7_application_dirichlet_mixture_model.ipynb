{
 "cells": [
  {
   "cell_type": "markdown",
   "metadata": {},
   "source": [
    "### Application: dirichlet mixture model"
   ]
  },
  {
   "cell_type": "markdown",
   "metadata": {},
   "source": [
    "We will now see some of the ingredients in action in a simple but more realistic setting and write a dirichlet mixture model in GenJAX."
   ]
  },
  {
   "cell_type": "code",
   "execution_count": null,
   "metadata": {},
   "outputs": [],
   "source": [
    "import jax.numpy as jnp\n",
    "\n",
    "from genjax import categorical, dirichlet, gen, normal\n",
    "from genjax._src.core.pytree import Const, Pytree\n",
    "\n",
    "\n",
    "@Pytree.dataclass\n",
    "class Cluster(Pytree):\n",
    "    mean: float\n",
    "\n",
    "\n",
    "@gen\n",
    "def generate_cluster():\n",
    "    mean = normal(0, 1) @ \"mean\"\n",
    "    return Cluster(mean)\n",
    "\n",
    "\n",
    "@gen\n",
    "def generate_datapoint(probs, clusters):\n",
    "    idx = categorical(jnp.log(probs)) @ \"idx\"\n",
    "    obs = normal(clusters[idx].mean, 1) @ \"obs\"\n",
    "    return obs\n",
    "\n",
    "\n",
    "@gen\n",
    "def generate_data(n_clusters: Const[int], n_datapoints: Const[int], alpha: float):\n",
    "    clusters = generate_cluster.repeat(n=n_clusters.unwrap())() @ \"clusters\"\n",
    "    probs = (\n",
    "        dirichlet(alpha / n_clusters.unwrap() * jnp.ones(n_clusters.unwrap())) @ \"probs\"\n",
    "    )\n",
    "    datapoints = (\n",
    "        generate_datapoint.repeat(n=n_datapoints.unwrap)(probs, clusters) @ \"datapoints\"\n",
    "    )\n",
    "    return datapoints"
   ]
  },
  {
   "cell_type": "code",
   "execution_count": null,
   "metadata": {},
   "outputs": [],
   "source": [
    "# def infer(datapoints):\n",
    "# Initialize a trace\n",
    "# For N iterations:\n",
    "# Gibbs update on `(\"clusters\", i, \"mean\")` for each i, in parallel\n",
    "# Gibbs update on `(\"datapoints\", i, \"idx\")` for each `i`, in parallel\n",
    "# Gibbs update on `probs`"
   ]
  }
 ],
 "metadata": {
  "kernelspec": {
   "display_name": ".venv",
   "language": "python",
   "name": "python3"
  },
  "language_info": {
   "codemirror_mode": {
    "name": "ipython",
    "version": 3
   },
   "file_extension": ".py",
   "mimetype": "text/x-python",
   "name": "python",
   "nbconvert_exporter": "python",
   "pygments_lexer": "ipython3",
   "version": "3.11.6"
  }
 },
 "nbformat": 4,
 "nbformat_minor": 2
}
