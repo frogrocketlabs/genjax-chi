{
 "cells": [
  {
   "cell_type": "code",
   "execution_count": 1,
   "id": "b6cb2a88-b956-47c9-bb91-e3b85bae920d",
   "metadata": {},
   "outputs": [],
   "source": [
    "from genjax.delayed import delay, assume, observe\n",
    "from genjax import beta, flip\n",
    "from jax import make_jaxpr, jit, vmap\n",
    "import jax.random as jrand\n",
    "import jax.numpy as jnp"
   ]
  },
  {
   "cell_type": "markdown",
   "id": "310e4013-cbab-47f4-906d-2273af75bea6",
   "metadata": {},
   "source": [
    "**Marginalizing out the beta in the beta-bernoulli model:**\n",
    "\n",
    "$\\text{flip}(c; p) = p^c (1 - p)^{1 - c}$\n",
    "\n",
    "$\\text{beta}(p; \\alpha, \\beta) = \\frac{1}{B(\\alpha, \\beta)} p^{\\alpha - 1} (1 - p)^{\\beta - 1}$\n",
    "\n",
    "$\\text{marg}(c; \\alpha, \\beta) = \\frac{1}{B(\\alpha, \\beta)} \\int_0^1 p^{\\alpha - 1 + c}(1-p)^{\\beta -c} dp$\n",
    "\n",
    "$\\text{marg}(0; \\alpha, \\beta) = \\frac{1}{B(\\alpha, \\beta)} \\int_0^1 p^{\\alpha - 1}(1-p)^{\\beta} dp = \\frac{B(\\alpha, \\beta + 1)}{B(\\alpha, \\beta)}$\n",
    "\n",
    "$\\text{marg}(1; \\alpha, \\beta) = \\frac{1}{B(\\alpha, \\beta)} \\int_0^1 p^{\\alpha - 1}(1-p)^{\\beta} dp = \\frac{B(\\alpha + 1, \\beta)}{B(\\alpha, \\beta)}$"
   ]
  },
  {
   "cell_type": "code",
   "execution_count": 19,
   "id": "06cec9e4-40c2-49cd-88d6-2ec1d78f329e",
   "metadata": {},
   "outputs": [],
   "source": [
    "# Low-level target language that supports static delayed sampling.\n",
    "def fn(obs, a, b):\n",
    "    p = assume(beta, a, b)    # p ~ Beta(a, b)\n",
    "    v = observe(obs, flip, p) # observe(obs, Flip(p))\n",
    "    p2 = assume(beta, a, b)\n",
    "    v2 = observe(obs, flip, p2)\n",
    "    return (p, p2, v, v2)"
   ]
  },
  {
   "cell_type": "code",
   "execution_count": 20,
   "id": "781b223c-eb5d-4107-aef3-c382f8eb35bf",
   "metadata": {},
   "outputs": [],
   "source": [
    "def the_actual_beta_posterior_mean(v, N, a, b):\n",
    "    new_a = a + N * v\n",
    "    new_b = b + N - N * v\n",
    "    return new_a / (new_a + new_b)"
   ]
  },
  {
   "cell_type": "code",
   "execution_count": 27,
   "id": "55fbf0b3-54e3-439e-8aa2-8c3bffd4fd87",
   "metadata": {},
   "outputs": [
    {
     "data": {
      "text/plain": [
       "(Array(0.59878796, dtype=float32),\n",
       " Array(0.59689975, dtype=float32),\n",
       " Array(0.6, dtype=float32, weak_type=True))"
      ]
     },
     "execution_count": 27,
     "metadata": {},
     "output_type": "execute_result"
    }
   ],
   "source": [
    "coin = jnp.array(True)\n",
    "a = 2.0\n",
    "b = 2.0\n",
    "# Run a delayed sampler in parallel.\n",
    "(p, p2, *_), w = vmap(delay(fn), in_axes=(0, None, None, None))(\n",
    "    jrand.split(jrand.key(1), 1000), \n",
    "    coin, a, b,\n",
    ")\n",
    "jnp.mean(p), jnp.mean(p2), the_actual_beta_posterior_mean(coin, 1, a, b)"
   ]
  },
  {
   "cell_type": "code",
   "execution_count": null,
   "id": "09fc6a7d-ea40-4f26-9892-9a5f321e3048",
   "metadata": {},
   "outputs": [],
   "source": []
  }
 ],
 "metadata": {
  "kernelspec": {
   "display_name": "Python 3 (ipykernel)",
   "language": "python",
   "name": "python3"
  },
  "language_info": {
   "codemirror_mode": {
    "name": "ipython",
    "version": 3
   },
   "file_extension": ".py",
   "mimetype": "text/x-python",
   "name": "python",
   "nbconvert_exporter": "python",
   "pygments_lexer": "ipython3",
   "version": "3.12.8"
  }
 },
 "nbformat": 4,
 "nbformat_minor": 5
}
