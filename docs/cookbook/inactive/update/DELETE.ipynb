{
 "cells": [
  {
   "cell_type": "code",
   "execution_count": 1,
   "id": "b6cb2a88-b956-47c9-bb91-e3b85bae920d",
   "metadata": {},
   "outputs": [],
   "source": [
    "from genjax.delayed import delay, assume, observe\n",
    "from genjax import normal\n",
    "from jax import make_jaxpr\n",
    "import jax.random as jrand"
   ]
  },
  {
   "cell_type": "code",
   "execution_count": 2,
   "id": "06cec9e4-40c2-49cd-88d6-2ec1d78f329e",
   "metadata": {},
   "outputs": [
    {
     "ename": "KeyError",
     "evalue": "298",
     "output_type": "error",
     "traceback": [
      "\u001b[0;31m---------------------------------------------------------------------------\u001b[0m",
      "\u001b[0;31mKeyError\u001b[0m                                  Traceback (most recent call last)",
      "Cell \u001b[0;32mIn[2], line 6\u001b[0m\n\u001b[1;32m      3\u001b[0m     v \u001b[38;5;241m=\u001b[39m observe(obs, normal, \u001b[38;5;241m0.0\u001b[39m, \u001b[38;5;241m1.0\u001b[39m)\n\u001b[1;32m      4\u001b[0m     \u001b[38;5;28;01mreturn\u001b[39;00m x, v\n\u001b[0;32m----> 6\u001b[0m v \u001b[38;5;241m=\u001b[39m \u001b[43mdelay\u001b[49m\u001b[43m(\u001b[49m\u001b[43mfn\u001b[49m\u001b[43m)\u001b[49m\u001b[43m(\u001b[49m\u001b[43mjrand\u001b[49m\u001b[38;5;241;43m.\u001b[39;49m\u001b[43mkey\u001b[49m\u001b[43m(\u001b[49m\u001b[38;5;241;43m2\u001b[39;49m\u001b[43m)\u001b[49m\u001b[43m,\u001b[49m\u001b[43m \u001b[49m\u001b[38;5;241;43m3.0\u001b[39;49m\u001b[43m)\u001b[49m\n",
      "File \u001b[0;32m~/genjax/src/genjax/_src/delayed/delayed_sampling.py:519\u001b[0m, in \u001b[0;36mwrapped\u001b[0;34m(key, *args)\u001b[0m\n\u001b[1;32m    516\u001b[0m \u001b[38;5;129m@wraps\u001b[39m(fn)\n\u001b[1;32m    517\u001b[0m \u001b[38;5;28;01mdef\u001b[39;00m \u001b[38;5;21mwrapped\u001b[39m(key: PRNGKey, \u001b[38;5;241m*\u001b[39margs):\n\u001b[1;32m    518\u001b[0m     interpreter \u001b[38;5;241m=\u001b[39m DelayedSamplingInterpreter()\n\u001b[0;32m--> 519\u001b[0m     \u001b[38;5;28;01mreturn\u001b[39;00m \u001b[43minterpreter\u001b[49m\u001b[38;5;241;43m.\u001b[39;49m\u001b[43mrun_interpreter\u001b[49m\u001b[43m(\u001b[49m\n\u001b[1;32m    520\u001b[0m \u001b[43m        \u001b[49m\u001b[43mkey\u001b[49m\u001b[43m,\u001b[49m\n\u001b[1;32m    521\u001b[0m \u001b[43m        \u001b[49m\u001b[43mfn\u001b[49m\u001b[43m,\u001b[49m\n\u001b[1;32m    522\u001b[0m \u001b[43m        \u001b[49m\u001b[38;5;241;43m*\u001b[39;49m\u001b[43margs\u001b[49m\u001b[43m,\u001b[49m\n\u001b[1;32m    523\u001b[0m \u001b[43m    \u001b[49m\u001b[43m)\u001b[49m\n",
      "File \u001b[0;32m<@beartype(genjax._src.delayed.delayed_sampling.DelayedSamplingInterpreter.run_interpreter) at 0x13dcf9bc0>:35\u001b[0m, in \u001b[0;36mrun_interpreter\u001b[0;34m(__beartype_object_5260198976, __beartype_get_violation, __beartype_conf, __beartype_func, *args, **kwargs)\u001b[0m\n",
      "File \u001b[0;32m~/genjax/src/genjax/_src/delayed/delayed_sampling.py:429\u001b[0m, in \u001b[0;36mDelayedSamplingInterpreter.run_interpreter\u001b[0;34m(self, key, fn, *args, **kwargs)\u001b[0m\n\u001b[1;32m    427\u001b[0m closed_jaxpr, (flat_args, _, out_tree) \u001b[38;5;241m=\u001b[39m stage(_inner)(\u001b[38;5;241m*\u001b[39margs)\n\u001b[1;32m    428\u001b[0m jaxpr, consts \u001b[38;5;241m=\u001b[39m closed_jaxpr\u001b[38;5;241m.\u001b[39mjaxpr, closed_jaxpr\u001b[38;5;241m.\u001b[39mliterals\n\u001b[0;32m--> 429\u001b[0m flat_out \u001b[38;5;241m=\u001b[39m \u001b[38;5;28;43mself\u001b[39;49m\u001b[38;5;241;43m.\u001b[39;49m\u001b[43m_eval_jaxpr_delayed\u001b[49m\u001b[43m(\u001b[49m\n\u001b[1;32m    430\u001b[0m \u001b[43m    \u001b[49m\u001b[43mkey\u001b[49m\u001b[43m,\u001b[49m\n\u001b[1;32m    431\u001b[0m \u001b[43m    \u001b[49m\u001b[43mjaxpr\u001b[49m\u001b[43m,\u001b[49m\n\u001b[1;32m    432\u001b[0m \u001b[43m    \u001b[49m\u001b[43mconsts\u001b[49m\u001b[43m,\u001b[49m\n\u001b[1;32m    433\u001b[0m \u001b[43m    \u001b[49m\u001b[43mflat_args\u001b[49m\u001b[43m,\u001b[49m\n\u001b[1;32m    434\u001b[0m \u001b[43m\u001b[49m\u001b[43m)\u001b[49m\n\u001b[1;32m    435\u001b[0m \u001b[38;5;28;01mreturn\u001b[39;00m jtu\u001b[38;5;241m.\u001b[39mtree_unflatten(out_tree(), flat_out)\n",
      "File \u001b[0;32m<@beartype(genjax._src.delayed.delayed_sampling.DelayedSamplingInterpreter._eval_jaxpr_delayed) at 0x13dcf9b20>:93\u001b[0m, in \u001b[0;36m_eval_jaxpr_delayed\u001b[0;34m(__beartype_object_5260198976, __beartype_get_violation, __beartype_conf, __beartype_object_5339408912, __beartype_func, *args, **kwargs)\u001b[0m\n",
      "File \u001b[0;32m~/genjax/src/genjax/_src/delayed/delayed_sampling.py:421\u001b[0m, in \u001b[0;36mDelayedSamplingInterpreter._eval_jaxpr_delayed\u001b[0;34m(self, key, jaxpr, consts, args)\u001b[0m\n\u001b[1;32m    418\u001b[0m             jax_util\u001b[38;5;241m.\u001b[39msafe_map(env\u001b[38;5;241m.\u001b[39mwrite, eqn\u001b[38;5;241m.\u001b[39moutvars, outvals)\n\u001b[1;32m    420\u001b[0m \u001b[38;5;66;03m# Value checkpoints are forced here.\u001b[39;00m\n\u001b[0;32m--> 421\u001b[0m \u001b[38;5;28;01mreturn\u001b[39;00m [\u001b[43menv\u001b[49m\u001b[38;5;241;43m.\u001b[39;49m\u001b[43mvalue\u001b[49m\u001b[43m(\u001b[49m\u001b[43mvar\u001b[49m\u001b[43m)\u001b[49m \u001b[38;5;28;01mfor\u001b[39;00m var \u001b[38;5;129;01min\u001b[39;00m jaxpr\u001b[38;5;241m.\u001b[39moutvars]\n",
      "File \u001b[0;32m<@beartype(genjax._src.delayed.delayed_sampling.DelayedSamplingVirtualMachine.value) at 0x13dc665c0>:35\u001b[0m, in \u001b[0;36mvalue\u001b[0;34m(__beartype_object_5260180416, __beartype_get_violation, __beartype_conf, __beartype_func, *args, **kwargs)\u001b[0m\n",
      "File \u001b[0;32m~/genjax/src/genjax/_src/delayed/delayed_sampling.py:309\u001b[0m, in \u001b[0;36mDelayedSamplingVirtualMachine.value\u001b[0;34m(self, var)\u001b[0m\n\u001b[1;32m    304\u001b[0m \u001b[38;5;28;01mdef\u001b[39;00m \u001b[38;5;21mvalue\u001b[39m(\n\u001b[1;32m    305\u001b[0m     \u001b[38;5;28mself\u001b[39m,\n\u001b[1;32m    306\u001b[0m     var: jc\u001b[38;5;241m.\u001b[39mLiteral \u001b[38;5;241m|\u001b[39m jc\u001b[38;5;241m.\u001b[39mVar,\n\u001b[1;32m    307\u001b[0m ):\n\u001b[1;32m    308\u001b[0m     \u001b[38;5;28;01mif\u001b[39;00m \u001b[38;5;28misinstance\u001b[39m(var, jc\u001b[38;5;241m.\u001b[39mVar):\n\u001b[0;32m--> 309\u001b[0m         \u001b[38;5;28;43mself\u001b[39;49m\u001b[38;5;241;43m.\u001b[39;49m\u001b[43mgraft\u001b[49m\u001b[43m(\u001b[49m\u001b[43mvar\u001b[49m\u001b[43m)\u001b[49m\n\u001b[1;32m    310\u001b[0m         \u001b[38;5;28mself\u001b[39m\u001b[38;5;241m.\u001b[39msample(var)\n\u001b[1;32m    311\u001b[0m     \u001b[38;5;28;01mreturn\u001b[39;00m \u001b[38;5;28mself\u001b[39m\u001b[38;5;241m.\u001b[39mread(var)\n",
      "File \u001b[0;32m<@beartype(genjax._src.delayed.delayed_sampling.DelayedSamplingVirtualMachine.graft) at 0x13dc66480>:32\u001b[0m, in \u001b[0;36mgraft\u001b[0;34m(__beartype_object_5339397136, __beartype_get_violation, __beartype_conf, __beartype_func, *args, **kwargs)\u001b[0m\n",
      "File \u001b[0;32m~/genjax/src/genjax/_src/delayed/delayed_sampling.py:288\u001b[0m, in \u001b[0;36mDelayedSamplingVirtualMachine.graft\u001b[0;34m(self, var)\u001b[0m\n\u001b[1;32m    286\u001b[0m             \u001b[38;5;28mself\u001b[39m\u001b[38;5;241m.\u001b[39mprune(child)\n\u001b[1;32m    287\u001b[0m \u001b[38;5;28;01melse\u001b[39;00m:\n\u001b[0;32m--> 288\u001b[0m     p \u001b[38;5;241m=\u001b[39m \u001b[38;5;28;43mself\u001b[39;49m\u001b[38;5;241;43m.\u001b[39;49m\u001b[43mget_parent\u001b[49m\u001b[43m(\u001b[49m\u001b[43mvar\u001b[49m\u001b[43m)\u001b[49m\n\u001b[1;32m    289\u001b[0m     \u001b[38;5;28mself\u001b[39m\u001b[38;5;241m.\u001b[39mgraft(p)\n\u001b[1;32m    290\u001b[0m     \u001b[38;5;28mself\u001b[39m\u001b[38;5;241m.\u001b[39mmarginalize(var)\n",
      "File \u001b[0;32m<@beartype(genjax._src.delayed.delayed_sampling.DelayedSamplingVirtualMachine.get_parent) at 0x13dc65c60>:32\u001b[0m, in \u001b[0;36mget_parent\u001b[0;34m(__beartype_object_5339397136, __beartype_get_violation, __beartype_conf, __beartype_func, *args, **kwargs)\u001b[0m\n",
      "File \u001b[0;32m~/genjax/src/genjax/_src/delayed/delayed_sampling.py:142\u001b[0m, in \u001b[0;36mDelayedSamplingVirtualMachine.get_parent\u001b[0;34m(self, var)\u001b[0m\n\u001b[1;32m    138\u001b[0m \u001b[38;5;28;01mdef\u001b[39;00m \u001b[38;5;21mget_parent\u001b[39m(\n\u001b[1;32m    139\u001b[0m     \u001b[38;5;28mself\u001b[39m,\n\u001b[1;32m    140\u001b[0m     var: jc\u001b[38;5;241m.\u001b[39mVar,\n\u001b[1;32m    141\u001b[0m ) \u001b[38;5;241m-\u001b[39m\u001b[38;5;241m>\u001b[39m jc\u001b[38;5;241m.\u001b[39mVar:\n\u001b[0;32m--> 142\u001b[0m     \u001b[38;5;28;01mreturn\u001b[39;00m \u001b[38;5;28;43mself\u001b[39;49m\u001b[38;5;241;43m.\u001b[39;49m\u001b[43mparents\u001b[49m\u001b[43m[\u001b[49m\u001b[43mvar\u001b[49m\u001b[38;5;241;43m.\u001b[39;49m\u001b[43mcount\u001b[49m\u001b[43m]\u001b[49m\n",
      "\u001b[0;31mKeyError\u001b[0m: 298"
     ]
    }
   ],
   "source": [
    "def fn(obs):\n",
    "    x = assume(normal, 0.0, 1.0)\n",
    "    v = observe(obs, normal, 0.0, 1.0)\n",
    "    return x, v\n",
    "    \n",
    "v = delay(fn)(jrand.key(2), 3.0)"
   ]
  }
 ],
 "metadata": {
  "kernelspec": {
   "display_name": "Python 3 (ipykernel)",
   "language": "python",
   "name": "python3"
  },
  "language_info": {
   "codemirror_mode": {
    "name": "ipython",
    "version": 3
   },
   "file_extension": ".py",
   "mimetype": "text/x-python",
   "name": "python",
   "nbconvert_exporter": "python",
   "pygments_lexer": "ipython3",
   "version": "3.12.8"
  }
 },
 "nbformat": 4,
 "nbformat_minor": 5
}
