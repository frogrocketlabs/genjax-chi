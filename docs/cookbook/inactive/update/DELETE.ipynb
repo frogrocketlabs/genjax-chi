{
 "cells": [
  {
   "cell_type": "code",
   "execution_count": null,
   "id": "0",
   "metadata": {},
   "outputs": [],
   "source": [
    "import jax.numpy as jnp\n",
    "import jax.random as jrand\n",
    "from jax import jit, vmap\n",
    "\n",
    "from genjax import ChoiceMap, beta, flip, gen\n",
    "from genjax.delayed import delay\n",
    "\n",
    "\n",
    "@gen\n",
    "def submodel():\n",
    "    v = beta(2.0, 2.0) @ \"v\"\n",
    "    return v\n",
    "\n",
    "\n",
    "@gen\n",
    "def model():\n",
    "    v = submodel() @ \"v\"\n",
    "    f = flip(v) @ \"f\"\n",
    "    return f\n",
    "\n",
    "\n",
    "# In future, logic goes into \"GenerateRequest\"...\n",
    "(retval, chm), w = jit(vmap(delay(model.lower), in_axes=(0, None, None)))(\n",
    "    jrand.split(jrand.key(1), 10), ChoiceMap.kw(f=jnp.array(True)), ()\n",
    ")\n",
    "\n",
    "\n",
    "def exact_beta_posterior_mean(c, a, b):\n",
    "    return (a + c) / (a + b + c)\n",
    "\n",
    "\n",
    "(chm, jnp.mean(chm[\"v\", \"v\"]), exact_beta_posterior_mean(True, 2.0, 2.0))"
   ]
  },
  {
   "cell_type": "code",
   "execution_count": null,
   "id": "1",
   "metadata": {},
   "outputs": [],
   "source": [
    "w"
   ]
  },
  {
   "cell_type": "code",
   "execution_count": null,
   "id": "2",
   "metadata": {},
   "outputs": [],
   "source": []
  }
 ],
 "metadata": {
  "kernelspec": {
   "display_name": "Python 3 (ipykernel)",
   "language": "python",
   "name": "python3"
  },
  "language_info": {
   "codemirror_mode": {
    "name": "ipython",
    "version": 3
   },
   "file_extension": ".py",
   "mimetype": "text/x-python",
   "name": "python",
   "nbconvert_exporter": "python",
   "pygments_lexer": "ipython3",
   "version": "3.12.8"
  }
 },
 "nbformat": 4,
 "nbformat_minor": 5
}
