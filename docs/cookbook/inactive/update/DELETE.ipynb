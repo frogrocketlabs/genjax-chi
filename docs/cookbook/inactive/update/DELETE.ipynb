{
 "cells": [
  {
   "cell_type": "code",
   "execution_count": null,
   "id": "0",
   "metadata": {},
   "outputs": [],
   "source": [
    "import jax.random as jrand\n",
    "from jax import make_jaxpr\n",
    "\n",
    "from genjax import Diff, Selection, beta, flip, gen"
   ]
  },
  {
   "cell_type": "code",
   "execution_count": null,
   "id": "1",
   "metadata": {},
   "outputs": [],
   "source": [
    "# Simple example:\n",
    "\n",
    "\n",
    "@gen\n",
    "def model(alpha1, alpha2):\n",
    "    v1 = beta(alpha1, 1.0) @ \"v1\"\n",
    "    v2 = beta(alpha2, 2.0) @ \"v2\"\n",
    "    f = flip((v1 + v2) / 2) @ \"f\"\n",
    "    return f\n",
    "\n",
    "\n",
    "key = jrand.key(1)\n",
    "\n",
    "# Start with a trace ...\n",
    "tr = model.simulate(key, (1.0, 2.0))\n",
    "\n",
    "# `blanket`: I want to change it at 'Selection' ...\n",
    "_, blanket_fn = model.blanket(\n",
    "    tr, Selection.at[\"v1\"], (Diff.unknown_change(2.0), Diff.no_change(2.0))\n",
    ")\n",
    "\n",
    "# Returns a function which produces the IR if we `make_jaxpr`\n",
    "make_jaxpr(blanket_fn)(2.0, 2.0)"
   ]
  },
  {
   "cell_type": "code",
   "execution_count": null,
   "id": "2",
   "metadata": {},
   "outputs": [],
   "source": [
    "# More complex -- what if we change \"v2\" via an argument change?\n",
    "@gen\n",
    "def model(alpha1, alpha2):\n",
    "    v1 = beta(alpha1, 1.0) @ \"v1\"\n",
    "    v2 = beta(alpha2, 2.0) @ \"v2\"\n",
    "    f = flip((v1 + v2) / 2) @ \"f\"\n",
    "    return f\n",
    "\n",
    "\n",
    "key = jrand.key(1)\n",
    "\n",
    "# Start with a trace ...\n",
    "tr = model.simulate(key, (1.0, 2.0))\n",
    "\n",
    "# `blanket`: I want to change it at 'Selection' ...\n",
    "_, blanket_fn = model.blanket(\n",
    "    tr, Selection.at[\"v1\"], (Diff.no_change(1.0), Diff.unknown_change(3.0))\n",
    ")\n",
    "\n",
    "# Returns a function which produces the IR if we `make_jaxpr`\n",
    "make_jaxpr(blanket_fn)(1.0, 3.0)"
   ]
  },
  {
   "cell_type": "code",
   "execution_count": null,
   "id": "3",
   "metadata": {},
   "outputs": [],
   "source": []
  }
 ],
 "metadata": {
  "kernelspec": {
   "display_name": "Python 3 (ipykernel)",
   "language": "python",
   "name": "python3"
  },
  "language_info": {
   "codemirror_mode": {
    "name": "ipython",
    "version": 3
   },
   "file_extension": ".py",
   "mimetype": "text/x-python",
   "name": "python",
   "nbconvert_exporter": "python",
   "pygments_lexer": "ipython3",
   "version": "3.12.8"
  }
 },
 "nbformat": 4,
 "nbformat_minor": 5
}
