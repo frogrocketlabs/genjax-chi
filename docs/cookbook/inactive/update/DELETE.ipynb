{
 "cells": [
  {
   "cell_type": "code",
   "execution_count": 1,
   "id": "17add14d",
   "metadata": {},
   "outputs": [
    {
     "data": {
      "text/plain": [
       "{ lambda a:bool[2] b:f32[2]; . let\n",
       "    c:f32[2] = log b\n",
       "    d:i32[2] = convert_element_type[new_dtype=int32 weak_type=False] a\n",
       "    _:bool[2] = eq d 0\n",
       "    e:f32[2] = broadcast_in_dim[\n",
       "      broadcast_dimensions=()\n",
       "      shape=(2,)\n",
       "      sharding=None\n",
       "    ] 0.2\n",
       "    _:bool[2] = eq d 1\n",
       "    f:f32[2] = broadcast_in_dim[\n",
       "      broadcast_dimensions=()\n",
       "      shape=(2,)\n",
       "      sharding=None\n",
       "    ] 0.9\n",
       "    g:f32[2] = select_n d e f\n",
       "    h:bool[] = trace[\n",
       "      abs_eval=<function initial_style_bind.<locals>.bind.<locals>.wrapped.<locals>._abs_eval at 0x370dde8e0>\n",
       "      impl=<function initial_style_bind.<locals>.bind.<locals>.wrapped.<locals>._impl at 0x370ddde40>\n",
       "      in_tree=PyTreeDef((CustomNode(Const[StructStaticMetadata(child_field_names=[], static_fields={'val': 'w'})], []), CustomNode(genjax.genjax.flip.mixture[StructStaticMetadata(child_field_names=[], static_fields={})], []), (*, *)))\n",
       "      num_consts=0\n",
       "      out_tree=<function transformation_with_aux2.<locals>.<lambda> at 0x370dde980>\n",
       "    ] c g\n",
       "  in (h,) }"
      ]
     },
     "metadata": {},
     "output_type": "display_data"
    },
    {
     "data": {
      "text/html": [
       "<script> (()=>{ if (customElements.get('treescope-container') === undefined) { class TreescopeContainer extends HTMLElement { constructor() { super(); this.attachShadow({mode: \"open\"}); this.defns = {}; this.state = {}; } } customElements.define(\"treescope-container\", TreescopeContainer); } if (customElements.get('treescope-run-here') === undefined) { class RunHere extends HTMLElement { constructor() { super() } connectedCallback() { const run = child => { const fn = new Function(child.textContent); child.textContent = \"\"; fn.call(this); this.remove(); }; const child = this.querySelector(\"script\"); if (child) { run(child); } else { new MutationObserver(()=>{ run(this.querySelector(\"script\")); }).observe(this, {childList: true}); } } } customElements.define(\"treescope-run-here\", RunHere); } })(); </script> <treescope-container class=\"treescope_out_cee8b80ca83d4906a4c6afa176d36f02\" style=\"display:block\"></treescope-container> <treescope-run-here><script type=\"application/octet-stream\"> const root = ( Array.from(document.getElementsByClassName( \"treescope_out_cee8b80ca83d4906a4c6afa176d36f02\")) .filter((elt) => !elt.dataset.setup) )[0]; root.dataset.setup = 1; const msg = document.createElement(\"span\"); msg.style = \"color: #cccccc; font-family: monospace;\"; msg.textContent = \"(Loading...)\"; root.state.loadingMsg = msg; root.shadowRoot.appendChild(msg); root.state.chain = new Promise((resolve, reject) => { const observer = new IntersectionObserver((entries) => { for (const entry of entries) { if (entry.isIntersecting) { resolve(); observer.disconnect(); return; } } }, {rootMargin: \"1000px\"}); window.setTimeout(() => { observer.observe(root); }, 0); }); root.state.deferring = false; const _insertNode = (node) => { for (let oldScript of node.querySelectorAll(\"script\")) { let newScript = document.createElement(\"script\"); newScript.type = oldScript.type; newScript.textContent = oldScript.textContent; oldScript.parentNode.replaceChild(newScript, oldScript); } if (root.state.loadingMsg) { root.state.loadingMsg.remove(); root.state.loadingMsg = null; } root.shadowRoot.appendChild(node); }; root.defns.insertContent = ((contentNode, compressed) => { if (compressed) { root.state.deferring = true; } if (root.state.deferring) { root.state.chain = (async () => { await root.state.chain; if (compressed) { const encoded = contentNode.textContent; const blob = new Blob([ Uint8Array.from(atob(encoded), (m) => m.codePointAt(0)) ]); const reader = blob.stream().pipeThrough( new DecompressionStream(\"deflate\") ).pipeThrough( new TextDecoderStream(\"utf-8\") ).getReader(); const parts = []; while (true) { const step = await reader.read(); if (step.done) { break; } parts.push(step.value); } const tpl = document.createElement('template'); tpl.innerHTML = parts.join(\"\"); _insertNode(tpl.content); } else { _insertNode(contentNode.content); } })(); } else { _insertNode(contentNode.content); } }); </script></treescope-run-here><div style=\"display:none\"> <script type=\"application/octet-stream\" >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</script> <treescope-run-here><script type=\"application/octet-stream\"> const root = ( Array.from(document.getElementsByClassName( \"treescope_out_cee8b80ca83d4906a4c6afa176d36f02\")) .filter((elt) => !elt.dataset['step0']) )[0]; root.dataset['step0'] = 1; root.defns.insertContent( this.parentNode.querySelector('script[type=\"application/octet-stream\"]'), true ); this.parentNode.remove(); </script></treescope-run-here> </div>"
      ],
      "text/plain": [
       "<IPython.core.display.HTML object>"
      ]
     },
     "metadata": {},
     "output_type": "display_data"
    },
    {
     "data": {
      "text/html": [
       "<div style=\"display:none\"> <script type=\"application/octet-stream\" >eNqNUlFr2zAQ/itCg+KQxU2bzNDZDmztCn3pQ/vQh1KCLJ1jDcXyTnKYGfvvPdmOS7YO9iLpdN/3ne7TZUofmPOdgZwr7Rojus+stjVwplXOS4tbBSUggtouVVJcSFhdriFZXyWquFglV8laJCv5qRTLS77JXCPqYWXSCOdyLq0hDVEUCAe+OTM+/S5+xl8QRRfdCuPgI1O+ayAvrDWzs51Ps/NB5bjRCzeZRwAnbQMLbOtFBQhURqJuPOvZXDSN0VJ4betzKz34hSOO2PONtLUjlMAd+DvlWM6e+f/39JIOfGUlWuuJ7SvtYtJ6oPDeKohmKRtr0CNH0AiPf7SA3SMYkN5ixOOpj21I87+o14a8D0XGOJbhoi/jsQXCTxkE+i0JT9pX0Ql9Ei1R7PZQj+9pwzGWZIqHmzG8HRGhhyM6JiuhVteVNmoSDnmLLDLgmSa9ZUpb9uZqbKDe+Ypu5/MZ+8UCbkgSeFKm8JuBcPza3ZH4kf2sX6hA4DjbooQbGsp/evghDCVnc/YHfQhPbJnU4lKjO9buOyPCWxZhbw/9R/4+/Yl3TZ6FEe1nj6bzncF8BUtvLic=</script> <treescope-run-here><script type=\"application/octet-stream\"> const root = ( Array.from(document.getElementsByClassName( \"treescope_out_cee8b80ca83d4906a4c6afa176d36f02\")) .filter((elt) => !elt.dataset['step1']) )[0]; root.dataset['step1'] = 1; root.defns.insertContent( this.parentNode.querySelector('script[type=\"application/octet-stream\"]'), true ); this.parentNode.remove(); </script></treescope-run-here> </div>"
      ],
      "text/plain": [
       "<IPython.core.display.HTML object>"
      ]
     },
     "metadata": {},
     "output_type": "display_data"
    },
    {
     "data": {
      "text/html": [
       "<treescope-run-here><script type=\"application/octet-stream\"> const root = ( Array.from(document.getElementsByClassName( \"treescope_out_cee8b80ca83d4906a4c6afa176d36f02\")) .filter((elt) => !elt.dataset.stolen) )[0]; root.dataset.stolen = 1; const temp = document.createElement(\"div\"); temp.style = \"height: 1px; width: 1px;\"; root.parentNode.insertBefore(temp, root); this.parentNode.replaceChild(root, this); temp.remove(); root.style.paddingTop = \"1px\"; </script></treescope-run-here>"
      ],
      "text/plain": [
       "Static({'w': Choice(v=<jax.Array(False, dtype=bool)>)})"
      ]
     },
     "execution_count": 1,
     "metadata": {},
     "output_type": "execute_result"
    }
   ],
   "source": [
    "import jax\n",
    "import jax.numpy as jnp\n",
    "from genjax.var_elim import var_elim\n",
    "from genjax import ChoiceMap, gen\n",
    "import genjax\n",
    "\n",
    "genjax.pretty()\n",
    "\n",
    "@gen\n",
    "def model():\n",
    "    v = genjax.flip(0.1) @ \"v\"\n",
    "    w = genjax.flip(jax.lax.cond(v, lambda: 0.9, lambda: 0.2)) @ \"w\"\n",
    "    return w\n",
    "\n",
    "# display(jax.make_jaxpr(model.source)())\n",
    "# display(jax.make_jaxpr(model.lower)(ChoiceMap.empty(), ()))\n",
    "model_elim = var_elim(model, \"v\")\n",
    "display(jax.make_jaxpr(model_elim.source)())\n",
    "true_prob = jnp.exp(model_elim.assess(ChoiceMap.kw(w=1.0), ())[0])\n",
    "assert jnp.isclose(true_prob, 0.1 * 0.9 + (1 - 0.1) * 0.2)\n",
    "tr = model_elim.simulate(jax.random.key(1), ())\n",
    "tr.get_choices()"
   ]
  }
 ],
 "metadata": {
  "kernelspec": {
   "display_name": ".venv",
   "language": "python",
   "name": "python3"
  },
  "language_info": {
   "codemirror_mode": {
    "name": "ipython",
    "version": 3
   },
   "file_extension": ".py",
   "mimetype": "text/x-python",
   "name": "python",
   "nbconvert_exporter": "python",
   "pygments_lexer": "ipython3",
   "version": "3.12.9"
  }
 },
 "nbformat": 4,
 "nbformat_minor": 5
}
