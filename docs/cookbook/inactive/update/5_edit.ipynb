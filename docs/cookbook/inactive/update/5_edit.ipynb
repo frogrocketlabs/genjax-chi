{
 "cells": [
  {
   "cell_type": "markdown",
   "metadata": {
    "vscode": {
     "languageId": "raw"
    }
   },
   "source": [
    "### Beyond Update: small intro to the `edit` interface"
   ]
  },
  {
   "cell_type": "markdown",
   "metadata": {},
   "source": [
    "In the previous cookbook, we have seen a brief preview of `edit` through via a specific request, `IndexRequest`. More generally, `edit` is a general method for updating a trace using an `EditRequest`, `IndexRequest` being one such kind of requests. These have to follow some inference logic. The highest level idea is that `edit` moves implement SMCP3 [Lew & Matheos et al.] moves, but it's easier to understand via some examples. "
   ]
  },
  {
   "cell_type": "markdown",
   "metadata": {},
   "source": [
    "- focus on regenerate\n",
    "- how both update and regenerate allow to do SMCP3 moves\n",
    "- indicate how all methods are like that? -> we're not ready yet."
   ]
  },
  {
   "cell_type": "markdown",
   "metadata": {},
   "source": [
    "The first principle is that `edit` changes properly weighted samples from one target to properly weighted samples for a possibly different target.\n"
   ]
  },
  {
   "cell_type": "markdown",
   "metadata": {},
   "source": [
    "- decompose MH into 2 SMC moves\n",
    "- more generally math for an SMC move\n",
    "- `update` often an ingredient for these, but it goes beyond"
   ]
  }
 ],
 "metadata": {
  "language_info": {
   "name": "python"
  }
 },
 "nbformat": 4,
 "nbformat_minor": 2
}
