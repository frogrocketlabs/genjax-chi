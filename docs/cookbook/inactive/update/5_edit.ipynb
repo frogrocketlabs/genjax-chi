{
 "cells": [
  {
   "cell_type": "markdown",
   "metadata": {
    "vscode": {
     "languageId": "raw"
    }
   },
   "source": [
    "### Beyond Update: small intro to the `edit` interface"
   ]
  },
  {
   "cell_type": "markdown",
   "metadata": {},
   "source": [
    "- decompose MH into 2 SMC moves\n",
    "- more generally math for an SMC move\n",
    "- `update` often an ingredient for these, but it goes beyond"
   ]
  }
 ],
 "metadata": {
  "language_info": {
   "name": "python"
  }
 },
 "nbformat": 4,
 "nbformat_minor": 2
}
