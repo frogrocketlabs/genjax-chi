{
 "cells": [
  {
   "cell_type": "markdown",
   "metadata": {
    "vscode": {
     "languageId": "raw"
    }
   },
   "source": [
    "# Rao-Blackwellisation\n",
    "## From high variance low compute to high compute low variance"
   ]
  },
  {
   "cell_type": "markdown",
   "metadata": {},
   "source": [
    "Inference in GenJAX is based on approximate inference by propagating properly weighted sampled. The main class of algorithms we support is the large class of Del-Moral SMC algorithms based on using particles. \n",
    "\n",
    "If the compute is sufficiently low, one can always add more particles to get a better approximation to the posterior, but this may not be the optimal way to get better estimates.  "
   ]
  },
  {
   "cell_type": "markdown",
   "metadata": {},
   "source": [
    "Let's look at a simple example where a simple inference problem may somewhat fail to work at low compute budget due to too many noise terms."
   ]
  },
  {
   "cell_type": "code",
   "execution_count": null,
   "metadata": {},
   "outputs": [],
   "source": [
    "import jax\n",
    "\n",
    "from genjax import gen, normal\n",
    "\n",
    "key = jax.random.PRNGKey(0)"
   ]
  },
  {
   "cell_type": "code",
   "execution_count": null,
   "metadata": {},
   "outputs": [],
   "source": [
    "@gen\n",
    "def model():\n",
    "    x = normal(0.0, 1.0) @ \"x\"\n",
    "    _ = normal(x, 4.0) @ \"obs1\"\n",
    "    _ = normal(x, 4.0) @ \"obs2\"\n",
    "    _ = normal(x, 4.0) @ \"obs3\"\n",
    "\n",
    "\n",
    "tr = model.simulate(key, ())"
   ]
  },
  {
   "cell_type": "markdown",
   "metadata": {},
   "source": [
    "1) pick a model where inference fails\n",
    "2) replace one variable we don't care about by a discrete version\n",
    "3) do inference by manual rao-blackellisation of said variable"
   ]
  },
  {
   "cell_type": "markdown",
   "metadata": {},
   "source": [
    "maybe start with 3 gaussians, 1 observed, infer the joint vs infer marginal, infer marginal by discretize the other other?\n",
    "what's the diff collasped vs uncollapsed Gibbs sampler?"
   ]
  },
  {
   "cell_type": "code",
   "execution_count": null,
   "metadata": {},
   "outputs": [],
   "source": [
    "# def rao_blackwell_importance(self, key, chm, args, address, range):\n",
    "#     trs, weights = self.importance(key, chm, args)\n",
    "\n",
    "# model.rao_blackwell_importance"
   ]
  },
  {
   "cell_type": "code",
   "execution_count": null,
   "metadata": {},
   "outputs": [],
   "source": [
    "def id(self, x):\n",
    "    return x\n",
    "\n",
    "\n",
    "import genjax\n",
    "\n",
    "genjax.GenerativeFunction.id = id\n",
    "\n",
    "model.id(3)"
   ]
  }
 ],
 "metadata": {
  "kernelspec": {
   "display_name": ".venv",
   "language": "python",
   "name": "python3"
  },
  "language_info": {
   "codemirror_mode": {
    "name": "ipython",
    "version": 3
   },
   "file_extension": ".py",
   "mimetype": "text/x-python",
   "name": "python",
   "nbconvert_exporter": "python",
   "pygments_lexer": "ipython3",
   "version": "3.11.6"
  }
 },
 "nbformat": 4,
 "nbformat_minor": 2
}
